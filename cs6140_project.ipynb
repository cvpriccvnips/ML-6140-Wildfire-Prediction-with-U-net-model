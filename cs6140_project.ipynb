{
 "cells": [
  {
   "cell_type": "markdown",
   "metadata": {
    "tags": []
   },
   "source": [
    "# NEWEST VER"
   ]
  },
  {
   "cell_type": "code",
   "execution_count": null,
   "metadata": {
    "tags": []
   },
   "outputs": [
    {
     "name": "stderr",
     "output_type": "stream",
     "text": [
      "  0%|          | 0/10 [21:07:24<?, ?epoch/s]"
     ]
    }
   ],
   "source": [
    "# pip install earthengine-api --upgrade"
   ]
  },
  {
   "cell_type": "code",
   "execution_count": null,
   "metadata": {
    "tags": []
   },
   "outputs": [],
   "source": [
    "# pip install geemap"
   ]
  },
  {
   "cell_type": "markdown",
   "metadata": {},
   "source": [
    "**remember to re-auth every time you want to upload**"
   ]
  },
  {
   "cell_type": "code",
   "execution_count": null,
   "metadata": {
    "colab": {
     "base_uri": "https://localhost:8080/"
    },
    "id": "X7nO1QQGlfFg",
    "outputId": "4853438c-4290-4bb0-ed5e-33cf5adfded3",
    "tags": []
   },
   "outputs": [
    {
     "name": "stdout",
     "output_type": "stream",
     "text": [
      "\n"
     ]
    },
    {
     "data": {
      "text/html": [
       "<p>To authorize access needed by Earth Engine, open the following\n",
       "        URL in a web browser and follow the instructions:</p>\n",
       "        <p><a href=https://code.earthengine.google.com/client-auth?scopes=https%3A//www.googleapis.com/auth/earthengine%20https%3A//www.googleapis.com/auth/devstorage.full_control&request_id=iVgSCwyabzRlis8AAmJlBqZRoqL7t-iFFizJkRDuKMI&tc=Xk2S5fy1cf4sN9tulHck-o19jeBD8oWxW22gbkClaqg&cc=8Vo2C3V9a3ZWSdeW3ssNq5dMB6reSKdhn91nlzHZOOc>https://code.earthengine.google.com/client-auth?scopes=https%3A//www.googleapis.com/auth/earthengine%20https%3A//www.googleapis.com/auth/devstorage.full_control&request_id=iVgSCwyabzRlis8AAmJlBqZRoqL7t-iFFizJkRDuKMI&tc=Xk2S5fy1cf4sN9tulHck-o19jeBD8oWxW22gbkClaqg&cc=8Vo2C3V9a3ZWSdeW3ssNq5dMB6reSKdhn91nlzHZOOc</a></p>\n",
       "        <p>The authorization workflow will generate a code, which you should paste in the box below.</p>\n",
       "        "
      ],
      "text/plain": [
       "<IPython.core.display.HTML object>"
      ]
     },
     "metadata": {},
     "output_type": "display_data"
    },
    {
     "name": "stdin",
     "output_type": "stream",
     "text": [
      "Enter verification code:  4/1Adeu5BUPcUnAYmWXR2vm7dvYeWmTM_SvvbDpbp0Qmev8e3Y9WZ1Wi3LJtcM\n"
     ]
    },
    {
     "name": "stdout",
     "output_type": "stream",
     "text": [
      "\n",
      "Successfully saved authorization token.\n"
     ]
    }
   ],
   "source": [
    "import ee\n",
    "print()\n",
    "ee.Authenticate()\n",
    "ee.Initialize()"
   ]
  },
  {
   "cell_type": "code",
   "execution_count": null,
   "metadata": {
    "id": "yAie871eOTK3",
    "tags": []
   },
   "outputs": [],
   "source": [
    "import numpy as np\n",
    "import pandas as pd\n",
    "\n",
    "import geemap\n",
    "import folium"
   ]
  },
  {
   "cell_type": "code",
   "execution_count": null,
   "metadata": {
    "tags": []
   },
   "outputs": [],
   "source": [
    "import tensorflow as tf\n",
    "for gpu in tf.config.list_physical_devices(\"GPU\"):\n",
    "    tf.config.experimental.set_memory_growth(gpu, True)"
   ]
  },
  {
   "cell_type": "code",
   "execution_count": null,
   "metadata": {
    "id": "u5vrverD8DUR",
    "tags": []
   },
   "outputs": [],
   "source": [
    "tf.config.run_functions_eagerly(True)"
   ]
  },
  {
   "cell_type": "markdown",
   "metadata": {
    "id": "TLfp0wsOk3Q4"
   },
   "source": [
    "Define datasets"
   ]
  },
  {
   "cell_type": "code",
   "execution_count": null,
   "metadata": {
    "colab": {
     "base_uri": "https://localhost:8080/"
    },
    "id": "96M7w49rG2u6",
    "outputId": "7afe6f03-b7be-4a50-d110-a3f9c6404395",
    "tags": []
   },
   "outputs": [
    {
     "name": "stdout",
     "output_type": "stream",
     "text": [
      "7\n",
      "<class 'list'>\n"
     ]
    }
   ],
   "source": [
    "feature_list = []\n",
    "# Fire label\n",
    "# 2000-2023\n",
    "# https://developers.google.com/earth-engine/datasets/catalog/FIRMS\n",
    "fire_map_info = {'name':'FIRMS', 'band' :'T21', 'min': 300, 'max': 509.29}\n",
    "# MODIS Normalized difference vegetation index NDVI dataset\n",
    "# 2000-2023\n",
    "# https://developers.google.com/earth-engine/datasets/catalog/MODIS_MOD09GA_006_NDVI\n",
    "veg_map_info = {'name':'MODIS/MOD09GA_006_NDVI', 'band' :'NDVI', 'min': -1, 'max': 1}\n",
    "feature_list.append(veg_map_info)\n",
    "# MODIS Leaf Area Index/FPAR 4-Day Global 500m\n",
    "# 2002-2023\n",
    "# https://developers.google.com/earth-engine/datasets/catalog/MODIS_061_MCD15A3H\n",
    "# upper limit is 20+, so set max = 30\n",
    "leaf_map_info = {'name':'MODIS/061/MCD15A3H', 'band' :'Lai', 'min': 0, 'max': 30}\n",
    "feature_list.append(leaf_map_info)\n",
    "# FLDAS: Famine Early Warning Systems Network (FEWS NET) Land Data Assimilation System\n",
    "# 1982-2023\n",
    "# https://developers.google.com/earth-engine/datasets/catalog/NASA_FLDAS_NOAH01_C_GL_M_V001\n",
    "soil_moist_map_info = {'name':'NASA/FLDAS/NOAH01/C/GL/M/V001', 'band' :'SoilMoi00_10cm_tavg', 'min': 0, 'max': 1}\n",
    "feature_list.append(soil_moist_map_info)\n",
    "# Terra Land Surface Temperature and Emissivity Daily Global 1km\n",
    "# 2000-2023\n",
    "# https://developers.google.com/earth-engine/datasets/catalog/MODIS_061_MOD11A1\n",
    "temp_map_info = {'name':'MODIS/061/MOD11A1', 'band' :'LST_Day_1km', 'min': 13658, 'max': 15658}\n",
    "feature_list.append(temp_map_info)\n",
    "# ERA5 Monthly Aggregates dataset\n",
    "# 1979-2020\n",
    "# https://developers.google.com/earth-engine/datasets/catalog/ECMWF_ERA5_MONTHLY\n",
    "precipitation_map_info = {'name':'ECMWF/ERA5/MONTHLY', 'band' :'total_precipitation', 'min': 0, 'max': 0.4}\n",
    "feature_list.append(precipitation_map_info)\n",
    "wind_speed_u_map_info = {'name':'ECMWF/ERA5/MONTHLY', 'band' :'u_component_of_wind_10m', 'min': -8.7, 'max': 8.7}\n",
    "feature_list.append(wind_speed_u_map_info)\n",
    "wind_speed_v_map_info = {'name':'ECMWF/ERA5/MONTHLY', 'band' :'v_component_of_wind_10m', 'min': -6.8, 'max': 6.8}\n",
    "feature_list.append(wind_speed_v_map_info)\n",
    "\n",
    "# Copernicus Global Land Cover Layers: CGLS-LC100 Collection 3\n",
    "# 2015-end2019\n",
    "# https://developers.google.com/earth-engine/datasets/catalog/COPERNICUS_Landcover_100m_Proba-V-C3_Global\n",
    "land_cover_info = {'name':\"COPERNICUS/Landcover/100m/Proba-V-C3/Global\", 'band': 'discrete_classification', 'min': 0, 'max': 200}\n",
    "# feature_list.append(wind_speed_v_map_info)\n",
    "# print(feature_list)\n",
    "print(len(feature_list))\n",
    "print(type(feature_list))"
   ]
  },
  {
   "cell_type": "markdown",
   "metadata": {
    "id": "MXgerVwIncM8"
   },
   "source": [
    "Define label and feature bands"
   ]
  },
  {
   "cell_type": "code",
   "execution_count": null,
   "metadata": {
    "id": "bTU0Hm8KmB3q",
    "tags": []
   },
   "outputs": [
    {
     "name": "stdout",
     "output_type": "stream",
     "text": [
      "['NDVI', 'Lai', 'SoilMoi00_10cm_tavg', 'LST_Day_1km', 'total_precipitation', 'u_component_of_wind_10m', 'v_component_of_wind_10m', 'T21']\n"
     ]
    }
   ],
   "source": [
    "LABEL = fire_map_info['band']\n",
    "BANDS = []\n",
    "for feature in feature_list:\n",
    "  BANDS += [feature['band']]\n",
    "FEATURE_NAMES = BANDS + [LABEL]\n",
    "print(FEATURE_NAMES)"
   ]
  },
  {
   "cell_type": "markdown",
   "metadata": {
    "id": "oQrvgoYynzBX"
   },
   "source": [
    "Define area of interest and time range"
   ]
  },
  {
   "cell_type": "code",
   "execution_count": null,
   "metadata": {
    "id": "sUNDeE7DDaJ9",
    "tags": []
   },
   "outputs": [],
   "source": [
    "# PROJECT = 'big-bliss-393615'\n",
    "# DATA_BUCKET = 'big-bliss-393615-6140-data-bucket'\n",
    "# OUTPUT_BUCKET = 'big-bliss-393615-6140-output-bucket'\n",
    "PROJECT = 'ee-my-char'\n",
    "DATA_BUCKET = '6140-data-bucket'\n",
    "OUTPUT_BUCKET = '6140-output-bucket'\n",
    "# Specify names locations for outputs in Cloud Storage.\n",
    "FOLDER = 'fcnn-demo'\n",
    "TRAINING_BASE = 'training_patches'\n",
    "EVAL_BASE = 'eval_patches'\n",
    "# Specify the size and shape of patches expected by the model.\n",
    "KERNEL_SIZE = 256\n",
    "# KERNEL_SIZE = 128\n",
    "KERNEL_SHAPE = [KERNEL_SIZE, KERNEL_SIZE]\n",
    "# List of fixed-length features, all of which are float32.\n",
    "columns = [tf.io.FixedLenFeature(shape=KERNEL_SHAPE, dtype=tf.float32) for k in FEATURE_NAMES]\n",
    "FEATURES_DICT = dict(zip(FEATURE_NAMES, columns))\n",
    "# Specify model training parameters.\n",
    "BATCH_SIZE = 64\n",
    "EPOCHS = 10\n",
    "BUFFER_SIZE = 2000\n",
    "OPTIMIZER = 'adam'\n",
    "LOSS = 'MeanSquaredError'\n",
    "METRICS = ['RootMeanSquaredError']"
   ]
  },
  {
   "cell_type": "code",
   "execution_count": null,
   "metadata": {
    "id": "iMAO_nUGAuBh",
    "tags": []
   },
   "outputs": [],
   "source": [
    "countries = ee.FeatureCollection(\"USDOS/LSIB_SIMPLE/2017\")\n",
    "Canada = countries.filter(ee.Filter.eq('country_na', 'Canada')).geometry() # <class 'ee.geometry.Geometry'>\n",
    "America = countries.filter(ee.Filter.eq('country_na', 'United States')).geometry()"
   ]
  },
  {
   "cell_type": "code",
   "execution_count": null,
   "metadata": {
    "id": "wWlDvYBeKkgY",
    "tags": []
   },
   "outputs": [],
   "source": [
    "train_start_year = 2015\n",
    "train_end_year = 2015\n",
    "train_start_month = 4\n",
    "train_end_month = 4\n",
    "# predict fire 4 weeks in advance\n",
    "fire_pred_range = 2\n",
    "# every 2 weeks get one image\n",
    "sample_gap = 2\n",
    "train_region_geometry = America\n",
    "pred_region_geometry = Canada"
   ]
  },
  {
   "cell_type": "markdown",
   "metadata": {
    "id": "ou6Eh7whh613"
   },
   "source": [
    "- How many time slices do we have Calculated in getTrainImageCollection"
   ]
  },
  {
   "cell_type": "code",
   "execution_count": null,
   "metadata": {
    "colab": {
     "base_uri": "https://localhost:8080/"
    },
    "id": "B9KiqE3wDcrP",
    "outputId": "9f7d2884-6aad-465e-b210-bf8f9b0344a3"
   },
   "outputs": [
    {
     "name": "stdout",
     "output_type": "stream",
     "text": [
      "['2015-04-01', '2015-04-15']\n"
     ]
    }
   ],
   "source": [
    "total_temporal_slices = 0  # Initialize the total number of temporal slices.\n",
    "temporal_list = []  # Initialize the list to store temporal date strings.\n",
    "\n",
    "# Loop through the years and months within the specified training time range.\n",
    "for yr in range(train_start_year, train_end_year + 1):\n",
    "    for mo in range(train_start_month, train_end_month + 1):\n",
    "        total_temporal_slices += sample_gap  # Increment the total time slices by 'sample_gap'.\n",
    "        temporal_list.append(f'{yr}-{mo:02d}-01')  # Add the first day of the month to the list.\n",
    "        temporal_list.append(f'{yr}-{mo:02d}-15')  # Add the fifteenth day of the month to the list.\n",
    "print(temporal_list)"
   ]
  },
  {
   "cell_type": "markdown",
   "metadata": {
    "id": "OTOLz8FQ_KLY"
   },
   "source": [
    "If 'is_label', advance the time range by 'fire_pred_range', e.g. we use first 0-15 as feature and 16-30 as label"
   ]
  },
  {
   "cell_type": "code",
   "execution_count": null,
   "metadata": {
    "id": "IAcxpg2f_m1t"
   },
   "outputs": [],
   "source": [
    "# Helper function avoid repeating\n",
    "def getImageCollection(dataset, bounds, band):\n",
    "  return ee.ImageCollection(dataset).filterBounds(bounds).select(band)\n",
    "\n",
    "def getTrainImageCollection(map_info, is_label=False):\n",
    "  img_collection = getImageCollection(map_info['name'],train_region_geometry, map_info['band']) # Get the image collection based on the provided map_info.\n",
    "  # print(img_collection.size().getInfo())\n",
    "  img_list = ee.List([])\n",
    "\n",
    "  advance_range = 0 if not is_label else fire_pred_range\n",
    "  for yr in range(train_start_year, train_end_year+1):\n",
    "    for mo in range(train_start_month, train_end_month + 1):\n",
    "      # first half of a month\n",
    "      start = ee.Date(f'{yr}-{mo:02d}-01').advance(advance_range, 'week')\n",
    "      end = start.advance(2, 'week')\n",
    "      date_filtered = img_collection.filterDate(start, end) # Filter the image collection based on the date range.\n",
    "      if not is_label:\n",
    "        med = date_filtered.median().unitScale(map_info['min'], map_info['max']) # Calculate median and rescale.\n",
    "      if is_label:\n",
    "        med = date_filtered.median().unmask(0).divide(300).round().byte() # credit: david\n",
    "      print(med.getInfo())\n",
    "      img_list = img_list.add(med)\n",
    "\n",
    "      # second half of a month\n",
    "      start = end\n",
    "      end = start.advance(2, 'week')\n",
    "      date_filtered = img_collection.filterDate(start, end) # Filter the image collection based on the date range.\n",
    "      if date_filtered.size().getInfo() > 0:  # Check if there are images in the second half of the month.\n",
    "        # print(\"value exists from 15\")\n",
    "        if not is_label:\n",
    "          med = date_filtered.median().unitScale(map_info['min'], map_info['max']) # Calculate median and rescale.\n",
    "        if is_label:\n",
    "          med = date_filtered.median().unmask(0).divide(300).round().byte() # credit: david\n",
    "        print(med.getInfo())\n",
    "        \n",
    "        # med = date_filtered.median().unmask(0).unitScale(map_info['min'], map_info['max'])\n",
    "        # print(f'med type: {type(med)}')\n",
    "      img_list = img_list.add(med)\n",
    "\n",
    "  # print(img_list.size().getInfo())\n",
    "  return img_list"
   ]
  },
  {
   "cell_type": "markdown",
   "metadata": {
    "id": "PsmNbC_7h-u3"
   },
   "source": [
    "Each element in feature_img_lists is a temporal imageCollection of a single band"
   ]
  },
  {
   "cell_type": "code",
   "execution_count": null,
   "metadata": {
    "id": "WEN42xw0fUZd",
    "tags": []
   },
   "outputs": [
    {
     "name": "stdout",
     "output_type": "stream",
     "text": [
      "{'type': 'Image', 'bands': [{'id': 'T21', 'data_type': {'type': 'PixelType', 'precision': 'int', 'min': 0, 'max': 255}, 'crs': 'EPSG:4326', 'crs_transform': [1, 0, 0, 0, 1, 0]}]}\n",
      "{'type': 'Image', 'bands': [{'id': 'T21', 'data_type': {'type': 'PixelType', 'precision': 'int', 'min': 0, 'max': 255}, 'crs': 'EPSG:4326', 'crs_transform': [1, 0, 0, 0, 1, 0]}]}\n"
     ]
    }
   ],
   "source": [
    "# Label\n",
    "firms = getTrainImageCollection(fire_map_info, True)"
   ]
  },
  {
   "cell_type": "markdown",
   "metadata": {},
   "source": [
    "`firms_mask_lists` stores firms info in temporal order\n",
    "each element in the list is a list of 2 elements, the first is `has_fire_mask`, the second is `no_fire_mask`"
   ]
  },
  {
   "cell_type": "code",
   "execution_count": null,
   "metadata": {},
   "outputs": [],
   "source": [
    "def get_firms_mask(firms):\n",
    "    firms_masks = []\n",
    "    for idx in range(firms.size().getInfo()):\n",
    "        img = ee.Image(firms.get(idx))\n",
    "        has_fire_mask = img.select('T21').eq(1)    \n",
    "        no_fire_mask = img.select('T21').eq(0) \n",
    "        cur_time_slice_mask_set = []\n",
    "        cur_time_slice_mask_set.append(has_fire_mask)\n",
    "        cur_time_slice_mask_set.append(no_fire_mask)\n",
    "        firms_masks.append(cur_time_slice_mask_set)\n",
    "    return firms_masks\n",
    "firms_mask_lists = get_firms_mask(firms)"
   ]
  },
  {
   "cell_type": "code",
   "execution_count": null,
   "metadata": {
    "id": "Nx0kwUcKcb2V",
    "tags": []
   },
   "outputs": [
    {
     "name": "stdout",
     "output_type": "stream",
     "text": [
      "{'type': 'Image', 'bands': [{'id': 'NDVI', 'data_type': {'type': 'PixelType', 'precision': 'float'}, 'crs': 'EPSG:4326', 'crs_transform': [1, 0, 0, 0, 1, 0]}]}\n",
      "{'type': 'Image', 'bands': [{'id': 'NDVI', 'data_type': {'type': 'PixelType', 'precision': 'float'}, 'crs': 'EPSG:4326', 'crs_transform': [1, 0, 0, 0, 1, 0]}]}\n",
      "{'type': 'Image', 'bands': [{'id': 'Lai', 'data_type': {'type': 'PixelType', 'precision': 'float'}, 'crs': 'EPSG:4326', 'crs_transform': [1, 0, 0, 0, 1, 0]}]}\n",
      "{'type': 'Image', 'bands': [{'id': 'Lai', 'data_type': {'type': 'PixelType', 'precision': 'float'}, 'crs': 'EPSG:4326', 'crs_transform': [1, 0, 0, 0, 1, 0]}]}\n",
      "{'type': 'Image', 'bands': [{'id': 'SoilMoi00_10cm_tavg', 'data_type': {'type': 'PixelType', 'precision': 'float'}, 'crs': 'EPSG:4326', 'crs_transform': [1, 0, 0, 0, 1, 0]}]}\n",
      "{'type': 'Image', 'bands': [{'id': 'LST_Day_1km', 'data_type': {'type': 'PixelType', 'precision': 'float'}, 'crs': 'EPSG:4326', 'crs_transform': [1, 0, 0, 0, 1, 0]}]}\n",
      "{'type': 'Image', 'bands': [{'id': 'LST_Day_1km', 'data_type': {'type': 'PixelType', 'precision': 'float'}, 'crs': 'EPSG:4326', 'crs_transform': [1, 0, 0, 0, 1, 0]}]}\n",
      "{'type': 'Image', 'bands': [{'id': 'total_precipitation', 'data_type': {'type': 'PixelType', 'precision': 'float'}, 'crs': 'EPSG:4326', 'crs_transform': [1, 0, 0, 0, 1, 0]}]}\n",
      "{'type': 'Image', 'bands': [{'id': 'u_component_of_wind_10m', 'data_type': {'type': 'PixelType', 'precision': 'float'}, 'crs': 'EPSG:4326', 'crs_transform': [1, 0, 0, 0, 1, 0]}]}\n",
      "{'type': 'Image', 'bands': [{'id': 'v_component_of_wind_10m', 'data_type': {'type': 'PixelType', 'precision': 'float'}, 'crs': 'EPSG:4326', 'crs_transform': [1, 0, 0, 0, 1, 0]}]}\n"
     ]
    }
   ],
   "source": [
    "feature_img_lists = []\n",
    "for feature in feature_list:\n",
    "  img_list = getTrainImageCollection(feature)\n",
    "  feature_img_lists.append(img_list)\n",
    "# print(type(feature_img_lists))\n",
    "# print(feature_img_lists)"
   ]
  },
  {
   "cell_type": "code",
   "execution_count": null,
   "metadata": {
    "tags": []
   },
   "outputs": [
    {
     "ename": "AttributeError",
     "evalue": "'list' object has no attribute 'getInfo'",
     "output_type": "error",
     "traceback": [
      "\u001b[0;31m---------------------------------------------------------------------------\u001b[0m",
      "\u001b[0;31mAttributeError\u001b[0m                            Traceback (most recent call last)",
      "Cell \u001b[0;32mIn[147], line 20\u001b[0m\n\u001b[1;32m     17\u001b[0m     \u001b[38;5;28;01mreturn\u001b[39;00m feature_img_masked_lists    \n\u001b[1;32m     19\u001b[0m feature_img_masked_lists \u001b[38;5;241m=\u001b[39m get_features_with_firms_mask(feature_img_lists, firms_mask_lists)\n\u001b[0;32m---> 20\u001b[0m \u001b[38;5;28mprint\u001b[39m(\u001b[43mfeature_img_masked_lists\u001b[49m\u001b[43m[\u001b[49m\u001b[38;5;241;43m0\u001b[39;49m\u001b[43m]\u001b[49m\u001b[43m[\u001b[49m\u001b[38;5;241;43m0\u001b[39;49m\u001b[43m]\u001b[49m\u001b[38;5;241;43m.\u001b[39;49m\u001b[43mgetInfo\u001b[49m())\n",
      "\u001b[0;31mAttributeError\u001b[0m: 'list' object has no attribute 'getInfo'"
     ]
    }
   ],
   "source": [
    "# # `feature_img_masked_lists` stores lists of features\n",
    "# # each list is ordered in temporal order\n",
    "# # within each list, stores a list of 2 elements, the first is feature with fire mask, the second is feature with no fire mask\n",
    "# def get_features_with_firms_mask(feature_img_lists, firms_mask_list):\n",
    "#     feature_img_masked_lists = []\n",
    "#     for cur_feature_all_time in feature_img_lists:\n",
    "#         cur_feature_masked_list = []\n",
    "#         for cur_time_slice in range(cur_feature_all_time.size().getInfo()):\n",
    "#             img = ee.Image(cur_time_slice)\n",
    "#             img_mask_with_fire = img.updateMask(firms_mask_list[cur_time_slice][0])\n",
    "#             img_mask_no_fire = img.updateMask(firms_mask_list[cur_time_slice][1])\n",
    "#             cur_time_slice_mask_set = []\n",
    "#             cur_time_slice_mask_set.append(img_mask_with_fire)\n",
    "#             cur_time_slice_mask_set.append(img_mask_no_fire)\n",
    "#             cur_feature_masked_list.append(cur_time_slice_mask_set)\n",
    "#         feature_img_masked_lists.append(cur_feature_masked_list)\n",
    "#     return feature_img_masked_lists    \n",
    "\n",
    "# feature_img_masked_lists = get_features_with_firms_mask(feature_img_lists, firms_mask_lists)\n",
    "# print(feature_img_masked_lists[0][0].getInfo())"
   ]
  },
  {
   "cell_type": "markdown",
   "metadata": {},
   "source": [
    "export sample unmask fire as csv"
   ]
  },
  {
   "cell_type": "code",
   "execution_count": null,
   "metadata": {
    "tags": []
   },
   "outputs": [],
   "source": [
    "# # date_start = '2015-04-01'\n",
    "# # date_end = '2015-12-01'\n",
    "# # dataset = ee.ImageCollection('FIRMS').filter(\n",
    "# #     ee.Filter.date(date_start, date_end))\n",
    "# # fires = dataset.select('T21').first().unmask(0)\n",
    "# Map = geemap.Map(center=[47.295, -119.086], zoom=6)\n",
    "# # Map\n",
    "# fires = ee.Image(firms.get(1))\n",
    "# print(type(fires))\n",
    "\n",
    "# fire_values = fires.reduceRegion(\n",
    "#     reducer=ee.Reducer.toList(),\n",
    "#     geometry=Map.getBounds(False),\n",
    "#     scale=1000,  # The scale from the image's 'crs_transform'\n",
    "#     maxPixels=90000000\n",
    "# )\n",
    "# fire_values.getInfo()\n",
    "# df = pd.DataFrame(fire_values.getInfo())\n",
    "# df.to_csv('fires_data.csv', index=False)"
   ]
  },
  {
   "cell_type": "markdown",
   "metadata": {},
   "source": [
    "test unmask"
   ]
  },
  {
   "cell_type": "code",
   "execution_count": null,
   "metadata": {
    "tags": []
   },
   "outputs": [],
   "source": [
    "# import pandas as pd\n",
    "\n",
    "# df = pd.read_csv('fires_data.csv')\n",
    "\n",
    "# unique_values_count = df.nunique()\n",
    "\n",
    "# unique_values = {}\n",
    "# for column in df.columns:\n",
    "#     unique_values[column] = df[column].unique()\n",
    "\n",
    "#     print(f\"Unique values in column '{column}':\")\n",
    "#     print(unique_values[column])\n",
    "#     print(f\"Number of unique values: {len(unique_values[column])}\")\n",
    "\n",
    "#     value_counts = df[column].value_counts()\n",
    "#     print(f\"Value counts:\")\n",
    "#     print(value_counts)\n",
    "#     print()"
   ]
  },
  {
   "cell_type": "markdown",
   "metadata": {
    "id": "xcZa7T5QlcWr"
   },
   "source": [
    "Debug function: get min & max by iterating through all pixels"
   ]
  },
  {
   "cell_type": "code",
   "execution_count": null,
   "metadata": {
    "id": "c66Sm8lZi726",
    "tags": []
   },
   "outputs": [],
   "source": [
    "# @title\n",
    "# For debug, can skip\n",
    "def get_min(gee_image, key):\n",
    "  min_dic = gee_image.reduceRegion(\n",
    "    reducer= ee.Reducer.min(),\n",
    "    geometry = Canada.geometry(),\n",
    "    crs =  'EPSG:4326',\n",
    "    crsTransform = [1, 0, 0, 0, 1, 0]\n",
    "  )\n",
    "  return min_dic.getInfo().get(key)\n",
    " \n",
    "def get_max(gee_image, key):\n",
    "  max_dic = gee_image.reduceRegion(\n",
    "    reducer= ee.Reducer.max(),\n",
    "    geometry = Canada.geometry(),\n",
    "    crs =  'EPSG:4326',\n",
    "    crsTransform = [1, 0, 0, 0, 1, 0]\n",
    "  )\n",
    "  return max_dic.getInfo().get(key)"
   ]
  },
  {
   "cell_type": "markdown",
   "metadata": {
    "id": "QuC9QpfLkg1F"
   },
   "source": [
    "Visualize all maps"
   ]
  },
  {
   "cell_type": "code",
   "execution_count": null,
   "metadata": {
    "id": "VMwAAnswTq8I",
    "tags": []
   },
   "outputs": [],
   "source": [
    "# # @title\n",
    "# # visualization\n",
    "# # normalized\n",
    "# firms_vis = firms.median().clip(train_region_geometry)\n",
    "# vegetation_vis = vegetation.median().clip(train_region_geometry)\n",
    "# leaf_vis = leaf_index.median().clip(train_region_geometry)\n",
    "# soil_moist_vis = soil_moist.median().clip(train_region_geometry)\n",
    "# precipitation_vis = precipitation.median().clip(train_region_geometry)\n",
    "# temperature_vis = temperature.median().clip(train_region_geometry)\n",
    "# wind_speed_vis = wind_speed_u.median().clip(train_region_geometry).cat(wind_speed_v.median().clip(train_region_geometry))\n",
    "\n",
    "# Map = geemap.Map()\n",
    "# ROI = ee.Geometry.Point([-122.6544033634249, 48.99021037738678]).buffer(100000);\n",
    "\n",
    "# Map.addLayer(firms_vis, {'min': 0, 'max': 1, 'palette': ['LightYellow','Yellow', 'Gold', 'Orange', 'Tomato', 'Red']}, 'FIRMS')\n",
    "# Map.addLayer(vegetation_vis, {'min': 0, 'max': 1, 'palette': ['green', 'yellow', 'red']}, 'vegetation')\n",
    "# Map.addLayer(leaf_vis, {'min': 0, 'max': 1, 'palette': ['e1e4b4', '999d60', '2ec409', '0a4b06']}, 'leaf index')\n",
    "# Map.addLayer(soil_moist_vis, {'min': 0, 'max': 1, 'palette': ['red', 'yellow', 'green']}, 'soil moisture')\n",
    "# Map.addLayer(wind_speed_vis, {'min': 0, 'max': 1, 'palette': ['blue', 'red']}, 'wind speed')\n",
    "# Map.addLayer(precipitation_vis, {'min': 0,\n",
    "#   'max': 1,\n",
    "#    'palette': [\n",
    "#     '000080', '0000d9', '4000ff', '8000ff', '0080ff', '00ffff',\n",
    "#     '00ff80', '80ff00', 'daff00', 'ffff00', 'fff500', 'ffda00',\n",
    "#     'ffb000', 'ffa400', 'ff4f00', 'ff2500', 'ff0a00', 'ff00ff',\n",
    "#   ]}, 'precipitatin')\n",
    "\n",
    "# Map.addLayer(temperature_vis, {  'min': 0,\n",
    "#   'max': 1,\n",
    "#   'palette': [\n",
    "#     '040274', '040281', '0502a3', '0502b8', '0502ce', '0502e6',\n",
    "#     '0602ff', '235cb1', '307ef3', '269db1', '30c8e2', '32d3ef',\n",
    "#     '3be285', '3ff38f', '86e26f', '3ae237', 'b5e22e', 'd6e21f',\n",
    "#     'fff705', 'ffd611', 'ffb613', 'ff8b13', 'ff6e08', 'ff500d',\n",
    "#     'ff0000', 'de0101', 'c21301', 'a71001', '911003'\n",
    "#   ]}, 'temperature')\n",
    "\n",
    "# Map.addLayerControl()\n",
    "# Map"
   ]
  },
  {
   "cell_type": "code",
   "execution_count": null,
   "metadata": {
    "id": "RYu06xSYogyc",
    "tags": []
   },
   "outputs": [],
   "source": [
    "# # @title\n",
    "# Map.user_roi"
   ]
  },
  {
   "cell_type": "markdown",
   "metadata": {
    "id": "5RAr7wUmiGdW"
   },
   "source": [
    "Stack the 2D images (Landsat composite and NLCD impervious surface) to create a single image from which samples can be taken. Convert the image into an array image in which each pixel stores 256x256 patches of pixels for each band. This is a key step that bears emphasis: to export training patches, convert a multi-band image to an array image using neighborhoodToArray(), then sample the image at points."
   ]
  },
  {
   "cell_type": "code",
   "execution_count": null,
   "metadata": {},
   "outputs": [],
   "source": [
    "list_1d = ee.List.repeat(1, KERNEL_SIZE)\n",
    "list_2d = ee.List.repeat(list_1d, KERNEL_SIZE)\n",
    "kernel = ee.Kernel.fixed(KERNEL_SIZE, KERNEL_SIZE, list_2d)"
   ]
  },
  {
   "cell_type": "code",
   "execution_count": null,
   "metadata": {},
   "outputs": [
    {
     "name": "stdout",
     "output_type": "stream",
     "text": [
      "debug {'type': 'Image', 'bands': [{'id': 'NDVI', 'data_type': {'type': 'PixelType', 'precision': 'float'}, 'crs': 'EPSG:4326', 'crs_transform': [1, 0, 0, 0, 1, 0]}, {'id': 'Lai', 'data_type': {'type': 'PixelType', 'precision': 'float'}, 'crs': 'EPSG:4326', 'crs_transform': [1, 0, 0, 0, 1, 0]}, {'id': 'SoilMoi00_10cm_tavg', 'data_type': {'type': 'PixelType', 'precision': 'float'}, 'crs': 'EPSG:4326', 'crs_transform': [1, 0, 0, 0, 1, 0]}, {'id': 'LST_Day_1km', 'data_type': {'type': 'PixelType', 'precision': 'float'}, 'crs': 'EPSG:4326', 'crs_transform': [1, 0, 0, 0, 1, 0]}, {'id': 'total_precipitation', 'data_type': {'type': 'PixelType', 'precision': 'float'}, 'crs': 'EPSG:4326', 'crs_transform': [1, 0, 0, 0, 1, 0]}, {'id': 'u_component_of_wind_10m', 'data_type': {'type': 'PixelType', 'precision': 'float'}, 'crs': 'EPSG:4326', 'crs_transform': [1, 0, 0, 0, 1, 0]}, {'id': 'v_component_of_wind_10m', 'data_type': {'type': 'PixelType', 'precision': 'float'}, 'crs': 'EPSG:4326', 'crs_transform': [1, 0, 0, 0, 1, 0]}]}\n",
      "debug {'type': 'Image', 'bands': [{'id': 'NDVI', 'data_type': {'type': 'PixelType', 'precision': 'float'}, 'crs': 'EPSG:4326', 'crs_transform': [1, 0, 0, 0, 1, 0]}, {'id': 'Lai', 'data_type': {'type': 'PixelType', 'precision': 'float'}, 'crs': 'EPSG:4326', 'crs_transform': [1, 0, 0, 0, 1, 0]}, {'id': 'SoilMoi00_10cm_tavg', 'data_type': {'type': 'PixelType', 'precision': 'float'}, 'crs': 'EPSG:4326', 'crs_transform': [1, 0, 0, 0, 1, 0]}, {'id': 'LST_Day_1km', 'data_type': {'type': 'PixelType', 'precision': 'float'}, 'crs': 'EPSG:4326', 'crs_transform': [1, 0, 0, 0, 1, 0]}, {'id': 'total_precipitation', 'data_type': {'type': 'PixelType', 'precision': 'float'}, 'crs': 'EPSG:4326', 'crs_transform': [1, 0, 0, 0, 1, 0]}, {'id': 'u_component_of_wind_10m', 'data_type': {'type': 'PixelType', 'precision': 'float'}, 'crs': 'EPSG:4326', 'crs_transform': [1, 0, 0, 0, 1, 0]}, {'id': 'v_component_of_wind_10m', 'data_type': {'type': 'PixelType', 'precision': 'float'}, 'crs': 'EPSG:4326', 'crs_transform': [1, 0, 0, 0, 1, 0]}]}\n",
      "time = 0:\n",
      "has fire:{'type': 'Image', 'bands': [{'id': 'NDVI', 'data_type': {'type': 'PixelType', 'precision': 'float', 'dimensions': 2}, 'crs': 'EPSG:4326', 'crs_transform': [1, 0, 0, 0, 1, 0]}, {'id': 'Lai', 'data_type': {'type': 'PixelType', 'precision': 'float', 'dimensions': 2}, 'crs': 'EPSG:4326', 'crs_transform': [1, 0, 0, 0, 1, 0]}, {'id': 'SoilMoi00_10cm_tavg', 'data_type': {'type': 'PixelType', 'precision': 'float', 'dimensions': 2}, 'crs': 'EPSG:4326', 'crs_transform': [1, 0, 0, 0, 1, 0]}, {'id': 'LST_Day_1km', 'data_type': {'type': 'PixelType', 'precision': 'float', 'dimensions': 2}, 'crs': 'EPSG:4326', 'crs_transform': [1, 0, 0, 0, 1, 0]}, {'id': 'total_precipitation', 'data_type': {'type': 'PixelType', 'precision': 'float', 'dimensions': 2}, 'crs': 'EPSG:4326', 'crs_transform': [1, 0, 0, 0, 1, 0]}, {'id': 'u_component_of_wind_10m', 'data_type': {'type': 'PixelType', 'precision': 'float', 'dimensions': 2}, 'crs': 'EPSG:4326', 'crs_transform': [1, 0, 0, 0, 1, 0]}, {'id': 'v_component_of_wind_10m', 'data_type': {'type': 'PixelType', 'precision': 'float', 'dimensions': 2}, 'crs': 'EPSG:4326', 'crs_transform': [1, 0, 0, 0, 1, 0]}]}\n",
      "no fire:{'type': 'Image', 'bands': [{'id': 'NDVI', 'data_type': {'type': 'PixelType', 'precision': 'float', 'dimensions': 2}, 'crs': 'EPSG:4326', 'crs_transform': [1, 0, 0, 0, 1, 0]}, {'id': 'Lai', 'data_type': {'type': 'PixelType', 'precision': 'float', 'dimensions': 2}, 'crs': 'EPSG:4326', 'crs_transform': [1, 0, 0, 0, 1, 0]}, {'id': 'SoilMoi00_10cm_tavg', 'data_type': {'type': 'PixelType', 'precision': 'float', 'dimensions': 2}, 'crs': 'EPSG:4326', 'crs_transform': [1, 0, 0, 0, 1, 0]}, {'id': 'LST_Day_1km', 'data_type': {'type': 'PixelType', 'precision': 'float', 'dimensions': 2}, 'crs': 'EPSG:4326', 'crs_transform': [1, 0, 0, 0, 1, 0]}, {'id': 'total_precipitation', 'data_type': {'type': 'PixelType', 'precision': 'float', 'dimensions': 2}, 'crs': 'EPSG:4326', 'crs_transform': [1, 0, 0, 0, 1, 0]}, {'id': 'u_component_of_wind_10m', 'data_type': {'type': 'PixelType', 'precision': 'float', 'dimensions': 2}, 'crs': 'EPSG:4326', 'crs_transform': [1, 0, 0, 0, 1, 0]}, {'id': 'v_component_of_wind_10m', 'data_type': {'type': 'PixelType', 'precision': 'float', 'dimensions': 2}, 'crs': 'EPSG:4326', 'crs_transform': [1, 0, 0, 0, 1, 0]}]} \n",
      "debug {'type': 'Image', 'bands': [{'id': 'NDVI', 'data_type': {'type': 'PixelType', 'precision': 'float'}, 'crs': 'EPSG:4326', 'crs_transform': [1, 0, 0, 0, 1, 0]}, {'id': 'Lai', 'data_type': {'type': 'PixelType', 'precision': 'float'}, 'crs': 'EPSG:4326', 'crs_transform': [1, 0, 0, 0, 1, 0]}, {'id': 'SoilMoi00_10cm_tavg', 'data_type': {'type': 'PixelType', 'precision': 'float'}, 'crs': 'EPSG:4326', 'crs_transform': [1, 0, 0, 0, 1, 0]}, {'id': 'LST_Day_1km', 'data_type': {'type': 'PixelType', 'precision': 'float'}, 'crs': 'EPSG:4326', 'crs_transform': [1, 0, 0, 0, 1, 0]}, {'id': 'total_precipitation', 'data_type': {'type': 'PixelType', 'precision': 'float'}, 'crs': 'EPSG:4326', 'crs_transform': [1, 0, 0, 0, 1, 0]}, {'id': 'u_component_of_wind_10m', 'data_type': {'type': 'PixelType', 'precision': 'float'}, 'crs': 'EPSG:4326', 'crs_transform': [1, 0, 0, 0, 1, 0]}, {'id': 'v_component_of_wind_10m', 'data_type': {'type': 'PixelType', 'precision': 'float'}, 'crs': 'EPSG:4326', 'crs_transform': [1, 0, 0, 0, 1, 0]}]}\n",
      "debug {'type': 'Image', 'bands': [{'id': 'NDVI', 'data_type': {'type': 'PixelType', 'precision': 'float'}, 'crs': 'EPSG:4326', 'crs_transform': [1, 0, 0, 0, 1, 0]}, {'id': 'Lai', 'data_type': {'type': 'PixelType', 'precision': 'float'}, 'crs': 'EPSG:4326', 'crs_transform': [1, 0, 0, 0, 1, 0]}, {'id': 'SoilMoi00_10cm_tavg', 'data_type': {'type': 'PixelType', 'precision': 'float'}, 'crs': 'EPSG:4326', 'crs_transform': [1, 0, 0, 0, 1, 0]}, {'id': 'LST_Day_1km', 'data_type': {'type': 'PixelType', 'precision': 'float'}, 'crs': 'EPSG:4326', 'crs_transform': [1, 0, 0, 0, 1, 0]}, {'id': 'total_precipitation', 'data_type': {'type': 'PixelType', 'precision': 'float'}, 'crs': 'EPSG:4326', 'crs_transform': [1, 0, 0, 0, 1, 0]}, {'id': 'u_component_of_wind_10m', 'data_type': {'type': 'PixelType', 'precision': 'float'}, 'crs': 'EPSG:4326', 'crs_transform': [1, 0, 0, 0, 1, 0]}, {'id': 'v_component_of_wind_10m', 'data_type': {'type': 'PixelType', 'precision': 'float'}, 'crs': 'EPSG:4326', 'crs_transform': [1, 0, 0, 0, 1, 0]}]}\n",
      "time = 1:\n",
      "has fire:{'type': 'Image', 'bands': [{'id': 'NDVI', 'data_type': {'type': 'PixelType', 'precision': 'float', 'dimensions': 2}, 'crs': 'EPSG:4326', 'crs_transform': [1, 0, 0, 0, 1, 0]}, {'id': 'Lai', 'data_type': {'type': 'PixelType', 'precision': 'float', 'dimensions': 2}, 'crs': 'EPSG:4326', 'crs_transform': [1, 0, 0, 0, 1, 0]}, {'id': 'SoilMoi00_10cm_tavg', 'data_type': {'type': 'PixelType', 'precision': 'float', 'dimensions': 2}, 'crs': 'EPSG:4326', 'crs_transform': [1, 0, 0, 0, 1, 0]}, {'id': 'LST_Day_1km', 'data_type': {'type': 'PixelType', 'precision': 'float', 'dimensions': 2}, 'crs': 'EPSG:4326', 'crs_transform': [1, 0, 0, 0, 1, 0]}, {'id': 'total_precipitation', 'data_type': {'type': 'PixelType', 'precision': 'float', 'dimensions': 2}, 'crs': 'EPSG:4326', 'crs_transform': [1, 0, 0, 0, 1, 0]}, {'id': 'u_component_of_wind_10m', 'data_type': {'type': 'PixelType', 'precision': 'float', 'dimensions': 2}, 'crs': 'EPSG:4326', 'crs_transform': [1, 0, 0, 0, 1, 0]}, {'id': 'v_component_of_wind_10m', 'data_type': {'type': 'PixelType', 'precision': 'float', 'dimensions': 2}, 'crs': 'EPSG:4326', 'crs_transform': [1, 0, 0, 0, 1, 0]}]}\n",
      "no fire:{'type': 'Image', 'bands': [{'id': 'NDVI', 'data_type': {'type': 'PixelType', 'precision': 'float', 'dimensions': 2}, 'crs': 'EPSG:4326', 'crs_transform': [1, 0, 0, 0, 1, 0]}, {'id': 'Lai', 'data_type': {'type': 'PixelType', 'precision': 'float', 'dimensions': 2}, 'crs': 'EPSG:4326', 'crs_transform': [1, 0, 0, 0, 1, 0]}, {'id': 'SoilMoi00_10cm_tavg', 'data_type': {'type': 'PixelType', 'precision': 'float', 'dimensions': 2}, 'crs': 'EPSG:4326', 'crs_transform': [1, 0, 0, 0, 1, 0]}, {'id': 'LST_Day_1km', 'data_type': {'type': 'PixelType', 'precision': 'float', 'dimensions': 2}, 'crs': 'EPSG:4326', 'crs_transform': [1, 0, 0, 0, 1, 0]}, {'id': 'total_precipitation', 'data_type': {'type': 'PixelType', 'precision': 'float', 'dimensions': 2}, 'crs': 'EPSG:4326', 'crs_transform': [1, 0, 0, 0, 1, 0]}, {'id': 'u_component_of_wind_10m', 'data_type': {'type': 'PixelType', 'precision': 'float', 'dimensions': 2}, 'crs': 'EPSG:4326', 'crs_transform': [1, 0, 0, 0, 1, 0]}, {'id': 'v_component_of_wind_10m', 'data_type': {'type': 'PixelType', 'precision': 'float', 'dimensions': 2}, 'crs': 'EPSG:4326', 'crs_transform': [1, 0, 0, 0, 1, 0]}]} \n",
      "2, 2\n"
     ]
    }
   ],
   "source": [
    "def mask_stack_kernel(feature_stack, mask, kernel):\n",
    "    # mask\n",
    "    masked_feature_stack = feature_stack.updateMask(mask)\n",
    "    print(f'debug {masked_feature_stack.getInfo()}')\n",
    "    # stack, no need to do because mask step adds the mask band to result\n",
    "    # masked_feature_stack = ee.Image.cat([masked_feature_stack, mask])\n",
    "    # kernel\n",
    "    arrays = masked_feature_stack.neighborhoodToArray(kernel)\n",
    "    return arrays\n",
    "\n",
    "def get_feature_stack(kernel, feature_img_lists, firms_mask_list):\n",
    "    list_arrays_has_fire = []\n",
    "    list_arrays_no_fire = []\n",
    "    for tm in range(total_temporal_slices): \n",
    "        # Get the image for the current temporal slice from feature_img_lists\n",
    "        featureStack = feature_img_lists[0].get(tm)\n",
    "        # Concatenate all the bands sampled from different images into featureStack\n",
    "        for idx in range(1, len(feature_img_lists)):\n",
    "            # Combine all bands sampled from the same time to featureStack\n",
    "            featureStack = ee.Image.cat([featureStack, feature_img_lists[idx].get(tm)]).float()\n",
    "        \n",
    "        arrays_has_fire = mask_stack_kernel(featureStack, firms_mask_list[tm][0], kernel)\n",
    "        arrays_no_fire = mask_stack_kernel(featureStack, firms_mask_list[tm][1], kernel)\n",
    "        print(f'time = {tm}:\\nhas fire:{arrays_has_fire.getInfo()}\\nno fire:{arrays_no_fire.getInfo()} ')\n",
    "        list_arrays_has_fire += [arrays_has_fire]\n",
    "        list_arrays_no_fire += [arrays_no_fire]\n",
    "    \n",
    "    return list_arrays_has_fire, list_arrays_no_fire\n",
    "\n",
    "list_arrays_has_fire, list_arrays_no_fire = get_feature_stack(kernel, feature_img_lists, firms_mask_lists)\n",
    "print(f'{len(list_arrays_has_fire)}, {len(list_arrays_no_fire)}')"
   ]
  },
  {
   "cell_type": "markdown",
   "metadata": {},
   "source": [
    "feature_img_lists\n",
    "NDVI:[4-1, ..., 12-1]\n",
    "LAI :[4-1, ..., 12-1]\n",
    "\n",
    "list_arrays [4-1, ...,]"
   ]
  },
  {
   "cell_type": "code",
   "execution_count": null,
   "metadata": {
    "colab": {
     "base_uri": "https://localhost:8080/"
    },
    "id": "5KoHjKldrK2D",
    "outputId": "6f057518-90ea-4fb7-f251-97b3c591b2c6",
    "tags": []
   },
   "outputs": [],
   "source": [
    "# list = ee.List.repeat(1, KERNEL_SIZE)\n",
    "# lists = ee.List.repeat(list, KERNEL_SIZE)\n",
    "# kernel = ee.Kernel.fixed(KERNEL_SIZE, KERNEL_SIZE, lists)\n",
    "\n",
    "# list_arrays = []\n",
    "\n",
    "# for tm in range(total_temporal_slices): # 2\n",
    "#   # Get the image for the current temporal slice from feature_img_lists\n",
    "#   featureStack = feature_img_lists[0].get(tm)\n",
    "#   # Concatenate all the bands sampled from different images into featureStack\n",
    "#   for idx in range(1, len(feature_img_lists)):\n",
    "#     # Combine all bands sampled from the same time to featureStack\n",
    "#     featureStack = ee.Image.cat([featureStack, feature_img_lists[idx].get(tm)]).float()\n",
    "#   # Concatenate the FIRMS band to featureStack and convert it to float\n",
    "#   featureStack = ee.Image.cat([featureStack, firms.get(tm)])\n",
    "#   # Apply neighborhood operations using the kernel and convert to arrays\n",
    "#   arrays = featureStack.neighborhoodToArray(kernel)\n",
    "#   # Add the array to the list_arrays for the current temporal slice\n",
    "#   list_arrays += [arrays]"
   ]
  },
  {
   "cell_type": "code",
   "execution_count": null,
   "metadata": {
    "colab": {
     "base_uri": "https://localhost:8080/"
    },
    "id": "pQ_vbdnQnA3D",
    "outputId": "afc6cbe0-6b2c-41ac-96bd-c4b4f3f83f4f"
   },
   "outputs": [],
   "source": [
    "# # Load the \"TIGER/2016/States\" dataset as the 'states' FeatureCollection\n",
    "# states = ee.FeatureCollection(\"TIGER/2016/States\")\n",
    "# # Get the distinct values of the 'NAME' property\n",
    "# distinct_names = states.distinct('NAME').aggregate_array('NAME')\n",
    "# # Convert the distinct names to a Python list\n",
    "# all_state_names = distinct_names.getInfo()\n",
    "# # Print all state names\n",
    "# print(all_state_names)"
   ]
  },
  {
   "cell_type": "markdown",
   "metadata": {
    "id": "RHLmlg_Qba2w"
   },
   "source": [
    "Get polygons for training and evaluation"
   ]
  },
  {
   "cell_type": "code",
   "execution_count": null,
   "metadata": {
    "colab": {
     "base_uri": "https://localhost:8080/"
    },
    "id": "WODGRoV8Jcd2",
    "outputId": "1a6a3f34-3299-4179-cc03-c6d5cf7f1744",
    "tags": []
   },
   "outputs": [],
   "source": [
    "# Create an empty FeatureCollection to store the training polygons\n",
    "trainingPolys = ee.FeatureCollection([])\n",
    "\n",
    "# Load the \"TIGER/2016/States\" dataset as the 'states' FeatureCollection\n",
    "states = ee.FeatureCollection(\"TIGER/2016/States\")\n",
    "\n",
    "# List of state names to be used for training\n",
    "# state_list = ['California', 'Oregon','Montana','Washington','Arizona', 'Idaho','Texas','Kansas','Nevada','New Mexico']\n",
    "state_list = ['California', 'Oregon', 'Texas', 'Arizona', 'Nevada', 'New Mexico']\n",
    "# Iterate through each state in 'state_list'\n",
    "for state in state_list:\n",
    "    # Merge the geometry of the state from 'states' into 'trainingPolys'\n",
    "    trainingPolys = trainingPolys.merge(states.filter(ee.Filter.eq('NAME', state)).geometry())\n",
    "\n",
    "# Convert the 'trainingPolys' FeatureCollection to a List\n",
    "trainingPolysList = trainingPolys.toList(trainingPolys.size())\n",
    "# print(type(trainingPolysList))"
   ]
  },
  {
   "cell_type": "code",
   "execution_count": null,
   "metadata": {
    "colab": {
     "base_uri": "https://localhost:8080/"
    },
    "id": "D42W8AVlgvpf",
    "outputId": "38043a46-ccc7-4cd9-bdaf-8ec076d719ae",
    "tags": []
   },
   "outputs": [
    {
     "name": "stdout",
     "output_type": "stream",
     "text": [
      "<class 'ee.ee_list.List'>\n"
     ]
    }
   ],
   "source": [
    "# Create an empty FeatureCollection to store the training polygons\n",
    "valPolys = ee.FeatureCollection([])\n",
    "\n",
    "# Load the \"TIGER/2016/States\" dataset as the 'states' FeatureCollection\n",
    "states = ee.FeatureCollection(\"TIGER/2016/States\")\n",
    "\n",
    "# List of state names to be used for training\n",
    "# state_list = ['Oklahoma', 'Colorado']\n",
    "state_list = ['Wyoming', 'Idaho', 'Alaska', 'Washington', 'New Jersey', 'Pennsylvania']\n",
    "\n",
    "# Iterate through each state in 'state_list'\n",
    "for state in state_list:\n",
    "    # Merge the geometry of the state from 'states' into 'trainingPolys'\n",
    "    valPolys = valPolys.merge(states.filter(ee.Filter.eq('NAME', state)).geometry())\n",
    "    # print(states.filter(ee.Filter.eq('NAME', state)).geometry().getInfo())\n",
    "\n",
    "# Convert the 'trainingPolys' FeatureCollection to a List\n",
    "valPolysList = valPolys.toList(valPolys.size())\n",
    "\n",
    "# print(valPolysList.size().getInfo())\n",
    "print(type(valPolysList))\n",
    "# # print(valPolys.geometry().getInfo())\n",
    "# print(valPolys.get(0))"
   ]
  },
  {
   "cell_type": "markdown",
   "metadata": {},
   "source": [
    "Visualize training and evaluation regions on map"
   ]
  },
  {
   "cell_type": "code",
   "execution_count": null,
   "metadata": {
    "colab": {
     "base_uri": "https://localhost:8080/",
     "height": 621,
     "referenced_widgets": [
      "b332ae37872a4bfcad86a9e78c4d60c1",
      "3da54bc18bea46de95bef027b43ae91f",
      "97df1b4f28154a1591fa1f39b3129bf6",
      "e729cea996d64bb6b54c66228fc424fa",
      "a65cfbb3a0a54a3cb3d1cd60b678686d",
      "78847ddb68ef4c898845937e17fd5710",
      "eb110096e94a4c08919423c53bcf94c8",
      "13015a68983a4f20ade760b50f48f41b",
      "bc63648ca9174e4287e5e04f441dbef7",
      "1b466dce4a2f4d3c8d3c467d9ee79a82",
      "bb6472447add479c874a603008edad00",
      "ec73d1fc59054d34ada04440fd2040dc",
      "43c1de08788143c68cb5da76ad54f33a",
      "9a29c69e180d492ab1ca168d3f3642e2",
      "8090b194cddc48cfb8561fac526623a3",
      "841ae68ba65d4b1d8f66660ddd2f53d4",
      "b903e81a2c5b43a3898f9d97f718d286",
      "3919b0b71522456e8aed8584fe7ec843",
      "1c60c4794f564dea8d27a8824b0c6cea",
      "614260445cf44d81ac2ec618301e572a",
      "4a1e74e6e9234a9b9b7e4e159208a41f",
      "00fe73be276f404597e60e95f3b1c0ba",
      "3f5e3b80f3944fcc9eb5ff6e75c19074",
      "331f262e6de14382989970f3dbcfef5d",
      "ded22f93c2474bc99f62a6b8a983e9b2",
      "6280bb9e19b3418ebc9725a3c808b929",
      "230f2231e3a24ac2b40024a8a758df5f",
      "b9065e7bc8f84b2ba0266b6eba9ae7af",
      "4a34c0117bea41af8817897f68b3ae9c",
      "f2143b28793d4a01a1783c2e9cff1418",
      "2d7570ad4a404f0e9327ea26bea6ccc0",
      "e1afba0764044bc2ad869b8f04e32aa6",
      "19770844c7a44b3b94503a7c61fc8672",
      "1e8e3e9e544247f9aa51aa7d8d69118c",
      "4f3b65405cc54708b7b33a0960cd5b70",
      "3a78f22c12db4148a5306bdaf8b5410d",
      "bc2caccfac96431d896f76d5b80ab628",
      "6244e2ee797049c09e9baa3be68d1880",
      "2cd0cc5fb4a842c88c20a6d4805c3c63",
      "25819b5bd611488e8e8ad5916fdc8e76",
      "62e74c7cf52142e5a6c81cd8351f6593",
      "219539f1818849d1b9f0e58fdd3756ee",
      "cbf435962fd64ab6bf77885f73e03876",
      "4874a04d76e44df59bbbe78a7f6affc1",
      "863a3ef9187a418abe3ced7fb43b1afc",
      "4f354dcf6f2a4eaaaba38a89df898f14",
      "d182ea2dc6d247d5ba171e16a4ec3531",
      "8cdd2a706f7b4b2a8b120d1df9ac7c64",
      "b5dfc2ea5cc54abb83f63c177d1253f7",
      "b6c523d468ac4f30801e33f1e9de0117",
      "8a6c3b25303c483eba99807cd6acc498",
      "272e28c340e94f18abfffa795666bb26",
      "aa7349960d5346e9906921e10bdb3a01",
      "24c2d7a760ca4633ae206846ca92971d",
      "f9e5e794f6c84847a411f169e2f14bc5",
      "434983e582ce44c1b388421c51a7e4a3",
      "6f2d6041fa4346efb6f8fbb857813cf1",
      "1954c256af474d6b9832687207c14d6c",
      "95a9086522a24d4da2ef8747889b12c0",
      "1648f1dc49774659a620d163192a3f81",
      "c81c9a5cd58e4db28d40d19061416ca6",
      "99795efb6eac4ba689ebdb241f9a36d7",
      "e1f5b76618d84996ae5f724dee363350",
      "d2e90b20d17b4ac3bfeeb68f988bd60c",
      "96516a5ecd7642ffbfbe9996af3141fe",
      "3f7961471de84b85b0c3b7489d56751d",
      "a39810bd8a924cf9b9a68001235099e0",
      "de1a81623ee2454595553053bb1ac44b",
      "c888efdda83748cbb9bedb27de53af71",
      "92085bcde28b4e979b020e99993cc73e",
      "734f463211ea4d7588dd4a81966650e5",
      "4aa198e890664ac59a3a6a068a757702",
      "8d53711596af4f39bce2c7e9f493ca92",
      "06723edbe8a547678071ca4913f44d44",
      "affaa557f5bf499482cd1efebdbc9827",
      "d24e43c33e1742908c90886ce4392301",
      "dec979d8fa3f43b887b679e8a57cdb32",
      "c765e395032f48178718995c87309e65",
      "8737f530161d42f789fa2d1625e11868",
      "00adc42abb574ba8b1761ec425fa5a72",
      "a2653bd7609648b3a676bebe77f0d76b",
      "4fda2d8757a84d5eb9aaa119780a7da8",
      "837a9bc8146a4a0e958ab361ff4763b2",
      "5b0fb017bee046f893d8a6615f521648",
      "c3c9436d73db4e20a20811e56a751fb6",
      "572978202fa745088e5510736586675f",
      "b2e5c20397f6403d80b8873a38ad2a33",
      "3061121ad69a4c94864ec7f557ca8ed5",
      "01346855617249568988171ed3cedc0b",
      "a6ce36b0a74c4a51a20994ac668c4652",
      "8768f8b0b6554a29a0ff87280d06e597"
     ]
    },
    "id": "yyhmXEqvVlfb",
    "outputId": "72f181c9-cba7-491f-eb5b-4d627ae52a3b",
    "tags": []
   },
   "outputs": [
    {
     "data": {
      "application/vnd.jupyter.widget-view+json": {
       "model_id": "b8fcc1543fde4906b29746ec97bc1e38",
       "version_major": 2,
       "version_minor": 0
      },
      "text/plain": [
       "Map(center=[20, 0], controls=(WidgetControl(options=['position', 'transparent_bg'], widget=HBox(children=(Togg…"
      ]
     },
     "execution_count": 105,
     "metadata": {},
     "output_type": "execute_result"
    }
   ],
   "source": [
    "Map = geemap.Map()\n",
    "Map.addLayer(trainingPolys, {'color': 'FF0000'})\n",
    "Map.addLayer(valPolys, {'color': '00FF00'})\n",
    "Map"
   ]
  },
  {
   "cell_type": "markdown",
   "metadata": {
    "id": "dEtQaLJ8r96g"
   },
   "source": [
    "- Export training data"
   ]
  },
  {
   "cell_type": "code",
   "execution_count": null,
   "metadata": {},
   "outputs": [],
   "source": [
    "SAMPLE_NUM_IN_POLYGON = 200 # Number of shards in each polygon.\n",
    "SAMPLE_PIXEL_IN_POLYGON = 2000 # Total sample pixels in each polygon."
   ]
  },
  {
   "cell_type": "code",
   "execution_count": null,
   "metadata": {
    "tags": []
   },
   "outputs": [],
   "source": [
    "# Sizes of the training and evaluation datasets.\n",
    "TRAIN_SIZE = len(temporal_list) * trainingPolysList.size().getInfo() * SAMPLE_NUM_IN_POLYGON\n",
    "EVAL_SIZE = len(temporal_list) * valPolysList.size().getInfo() * SAMPLE_NUM_IN_POLYGON\n",
    "# print(TRAIN_SIZE)"
   ]
  },
  {
   "cell_type": "code",
   "execution_count": null,
   "metadata": {},
   "outputs": [],
   "source": [
    "SAMPLE_RESOLUTION = 1000 # 1km"
   ]
  },
  {
   "cell_type": "code",
   "execution_count": null,
   "metadata": {},
   "outputs": [],
   "source": [
    "def export_data(file_prefix, sample_poly_list, sample_source_list,file_suffix, num_sample_pixel, early_exit_time_idx = None):\n",
    "    for idx, time_str in enumerate(temporal_list): # 18, Iterate through each time string in 'temporal_list'\n",
    "        if idx == early_exit_time_idx:\n",
    "            break\n",
    "        for g in range(sample_poly_list.size().getInfo()): # 10, Iterate through each geometry in 'sample_poly_list'\n",
    "            geomSample = ee.FeatureCollection([])\n",
    "            for i in range(SAMPLE_NUM_IN_POLYGON): # 200\n",
    "                sample = sample_source_list[idx].sample(\n",
    "                    region = ee.Feature(sample_poly_list.get(g)).geometry(),\n",
    "                    scale = SAMPLE_RESOLUTION, # 1km\n",
    "                    numPixels = num_sample_pixel / SAMPLE_NUM_IN_POLYGON, # 200/200, \n",
    "                    seed = i,\n",
    "                    tileScale = 8 # make your process faster\n",
    "                )\n",
    "                geomSample = geomSample.merge(sample)\n",
    "            desc = f'{file_prefix}_{time_str}_{str(g)}_{file_suffix}'\n",
    "            print(desc)\n",
    "            task = ee.batch.Export.table.toCloudStorage(\n",
    "              collection = geomSample,\n",
    "              description = desc,\n",
    "              bucket = DATA_BUCKET,\n",
    "              fileNamePrefix = FOLDER + '/' + desc,\n",
    "              fileFormat = 'TFRecord',\n",
    "              selectors = FEATURE_NAMES\n",
    "            )\n",
    "            task.start()"
   ]
  },
  {
   "cell_type": "code",
   "execution_count": null,
   "metadata": {},
   "outputs": [
    {
     "name": "stdout",
     "output_type": "stream",
     "text": [
      "200000 200\n"
     ]
    }
   ],
   "source": [
    "NUM_PIXEL_SAMPLE_NO_FIRE = 200\n",
    "NUM_PIXEL_SAMPLE_FIRE = NUM_PIXEL_SAMPLE_NO_FIRE * 1000\n",
    "print(NUM_PIXEL_SAMPLE_FIRE, NUM_PIXEL_SAMPLE_NO_FIRE)"
   ]
  },
  {
   "cell_type": "code",
   "execution_count": null,
   "metadata": {
    "tags": []
   },
   "outputs": [
    {
     "name": "stdout",
     "output_type": "stream",
     "text": [
      "training_patches_2015-04-01_0_fire\n",
      "training_patches_2015-04-01_1_fire\n",
      "training_patches_2015-04-01_2_fire\n",
      "training_patches_2015-04-01_3_fire\n",
      "training_patches_2015-04-01_4_fire\n",
      "training_patches_2015-04-01_5_fire\n",
      "training_patches_2015-04-15_0_fire\n",
      "training_patches_2015-04-15_1_fire\n",
      "training_patches_2015-04-15_2_fire\n",
      "training_patches_2015-04-15_3_fire\n",
      "training_patches_2015-04-15_4_fire\n",
      "training_patches_2015-04-15_5_fire\n",
      "training_patches_2015-04-01_0_nofire\n",
      "training_patches_2015-04-01_1_nofire\n",
      "training_patches_2015-04-01_2_nofire\n",
      "training_patches_2015-04-01_3_nofire\n",
      "training_patches_2015-04-01_4_nofire\n",
      "training_patches_2015-04-01_5_nofire\n",
      "training_patches_2015-04-15_0_nofire\n",
      "training_patches_2015-04-15_1_nofire\n",
      "training_patches_2015-04-15_2_nofire\n",
      "training_patches_2015-04-15_3_nofire\n",
      "training_patches_2015-04-15_4_nofire\n",
      "training_patches_2015-04-15_5_nofire\n"
     ]
    }
   ],
   "source": [
    "export_data(TRAINING_BASE, trainingPolysList, list_arrays_has_fire, 'fire', NUM_PIXEL_SAMPLE_FIRE)   \n",
    "export_data(TRAINING_BASE, trainingPolysList, list_arrays_no_fire, 'nofire', NUM_PIXEL_SAMPLE_NO_FIRE)           "
   ]
  },
  {
   "cell_type": "code",
   "execution_count": null,
   "metadata": {
    "tags": []
   },
   "outputs": [
    {
     "name": "stdout",
     "output_type": "stream",
     "text": [
      "eval_patches_2015-04-01_0_fire\n",
      "eval_patches_2015-04-01_1_fire\n",
      "eval_patches_2015-04-01_2_fire\n",
      "eval_patches_2015-04-01_3_fire\n",
      "eval_patches_2015-04-01_4_fire\n",
      "eval_patches_2015-04-01_5_fire\n",
      "eval_patches_2015-04-15_0_fire\n",
      "eval_patches_2015-04-15_1_fire\n",
      "eval_patches_2015-04-15_2_fire\n",
      "eval_patches_2015-04-15_3_fire\n",
      "eval_patches_2015-04-15_4_fire\n",
      "eval_patches_2015-04-15_5_fire\n",
      "eval_patches_2015-04-01_0_nofire\n",
      "eval_patches_2015-04-01_1_nofire\n",
      "eval_patches_2015-04-01_2_nofire\n",
      "eval_patches_2015-04-01_3_nofire\n",
      "eval_patches_2015-04-01_4_nofire\n",
      "eval_patches_2015-04-01_5_nofire\n",
      "eval_patches_2015-04-15_0_nofire\n",
      "eval_patches_2015-04-15_1_nofire\n",
      "eval_patches_2015-04-15_2_nofire\n",
      "eval_patches_2015-04-15_3_nofire\n",
      "eval_patches_2015-04-15_4_nofire\n",
      "eval_patches_2015-04-15_5_nofire\n"
     ]
    }
   ],
   "source": [
    "export_data(EVAL_BASE, valPolysList, list_arrays_has_fire, 'fire', NUM_PIXEL_SAMPLE_FIRE)\n",
    "export_data(EVAL_BASE, valPolysList, list_arrays_no_fire, 'nofire', NUM_PIXEL_SAMPLE_NO_FIRE)           "
   ]
  },
  {
   "cell_type": "markdown",
   "metadata": {},
   "source": [
    "Test: use stratified result of firms as sampleRegion input for features"
   ]
  },
  {
   "cell_type": "code",
   "execution_count": null,
   "metadata": {
    "tags": []
   },
   "outputs": [],
   "source": [
    "# firms_stratified_time_result = [] # list of every time slice\n",
    "# for i in range(firms.size().getInfo()): # firms.size() == time slices\n",
    "#     cur_firm = ee.Image(firms.get(i))\n",
    "#     firms_stratified_region_result = [] # list of every region in trainingPolysList\n",
    "    \n",
    "#     for g in range(trainingPolysList.size().getInfo()):\n",
    "#         firms_stratified_feature_collection = ee.FeatureCollection([]) # feature collection at current region and time slice\n",
    "#         for sample_idx in range(SAMPLE_NUM_IN_POLYGON): # Loop through each sample index for the current polygon\n",
    "#             sample = cur_firm.stratifiedSample(\n",
    "#                 numPoints=SAMPLE_PIXEL_IN_POLYGON / SAMPLE_NUM_IN_POLYGON, # 5\n",
    "#                 classBand='T21',\n",
    "#                 region = ee.Feature(trainingPolysList.get(g)).geometry(),\n",
    "#                 scale = SAMPLE_RESOLUTION, # 1km\n",
    "#                 seed = i,\n",
    "#                 tileScale = 8, # make your process faster\n",
    "#                 geometries = True\n",
    "#             )\n",
    "#             firms_stratified_feature_collection = firms_stratified_feature_collection.merge(sample)\n",
    "#         # print(firms_stratified_feature_collection.distinct(\"T21\").getInfo())\n",
    "#         # print(firms_stratified_feature_collection.size().getInfo())\n",
    "#         firms_stratified_region_result.append(firms_stratified_feature_collection)\n",
    "#     firms_stratified_time_result.append(firms_stratified_region_result)\n",
    "    \n",
    "# # print(type(firms_stratified_time_result[0][0])) # <class 'ee.featurecollection.FeatureCollection'>"
   ]
  },
  {
   "cell_type": "code",
   "execution_count": null,
   "metadata": {
    "tags": []
   },
   "outputs": [],
   "source": [
    "# for time_idx, time_slice_result in enumerate(firms_stratified_time_result): #2\n",
    "#     # print(len(time_slice_result))\n",
    "#     for region_idx, region_result in enumerate(time_slice_result): # 2\n",
    "#         print(region_result.size().getInfo()) # featurecollection\n",
    "#         print(type( list_arrays[time_idx]))\n",
    "#         geomSample = list_arrays[time_idx].sampleRegions(\n",
    "#             collection = region_result,\n",
    "#             properties = ee.List(['T21']),\n",
    "#             scale = SAMPLE_RESOLUTION, # 1km\n",
    "#             tileScale = 8 # make your process faster\n",
    "#           )\n",
    "#         # print(type(geomSample))\n",
    "#         desc = f'sampleRegion_{time_idx}_{region_idx}'\n",
    "#         # print(desc)\n",
    "#         task = ee.batch.Export.table.toCloudStorage(\n",
    "#           collection = geomSample,\n",
    "#           description = desc,\n",
    "#           bucket = DATA_BUCKET,\n",
    "#           fileNamePrefix = FOLDER + '/' + desc,\n",
    "#           fileFormat = 'TFRecord',\n",
    "#           selectors = FEATURE_NAMES\n",
    "#         )\n",
    "#         # task.start()"
   ]
  },
  {
   "cell_type": "markdown",
   "metadata": {},
   "source": [
    "sample and export train"
   ]
  },
  {
   "cell_type": "markdown",
   "metadata": {},
   "source": [
    "stratify sample"
   ]
  },
  {
   "cell_type": "markdown",
   "metadata": {
    "id": "cbJvLrT3PhBd"
   },
   "source": [
    "- export eval"
   ]
  },
  {
   "cell_type": "markdown",
   "metadata": {
    "id": "d8sxph0LbfBq"
   },
   "source": [
    "Load the data exported\n",
    "去到bucket已经能看到这个file下载好了! 在那边! 接下来就要读 **Text fett markieren**"
   ]
  },
  {
   "cell_type": "code",
   "execution_count": null,
   "metadata": {
    "id": "qfbwfrvwbWpC",
    "tags": []
   },
   "outputs": [],
   "source": [
    "def parse_tfrecord(example_proto):\n",
    "  \"\"\"The parsing function.\n",
    "  Read a serialized example into the structure defined by FEATURES_DICT.\n",
    "  Args:\n",
    "    example_proto: a serialized Example.\n",
    "  Returns:\n",
    "    A dictionary of tensors, keyed by feature name.\n",
    "  \"\"\"\n",
    "  # print(f'Example Proto: {example_proto}')\n",
    "  parsed_features = tf.io.parse_single_example(example_proto, FEATURES_DICT)\n",
    "  # print(f'Parsed features: {parsed_features}')\n",
    "  # print()\n",
    "  return parsed_features\n",
    "\n",
    "def to_tuple(inputs, deb=True):\n",
    "  \"\"\"Function to convert a dictionary of tensors to a tuple of (inputs, outputs).\n",
    "  Turn the tensors returned by parse_tfrecord into a stack in HWC shape.\n",
    "  Args:\n",
    "    inputs: A dictionary of tensors, keyed by feature name.\n",
    "  Returns:\n",
    "    A tuple of (inputs, outputs).\n",
    "  \"\"\"\n",
    "  inputsList = [inputs.get(key) for key in FEATURE_NAMES]\n",
    "  stacked = tf.stack(inputsList, axis=0)\n",
    "\n",
    "  if deb:\n",
    "    print(f'to_tuple inputsList {inputsList}')\n",
    "    print(f'to_tuple len list {len(inputsList)}')\n",
    "    print(f'to_tuple stacked shape {stacked.shape}')\n",
    "\n",
    "  # Convert from CHW to HWC\n",
    "  # See https://caffe2.ai/docs/tutorial-image-pre-processing.html\n",
    "  stacked = tf.transpose(stacked, [1, 2, 0])\n",
    "\n",
    "  if deb:\n",
    "    print(f'to_tuple after reshape {stacked.shape}')\n",
    "    print(f'length of BANDS??? {len(BANDS)}')\n",
    "  return stacked[:,:,:len(BANDS)], stacked[:,:,len(BANDS):]"
   ]
  },
  {
   "cell_type": "code",
   "execution_count": null,
   "metadata": {
    "id": "fX68Z2uEy_Fe",
    "tags": []
   },
   "outputs": [],
   "source": [
    "# visualize tfrecord\n",
    "import matplotlib.pyplot as plt\n",
    "\n",
    "def visualize_dataset(dataset):\n",
    "  for batch in dataset.take(3):\n",
    "    # print(f'Batch keys: {batch.keys()}')\n",
    "    # print(f'Batch data types: {[type(v.numpy()) for v in batch.values()]}')\n",
    "    f, axarr = plt.subplots(4, 2)\n",
    "    rows = np.repeat([0, 1, 2, 3], 2)\n",
    "    cols = np.repeat([[0, 1]], 4, axis=0).ravel()\n",
    "    for v, r, c in zip(batch.values(), rows, cols):\n",
    "      axarr[r, c].imshow(v, cmap='gray')\n",
    "\n",
    "def get_dataset(pattern):\n",
    "  \"\"\"Function to read, parse and format to tuple a set of input tfrecord files.\n",
    "  Get all the files matching the pattern, parse and convert to tuple.\n",
    "  Args:\n",
    "    pattern: A file pattern to match in a Cloud Storage bucket.\n",
    "  Returns:\n",
    "    A tf.data.Dataset\n",
    "  \"\"\"\n",
    "  glob = tf.io.gfile.glob(pattern)\n",
    "  dataset = tf.data.TFRecordDataset(glob, compression_type='GZIP')\n",
    "  # print(f'get_dataset:parse step1 {dataset}')\n",
    "  dataset = dataset.map(parse_tfrecord, num_parallel_calls=5)\n",
    "  # print(f'get_dataset step1-2 {dataset.element_spec}')\n",
    "  # for batch in dataset.take(1):\n",
    "  #   print(\"Batch keys:\", batch.keys())\n",
    "  #   for key, value in batch.items():\n",
    "  #       print(f\"Key: {key}, Shape: {value.shape}, Data Type: {value.dtype}\")\n",
    "    \n",
    "  # visualize_dataset(dataset)\n",
    "  # print(f'get_dataset step2 {dataset}')\n",
    "  dataset = dataset.map(to_tuple, num_parallel_calls=5)\n",
    "  # print(f'get_dataset step3 {dataset}')\n",
    "  return dataset"
   ]
  },
  {
   "cell_type": "markdown",
   "metadata": {
    "id": "g0FkNqFKySbs"
   },
   "source": [
    "train, eval"
   ]
  },
  {
   "cell_type": "markdown",
   "metadata": {
    "id": "ls_qh5vp6gdL"
   },
   "source": [
    "fixed problem get training dataset and eval dataset"
   ]
  },
  {
   "cell_type": "markdown",
   "metadata": {},
   "source": [
    "get new dataset after stratify"
   ]
  },
  {
   "cell_type": "code",
   "execution_count": null,
   "metadata": {
    "tags": []
   },
   "outputs": [],
   "source": [
    "def get_training_dataset(filename_pattern):\n",
    "\t\"\"\"Get the preprocessed training dataset\n",
    "  Returns:\n",
    "    A tf.data.Dataset of training data.\n",
    "  \"\"\"\n",
    "\tglob = filename_pattern\n",
    "\tdataset = get_dataset(glob)\n",
    "\tdataset = dataset.shuffle(BUFFER_SIZE).batch(BATCH_SIZE).repeat()\n",
    "\treturn dataset\n",
    "\n",
    "\n",
    "def get_eval_dataset(filename_pattern):\n",
    "\t\"\"\"Get the preprocessed training dataset\n",
    "  Returns:\n",
    "    A tf.data.Dataset of training data.\n",
    "  \"\"\"\n",
    "\tglob = filename_pattern\n",
    "\tdataset = get_dataset(glob)\n",
    "\tdataset = dataset.batch(1).repeat()\n",
    "\treturn dataset"
   ]
  },
  {
   "cell_type": "code",
   "execution_count": null,
   "metadata": {},
   "outputs": [
    {
     "name": "stdout",
     "output_type": "stream",
     "text": [
      "to_tuple inputsList [<tf.Tensor 'args_2:0' shape=(256, 256) dtype=float32>, <tf.Tensor 'args_1:0' shape=(256, 256) dtype=float32>, <tf.Tensor 'args_3:0' shape=(256, 256) dtype=float32>, <tf.Tensor 'args_0:0' shape=(256, 256) dtype=float32>, <tf.Tensor 'args_5:0' shape=(256, 256) dtype=float32>, <tf.Tensor 'args_6:0' shape=(256, 256) dtype=float32>, <tf.Tensor 'args_7:0' shape=(256, 256) dtype=float32>, <tf.Tensor 'args_4:0' shape=(256, 256) dtype=float32>]\n",
      "to_tuple len list 8\n",
      "to_tuple stacked shape (8, 256, 256)\n",
      "to_tuple after reshape (256, 256, 8)\n",
      "length of BANDS??? 7\n"
     ]
    }
   ],
   "source": [
    "training_nofire = get_training_dataset('gs://' + DATA_BUCKET + '/' + FOLDER + '/' + 'training*' + '*_nofire*')"
   ]
  },
  {
   "cell_type": "code",
   "execution_count": null,
   "metadata": {},
   "outputs": [
    {
     "name": "stdout",
     "output_type": "stream",
     "text": [
      "to_tuple inputsList [<tf.Tensor 'args_2:0' shape=(256, 256) dtype=float32>, <tf.Tensor 'args_1:0' shape=(256, 256) dtype=float32>, <tf.Tensor 'args_3:0' shape=(256, 256) dtype=float32>, <tf.Tensor 'args_0:0' shape=(256, 256) dtype=float32>, <tf.Tensor 'args_5:0' shape=(256, 256) dtype=float32>, <tf.Tensor 'args_6:0' shape=(256, 256) dtype=float32>, <tf.Tensor 'args_7:0' shape=(256, 256) dtype=float32>, <tf.Tensor 'args_4:0' shape=(256, 256) dtype=float32>]\n",
      "to_tuple len list 8\n",
      "to_tuple stacked shape (8, 256, 256)\n",
      "to_tuple after reshape (256, 256, 8)\n",
      "length of BANDS??? 7\n"
     ]
    }
   ],
   "source": [
    "training_fire = get_training_dataset('gs://' + DATA_BUCKET + '/' + FOLDER + '/' + 'training*' + '*_fire*')"
   ]
  },
  {
   "cell_type": "code",
   "execution_count": null,
   "metadata": {
    "tags": []
   },
   "outputs": [
    {
     "name": "stdout",
     "output_type": "stream",
     "text": [
      "to_tuple inputsList [<tf.Tensor 'args_2:0' shape=(256, 256) dtype=float32>, <tf.Tensor 'args_1:0' shape=(256, 256) dtype=float32>, <tf.Tensor 'args_3:0' shape=(256, 256) dtype=float32>, <tf.Tensor 'args_0:0' shape=(256, 256) dtype=float32>, <tf.Tensor 'args_5:0' shape=(256, 256) dtype=float32>, <tf.Tensor 'args_6:0' shape=(256, 256) dtype=float32>, <tf.Tensor 'args_7:0' shape=(256, 256) dtype=float32>, <tf.Tensor 'args_4:0' shape=(256, 256) dtype=float32>]\n",
      "to_tuple len list 8\n",
      "to_tuple stacked shape (8, 256, 256)\n",
      "to_tuple after reshape (256, 256, 8)\n",
      "length of BANDS??? 7\n"
     ]
    }
   ],
   "source": [
    "eval_fire = get_training_dataset('gs://' + DATA_BUCKET + '/' + FOLDER + '/' + 'eval*' + '*_fire*')"
   ]
  },
  {
   "cell_type": "code",
   "execution_count": null,
   "metadata": {},
   "outputs": [
    {
     "name": "stdout",
     "output_type": "stream",
     "text": [
      "to_tuple inputsList [<tf.Tensor 'args_2:0' shape=(256, 256) dtype=float32>, <tf.Tensor 'args_1:0' shape=(256, 256) dtype=float32>, <tf.Tensor 'args_3:0' shape=(256, 256) dtype=float32>, <tf.Tensor 'args_0:0' shape=(256, 256) dtype=float32>, <tf.Tensor 'args_5:0' shape=(256, 256) dtype=float32>, <tf.Tensor 'args_6:0' shape=(256, 256) dtype=float32>, <tf.Tensor 'args_7:0' shape=(256, 256) dtype=float32>, <tf.Tensor 'args_4:0' shape=(256, 256) dtype=float32>]\n",
      "to_tuple len list 8\n",
      "to_tuple stacked shape (8, 256, 256)\n",
      "to_tuple after reshape (256, 256, 8)\n",
      "length of BANDS??? 7\n"
     ]
    }
   ],
   "source": [
    "eval_nofire = get_training_dataset('gs://' + DATA_BUCKET + '/' + FOLDER + '/' + 'eval*' + '*_nofire*')"
   ]
  },
  {
   "cell_type": "code",
   "execution_count": null,
   "metadata": {
    "tags": []
   },
   "outputs": [
    {
     "name": "stdout",
     "output_type": "stream",
     "text": [
      "to_tuple inputsList [<tf.Tensor 'args_2:0' shape=(256, 256) dtype=float32>, <tf.Tensor 'args_1:0' shape=(256, 256) dtype=float32>, <tf.Tensor 'args_3:0' shape=(256, 256) dtype=float32>, <tf.Tensor 'args_0:0' shape=(256, 256) dtype=float32>, <tf.Tensor 'args_5:0' shape=(256, 256) dtype=float32>, <tf.Tensor 'args_6:0' shape=(256, 256) dtype=float32>, <tf.Tensor 'args_7:0' shape=(256, 256) dtype=float32>, <tf.Tensor 'args_4:0' shape=(256, 256) dtype=float32>]\n",
      "to_tuple len list 8\n",
      "to_tuple stacked shape (8, 256, 256)\n",
      "to_tuple after reshape (256, 256, 8)\n",
      "length of BANDS??? 7\n"
     ]
    }
   ],
   "source": [
    "training = get_training_dataset('gs://' + DATA_BUCKET + '/' + FOLDER + '/' + 'training*')"
   ]
  },
  {
   "cell_type": "code",
   "execution_count": null,
   "metadata": {
    "tags": []
   },
   "outputs": [
    {
     "name": "stdout",
     "output_type": "stream",
     "text": [
      "to_tuple inputsList [<tf.Tensor 'args_2:0' shape=(256, 256) dtype=float32>, <tf.Tensor 'args_1:0' shape=(256, 256) dtype=float32>, <tf.Tensor 'args_3:0' shape=(256, 256) dtype=float32>, <tf.Tensor 'args_0:0' shape=(256, 256) dtype=float32>, <tf.Tensor 'args_5:0' shape=(256, 256) dtype=float32>, <tf.Tensor 'args_6:0' shape=(256, 256) dtype=float32>, <tf.Tensor 'args_7:0' shape=(256, 256) dtype=float32>, <tf.Tensor 'args_4:0' shape=(256, 256) dtype=float32>]\n",
      "to_tuple len list 8\n",
      "to_tuple stacked shape (8, 256, 256)\n",
      "to_tuple after reshape (256, 256, 8)\n",
      "length of BANDS??? 7\n"
     ]
    }
   ],
   "source": [
    "evaluation = get_eval_dataset('gs://' + DATA_BUCKET + '/' + FOLDER + '/' + 'eval*')"
   ]
  },
  {
   "cell_type": "markdown",
   "metadata": {
    "id": "UCmiQcxFOnK5"
   },
   "source": [
    "unet"
   ]
  },
  {
   "cell_type": "code",
   "execution_count": null,
   "metadata": {
    "tags": []
   },
   "outputs": [],
   "source": [
    "filter_1 = 32\n",
    "filter_2 = 4"
   ]
  },
  {
   "cell_type": "code",
   "execution_count": null,
   "metadata": {},
   "outputs": [],
   "source": [
    "import tensorflow as tf\n",
    "import tensorflow.keras.layers as layers\n",
    "import tensorflow.keras.losses as losses\n",
    "import tensorflow.keras.models as models\n",
    "import tensorflow.keras.metrics as metrics\n",
    "import tensorflow.keras.optimizers as optimizers"
   ]
  },
  {
   "cell_type": "code",
   "execution_count": null,
   "metadata": {
    "id": "9VgzQBEKOp1A",
    "tags": []
   },
   "outputs": [],
   "source": [
    "def conv_block(input_tensor, num_filters):\n",
    "\tencoder = layers.Conv2D(num_filters, (3, 3), padding='same')(input_tensor)\n",
    "\tencoder = layers.BatchNormalization()(encoder)\n",
    "\tencoder = layers.Activation('relu')(encoder)\n",
    "\tencoder = layers.Conv2D(num_filters, (3, 3), padding='same')(encoder)\n",
    "\tencoder = layers.BatchNormalization()(encoder)\n",
    "\tencoder = layers.Activation('relu')(encoder)\n",
    "\treturn encoder\n",
    "\n",
    "def encoder_block(input_tensor, num_filters):\n",
    "\tencoder = conv_block(input_tensor, num_filters)\n",
    "\tencoder_pool = layers.MaxPooling2D((2, 2), strides=(2, 2))(encoder)\n",
    "\treturn encoder_pool, encoder\n",
    "\n",
    "def decoder_block(input_tensor, concat_tensor, num_filters):\n",
    "\tdecoder = layers.Conv2DTranspose(num_filters, (2, 2), strides=(2, 2), padding='same')(input_tensor)\n",
    "\tdecoder = layers.concatenate([concat_tensor, decoder], axis=-1)\n",
    "\tdecoder = layers.BatchNormalization()(decoder)\n",
    "\tdecoder = layers.Activation('relu')(decoder)\n",
    "\tdecoder = layers.Conv2D(num_filters, (3, 3), padding='same')(decoder)\n",
    "\tdecoder = layers.BatchNormalization()(decoder)\n",
    "\tdecoder = layers.Activation('relu')(decoder)\n",
    "\tdecoder = layers.Conv2D(num_filters, (3, 3), padding='same')(decoder)\n",
    "\tdecoder = layers.BatchNormalization()(decoder)\n",
    "\tdecoder = layers.Activation('relu')(decoder)\n",
    "\treturn decoder\n",
    "\n",
    "def get_model(filter_base):\n",
    "\tinputs = layers.Input(shape=[None, None, len(BANDS)]) # 256\n",
    "\tencoder0_pool, encoder0 = encoder_block(inputs, filter_base) # 128\n",
    "\tencoder1_pool, encoder1 = encoder_block(encoder0_pool, filter_base*2) # 64\n",
    "\tencoder2_pool, encoder2 = encoder_block(encoder1_pool, filter_base*4) # 32\n",
    "\tencoder3_pool, encoder3 = encoder_block(encoder2_pool, filter_base*8) # 16\n",
    "\tencoder4_pool, encoder4 = encoder_block(encoder3_pool, filter_base*16) # 8\n",
    "\tcenter = conv_block(encoder4_pool, filter_base*32) # center\n",
    "\tdecoder4 = decoder_block(center, encoder4, filter_base*16) # 16\n",
    "\tdecoder3 = decoder_block(decoder4, encoder3, filter_base*8) # 32\n",
    "\tdecoder2 = decoder_block(decoder3, encoder2, filter_base*4) # 64\n",
    "\tdecoder1 = decoder_block(decoder2, encoder1, filter_base*2) # 128\n",
    "\tdecoder0 = decoder_block(decoder1, encoder0, filter_base) # 256\n",
    "\toutputs = layers.Conv2D(1, (1, 1), activation='sigmoid')(decoder0)\n",
    "\n",
    "\tmodel = models.Model(inputs=[inputs], outputs=[outputs])\n",
    "\n",
    "\tmodel.compile(\n",
    "\t\toptimizer=optimizers.get(OPTIMIZER),\n",
    "\t\tloss=losses.get(LOSS),\n",
    "\t\tmetrics=[metrics.get(metric) for metric in METRICS],\n",
    "\t\trun_eagerly=True\n",
    "\t\t)\n",
    "\n",
    "\treturn model"
   ]
  },
  {
   "cell_type": "code",
   "execution_count": null,
   "metadata": {},
   "outputs": [],
   "source": [
    "import tensorflow.keras.layers as layers\n",
    "import tensorflow.keras.losses as losses\n",
    "import tensorflow.keras.models as models\n",
    "import tensorflow.keras.metrics as metrics\n",
    "import tensorflow.keras.optimizers as optimizers\n",
    "\n",
    "def conv_block(input_tensor, num_filters):\n",
    "    encoder = layers.Conv2D(num_filters, (3, 3), padding='same', activation='relu')(input_tensor)\n",
    "    encoder = layers.BatchNormalization()(encoder)\n",
    "    return encoder\n",
    "\n",
    "def encoder_block(input_tensor, num_filters):\n",
    "    encoder = conv_block(input_tensor, num_filters)\n",
    "    encoder_pool = layers.MaxPooling2D((2, 2))(encoder)\n",
    "    return encoder_pool, encoder\n",
    "\n",
    "def decoder_block(input_tensor, concat_tensor, num_filters):\n",
    "    decoder = layers.Conv2DTranspose(num_filters, (2, 2), strides=(2, 2), padding='same', activation='relu')(input_tensor)\n",
    "    decoder = layers.concatenate([concat_tensor, decoder], axis=-1)\n",
    "    decoder = layers.BatchNormalization()(decoder)\n",
    "    return decoder\n",
    "\n",
    "def get_model_simplify():\n",
    "    inputs = layers.Input(shape=[None, None, len(BANDS)])\n",
    "    encoder0_pool, encoder0 = encoder_block(inputs, 32)\n",
    "    encoder1_pool, encoder1 = encoder_block(encoder0_pool, 64)\n",
    "    encoder2_pool, encoder2 = encoder_block(encoder1_pool, 128)\n",
    "    center = conv_block(encoder2_pool, 256)  # Center block with reduced filters\n",
    "    decoder2 = decoder_block(center, encoder2, 128)\n",
    "    decoder1 = decoder_block(decoder2, encoder1, 64)\n",
    "    decoder0 = decoder_block(decoder1, encoder0, 32)\n",
    "    outputs = layers.Conv2D(1, (1, 1), activation='sigmoid')(decoder0)\n",
    "\n",
    "    model = models.Model(inputs=[inputs], outputs=[outputs])\n",
    "    \n",
    "    model.compile(\n",
    "\t\toptimizer=optimizers.get(OPTIMIZER),\n",
    "\t\tloss=losses.get(LOSS),\n",
    "\t\tmetrics=[metrics.get(metric) for metric in METRICS],\n",
    "\t\trun_eagerly=True\n",
    "    )\n",
    "\n",
    "    return model"
   ]
  },
  {
   "cell_type": "code",
   "execution_count": null,
   "metadata": {},
   "outputs": [],
   "source": [
    "# # taken from https://github.dev/pandyamarut/HalfUnet-ImageSegmentation\n",
    "\n",
    "# import tensorflow.keras.layers as layers\n",
    "# import tensorflow.keras.losses as losses\n",
    "# import tensorflow.keras.models as models\n",
    "# import tensorflow.keras.metrics as metrics\n",
    "# import tensorflow.keras.optimizers as optimizers\n",
    "\n",
    "# def ghost_module(inputs):\n",
    "#     conv1 = layers.Conv2D(32, 3, padding='same', kernel_initializer='he_normal')(inputs)\n",
    "#     batch1 = layers.BatchNormalization()(conv1)\n",
    "#     act1 = layers.Activation('relu')(batch1)\n",
    "#     conv2 = layers.SeparableConv2D(32, 3, activation='relu', padding='same', kernel_initializer='he_normal')(act1)\n",
    "#     return layers.concatenate([act1, conv2], axis=3)\n",
    "\n",
    "# def half_unet_model(input_shape=(256, 256, 7)):\n",
    "\n",
    "#     inputs = layers.Input(shape=input_shape, name=\"image\")\n",
    "#     x1 = ghost_module(ghost_module(inputs))\n",
    "#     pool1 = layers.MaxPooling2D(pool_size=(2, 2))(x1)\n",
    "#     x2 = ghost_module(ghost_module(pool1))\n",
    "#     pool2 = layers.MaxPooling2D(pool_size=(2, 2))(x2)\n",
    "#     x3 = ghost_module(ghost_module(pool2))\n",
    "#     pool3 = layers.MaxPooling2D(pool_size=(2, 2))(x3)\n",
    "#     x4 = ghost_module(ghost_module(pool3))\n",
    "#     pool4 = layers.MaxPooling2D(pool_size=(2, 2))(x4)\n",
    "#     x5 = ghost_module(ghost_module(pool4))\n",
    "\n",
    "#     up5 = layers.UpSampling2D(size=(input_shape[0] // x5.shape[1], input_shape[1] // x5.shape[2]))(x5)\n",
    "#     up4 = layers.UpSampling2D(size=(input_shape[0] // x4.shape[1], input_shape[1] // x4.shape[2]))(x4)\n",
    "#     up3 = layers.UpSampling2D(size=(input_shape[0] // x3.shape[1], input_shape[1] // x3.shape[2]))(x3)\n",
    "#     up2 = layers.UpSampling2D(size=(input_shape[0] // x2.shape[1], input_shape[1] // x2.shape[2]))(x2)\n",
    "\n",
    "#     upScaled = layers.Add()([x1, up2, up3, up4, up5])\n",
    "#     all_conv = ghost_module(ghost_module(upScaled))\n",
    "#     final_conv = layers.Conv2D(1, 1, activation='sigmoid')(all_conv)\n",
    "\n",
    "#     model = models.Model(inputs=[inputs], outputs=[final_conv], name=\"Half-UNet\")\n",
    "#     model.compile(\n",
    "# \t\toptimizer=optimizers.get(OPTIMIZER),\n",
    "# \t\tloss=losses.get(LOSS),\n",
    "# \t\tmetrics=[metrics.get(metric) for metric in METRICS],\n",
    "# \t\trun_eagerly=True\n",
    "#     )\n",
    "#     return model"
   ]
  },
  {
   "cell_type": "markdown",
   "metadata": {},
   "source": [
    "sanity check"
   ]
  },
  {
   "cell_type": "code",
   "execution_count": null,
   "metadata": {
    "colab": {
     "base_uri": "https://localhost:8080/"
    },
    "id": "vatHus6RY3Kd",
    "outputId": "94effa69-7d01-4abd-ae36-304ec6f4ce1c"
   },
   "outputs": [],
   "source": [
    "# # Sizes of the training and evaluation datasets.\n",
    "# TRAIN_SIZE = 16000\n",
    "# EVAL_SIZE = 8000\n",
    "# BATCH_SIZE = 64\n",
    "# print(type(training))\n",
    "# print(EPOCHS)\n",
    "# print(TRAIN_SIZE)\n",
    "# print(BATCH_SIZE)\n",
    "# print(int(TRAIN_SIZE / BATCH_SIZE))\n",
    "# # print(len(list(training)))\n",
    "# print(EVAL_SIZE)\n",
    "# # len(training)\n",
    "# # Check if GPU is available\n",
    "# if tf.test.is_gpu_available():\n",
    "#     # Get the list of available GPU devices\n",
    "#     gpu_devices = tf.config.experimental.list_physical_devices('GPU')\n",
    "#     if gpu_devices:\n",
    "#         # Print the name of the first GPU device\n",
    "#         print(\"Using GPU:\", gpu_devices[0].name)\n",
    "#     else:\n",
    "#         print(\"No GPU devices available.\")\n",
    "# print(\"Available GPU devices:\")\n",
    "# print(tf.config.list_physical_devices('GPU'))\n",
    "# print(\"Current device used for computation:\")\n",
    "# print(tf.config.list_logical_devices('GPU'))"
   ]
  },
  {
   "cell_type": "code",
   "execution_count": null,
   "metadata": {
    "colab": {
     "base_uri": "https://localhost:8080/",
     "height": 171
    },
    "id": "gvviJsw9mjow",
    "outputId": "4588db38-9794-4b85-fcdd-b9085fb3c94c"
   },
   "outputs": [
    {
     "name": "stdout",
     "output_type": "stream",
     "text": [
      "Num GPUs Available:  1\n"
     ]
    }
   ],
   "source": [
    "import os\n",
    "os.environ['TF_GPU_ALLOCATOR'] = 'cuda_malloc_async'\n",
    "import tensorflow as tf\n",
    "print(\"Num GPUs Available: \", len(tf.config.list_physical_devices('GPU')))"
   ]
  },
  {
   "cell_type": "markdown",
   "metadata": {
    "id": "F2XpbcmulM4F"
   },
   "source": [
    "modular programming: make sure everything right before training"
   ]
  },
  {
   "cell_type": "code",
   "execution_count": null,
   "metadata": {
    "colab": {
     "base_uri": "https://localhost:8080/",
     "height": 171
    },
    "id": "MrXwxGIZyDZO",
    "outputId": "2a864a47-68e0-44e5-c35c-ec8972de0d55"
   },
   "outputs": [
    {
     "ename": "NameError",
     "evalue": "name 'stop' is not defined",
     "output_type": "error",
     "traceback": [
      "\u001b[0;31m---------------------------------------------------------------------------\u001b[0m",
      "\u001b[0;31mNameError\u001b[0m                                 Traceback (most recent call last)",
      "Cell \u001b[0;32mIn[132], line 1\u001b[0m\n\u001b[0;32m----> 1\u001b[0m \u001b[43mstop\u001b[49m\n",
      "\u001b[0;31mNameError\u001b[0m: name 'stop' is not defined"
     ]
    }
   ],
   "source": [
    "stop"
   ]
  },
  {
   "cell_type": "markdown",
   "metadata": {
    "id": "eUoZLxKXu4Fi"
   },
   "source": [
    "model training visualization"
   ]
  },
  {
   "cell_type": "code",
   "execution_count": null,
   "metadata": {
    "colab": {
     "base_uri": "https://localhost:8080/"
    },
    "id": "7hJSvWuwbKlN",
    "outputId": "90c99b58-f05a-40b7-d6ff-d1cf86fc7107",
    "tags": []
   },
   "outputs": [],
   "source": [
    "from tqdm import tqdm\n",
    "import matplotlib.pyplot as plt\n",
    "\n",
    "class TQDMCallback(tf.keras.callbacks.Callback):\n",
    "    def __init__(self, total_epochs):\n",
    "        super(TQDMCallback, self).__init__()\n",
    "        self.total_epochs = total_epochs\n",
    "        self.pbar = tqdm(total=self.total_epochs, unit='epoch')\n",
    "\n",
    "    def on_epoch_end(self, epoch, logs=None):\n",
    "        self.pbar.update(1)\n",
    "        self.pbar.set_description(f\"Epoch {epoch + 1}/{self.total_epochs}, Loss: {logs['loss']:.4f}, \"\n",
    "                                  f\"RMSE: {logs['root_mean_squared_error']:.4f}, \")\n",
    "                                  # f\"Val_Loss: {logs['val_loss']:.4f}, \"\n",
    "                                  # f\"Val_RMSE: {logs['val_root_mean_squared_error']:.4f}\")\n",
    "    def on_train_end(self, logs=None):\n",
    "        self.pbar.close()\n",
    "tqdm_callback = TQDMCallback(total_epochs=EPOCHS)"
   ]
  },
  {
   "cell_type": "code",
   "execution_count": null,
   "metadata": {
    "id": "dXTFDpx75zhW",
    "tags": []
   },
   "outputs": [],
   "source": [
    "# m = get_model(filter_2)\n",
    "# m = half_unet_model()\n",
    "m = get_model_simplify()"
   ]
  },
  {
   "cell_type": "markdown",
   "metadata": {
    "id": "FINWyqHTuzsL"
   },
   "source": [
    "see model parameter"
   ]
  },
  {
   "cell_type": "code",
   "execution_count": null,
   "metadata": {
    "id": "9QFJQxg1Y5ec",
    "tags": []
   },
   "outputs": [],
   "source": [
    "m.summary()"
   ]
  },
  {
   "cell_type": "markdown",
   "metadata": {},
   "source": [
    "Successful fit: \n",
    "    model is simplified into containing only a few layers"
   ]
  },
  {
   "cell_type": "code",
   "execution_count": null,
   "metadata": {
    "colab": {
     "base_uri": "https://localhost:8080/"
    },
    "id": "v5MLYV7j2i8I",
    "outputId": "0202a46e-41e7-4919-eec2-df4bf9fb547c",
    "tags": []
   },
   "outputs": [],
   "source": [
    "history = m.fit(\n",
    "    x=training,\n",
    "    epochs=10,\n",
    "    # steps_per_epoch=int(16000 / 1),\n",
    "    steps_per_epoch=int(16000 / 64),\n",
    "    validation_data=evaluation,\n",
    "    validation_steps=8000,\n",
    "    callbacks=[tqdm_callback],\n",
    ")"
   ]
  },
  {
   "cell_type": "markdown",
   "metadata": {},
   "source": [
    "save model"
   ]
  },
  {
   "cell_type": "code",
   "execution_count": null,
   "metadata": {},
   "outputs": [],
   "source": [
    "m.save('saved_model.h5')"
   ]
  },
  {
   "cell_type": "markdown",
   "metadata": {},
   "source": [
    "load model"
   ]
  },
  {
   "cell_type": "code",
   "execution_count": null,
   "metadata": {},
   "outputs": [],
   "source": [
    "from tensorflow.keras.models import load_model\n",
    "m = load_model('saved_model.h5')"
   ]
  },
  {
   "cell_type": "code",
   "execution_count": null,
   "metadata": {
    "tags": []
   },
   "outputs": [],
   "source": [
    "print(history.params)\n",
    "print(history.history.keys())"
   ]
  },
  {
   "cell_type": "markdown",
   "metadata": {
    "id": "T1m0AoNv2CLc"
   },
   "source": [
    "visualize"
   ]
  },
  {
   "cell_type": "code",
   "execution_count": null,
   "metadata": {
    "colab": {
     "base_uri": "https://localhost:8080/",
     "height": 1000
    },
    "id": "vleZqUp_2Lqg",
    "outputId": "1b232e76-7514-4fba-804b-5e2ae4e54217",
    "tags": []
   },
   "outputs": [],
   "source": [
    "import matplotlib.pyplot as plt\n",
    "\n",
    "plt.figure(figsize=(6, 4))\n",
    "plt.plot(history.history['loss'], label='Training Loss')\n",
    "plt.plot(history.history['val_loss'], label='Validation Loss')\n",
    "plt.xlabel('Epoch')\n",
    "plt.ylabel('Loss')\n",
    "plt.title('Training and Validation Loss')\n",
    "plt.legend()\n",
    "plt.grid(True)\n",
    "plt.show()\n",
    "\n",
    "plt.figure(figsize=(6, 4))\n",
    "plt.plot(history.history['root_mean_squared_error'], label='Training RMSE')\n",
    "plt.plot(history.history['val_root_mean_squared_error'], label='Validation RMSE')\n",
    "plt.xlabel('Epoch')\n",
    "plt.ylabel('RMSE')\n",
    "plt.title('Training and Validation RMSE')\n",
    "plt.legend()\n",
    "plt.grid(True)\n",
    "plt.show()"
   ]
  },
  {
   "cell_type": "code",
   "execution_count": null,
   "metadata": {
    "tags": []
   },
   "outputs": [],
   "source": [
    "import numpy as np\n",
    "batch_size = 64\n",
    "\n",
    "\n",
    "ev = evaluation.take(100)\n",
    "# Predict on the evaluation dataset with the specified number of steps\n",
    "predictions = m.predict(x=ev)\n",
    "\n",
    "print(len(predictions[0]))\n",
    "print(len(predictions[0][0]))"
   ]
  },
  {
   "cell_type": "code",
   "execution_count": null,
   "metadata": {},
   "outputs": [],
   "source": [
    "# threshold = 0.5\n",
    "# predicted_labels = np.where(predictions > threshold, 1, 0)\n",
    "\n",
    "# true_labels = np.array([label for _, label in ev])\n",
    "\n",
    "# accuracy = np.sum(predicted_labels == true_labels) / (len(true_labels) * 256*256)\n",
    "# print(f'Accuracy: {accuracy:.2f}')"
   ]
  },
  {
   "cell_type": "code",
   "execution_count": null,
   "metadata": {
    "id": "_KP5j1iX2kT_"
   },
   "outputs": [],
   "source": [
    "# # Load a trained model. 50 epochs. 25 hours. Final RMSE ~0.08.\n",
    "# MODEL_DIR = 'gs://ee-docs-demos/fcnn-demo/trainer/model'\n",
    "# m = tf.keras.models.load_model(MODEL_DIR)\n",
    "# m.summary()"
   ]
  },
  {
   "cell_type": "markdown",
   "metadata": {
    "id": "kJiTtqbsgjNp"
   },
   "source": [
    "select image to export"
   ]
  },
  {
   "cell_type": "code",
   "execution_count": null,
   "metadata": {
    "colab": {
     "base_uri": "https://localhost:8080/"
    },
    "id": "w_ZvBwNSgAeK",
    "outputId": "a14a2c10-b361-4145-b43b-22bc35006e42"
   },
   "outputs": [],
   "source": [
    "# print(featureStack.bandNames().getInfo())"
   ]
  },
  {
   "cell_type": "code",
   "execution_count": null,
   "metadata": {},
   "outputs": [],
   "source": [
    "feature_img_lists = []\n",
    "date_start_str = '2019-07-01'\n",
    "pred_start = ee.Date(date_start_str)\n",
    "pred_end = pred_start.advance(4, 'week')\n",
    "\n",
    "for feature in feature_list:\n",
    "  img_col = getImageCollection(feature['name'],pred_region_geometry, feature['band'])\n",
    "  pred_img = img_col.filterDate(pred_start, pred_end).median().unitScale(feature['min'], feature['max'])\n",
    "  feature_img_lists += [pred_img]\n",
    "print(feature_img_lists)"
   ]
  },
  {
   "cell_type": "code",
   "execution_count": null,
   "metadata": {},
   "outputs": [],
   "source": [
    "predict_image = feature_img_lists[0]\n",
    "for idx in range(1, len(feature_img_lists)):\n",
    "  # Combine all bands sampled from the same time to featureStack\n",
    "  predict_image = ee.Image.cat([predict_image, feature_img_lists[idx]]).float()\n",
    "# predict_image"
   ]
  },
  {
   "cell_type": "code",
   "execution_count": null,
   "metadata": {
    "id": "e6TV1dBv2qZi"
   },
   "outputs": [],
   "source": [
    "def doExport(predict_image, out_file_name, kernel_buffer, region):\n",
    "    \"\"\"Run the image export task.  Block until complete.\n",
    "    \"\"\"\n",
    "    # Define the export task using the Earth Engine Python API.\n",
    "    task = ee.batch.Export.image.toCloudStorage(\n",
    "        image=predict_image,  # Select specific bands from the 'featureStack' Image.\n",
    "        description=out_file_name,  # Description for the export task.\n",
    "        bucket=OUTPUT_BUCKET,  # The destination Cloud Storage bucket.\n",
    "        fileNamePrefix=FOLDER + '/' + out_file_name,  # File name prefix for the exported images.\n",
    "        region=region.getInfo()['coordinates'],  # The bounding region for the export task.\n",
    "        scale=SAMPLE_RESOLUTION,  # The spatial resolution in meters for the exported images.\n",
    "        fileFormat='TFRecord',  # File format for the exported images (TensorFlow Record).\n",
    "        maxPixels=1e10,  # Maximum number of pixels allowed for the export task.\n",
    "        formatOptions={\n",
    "            'patchDimensions': KERNEL_SHAPE,  # Dimensions of the image patches for segmentation.\n",
    "            'kernelSize': kernel_buffer,  # Size of the kernel buffer for segmentation.\n",
    "            'compressed': True,  # Enable compression for the exported images.\n",
    "            'maxFileSize': 104857600  # Maximum file size for each exported image in bytes.\n",
    "        }\n",
    "    )\n",
    "    print(FOLDER + '/' + out_file_name)\n",
    "    # Start the export task.\n",
    "    task.start()\n",
    "\n",
    "    # Block until the task completes.\n",
    "    print('Running image export to Cloud Storage...')\n",
    "    import time\n",
    "    while task.active():\n",
    "        print('Polling for task (id: {}).'.format(task.id))\n",
    "        time.sleep(30)\n",
    "\n",
    "    # Check if the export task encountered an error.\n",
    "    if task.status()['state'] != 'COMPLETED':\n",
    "        print(f\"Error with image export {task.status()['state']}\")\n",
    "    else:\n",
    "        print('Image export completed.')"
   ]
  },
  {
   "cell_type": "code",
   "execution_count": null,
   "metadata": {},
   "outputs": [],
   "source": [
    "doExport(predict_image, out_file_name, KERNEL_SIZE, pred_region)"
   ]
  },
  {
   "cell_type": "markdown",
   "metadata": {
    "id": "drMLDp2LKt1N"
   },
   "source": [
    "**!remember to change user_folder to your own GEE username**"
   ]
  },
  {
   "cell_type": "code",
   "execution_count": null,
   "metadata": {
    "id": "YijoX3Rb5uaK",
    "tags": []
   },
   "outputs": [],
   "source": [
    "# def doPrediction(out_image_base, in_image_bucket, out_image_bucket, user_folder, kernel_buffer):\n",
    "#   \"\"\"Perform inference on exported imagery, upload to Earth Engine.\n",
    "#   \"\"\"\n",
    "\n",
    "#   print('Looking for TFRecord files...')\n",
    "\n",
    "#   # Get a list of all the files in the output bucket.\n",
    "#   filesList = !gsutil ls 'gs://'{in_image_bucket}'/'{FOLDER}\n",
    "\n",
    "#   # Get only the files generated by the image export.\n",
    "#   exportFilesList = [s for s in filesList if out_image_base in s]\n",
    "\n",
    "#   # Get the list of image files and the JSON mixer file.\n",
    "#   imageFilesList = []\n",
    "#   jsonFile = None\n",
    "#   for f in exportFilesList:\n",
    "#     if f.endswith('.tfrecord.gz'):\n",
    "#       imageFilesList.append(f)\n",
    "#     elif f.endswith('.json'):\n",
    "#       jsonFile = f\n",
    "\n",
    "#   # Make sure the files are in the right order.\n",
    "#   imageFilesList.sort()\n",
    "\n",
    "#   from pprint import pprint\n",
    "#   pprint(imageFilesList)\n",
    "#   print(jsonFile)\n",
    "\n",
    "#   import json\n",
    "#   # Load the contents of the mixer file to a JSON object.\n",
    "#   jsonText = !gsutil cat {jsonFile}\n",
    "#   # Get a single string w/ newlines from the IPython.utils.text.SList\n",
    "#   mixer = json.loads(jsonText.nlstr)\n",
    "#   pprint(mixer)\n",
    "#   patches = mixer['totalPatches']\n",
    "\n",
    "#   # Get set up for prediction.\n",
    "#   x_buffer = int(kernel_buffer[0] / 2)\n",
    "#   y_buffer = int(kernel_buffer[1] / 2)\n",
    "\n",
    "#   buffered_shape = [\n",
    "#       KERNEL_SHAPE[0] + kernel_buffer[0],\n",
    "#       KERNEL_SHAPE[1] + kernel_buffer[1]]\n",
    "\n",
    "#   imageColumns = [\n",
    "#     tf.io.FixedLenFeature(shape=buffered_shape, dtype=tf.float32)\n",
    "#       for k in BANDS\n",
    "#   ]\n",
    "\n",
    "#   imageFeaturesDict = dict(zip(BANDS, imageColumns))\n",
    "\n",
    "#   def parse_image(example_proto):\n",
    "#     return tf.io.parse_single_example(example_proto, imageFeaturesDict)\n",
    "\n",
    "#   def toTupleImage(inputs):\n",
    "#     inputsList = [inputs.get(key) for key in BANDS]\n",
    "#     stacked = tf.stack(inputsList, axis=0)\n",
    "#     stacked = tf.transpose(stacked, [1, 2, 0])\n",
    "#     return stacked\n",
    "\n",
    "#    # Create a dataset from the TFRecord file(s) in Cloud Storage.\n",
    "#   imageDataset = tf.data.TFRecordDataset(imageFilesList, compression_type='GZIP')\n",
    "#   imageDataset = imageDataset.map(parse_image, num_parallel_calls=5)\n",
    "#   imageDataset = imageDataset.map(toTupleImage).batch(1)\n",
    "\n",
    "#   # Perform inference.\n",
    "#   print('Running predictions...')\n",
    "#   predictions = m.predict(imageDataset, steps=patches, verbose=1)\n",
    "#   # print(predictions[0])\n",
    "\n",
    "#   print('Writing predictions...')\n",
    "#   out_image_file = 'gs://' + out_image_bucket + '/' + FOLDER + '/' + out_image_base  + '.TFRecord'\n",
    "#   writer = tf.io.TFRecordWriter(out_image_file)\n",
    "#   patches = 0\n",
    "#   for predictionPatch in predictions:\n",
    "#     print('Writing patch ' + str(patches) + '...')\n",
    "#     predictionPatch = predictionPatch[\n",
    "#         x_buffer:x_buffer+KERNEL_SIZE, y_buffer:y_buffer+KERNEL_SIZE]\n",
    "\n",
    "#     # Create an example.\n",
    "#     example = tf.train.Example(\n",
    "#       features=tf.train.Features(\n",
    "#         feature={\n",
    "#           'impervious': tf.train.Feature(\n",
    "#               float_list=tf.train.FloatList(\n",
    "#                   value=predictionPatch.flatten()))\n",
    "#         }\n",
    "#       )\n",
    "#     )\n",
    "#     # Write the example.\n",
    "#     writer.write(example.SerializeToString())\n",
    "#     patches += 1\n",
    "\n",
    "#   writer.close()\n",
    "\n",
    "#   # Start the upload.\n",
    "#   out_image_asset = user_folder + '/' + out_image_base \n",
    "#   !earthengine upload image --asset_id={out_image_asset} {out_image_file} {jsonFile}"
   ]
  },
  {
   "cell_type": "markdown",
   "metadata": {},
   "source": [
    "for debug(change to your own username)"
   ]
  },
  {
   "cell_type": "code",
   "execution_count": null,
   "metadata": {
    "tags": []
   },
   "outputs": [],
   "source": [
    "user_folder = 'users/jindacz' # INSERT YOUR FOLDER HERE.\n",
    "pred_kernel_buffer = [128, 128]\n",
    "# date_start_str = '2019-07-01'\n",
    "out_file_name = f'pred_Hanceville_{date_start_str}'\n",
    "pred_region = ee.Geometry.Polygon(\n",
    "    [[[-120.09501953125, 53.81667309827828], \n",
    "    [-120.09501953125, 56.69527587549462], \n",
    "    [-125.76396484375, 56.69527587549462],     \n",
    "    [-125.76396484375, 53.81667309827828]]],  None, False)\n",
    "FOLDER = 'fcnn-demo'\n",
    "\n",
    "def doPrediction(out_image_base, user_folder, kernel_buffer, region):\n",
    "  \"\"\"Perform inference on exported imagery, upload to Earth Engine.\n",
    "  \"\"\"\n",
    "\n",
    "  print('Looking for TFRecord files...')\n",
    "\n",
    "  # Get a list of all the files in the output bucket.\n",
    "  filesList = !gsutil ls 'gs://'{OUTPUT_BUCKET}'/'{FOLDER}\n",
    "\n",
    "  # Get only the files generated by the image export.\n",
    "  exportFilesList = [s for s in filesList if out_image_base in s]\n",
    "\n",
    "  # Get the list of image files and the JSON mixer file.\n",
    "  imageFilesList = []\n",
    "  jsonFile = None\n",
    "  for f in exportFilesList:\n",
    "    if f.endswith('.tfrecord.gz'):\n",
    "      imageFilesList.append(f)\n",
    "    elif f.endswith('.json'):\n",
    "      jsonFile = f\n",
    "\n",
    "  # Make sure the files are in the right order.\n",
    "  imageFilesList.sort()\n",
    "\n",
    "  from pprint import pprint\n",
    "  pprint(f'imageFilesList {imageFilesList}')\n",
    "  # print(f'jsonFile {jsonFile}')\n",
    "\n",
    "  import json\n",
    "  # Load the contents of the mixer file to a JSON object.\n",
    "  jsonText = !gsutil cat {jsonFile}\n",
    "  # print(f'jsonText{jsonText}')\n",
    "  # Get a single string w/ newlines from the IPython.utils.text.SList\n",
    "  mixer = json.loads(jsonText.nlstr)\n",
    "  pprint(mixer)\n",
    "  patches = mixer['totalPatches']\n",
    "\n",
    "  # Get set up for prediction.\n",
    "  x_buffer = int(kernel_buffer[0] / 2)\n",
    "  y_buffer = int(kernel_buffer[1] / 2)\n",
    "\n",
    "  buffered_shape = [\n",
    "      KERNEL_SHAPE[0] + kernel_buffer[0],\n",
    "      KERNEL_SHAPE[1] + kernel_buffer[1]]\n",
    "\n",
    "  imageColumns = [\n",
    "    tf.io.FixedLenFeature(shape=buffered_shape, dtype=tf.float32)\n",
    "      for k in BANDS\n",
    "  ]\n",
    "\n",
    "  imageFeaturesDict = dict(zip(BANDS, imageColumns))\n",
    "\n",
    "  def parse_image(example_proto):\n",
    "    return tf.io.parse_single_example(example_proto, imageFeaturesDict)\n",
    "\n",
    "  def toTupleImage(inputs):\n",
    "    inputsList = [inputs.get(key) for key in BANDS]\n",
    "    stacked = tf.stack(inputsList, axis=0)\n",
    "    stacked = tf.transpose(stacked, [1, 2, 0])\n",
    "    return stacked\n",
    "\n",
    "   # Create a dataset from the TFRecord file(s) in Cloud Storage.\n",
    "  imageDataset = tf.data.TFRecordDataset(imageFilesList, compression_type='GZIP')\n",
    "  imageDataset = imageDataset.map(parse_image, num_parallel_calls=5)\n",
    "  imageDataset = imageDataset.map(toTupleImage).batch(1)\n",
    "\n",
    "  # Perform inference.\n",
    "  print('Running predictions...')\n",
    "  predictions = m.predict(imageDataset, steps=patches, verbose=1)\n",
    "  # print(predictions[0])\n",
    "\n",
    "  print('Writing predictions...')\n",
    "  # out_image_base = 'shufeitest123'\n",
    "  out_image_file = 'gs://' + OUTPUT_BUCKET + '/' + FOLDER + '/' + out_image_base + '.TFRecord'\n",
    "  \n",
    "  print(out_image_file)\n",
    "  writer = tf.io.TFRecordWriter(out_image_file)\n",
    "  patches = 0\n",
    "    \n",
    "  for predictionPatch in predictions:\n",
    "    \n",
    "    print('Writing patch ' + str(patches) + '...')\n",
    "    predictionPatch = predictionPatch[\n",
    "        x_buffer:x_buffer+KERNEL_SIZE, y_buffer:y_buffer+KERNEL_SIZE]\n",
    "    \n",
    "    # print(f'prediction patch {predictionPatch}')\n",
    "    # Create an example.\n",
    "    example = tf.train.Example(\n",
    "      features=tf.train.Features(\n",
    "        feature={\n",
    "          'impervious': tf.train.Feature(\n",
    "              float_list=tf.train.FloatList(\n",
    "                  value=predictionPatch.flatten()))\n",
    "        }\n",
    "      )\n",
    "    )\n",
    "    # Write the example.\n",
    "    writer.write(example.SerializeToString())\n",
    "    print('finish writing patch ' + str(patches) + '...')\n",
    "    patches += 1\n",
    "\n",
    "\n",
    "  #writer.close()\n",
    "  print(f'fin writing')\n",
    "\n",
    "  # Start the upload.\n",
    "  out_image_asset = user_folder + '/' + out_image_base\n",
    "  !earthengine upload image --asset_id={out_image_asset} {out_image_file} {jsonFile}\n",
    "\n",
    "# Run the prediction.\n",
    "doPrediction(out_file_name, user_folder, pred_kernel_buffer, pred_region)"
   ]
  },
  {
   "cell_type": "code",
   "execution_count": null,
   "metadata": {
    "tags": []
   },
   "outputs": [],
   "source": [
    "# !python -m pip install tensorflow-io \n",
    "# !python -m pip uninstall -y tensorflow-io"
   ]
  },
  {
   "cell_type": "code",
   "execution_count": null,
   "metadata": {
    "tags": []
   },
   "outputs": [],
   "source": [
    "# doPrediction(out_file_name, OUTPUT_BUCKET, DATA_BUCKET, FOLDER, kernel_size)"
   ]
  },
  {
   "cell_type": "code",
   "execution_count": null,
   "metadata": {
    "colab": {
     "base_uri": "https://localhost:8080/"
    },
    "id": "nTC7eZoc201K",
    "outputId": "92790209-2c43-4547-da18-d776f91ac5fc",
    "tags": []
   },
   "outputs": [],
   "source": [
    "# # Run the prediction.\n",
    "print(user_folder)\n",
    "print(out_file_name)"
   ]
  },
  {
   "cell_type": "code",
   "execution_count": null,
   "metadata": {
    "colab": {
     "base_uri": "https://localhost:8080/",
     "height": 851
    },
    "id": "cehGLdSJ249z",
    "outputId": "bcc4ce4d-3502-43c1-a940-df313e35e9fb",
    "tags": []
   },
   "outputs": [],
   "source": [
    "# out_image = ee.Image(user_folder + '/' + bj_image_base)\n",
    "out_image = ee.Image(user_folder + '/' + out_file_name)\n",
    "mapid = out_image.getMapId({'min': 0, 'max': 1})\n",
    "map = folium.Map(location=[53.81667309827828, -120.09501953125])\n",
    "folium.TileLayer(\n",
    "    tiles=mapid['tile_fetcher'].url_format,\n",
    "    attr='Map Data &copy; <a href=\"https://earthengine.google.com/\">Google Earth Engine</a>',\n",
    "    overlay=True,\n",
    "    name='predicted impervious',\n",
    "  ).add_to(map)\n",
    "map.add_child(folium.LayerControl())\n",
    "map"
   ]
  },
  {
   "cell_type": "markdown",
   "metadata": {},
   "source": [
    "export prediction to CSV"
   ]
  },
  {
   "cell_type": "code",
   "execution_count": null,
   "metadata": {},
   "outputs": [],
   "source": [
    "pred_values = out_image.reduceRegion(\n",
    "    reducer=ee.Reducer.toList(),\n",
    "    geometry=pred_region,\n",
    "    scale=926.625433055833,  # The scale from the image's 'crs_transform'\n",
    ")\n",
    "\n",
    "impervious_list = pred_values.get('impervious').getInfo()\n",
    "\n",
    "# Convert the list of pixel values to a pandas DataFrame\n",
    "df = pd.DataFrame(impervious_list, columns=['prediction'])\n",
    "\n",
    "# Save the DataFrame as a CSV file\n",
    "df.to_csv('prediction_results.csv', index=False)"
   ]
  },
  {
   "cell_type": "code",
   "execution_count": null,
   "metadata": {
    "tags": []
   },
   "outputs": [],
   "source": [
    "print(pred_values.get('impervious'))"
   ]
  },
  {
   "cell_type": "markdown",
   "metadata": {
    "tags": []
   },
   "source": [
    "# NEWEST VER"
   ]
  },
  {
   "cell_type": "markdown",
   "metadata": {},
   "source": [
    "code citation:\n",
    "https://colab.research.google.com/github/google/earthengine-api/blob/master/python/examples/ipynb/UNET_regression_demo.ipynb#scrollTo=FyRpvwENxE-A"
   ]
  },
  {
   "cell_type": "code",
   "execution_count": null,
   "metadata": {
    "tags": []
   },
   "outputs": [],
   "source": [
    "# pip install earthengine-api --upgrade"
   ]
  },
  {
   "cell_type": "code",
   "execution_count": null,
   "metadata": {
    "tags": []
   },
   "outputs": [],
   "source": [
    "# pip install geemap"
   ]
  },
  {
   "cell_type": "markdown",
   "metadata": {},
   "source": [
    "**remember to re-auth every time you want to upload**"
   ]
  },
  {
   "cell_type": "code",
   "execution_count": null,
   "metadata": {
    "colab": {
     "base_uri": "https://localhost:8080/"
    },
    "id": "X7nO1QQGlfFg",
    "outputId": "4853438c-4290-4bb0-ed5e-33cf5adfded3",
    "tags": []
   },
   "outputs": [],
   "source": [
    "import ee\n",
    "print()\n",
    "ee.Authenticate()\n",
    "ee.Initialize()"
   ]
  },
  {
   "cell_type": "code",
   "execution_count": null,
   "metadata": {
    "id": "yAie871eOTK3",
    "tags": []
   },
   "outputs": [],
   "source": [
    "import numpy as np\n",
    "import pandas as pd\n",
    "\n",
    "import geemap\n",
    "import folium"
   ]
  },
  {
   "cell_type": "code",
   "execution_count": null,
   "metadata": {
    "tags": []
   },
   "outputs": [],
   "source": [
    "import tensorflow as tf\n",
    "for gpu in tf.config.list_physical_devices(\"GPU\"):\n",
    "    tf.config.experimental.set_memory_growth(gpu, True)"
   ]
  },
  {
   "cell_type": "code",
   "execution_count": null,
   "metadata": {
    "id": "u5vrverD8DUR",
    "tags": []
   },
   "outputs": [],
   "source": [
    "tf.config.run_functions_eagerly(True)"
   ]
  },
  {
   "cell_type": "markdown",
   "metadata": {
    "id": "TLfp0wsOk3Q4"
   },
   "source": [
    "Define datasets"
   ]
  },
  {
   "cell_type": "code",
   "execution_count": null,
   "metadata": {
    "colab": {
     "base_uri": "https://localhost:8080/"
    },
    "id": "96M7w49rG2u6",
    "outputId": "7afe6f03-b7be-4a50-d110-a3f9c6404395",
    "tags": []
   },
   "outputs": [],
   "source": [
    "feature_list = []\n",
    "# Fire label\n",
    "# 2000-2023\n",
    "# https://developers.google.com/earth-engine/datasets/catalog/FIRMS\n",
    "fire_map_info = {'name':'FIRMS', 'band' :'T21', 'min': 300, 'max': 509.29}\n",
    "# MODIS Normalized difference vegetation index NDVI dataset\n",
    "# 2000-2023\n",
    "# https://developers.google.com/earth-engine/datasets/catalog/MODIS_MOD09GA_006_NDVI\n",
    "veg_map_info = {'name':'MODIS/MOD09GA_006_NDVI', 'band' :'NDVI', 'min': -1, 'max': 1}\n",
    "feature_list.append(veg_map_info)\n",
    "# MODIS Leaf Area Index/FPAR 4-Day Global 500m\n",
    "# 2002-2023\n",
    "# https://developers.google.com/earth-engine/datasets/catalog/MODIS_061_MCD15A3H\n",
    "# upper limit is 20+, so set max = 30\n",
    "leaf_map_info = {'name':'MODIS/061/MCD15A3H', 'band' :'Lai', 'min': 0, 'max': 30}\n",
    "feature_list.append(leaf_map_info)\n",
    "# FLDAS: Famine Early Warning Systems Network (FEWS NET) Land Data Assimilation System\n",
    "# 1982-2023\n",
    "# https://developers.google.com/earth-engine/datasets/catalog/NASA_FLDAS_NOAH01_C_GL_M_V001\n",
    "soil_moist_map_info = {'name':'NASA/FLDAS/NOAH01/C/GL/M/V001', 'band' :'SoilMoi00_10cm_tavg', 'min': 0, 'max': 1}\n",
    "feature_list.append(soil_moist_map_info)\n",
    "# Terra Land Surface Temperature and Emissivity Daily Global 1km\n",
    "# 2000-2023\n",
    "# https://developers.google.com/earth-engine/datasets/catalog/MODIS_061_MOD11A1\n",
    "temp_map_info = {'name':'MODIS/061/MOD11A1', 'band' :'LST_Day_1km', 'min': 13658, 'max': 15658}\n",
    "feature_list.append(temp_map_info)\n",
    "# ERA5 Monthly Aggregates dataset\n",
    "# 1979-2020\n",
    "# https://developers.google.com/earth-engine/datasets/catalog/ECMWF_ERA5_MONTHLY\n",
    "precipitation_map_info = {'name':'ECMWF/ERA5/MONTHLY', 'band' :'total_precipitation', 'min': 0, 'max': 0.4}\n",
    "feature_list.append(precipitation_map_info)\n",
    "wind_speed_u_map_info = {'name':'ECMWF/ERA5/MONTHLY', 'band' :'u_component_of_wind_10m', 'min': -8.7, 'max': 8.7}\n",
    "feature_list.append(wind_speed_u_map_info)\n",
    "wind_speed_v_map_info = {'name':'ECMWF/ERA5/MONTHLY', 'band' :'v_component_of_wind_10m', 'min': -6.8, 'max': 6.8}\n",
    "feature_list.append(wind_speed_v_map_info)\n",
    "\n",
    "# Copernicus Global Land Cover Layers: CGLS-LC100 Collection 3\n",
    "# 2015-end2019\n",
    "# https://developers.google.com/earth-engine/datasets/catalog/COPERNICUS_Landcover_100m_Proba-V-C3_Global\n",
    "land_cover_info = {'name':\"COPERNICUS/Landcover/100m/Proba-V-C3/Global\", 'band': 'discrete_classification', 'min': 0, 'max': 200}\n",
    "# feature_list.append(wind_speed_v_map_info)\n",
    "# print(feature_list)\n",
    "print(len(feature_list))\n",
    "print(type(feature_list))"
   ]
  },
  {
   "cell_type": "markdown",
   "metadata": {
    "id": "MXgerVwIncM8"
   },
   "source": [
    "Define label and feature bands"
   ]
  },
  {
   "cell_type": "code",
   "execution_count": null,
   "metadata": {
    "id": "bTU0Hm8KmB3q",
    "tags": []
   },
   "outputs": [],
   "source": [
    "LABEL = fire_map_info['band']\n",
    "BANDS = []\n",
    "for feature in feature_list:\n",
    "  BANDS += [feature['band']]\n",
    "FEATURE_NAMES = BANDS + [LABEL]\n",
    "print(FEATURE_NAMES)"
   ]
  },
  {
   "cell_type": "markdown",
   "metadata": {
    "id": "oQrvgoYynzBX"
   },
   "source": [
    "Define area of interest and time range"
   ]
  },
  {
   "cell_type": "code",
   "execution_count": null,
   "metadata": {
    "id": "sUNDeE7DDaJ9",
    "tags": []
   },
   "outputs": [],
   "source": [
    "# PROJECT = 'big-bliss-393615'\n",
    "# DATA_BUCKET = 'big-bliss-393615-6140-data-bucket'\n",
    "# OUTPUT_BUCKET = 'big-bliss-393615-6140-output-bucket'\n",
    "PROJECT = 'ee-my-char'\n",
    "DATA_BUCKET = '6140-data-bucket'\n",
    "OUTPUT_BUCKET = '6140-output-bucket'\n",
    "# Specify names locations for outputs in Cloud Storage.\n",
    "FOLDER = 'fcnn-demo'\n",
    "TRAINING_BASE = 'training_patches'\n",
    "EVAL_BASE = 'eval_patches'\n",
    "# Specify the size and shape of patches expected by the model.\n",
    "KERNEL_SIZE = 256\n",
    "# KERNEL_SIZE = 128\n",
    "KERNEL_SHAPE = [KERNEL_SIZE, KERNEL_SIZE]\n",
    "# List of fixed-length features, all of which are float32.\n",
    "columns = [tf.io.FixedLenFeature(shape=KERNEL_SHAPE, dtype=tf.float32) for k in FEATURE_NAMES]\n",
    "FEATURES_DICT = dict(zip(FEATURE_NAMES, columns))\n",
    "# Specify model training parameters.\n",
    "BATCH_SIZE = 64\n",
    "EPOCHS = 10\n",
    "BUFFER_SIZE = 2000\n",
    "OPTIMIZER = 'adam'\n",
    "LOSS = 'MeanSquaredError'\n",
    "METRICS = ['RootMeanSquaredError']"
   ]
  },
  {
   "cell_type": "code",
   "execution_count": null,
   "metadata": {
    "id": "iMAO_nUGAuBh",
    "tags": []
   },
   "outputs": [],
   "source": [
    "countries = ee.FeatureCollection(\"USDOS/LSIB_SIMPLE/2017\")\n",
    "Canada = countries.filter(ee.Filter.eq('country_na', 'Canada')).geometry() # <class 'ee.geometry.Geometry'>\n",
    "America = countries.filter(ee.Filter.eq('country_na', 'United States')).geometry()"
   ]
  },
  {
   "cell_type": "code",
   "execution_count": null,
   "metadata": {
    "id": "wWlDvYBeKkgY",
    "tags": []
   },
   "outputs": [],
   "source": [
    "train_start_year = 2015\n",
    "train_end_year = 2015\n",
    "train_start_month = 4\n",
    "train_end_month = 4\n",
    "# predict fire 4 weeks in advance\n",
    "fire_pred_range = 2\n",
    "# every 2 weeks get one image\n",
    "sample_gap = 2\n",
    "train_region_geometry = America\n",
    "pred_region_geometry = Canada"
   ]
  },
  {
   "cell_type": "markdown",
   "metadata": {
    "id": "ou6Eh7whh613"
   },
   "source": [
    "- How many time slices do we have Calculated in getTrainImageCollection"
   ]
  },
  {
   "cell_type": "code",
   "execution_count": null,
   "metadata": {
    "colab": {
     "base_uri": "https://localhost:8080/"
    },
    "id": "B9KiqE3wDcrP",
    "outputId": "9f7d2884-6aad-465e-b210-bf8f9b0344a3"
   },
   "outputs": [],
   "source": [
    "total_temporal_slices = 0  # Initialize the total number of temporal slices.\n",
    "temporal_list = []  # Initialize the list to store temporal date strings.\n",
    "\n",
    "# Loop through the years and months within the specified training time range.\n",
    "for yr in range(train_start_year, train_end_year + 1):\n",
    "    for mo in range(train_start_month, train_end_month + 1):\n",
    "        total_temporal_slices += sample_gap  # Increment the total time slices by 'sample_gap'.\n",
    "        temporal_list.append(f'{yr}-{mo:02d}-01')  # Add the first day of the month to the list.\n",
    "        temporal_list.append(f'{yr}-{mo:02d}-15')  # Add the fifteenth day of the month to the list.\n",
    "print(temporal_list)"
   ]
  },
  {
   "cell_type": "markdown",
   "metadata": {
    "id": "OTOLz8FQ_KLY"
   },
   "source": [
    "If 'is_label', advance the time range by 'fire_pred_range', e.g. we use first 0-15 as feature and 16-30 as label"
   ]
  },
  {
   "cell_type": "code",
   "execution_count": null,
   "metadata": {
    "id": "IAcxpg2f_m1t"
   },
   "outputs": [],
   "source": [
    "# Helper function avoid repeating\n",
    "def getImageCollection(dataset, bounds, band):\n",
    "  return ee.ImageCollection(dataset).filterBounds(bounds).select(band)\n",
    "\n",
    "def getTrainImageCollection(map_info, is_label=False):\n",
    "  img_collection = getImageCollection(map_info['name'],train_region_geometry, map_info['band']) # Get the image collection based on the provided map_info.\n",
    "  # print(img_collection.size().getInfo())\n",
    "  img_list = ee.List([])\n",
    "\n",
    "  advance_range = 0 if not is_label else fire_pred_range\n",
    "  for yr in range(train_start_year, train_end_year+1):\n",
    "    for mo in range(train_start_month, train_end_month + 1):\n",
    "      # first half of a month\n",
    "      start = ee.Date(f'{yr}-{mo:02d}-01').advance(advance_range, 'week')\n",
    "      end = start.advance(2, 'week')\n",
    "      date_filtered = img_collection.filterDate(start, end) # Filter the image collection based on the date range.\n",
    "      if not is_label:\n",
    "        med = date_filtered.median().unitScale(map_info['min'], map_info['max']) # Calculate median and rescale.\n",
    "      if is_label:\n",
    "        med = date_filtered.median().unmask(0).divide(300).round().byte() # credit: david\n",
    "      print(med.getInfo())\n",
    "      img_list = img_list.add(med)\n",
    "\n",
    "      # second half of a month\n",
    "      start = end\n",
    "      end = start.advance(2, 'week')\n",
    "      date_filtered = img_collection.filterDate(start, end) # Filter the image collection based on the date range.\n",
    "      if date_filtered.size().getInfo() > 0:  # Check if there are images in the second half of the month.\n",
    "        # print(\"value exists from 15\")\n",
    "        if not is_label:\n",
    "          med = date_filtered.median().unitScale(map_info['min'], map_info['max']) # Calculate median and rescale.\n",
    "        if is_label:\n",
    "          med = date_filtered.median().unmask(0).divide(300).round().byte() # credit: david\n",
    "        print(med.getInfo())\n",
    "        \n",
    "        # med = date_filtered.median().unmask(0).unitScale(map_info['min'], map_info['max'])\n",
    "        # print(f'med type: {type(med)}')\n",
    "      img_list = img_list.add(med)\n",
    "\n",
    "  # print(img_list.size().getInfo())\n",
    "  return img_list"
   ]
  },
  {
   "cell_type": "markdown",
   "metadata": {
    "id": "PsmNbC_7h-u3"
   },
   "source": [
    "Each element in feature_img_lists is a temporal imageCollection of a single band"
   ]
  },
  {
   "cell_type": "code",
   "execution_count": null,
   "metadata": {
    "id": "WEN42xw0fUZd",
    "tags": []
   },
   "outputs": [],
   "source": [
    "# Label\n",
    "firms = getTrainImageCollection(fire_map_info, True)"
   ]
  },
  {
   "cell_type": "markdown",
   "metadata": {},
   "source": [
    "`firms_mask_lists` stores firms info in temporal order\n",
    "each element in the list is a list of 2 elements, the first is `has_fire_mask`, the second is `no_fire_mask`"
   ]
  },
  {
   "cell_type": "code",
   "execution_count": null,
   "metadata": {},
   "outputs": [],
   "source": [
    "def get_firms_mask(firms):\n",
    "    firms_masks = []\n",
    "    for idx in range(firms.size().getInfo()):\n",
    "        img = ee.Image(firms.get(idx))\n",
    "        has_fire_mask = img.select('T21').eq(1)    \n",
    "        no_fire_mask = img.select('T21').eq(0) \n",
    "        cur_time_slice_mask_set = []\n",
    "        cur_time_slice_mask_set.append(has_fire_mask)\n",
    "        cur_time_slice_mask_set.append(no_fire_mask)\n",
    "        firms_masks.append(cur_time_slice_mask_set)\n",
    "    return firms_masks\n",
    "firms_mask_lists = get_firms_mask(firms)"
   ]
  },
  {
   "cell_type": "code",
   "execution_count": null,
   "metadata": {
    "id": "Nx0kwUcKcb2V",
    "tags": []
   },
   "outputs": [],
   "source": [
    "feature_img_lists = []\n",
    "for feature in feature_list:\n",
    "  img_list = getTrainImageCollection(feature)\n",
    "  feature_img_lists.append(img_list)\n",
    "# print(type(feature_img_lists))\n",
    "# print(feature_img_lists)"
   ]
  },
  {
   "cell_type": "code",
   "execution_count": null,
   "metadata": {
    "tags": []
   },
   "outputs": [],
   "source": [
    "# `feature_img_masked_lists` stores lists of features\n",
    "# each list is ordered in temporal order\n",
    "# within each list, stores a list of 2 elements, the first is feature with fire mask, the second is feature with no fire mask\n",
    "def get_features_with_firms_mask(feature_img_lists, firms_mask_list):\n",
    "    feature_img_masked_lists = []\n",
    "    for cur_feature_all_time in feature_img_lists:\n",
    "        cur_feature_masked_list = []\n",
    "        for cur_time_slice in range(cur_feature_all_time.size().getInfo()):\n",
    "            img = ee.Image(cur_time_slice)\n",
    "            img_mask_with_fire = img.updateMask(firms_mask_list[cur_time_slice][0])\n",
    "            img_mask_no_fire = img.updateMask(firms_mask_list[cur_time_slice][1])\n",
    "            cur_time_slice_mask_set = []\n",
    "            cur_time_slice_mask_set.append(img_mask_with_fire)\n",
    "            cur_time_slice_mask_set.append(img_mask_no_fire)\n",
    "            cur_feature_masked_list.append(cur_time_slice_mask_set)\n",
    "        feature_img_masked_lists.append(cur_feature_masked_list)\n",
    "    return feature_img_masked_lists    \n",
    "\n",
    "feature_img_masked_lists = get_features_with_firms_mask(feature_img_lists, firms_mask_lists)"
   ]
  },
  {
   "cell_type": "markdown",
   "metadata": {},
   "source": [
    "export sample unmask fire as csv"
   ]
  },
  {
   "cell_type": "code",
   "execution_count": null,
   "metadata": {
    "tags": []
   },
   "outputs": [],
   "source": [
    "# # date_start = '2015-04-01'\n",
    "# # date_end = '2015-12-01'\n",
    "# # dataset = ee.ImageCollection('FIRMS').filter(\n",
    "# #     ee.Filter.date(date_start, date_end))\n",
    "# # fires = dataset.select('T21').first().unmask(0)\n",
    "# Map = geemap.Map(center=[47.295, -119.086], zoom=6)\n",
    "# # Map\n",
    "# fires = ee.Image(firms.get(1))\n",
    "# print(type(fires))\n",
    "\n",
    "# fire_values = fires.reduceRegion(\n",
    "#     reducer=ee.Reducer.toList(),\n",
    "#     geometry=Map.getBounds(False),\n",
    "#     scale=1000,  # The scale from the image's 'crs_transform'\n",
    "#     maxPixels=90000000\n",
    "# )\n",
    "# fire_values.getInfo()\n",
    "# df = pd.DataFrame(fire_values.getInfo())\n",
    "# df.to_csv('fires_data.csv', index=False)"
   ]
  },
  {
   "cell_type": "markdown",
   "metadata": {},
   "source": [
    "test unmask"
   ]
  },
  {
   "cell_type": "code",
   "execution_count": null,
   "metadata": {
    "tags": []
   },
   "outputs": [],
   "source": [
    "# import pandas as pd\n",
    "\n",
    "# df = pd.read_csv('fires_data.csv')\n",
    "\n",
    "# unique_values_count = df.nunique()\n",
    "\n",
    "# unique_values = {}\n",
    "# for column in df.columns:\n",
    "#     unique_values[column] = df[column].unique()\n",
    "\n",
    "#     print(f\"Unique values in column '{column}':\")\n",
    "#     print(unique_values[column])\n",
    "#     print(f\"Number of unique values: {len(unique_values[column])}\")\n",
    "\n",
    "#     value_counts = df[column].value_counts()\n",
    "#     print(f\"Value counts:\")\n",
    "#     print(value_counts)\n",
    "#     print()"
   ]
  },
  {
   "cell_type": "markdown",
   "metadata": {
    "id": "xcZa7T5QlcWr"
   },
   "source": [
    "Debug function: get min & max by iterating through all pixels"
   ]
  },
  {
   "cell_type": "code",
   "execution_count": null,
   "metadata": {
    "id": "c66Sm8lZi726",
    "tags": []
   },
   "outputs": [],
   "source": [
    "# @title\n",
    "# For debug, can skip\n",
    "def get_min(gee_image, key):\n",
    "  min_dic = gee_image.reduceRegion(\n",
    "    reducer= ee.Reducer.min(),\n",
    "    geometry = Canada.geometry(),\n",
    "    crs =  'EPSG:4326',\n",
    "    crsTransform = [1, 0, 0, 0, 1, 0]\n",
    "  )\n",
    "  return min_dic.getInfo().get(key)\n",
    " \n",
    "def get_max(gee_image, key):\n",
    "  max_dic = gee_image.reduceRegion(\n",
    "    reducer= ee.Reducer.max(),\n",
    "    geometry = Canada.geometry(),\n",
    "    crs =  'EPSG:4326',\n",
    "    crsTransform = [1, 0, 0, 0, 1, 0]\n",
    "  )\n",
    "  return max_dic.getInfo().get(key)"
   ]
  },
  {
   "cell_type": "markdown",
   "metadata": {
    "id": "QuC9QpfLkg1F"
   },
   "source": [
    "Visualize all maps"
   ]
  },
  {
   "cell_type": "code",
   "execution_count": null,
   "metadata": {
    "id": "VMwAAnswTq8I",
    "tags": []
   },
   "outputs": [],
   "source": [
    "# # @title\n",
    "# # visualization\n",
    "# # normalized\n",
    "# firms_vis = firms.median().clip(train_region_geometry)\n",
    "# vegetation_vis = vegetation.median().clip(train_region_geometry)\n",
    "# leaf_vis = leaf_index.median().clip(train_region_geometry)\n",
    "# soil_moist_vis = soil_moist.median().clip(train_region_geometry)\n",
    "# precipitation_vis = precipitation.median().clip(train_region_geometry)\n",
    "# temperature_vis = temperature.median().clip(train_region_geometry)\n",
    "# wind_speed_vis = wind_speed_u.median().clip(train_region_geometry).cat(wind_speed_v.median().clip(train_region_geometry))\n",
    "\n",
    "# Map = geemap.Map()\n",
    "# ROI = ee.Geometry.Point([-122.6544033634249, 48.99021037738678]).buffer(100000);\n",
    "\n",
    "# Map.addLayer(firms_vis, {'min': 0, 'max': 1, 'palette': ['LightYellow','Yellow', 'Gold', 'Orange', 'Tomato', 'Red']}, 'FIRMS')\n",
    "# Map.addLayer(vegetation_vis, {'min': 0, 'max': 1, 'palette': ['green', 'yellow', 'red']}, 'vegetation')\n",
    "# Map.addLayer(leaf_vis, {'min': 0, 'max': 1, 'palette': ['e1e4b4', '999d60', '2ec409', '0a4b06']}, 'leaf index')\n",
    "# Map.addLayer(soil_moist_vis, {'min': 0, 'max': 1, 'palette': ['red', 'yellow', 'green']}, 'soil moisture')\n",
    "# Map.addLayer(wind_speed_vis, {'min': 0, 'max': 1, 'palette': ['blue', 'red']}, 'wind speed')\n",
    "# Map.addLayer(precipitation_vis, {'min': 0,\n",
    "#   'max': 1,\n",
    "#    'palette': [\n",
    "#     '000080', '0000d9', '4000ff', '8000ff', '0080ff', '00ffff',\n",
    "#     '00ff80', '80ff00', 'daff00', 'ffff00', 'fff500', 'ffda00',\n",
    "#     'ffb000', 'ffa400', 'ff4f00', 'ff2500', 'ff0a00', 'ff00ff',\n",
    "#   ]}, 'precipitatin')\n",
    "\n",
    "# Map.addLayer(temperature_vis, {  'min': 0,\n",
    "#   'max': 1,\n",
    "#   'palette': [\n",
    "#     '040274', '040281', '0502a3', '0502b8', '0502ce', '0502e6',\n",
    "#     '0602ff', '235cb1', '307ef3', '269db1', '30c8e2', '32d3ef',\n",
    "#     '3be285', '3ff38f', '86e26f', '3ae237', 'b5e22e', 'd6e21f',\n",
    "#     'fff705', 'ffd611', 'ffb613', 'ff8b13', 'ff6e08', 'ff500d',\n",
    "#     'ff0000', 'de0101', 'c21301', 'a71001', '911003'\n",
    "#   ]}, 'temperature')\n",
    "\n",
    "# Map.addLayerControl()\n",
    "# Map"
   ]
  },
  {
   "cell_type": "code",
   "execution_count": null,
   "metadata": {
    "id": "RYu06xSYogyc",
    "tags": []
   },
   "outputs": [],
   "source": [
    "# # @title\n",
    "# Map.user_roi"
   ]
  },
  {
   "cell_type": "markdown",
   "metadata": {
    "id": "5RAr7wUmiGdW"
   },
   "source": [
    "Stack the 2D images (Landsat composite and NLCD impervious surface) to create a single image from which samples can be taken. Convert the image into an array image in which each pixel stores 256x256 patches of pixels for each band. This is a key step that bears emphasis: to export training patches, convert a multi-band image to an array image using neighborhoodToArray(), then sample the image at points."
   ]
  },
  {
   "cell_type": "code",
   "execution_count": null,
   "metadata": {},
   "outputs": [],
   "source": [
    "list_1d = ee.List.repeat(1, KERNEL_SIZE)\n",
    "list_2d = ee.List.repeat(list_1d, KERNEL_SIZE)\n",
    "kernel = ee.Kernel.fixed(KERNEL_SIZE, KERNEL_SIZE, list_2d)"
   ]
  },
  {
   "cell_type": "code",
   "execution_count": null,
   "metadata": {},
   "outputs": [],
   "source": [
    "def mask_stack_kernel(feature_stack, mask, kernel):\n",
    "    # mask\n",
    "    masked_feature_stack = feature_stack.updateMask(mask)\n",
    "    # stack, no need to do because mask step adds the mask band to result\n",
    "    # masked_feature_stack = ee.Image.cat([masked_feature_stack, mask])\n",
    "    # kernel\n",
    "    arrays = masked_feature_stack.neighborhoodToArray(kernel)\n",
    "    return arrays\n",
    "\n",
    "def get_feature_stack(kernel, feature_img_lists, firms_mask_list):\n",
    "    list_arrays_has_fire = []\n",
    "    list_arrays_no_fire = []\n",
    "    for tm in range(total_temporal_slices): \n",
    "        # Get the image for the current temporal slice from feature_img_lists\n",
    "        featureStack = feature_img_lists[0].get(tm)\n",
    "        # Concatenate all the bands sampled from different images into featureStack\n",
    "        for idx in range(1, len(feature_img_lists)):\n",
    "            # Combine all bands sampled from the same time to featureStack\n",
    "            featureStack = ee.Image.cat([featureStack, feature_img_lists[idx].get(tm)]).float()\n",
    "        \n",
    "        arrays_has_fire = mask_stack_kernel(featureStack, firms_mask_list[tm][0], kernel)\n",
    "        arrays_no_fire = mask_stack_kernel(featureStack, firms_mask_list[tm][1], kernel)\n",
    "        print(f'time = {tm}:\\nhas fire:{arrays_has_fire.getInfo()}\\nno fire:{arrays_no_fire.getInfo()} ')\n",
    "        list_arrays_has_fire += [arrays_has_fire]\n",
    "        list_arrays_no_fire += [arrays_no_fire]\n",
    "    \n",
    "    return list_arrays_has_fire, list_arrays_no_fire\n",
    "\n",
    "list_arrays_has_fire, list_arrays_no_fire = get_feature_stack(kernel, feature_img_lists, firms_mask_lists)\n",
    "print(f'{len(list_arrays_has_fire)}, {len(list_arrays_no_fire)}')"
   ]
  },
  {
   "cell_type": "markdown",
   "metadata": {},
   "source": [
    "feature_img_lists\n",
    "NDVI:[4-1, ..., 12-1]\n",
    "LAI :[4-1, ..., 12-1]\n",
    "\n",
    "list_arrays [4-1, ...,]"
   ]
  },
  {
   "cell_type": "code",
   "execution_count": null,
   "metadata": {
    "colab": {
     "base_uri": "https://localhost:8080/"
    },
    "id": "5KoHjKldrK2D",
    "outputId": "6f057518-90ea-4fb7-f251-97b3c591b2c6",
    "tags": []
   },
   "outputs": [],
   "source": [
    "# list = ee.List.repeat(1, KERNEL_SIZE)\n",
    "# lists = ee.List.repeat(list, KERNEL_SIZE)\n",
    "# kernel = ee.Kernel.fixed(KERNEL_SIZE, KERNEL_SIZE, lists)\n",
    "\n",
    "# list_arrays = []\n",
    "\n",
    "# for tm in range(total_temporal_slices): # 2\n",
    "#   # Get the image for the current temporal slice from feature_img_lists\n",
    "#   featureStack = feature_img_lists[0].get(tm)\n",
    "#   # Concatenate all the bands sampled from different images into featureStack\n",
    "#   for idx in range(1, len(feature_img_lists)):\n",
    "#     # Combine all bands sampled from the same time to featureStack\n",
    "#     featureStack = ee.Image.cat([featureStack, feature_img_lists[idx].get(tm)]).float()\n",
    "#   # Concatenate the FIRMS band to featureStack and convert it to float\n",
    "#   featureStack = ee.Image.cat([featureStack, firms.get(tm)])\n",
    "#   # Apply neighborhood operations using the kernel and convert to arrays\n",
    "#   arrays = featureStack.neighborhoodToArray(kernel)\n",
    "#   # Add the array to the list_arrays for the current temporal slice\n",
    "#   list_arrays += [arrays]"
   ]
  },
  {
   "cell_type": "code",
   "execution_count": null,
   "metadata": {
    "colab": {
     "base_uri": "https://localhost:8080/"
    },
    "id": "pQ_vbdnQnA3D",
    "outputId": "afc6cbe0-6b2c-41ac-96bd-c4b4f3f83f4f"
   },
   "outputs": [],
   "source": [
    "# # Load the \"TIGER/2016/States\" dataset as the 'states' FeatureCollection\n",
    "# states = ee.FeatureCollection(\"TIGER/2016/States\")\n",
    "# # Get the distinct values of the 'NAME' property\n",
    "# distinct_names = states.distinct('NAME').aggregate_array('NAME')\n",
    "# # Convert the distinct names to a Python list\n",
    "# all_state_names = distinct_names.getInfo()\n",
    "# # Print all state names\n",
    "# print(all_state_names)"
   ]
  },
  {
   "cell_type": "markdown",
   "metadata": {
    "id": "RHLmlg_Qba2w"
   },
   "source": [
    "Get polygons for training and evaluation"
   ]
  },
  {
   "cell_type": "code",
   "execution_count": null,
   "metadata": {
    "colab": {
     "base_uri": "https://localhost:8080/"
    },
    "id": "WODGRoV8Jcd2",
    "outputId": "1a6a3f34-3299-4179-cc03-c6d5cf7f1744",
    "tags": []
   },
   "outputs": [],
   "source": [
    "# Create an empty FeatureCollection to store the training polygons\n",
    "trainingPolys = ee.FeatureCollection([])\n",
    "\n",
    "# Load the \"TIGER/2016/States\" dataset as the 'states' FeatureCollection\n",
    "states = ee.FeatureCollection(\"TIGER/2016/States\")\n",
    "\n",
    "# List of state names to be used for training\n",
    "# state_list = ['California', 'Oregon','Montana','Washington','Arizona', 'Idaho','Texas','Kansas','Nevada','New Mexico']\n",
    "state_list = ['California', 'Oregon', 'Texas', 'Arizona', 'Nevada', 'New Mexico']\n",
    "# Iterate through each state in 'state_list'\n",
    "for state in state_list:\n",
    "    # Merge the geometry of the state from 'states' into 'trainingPolys'\n",
    "    trainingPolys = trainingPolys.merge(states.filter(ee.Filter.eq('NAME', state)).geometry())\n",
    "\n",
    "# Convert the 'trainingPolys' FeatureCollection to a List\n",
    "trainingPolysList = trainingPolys.toList(trainingPolys.size())\n",
    "# print(type(trainingPolysList))"
   ]
  },
  {
   "cell_type": "code",
   "execution_count": null,
   "metadata": {
    "colab": {
     "base_uri": "https://localhost:8080/"
    },
    "id": "D42W8AVlgvpf",
    "outputId": "38043a46-ccc7-4cd9-bdaf-8ec076d719ae",
    "tags": []
   },
   "outputs": [],
   "source": [
    "# Create an empty FeatureCollection to store the training polygons\n",
    "valPolys = ee.FeatureCollection([])\n",
    "\n",
    "# Load the \"TIGER/2016/States\" dataset as the 'states' FeatureCollection\n",
    "states = ee.FeatureCollection(\"TIGER/2016/States\")\n",
    "\n",
    "# List of state names to be used for training\n",
    "# state_list = ['Oklahoma', 'Colorado']\n",
    "state_list = ['Wyoming', 'Idaho', 'Alaska', 'Washington', 'New Jersey', 'Pennsylvania']\n",
    "\n",
    "# Iterate through each state in 'state_list'\n",
    "for state in state_list:\n",
    "    # Merge the geometry of the state from 'states' into 'trainingPolys'\n",
    "    valPolys = valPolys.merge(states.filter(ee.Filter.eq('NAME', state)).geometry())\n",
    "    # print(states.filter(ee.Filter.eq('NAME', state)).geometry().getInfo())\n",
    "\n",
    "# Convert the 'trainingPolys' FeatureCollection to a List\n",
    "valPolysList = valPolys.toList(valPolys.size())\n",
    "\n",
    "# print(valPolysList.size().getInfo())\n",
    "print(type(valPolysList))\n",
    "# # print(valPolys.geometry().getInfo())\n",
    "# print(valPolys.get(0))"
   ]
  },
  {
   "cell_type": "markdown",
   "metadata": {},
   "source": [
    "Visualize training and evaluation regions on map"
   ]
  },
  {
   "cell_type": "code",
   "execution_count": null,
   "metadata": {
    "colab": {
     "base_uri": "https://localhost:8080/",
     "height": 621,
     "referenced_widgets": [
      "b332ae37872a4bfcad86a9e78c4d60c1",
      "3da54bc18bea46de95bef027b43ae91f",
      "97df1b4f28154a1591fa1f39b3129bf6",
      "e729cea996d64bb6b54c66228fc424fa",
      "a65cfbb3a0a54a3cb3d1cd60b678686d",
      "78847ddb68ef4c898845937e17fd5710",
      "eb110096e94a4c08919423c53bcf94c8",
      "13015a68983a4f20ade760b50f48f41b",
      "bc63648ca9174e4287e5e04f441dbef7",
      "1b466dce4a2f4d3c8d3c467d9ee79a82",
      "bb6472447add479c874a603008edad00",
      "ec73d1fc59054d34ada04440fd2040dc",
      "43c1de08788143c68cb5da76ad54f33a",
      "9a29c69e180d492ab1ca168d3f3642e2",
      "8090b194cddc48cfb8561fac526623a3",
      "841ae68ba65d4b1d8f66660ddd2f53d4",
      "b903e81a2c5b43a3898f9d97f718d286",
      "3919b0b71522456e8aed8584fe7ec843",
      "1c60c4794f564dea8d27a8824b0c6cea",
      "614260445cf44d81ac2ec618301e572a",
      "4a1e74e6e9234a9b9b7e4e159208a41f",
      "00fe73be276f404597e60e95f3b1c0ba",
      "3f5e3b80f3944fcc9eb5ff6e75c19074",
      "331f262e6de14382989970f3dbcfef5d",
      "ded22f93c2474bc99f62a6b8a983e9b2",
      "6280bb9e19b3418ebc9725a3c808b929",
      "230f2231e3a24ac2b40024a8a758df5f",
      "b9065e7bc8f84b2ba0266b6eba9ae7af",
      "4a34c0117bea41af8817897f68b3ae9c",
      "f2143b28793d4a01a1783c2e9cff1418",
      "2d7570ad4a404f0e9327ea26bea6ccc0",
      "e1afba0764044bc2ad869b8f04e32aa6",
      "19770844c7a44b3b94503a7c61fc8672",
      "1e8e3e9e544247f9aa51aa7d8d69118c",
      "4f3b65405cc54708b7b33a0960cd5b70",
      "3a78f22c12db4148a5306bdaf8b5410d",
      "bc2caccfac96431d896f76d5b80ab628",
      "6244e2ee797049c09e9baa3be68d1880",
      "2cd0cc5fb4a842c88c20a6d4805c3c63",
      "25819b5bd611488e8e8ad5916fdc8e76",
      "62e74c7cf52142e5a6c81cd8351f6593",
      "219539f1818849d1b9f0e58fdd3756ee",
      "cbf435962fd64ab6bf77885f73e03876",
      "4874a04d76e44df59bbbe78a7f6affc1",
      "863a3ef9187a418abe3ced7fb43b1afc",
      "4f354dcf6f2a4eaaaba38a89df898f14",
      "d182ea2dc6d247d5ba171e16a4ec3531",
      "8cdd2a706f7b4b2a8b120d1df9ac7c64",
      "b5dfc2ea5cc54abb83f63c177d1253f7",
      "b6c523d468ac4f30801e33f1e9de0117",
      "8a6c3b25303c483eba99807cd6acc498",
      "272e28c340e94f18abfffa795666bb26",
      "aa7349960d5346e9906921e10bdb3a01",
      "24c2d7a760ca4633ae206846ca92971d",
      "f9e5e794f6c84847a411f169e2f14bc5",
      "434983e582ce44c1b388421c51a7e4a3",
      "6f2d6041fa4346efb6f8fbb857813cf1",
      "1954c256af474d6b9832687207c14d6c",
      "95a9086522a24d4da2ef8747889b12c0",
      "1648f1dc49774659a620d163192a3f81",
      "c81c9a5cd58e4db28d40d19061416ca6",
      "99795efb6eac4ba689ebdb241f9a36d7",
      "e1f5b76618d84996ae5f724dee363350",
      "d2e90b20d17b4ac3bfeeb68f988bd60c",
      "96516a5ecd7642ffbfbe9996af3141fe",
      "3f7961471de84b85b0c3b7489d56751d",
      "a39810bd8a924cf9b9a68001235099e0",
      "de1a81623ee2454595553053bb1ac44b",
      "c888efdda83748cbb9bedb27de53af71",
      "92085bcde28b4e979b020e99993cc73e",
      "734f463211ea4d7588dd4a81966650e5",
      "4aa198e890664ac59a3a6a068a757702",
      "8d53711596af4f39bce2c7e9f493ca92",
      "06723edbe8a547678071ca4913f44d44",
      "affaa557f5bf499482cd1efebdbc9827",
      "d24e43c33e1742908c90886ce4392301",
      "dec979d8fa3f43b887b679e8a57cdb32",
      "c765e395032f48178718995c87309e65",
      "8737f530161d42f789fa2d1625e11868",
      "00adc42abb574ba8b1761ec425fa5a72",
      "a2653bd7609648b3a676bebe77f0d76b",
      "4fda2d8757a84d5eb9aaa119780a7da8",
      "837a9bc8146a4a0e958ab361ff4763b2",
      "5b0fb017bee046f893d8a6615f521648",
      "c3c9436d73db4e20a20811e56a751fb6",
      "572978202fa745088e5510736586675f",
      "b2e5c20397f6403d80b8873a38ad2a33",
      "3061121ad69a4c94864ec7f557ca8ed5",
      "01346855617249568988171ed3cedc0b",
      "a6ce36b0a74c4a51a20994ac668c4652",
      "8768f8b0b6554a29a0ff87280d06e597"
     ]
    },
    "id": "yyhmXEqvVlfb",
    "outputId": "72f181c9-cba7-491f-eb5b-4d627ae52a3b",
    "tags": []
   },
   "outputs": [],
   "source": [
    "Map = geemap.Map()\n",
    "Map.addLayer(trainingPolys, {'color': 'FF0000'})\n",
    "Map.addLayer(valPolys, {'color': '00FF00'})\n",
    "Map"
   ]
  },
  {
   "cell_type": "markdown",
   "metadata": {
    "id": "dEtQaLJ8r96g"
   },
   "source": [
    "- Export training data"
   ]
  },
  {
   "cell_type": "code",
   "execution_count": null,
   "metadata": {},
   "outputs": [],
   "source": [
    "SAMPLE_NUM_IN_POLYGON = 200 # Number of shards in each polygon.\n",
    "SAMPLE_PIXEL_IN_POLYGON = 2000 # Total sample pixels in each polygon."
   ]
  },
  {
   "cell_type": "code",
   "execution_count": null,
   "metadata": {
    "tags": []
   },
   "outputs": [],
   "source": [
    "# Sizes of the training and evaluation datasets.\n",
    "TRAIN_SIZE = len(temporal_list) * trainingPolysList.size().getInfo() * SAMPLE_NUM_IN_POLYGON\n",
    "EVAL_SIZE = len(temporal_list) * valPolysList.size().getInfo() * SAMPLE_NUM_IN_POLYGON\n",
    "# print(TRAIN_SIZE)"
   ]
  },
  {
   "cell_type": "code",
   "execution_count": null,
   "metadata": {},
   "outputs": [],
   "source": [
    "SAMPLE_RESOLUTION = 1000 # 1km"
   ]
  },
  {
   "cell_type": "code",
   "execution_count": null,
   "metadata": {},
   "outputs": [],
   "source": [
    "def export_data(file_prefix, sample_source_list,file_suffix, num_sample_pixel, is_nofire=False):\n",
    "    for idx, time_str in enumerate(temporal_list): # 18, Iterate through each time string in 'temporal_list'\n",
    "        for g in range(trainingPolysList.size().getInfo()): # 10, Iterate through each geometry in 'trainingPolysList'\n",
    "            geomSample = ee.FeatureCollection([])\n",
    "            for i in range(SAMPLE_NUM_IN_POLYGON): # 200\n",
    "                sample = sample_source_list[idx].sample(\n",
    "                    region = ee.Feature(trainingPolysList.get(g)).geometry(),\n",
    "                    scale = SAMPLE_RESOLUTION, # 1km\n",
    "                    numPixels = num_sample_pixel / SAMPLE_NUM_IN_POLYGON, # 200/200, \n",
    "                    seed = i,\n",
    "                    tileScale = 8 # make your process faster\n",
    "                )\n",
    "                geomSample = geomSample.merge(sample)\n",
    "            desc = f'{file_prefix}_{time_str}_{str(g)}_{file_suffix}'\n",
    "            print(desc)\n",
    "            task = ee.batch.Export.table.toCloudStorage(\n",
    "              collection = geomSample,\n",
    "              description = desc,\n",
    "              bucket = DATA_BUCKET,\n",
    "              fileNamePrefix = FOLDER + '/' + desc,\n",
    "              fileFormat = 'TFRecord',\n",
    "              selectors = FEATURE_NAMES\n",
    "            )\n",
    "            task.start()"
   ]
  },
  {
   "cell_type": "code",
   "execution_count": null,
   "metadata": {},
   "outputs": [],
   "source": [
    "def export_data_eval(file_prefix, sample_source_list,file_suffix, num_sample_pixel, is_nofire=False):\n",
    "    for idx, time_str in enumerate(temporal_list): # 18, Iterate through each time string in 'temporal_list'\n",
    "        for g in range(valPolysList.size().getInfo()): # 10, Iterate through each geometry in 'trainingPolysList'\n",
    "            geomSample = ee.FeatureCollection([])\n",
    "            for i in range(SAMPLE_NUM_IN_POLYGON): # 200\n",
    "                sample = sample_source_list[idx].sample(\n",
    "                    region = ee.Feature(valPolysList.get(g)).geometry(),\n",
    "                    scale = SAMPLE_RESOLUTION, # 1km\n",
    "                    numPixels = num_sample_pixel / SAMPLE_NUM_IN_POLYGON, # 200/200, \n",
    "                    seed = i,\n",
    "                    tileScale = 8 # make your process faster\n",
    "                )\n",
    "                geomSample = geomSample.merge(sample)\n",
    "            desc = f'{file_prefix}_{time_str}_{str(g)}_{file_suffix}'\n",
    "            print(desc)\n",
    "            task = ee.batch.Export.table.toCloudStorage(\n",
    "              collection = geomSample,\n",
    "              description = desc,\n",
    "              bucket = DATA_BUCKET,\n",
    "              fileNamePrefix = FOLDER + '/' + desc,\n",
    "              fileFormat = 'TFRecord',\n",
    "              selectors = FEATURE_NAMES\n",
    "            )\n",
    "            task.start()"
   ]
  },
  {
   "cell_type": "code",
   "execution_count": null,
   "metadata": {},
   "outputs": [],
   "source": [
    "NUM_PIXEL_SAMPLE_NO_FIRE = 200\n",
    "NUM_PIXEL_SAMPLE_FIRE = NUM_PIXEL_SAMPLE_NO_FIRE * 1000\n",
    "print(NUM_PIXEL_SAMPLE_FIRE, NUM_PIXEL_SAMPLE_NO_FIRE)"
   ]
  },
  {
   "cell_type": "code",
   "execution_count": null,
   "metadata": {
    "tags": []
   },
   "outputs": [],
   "source": [
    "# export_data(TRAINING_BASE, list_arrays_has_fire, 'fire', NUM_PIXEL_SAMPLE_FIRE)   \n",
    "# export_data(TRAINING_BASE, list_arrays_no_fire, 'nofire', NUM_PIXEL_SAMPLE_NO_FIRE, is_nofire=True)           "
   ]
  },
  {
   "cell_type": "code",
   "execution_count": null,
   "metadata": {
    "tags": []
   },
   "outputs": [],
   "source": [
    "# export_data_eval(EVAL_BASE, list_arrays_has_fire, 'fire', NUM_PIXEL_SAMPLE_FIRE)\n",
    "# export_data_eval(EVAL_BASE, list_arrays_no_fire, 'nofire', NUM_PIXEL_SAMPLE_FIRE, is_nofire=True)           "
   ]
  },
  {
   "cell_type": "markdown",
   "metadata": {},
   "source": [
    "Test: use stratified result of firms as sampleRegion input for features"
   ]
  },
  {
   "cell_type": "code",
   "execution_count": null,
   "metadata": {
    "tags": []
   },
   "outputs": [],
   "source": [
    "# firms_stratified_time_result = [] # list of every time slice\n",
    "# for i in range(firms.size().getInfo()): # firms.size() == time slices\n",
    "#     cur_firm = ee.Image(firms.get(i))\n",
    "#     firms_stratified_region_result = [] # list of every region in trainingPolysList\n",
    "    \n",
    "#     for g in range(trainingPolysList.size().getInfo()):\n",
    "#         firms_stratified_feature_collection = ee.FeatureCollection([]) # feature collection at current region and time slice\n",
    "#         for sample_idx in range(SAMPLE_NUM_IN_POLYGON): # Loop through each sample index for the current polygon\n",
    "#             sample = cur_firm.stratifiedSample(\n",
    "#                 numPoints=SAMPLE_PIXEL_IN_POLYGON / SAMPLE_NUM_IN_POLYGON, # 5\n",
    "#                 classBand='T21',\n",
    "#                 region = ee.Feature(trainingPolysList.get(g)).geometry(),\n",
    "#                 scale = SAMPLE_RESOLUTION, # 1km\n",
    "#                 seed = i,\n",
    "#                 tileScale = 8, # make your process faster\n",
    "#                 geometries = True\n",
    "#             )\n",
    "#             firms_stratified_feature_collection = firms_stratified_feature_collection.merge(sample)\n",
    "#         # print(firms_stratified_feature_collection.distinct(\"T21\").getInfo())\n",
    "#         # print(firms_stratified_feature_collection.size().getInfo())\n",
    "#         firms_stratified_region_result.append(firms_stratified_feature_collection)\n",
    "#     firms_stratified_time_result.append(firms_stratified_region_result)\n",
    "    \n",
    "# # print(type(firms_stratified_time_result[0][0])) # <class 'ee.featurecollection.FeatureCollection'>"
   ]
  },
  {
   "cell_type": "code",
   "execution_count": null,
   "metadata": {
    "tags": []
   },
   "outputs": [],
   "source": [
    "# for time_idx, time_slice_result in enumerate(firms_stratified_time_result): #2\n",
    "#     # print(len(time_slice_result))\n",
    "#     for region_idx, region_result in enumerate(time_slice_result): # 2\n",
    "#         print(region_result.size().getInfo()) # featurecollection\n",
    "#         print(type( list_arrays[time_idx]))\n",
    "#         geomSample = list_arrays[time_idx].sampleRegions(\n",
    "#             collection = region_result,\n",
    "#             properties = ee.List(['T21']),\n",
    "#             scale = SAMPLE_RESOLUTION, # 1km\n",
    "#             tileScale = 8 # make your process faster\n",
    "#           )\n",
    "#         # print(type(geomSample))\n",
    "#         desc = f'sampleRegion_{time_idx}_{region_idx}'\n",
    "#         # print(desc)\n",
    "#         task = ee.batch.Export.table.toCloudStorage(\n",
    "#           collection = geomSample,\n",
    "#           description = desc,\n",
    "#           bucket = DATA_BUCKET,\n",
    "#           fileNamePrefix = FOLDER + '/' + desc,\n",
    "#           fileFormat = 'TFRecord',\n",
    "#           selectors = FEATURE_NAMES\n",
    "#         )\n",
    "#         # task.start()"
   ]
  },
  {
   "cell_type": "markdown",
   "metadata": {},
   "source": [
    "sample and export train"
   ]
  },
  {
   "cell_type": "markdown",
   "metadata": {},
   "source": [
    "stratify sample"
   ]
  },
  {
   "cell_type": "markdown",
   "metadata": {
    "id": "cbJvLrT3PhBd"
   },
   "source": [
    "- export eval"
   ]
  },
  {
   "cell_type": "markdown",
   "metadata": {
    "id": "d8sxph0LbfBq"
   },
   "source": [
    "Load the data exported\n",
    "去到bucket已经能看到这个file下载好了! 在那边! 接下来就要读 **Text fett markieren**"
   ]
  },
  {
   "cell_type": "code",
   "execution_count": null,
   "metadata": {
    "id": "qfbwfrvwbWpC",
    "tags": []
   },
   "outputs": [],
   "source": [
    "def parse_tfrecord(example_proto):\n",
    "  \"\"\"The parsing function.\n",
    "  Read a serialized example into the structure defined by FEATURES_DICT.\n",
    "  Args:\n",
    "    example_proto: a serialized Example.\n",
    "  Returns:\n",
    "    A dictionary of tensors, keyed by feature name.\n",
    "  \"\"\"\n",
    "  # print(f'Example Proto: {example_proto}')\n",
    "  parsed_features = tf.io.parse_single_example(example_proto, FEATURES_DICT)\n",
    "  # print(f'Parsed features: {parsed_features}')\n",
    "  # print()\n",
    "  return parsed_features\n",
    "\n",
    "def to_tuple(inputs, deb=True):\n",
    "  \"\"\"Function to convert a dictionary of tensors to a tuple of (inputs, outputs).\n",
    "  Turn the tensors returned by parse_tfrecord into a stack in HWC shape.\n",
    "  Args:\n",
    "    inputs: A dictionary of tensors, keyed by feature name.\n",
    "  Returns:\n",
    "    A tuple of (inputs, outputs).\n",
    "  \"\"\"\n",
    "  inputsList = [inputs.get(key) for key in FEATURE_NAMES]\n",
    "  stacked = tf.stack(inputsList, axis=0)\n",
    "\n",
    "  if deb:\n",
    "    print(f'to_tuple inputsList {inputsList}')\n",
    "    print(f'to_tuple len list {len(inputsList)}')\n",
    "    print(f'to_tuple stacked shape {stacked.shape}')\n",
    "\n",
    "  # Convert from CHW to HWC\n",
    "  # See https://caffe2.ai/docs/tutorial-image-pre-processing.html\n",
    "  stacked = tf.transpose(stacked, [1, 2, 0])\n",
    "\n",
    "  if deb:\n",
    "    print(f'to_tuple after reshape {stacked.shape}')\n",
    "    print(f'length of BANDS??? {len(BANDS)}')\n",
    "  return stacked[:,:,:len(BANDS)], stacked[:,:,len(BANDS):]"
   ]
  },
  {
   "cell_type": "code",
   "execution_count": null,
   "metadata": {
    "id": "fX68Z2uEy_Fe",
    "tags": []
   },
   "outputs": [],
   "source": [
    "# visualize tfrecord\n",
    "import matplotlib.pyplot as plt\n",
    "\n",
    "def visualize_dataset(dataset):\n",
    "  for batch in dataset.take(3):\n",
    "    # print(f'Batch keys: {batch.keys()}')\n",
    "    # print(f'Batch data types: {[type(v.numpy()) for v in batch.values()]}')\n",
    "    f, axarr = plt.subplots(4, 2)\n",
    "    rows = np.repeat([0, 1, 2, 3], 2)\n",
    "    cols = np.repeat([[0, 1]], 4, axis=0).ravel()\n",
    "    for v, r, c in zip(batch.values(), rows, cols):\n",
    "      axarr[r, c].imshow(v, cmap='gray')\n",
    "\n",
    "def get_dataset(pattern):\n",
    "  \"\"\"Function to read, parse and format to tuple a set of input tfrecord files.\n",
    "  Get all the files matching the pattern, parse and convert to tuple.\n",
    "  Args:\n",
    "    pattern: A file pattern to match in a Cloud Storage bucket.\n",
    "  Returns:\n",
    "    A tf.data.Dataset\n",
    "  \"\"\"\n",
    "  glob = tf.io.gfile.glob(pattern)\n",
    "  dataset = tf.data.TFRecordDataset(glob, compression_type='GZIP')\n",
    "  # print(f'get_dataset:parse step1 {dataset}')\n",
    "  dataset = dataset.map(parse_tfrecord, num_parallel_calls=5)\n",
    "  # print(f'get_dataset step1-2 {dataset.element_spec}')\n",
    "  # for batch in dataset.take(1):\n",
    "  #   print(\"Batch keys:\", batch.keys())\n",
    "  #   for key, value in batch.items():\n",
    "  #       print(f\"Key: {key}, Shape: {value.shape}, Data Type: {value.dtype}\")\n",
    "    \n",
    "  # visualize_dataset(dataset)\n",
    "  # print(f'get_dataset step2 {dataset}')\n",
    "  dataset = dataset.map(to_tuple, num_parallel_calls=5)\n",
    "  # print(f'get_dataset step3 {dataset}')\n",
    "  return dataset"
   ]
  },
  {
   "cell_type": "markdown",
   "metadata": {
    "id": "g0FkNqFKySbs"
   },
   "source": [
    "train, eval"
   ]
  },
  {
   "cell_type": "markdown",
   "metadata": {
    "id": "ls_qh5vp6gdL"
   },
   "source": [
    "fixed problem get training dataset and eval dataset"
   ]
  },
  {
   "cell_type": "markdown",
   "metadata": {},
   "source": [
    "get new dataset after stratify"
   ]
  },
  {
   "cell_type": "code",
   "execution_count": null,
   "metadata": {
    "tags": []
   },
   "outputs": [],
   "source": [
    "def get_training_dataset(filename_pattern):\n",
    "\t\"\"\"Get the preprocessed training dataset\n",
    "  Returns:\n",
    "    A tf.data.Dataset of training data.\n",
    "  \"\"\"\n",
    "\tglob = filename_pattern\n",
    "\tdataset = get_dataset(glob)\n",
    "\tdataset = dataset.shuffle(BUFFER_SIZE).batch(BATCH_SIZE).repeat()\n",
    "\treturn dataset\n",
    "\n",
    "\n",
    "def get_eval_dataset(filename_pattern):\n",
    "\t\"\"\"Get the preprocessed training dataset\n",
    "  Returns:\n",
    "    A tf.data.Dataset of training data.\n",
    "  \"\"\"\n",
    "\tglob = filename_pattern\n",
    "\tdataset = get_dataset(glob)\n",
    "\tdataset = dataset.batch(1).repeat()\n",
    "\treturn dataset"
   ]
  },
  {
   "cell_type": "code",
   "execution_count": null,
   "metadata": {},
   "outputs": [],
   "source": [
    "training_nofire = get_training_dataset('gs://' + DATA_BUCKET + '/' + FOLDER + '/' + 'training*' + '*_nofire*')"
   ]
  },
  {
   "cell_type": "code",
   "execution_count": null,
   "metadata": {},
   "outputs": [],
   "source": [
    "training_fire = get_training_dataset('gs://' + DATA_BUCKET + '/' + FOLDER + '/' + 'training*' + '*_fire*')"
   ]
  },
  {
   "cell_type": "code",
   "execution_count": null,
   "metadata": {
    "tags": []
   },
   "outputs": [],
   "source": [
    "eval_fire = get_training_dataset('gs://' + DATA_BUCKET + '/' + FOLDER + '/' + 'eval*' + '*_fire*')"
   ]
  },
  {
   "cell_type": "code",
   "execution_count": null,
   "metadata": {},
   "outputs": [],
   "source": [
    "eval_nofire = get_training_dataset('gs://' + DATA_BUCKET + '/' + FOLDER + '/' + 'eval*' + '*_nofire*')"
   ]
  },
  {
   "cell_type": "code",
   "execution_count": null,
   "metadata": {
    "tags": []
   },
   "outputs": [],
   "source": [
    "training = get_training_dataset('gs://' + DATA_BUCKET + '/' + FOLDER + '/' + 'training*')"
   ]
  },
  {
   "cell_type": "code",
   "execution_count": null,
   "metadata": {
    "tags": []
   },
   "outputs": [],
   "source": [
    "evaluation = get_eval_dataset('gs://' + DATA_BUCKET + '/' + FOLDER + '/' + 'eval*')"
   ]
  },
  {
   "cell_type": "markdown",
   "metadata": {
    "id": "UCmiQcxFOnK5"
   },
   "source": [
    "unet"
   ]
  },
  {
   "cell_type": "code",
   "execution_count": null,
   "metadata": {
    "tags": []
   },
   "outputs": [],
   "source": [
    "filter_1 = 32\n",
    "filter_2 = 4"
   ]
  },
  {
   "cell_type": "code",
   "execution_count": null,
   "metadata": {},
   "outputs": [],
   "source": [
    "import tensorflow as tf\n",
    "import tensorflow.keras.layers as layers\n",
    "import tensorflow.keras.losses as losses\n",
    "import tensorflow.keras.models as models\n",
    "import tensorflow.keras.metrics as metrics\n",
    "import tensorflow.keras.optimizers as optimizers"
   ]
  },
  {
   "cell_type": "code",
   "execution_count": null,
   "metadata": {
    "id": "9VgzQBEKOp1A",
    "tags": []
   },
   "outputs": [],
   "source": [
    "def conv_block(input_tensor, num_filters):\n",
    "\tencoder = layers.Conv2D(num_filters, (3, 3), padding='same')(input_tensor)\n",
    "\tencoder = layers.BatchNormalization()(encoder)\n",
    "\tencoder = layers.Activation('relu')(encoder)\n",
    "\tencoder = layers.Conv2D(num_filters, (3, 3), padding='same')(encoder)\n",
    "\tencoder = layers.BatchNormalization()(encoder)\n",
    "\tencoder = layers.Activation('relu')(encoder)\n",
    "\treturn encoder\n",
    "\n",
    "def encoder_block(input_tensor, num_filters):\n",
    "\tencoder = conv_block(input_tensor, num_filters)\n",
    "\tencoder_pool = layers.MaxPooling2D((2, 2), strides=(2, 2))(encoder)\n",
    "\treturn encoder_pool, encoder\n",
    "\n",
    "def decoder_block(input_tensor, concat_tensor, num_filters):\n",
    "\tdecoder = layers.Conv2DTranspose(num_filters, (2, 2), strides=(2, 2), padding='same')(input_tensor)\n",
    "\tdecoder = layers.concatenate([concat_tensor, decoder], axis=-1)\n",
    "\tdecoder = layers.BatchNormalization()(decoder)\n",
    "\tdecoder = layers.Activation('relu')(decoder)\n",
    "\tdecoder = layers.Conv2D(num_filters, (3, 3), padding='same')(decoder)\n",
    "\tdecoder = layers.BatchNormalization()(decoder)\n",
    "\tdecoder = layers.Activation('relu')(decoder)\n",
    "\tdecoder = layers.Conv2D(num_filters, (3, 3), padding='same')(decoder)\n",
    "\tdecoder = layers.BatchNormalization()(decoder)\n",
    "\tdecoder = layers.Activation('relu')(decoder)\n",
    "\treturn decoder\n",
    "\n",
    "def get_model(filter_base):\n",
    "\tinputs = layers.Input(shape=[None, None, len(BANDS)]) # 256\n",
    "\tencoder0_pool, encoder0 = encoder_block(inputs, filter_base) # 128\n",
    "\tencoder1_pool, encoder1 = encoder_block(encoder0_pool, filter_base*2) # 64\n",
    "\tencoder2_pool, encoder2 = encoder_block(encoder1_pool, filter_base*4) # 32\n",
    "\tencoder3_pool, encoder3 = encoder_block(encoder2_pool, filter_base*8) # 16\n",
    "\tencoder4_pool, encoder4 = encoder_block(encoder3_pool, filter_base*16) # 8\n",
    "\tcenter = conv_block(encoder4_pool, filter_base*32) # center\n",
    "\tdecoder4 = decoder_block(center, encoder4, filter_base*16) # 16\n",
    "\tdecoder3 = decoder_block(decoder4, encoder3, filter_base*8) # 32\n",
    "\tdecoder2 = decoder_block(decoder3, encoder2, filter_base*4) # 64\n",
    "\tdecoder1 = decoder_block(decoder2, encoder1, filter_base*2) # 128\n",
    "\tdecoder0 = decoder_block(decoder1, encoder0, filter_base) # 256\n",
    "\toutputs = layers.Conv2D(1, (1, 1), activation='sigmoid')(decoder0)\n",
    "\n",
    "\tmodel = models.Model(inputs=[inputs], outputs=[outputs])\n",
    "\n",
    "\tmodel.compile(\n",
    "\t\toptimizer=optimizers.get(OPTIMIZER),\n",
    "\t\tloss=losses.get(LOSS),\n",
    "\t\tmetrics=[metrics.get(metric) for metric in METRICS],\n",
    "\t\trun_eagerly=True\n",
    "\t\t)\n",
    "\n",
    "\treturn model"
   ]
  },
  {
   "cell_type": "code",
   "execution_count": null,
   "metadata": {},
   "outputs": [],
   "source": [
    "# import tensorflow.keras.layers as layers\n",
    "# import tensorflow.keras.losses as losses\n",
    "# import tensorflow.keras.models as models\n",
    "# import tensorflow.keras.metrics as metrics\n",
    "# import tensorflow.keras.optimizers as optimizers\n",
    "\n",
    "# def conv_block(input_tensor, num_filters):\n",
    "#     encoder = layers.Conv2D(num_filters, (3, 3), padding='same', activation='relu')(input_tensor)\n",
    "#     encoder = layers.BatchNormalization()(encoder)\n",
    "#     return encoder\n",
    "\n",
    "# def encoder_block(input_tensor, num_filters):\n",
    "#     encoder = conv_block(input_tensor, num_filters)\n",
    "#     encoder_pool = layers.MaxPooling2D((2, 2))(encoder)\n",
    "#     return encoder_pool, encoder\n",
    "\n",
    "# def decoder_block(input_tensor, concat_tensor, num_filters):\n",
    "#     decoder = layers.Conv2DTranspose(num_filters, (2, 2), strides=(2, 2), padding='same', activation='relu')(input_tensor)\n",
    "#     decoder = layers.concatenate([concat_tensor, decoder], axis=-1)\n",
    "#     decoder = layers.BatchNormalization()(decoder)\n",
    "#     return decoder\n",
    "\n",
    "# def get_model():\n",
    "#     inputs = layers.Input(shape=[None, None, len(BANDS)])\n",
    "#     encoder0_pool, encoder0 = encoder_block(inputs, 32)\n",
    "#     encoder1_pool, encoder1 = encoder_block(encoder0_pool, 64)\n",
    "#     encoder2_pool, encoder2 = encoder_block(encoder1_pool, 128)\n",
    "#     center = conv_block(encoder2_pool, 256)  # Center block with reduced filters\n",
    "#     decoder2 = decoder_block(center, encoder2, 128)\n",
    "#     decoder1 = decoder_block(decoder2, encoder1, 64)\n",
    "#     decoder0 = decoder_block(decoder1, encoder0, 32)\n",
    "#     outputs = layers.Conv2D(1, (1, 1), activation='sigmoid')(decoder0)\n",
    "\n",
    "#     model = models.Model(inputs=[inputs], outputs=[outputs])\n",
    "    \n",
    "#     model.compile(\n",
    "# \t\toptimizer=optimizers.get(OPTIMIZER),\n",
    "# \t\tloss=losses.get(LOSS),\n",
    "# \t\tmetrics=[metrics.get(metric) for metric in METRICS],\n",
    "# \t\trun_eagerly=True\n",
    "#     )\n",
    "\n",
    "#     return model"
   ]
  },
  {
   "cell_type": "code",
   "execution_count": null,
   "metadata": {},
   "outputs": [],
   "source": [
    "# taken from https://github.dev/pandyamarut/HalfUnet-ImageSegmentation\n",
    "\n",
    "import tensorflow.keras.layers as layers\n",
    "import tensorflow.keras.losses as losses\n",
    "import tensorflow.keras.models as models\n",
    "import tensorflow.keras.metrics as metrics\n",
    "import tensorflow.keras.optimizers as optimizers\n",
    "\n",
    "def ghost_module(inputs):\n",
    "    conv1 = layers.Conv2D(32, 3, padding='same', kernel_initializer='he_normal')(inputs)\n",
    "    batch1 = layers.BatchNormalization()(conv1)\n",
    "    act1 = layers.Activation('relu')(batch1)\n",
    "    conv2 = layers.SeparableConv2D(32, 3, activation='relu', padding='same', kernel_initializer='he_normal')(act1)\n",
    "    return layers.concatenate([act1, conv2], axis=3)\n",
    "\n",
    "def half_unet_model(input_shape=(256, 256, 7)):\n",
    "\n",
    "    inputs = layers.Input(shape=input_shape, name=\"image\")\n",
    "    x1 = ghost_module(ghost_module(inputs))\n",
    "    pool1 = layers.MaxPooling2D(pool_size=(2, 2))(x1)\n",
    "    x2 = ghost_module(ghost_module(pool1))\n",
    "    pool2 = layers.MaxPooling2D(pool_size=(2, 2))(x2)\n",
    "    x3 = ghost_module(ghost_module(pool2))\n",
    "    pool3 = layers.MaxPooling2D(pool_size=(2, 2))(x3)\n",
    "    x4 = ghost_module(ghost_module(pool3))\n",
    "    pool4 = layers.MaxPooling2D(pool_size=(2, 2))(x4)\n",
    "    x5 = ghost_module(ghost_module(pool4))\n",
    "\n",
    "    up5 = layers.UpSampling2D(size=(input_shape[0] // x5.shape[1], input_shape[1] // x5.shape[2]))(x5)\n",
    "    up4 = layers.UpSampling2D(size=(input_shape[0] // x4.shape[1], input_shape[1] // x4.shape[2]))(x4)\n",
    "    up3 = layers.UpSampling2D(size=(input_shape[0] // x3.shape[1], input_shape[1] // x3.shape[2]))(x3)\n",
    "    up2 = layers.UpSampling2D(size=(input_shape[0] // x2.shape[1], input_shape[1] // x2.shape[2]))(x2)\n",
    "\n",
    "    upScaled = layers.Add()([x1, up2, up3, up4, up5])\n",
    "    all_conv = ghost_module(ghost_module(upScaled))\n",
    "    final_conv = layers.Conv2D(1, 1, activation='sigmoid')(all_conv)\n",
    "\n",
    "    model = models.Model(inputs=[inputs], outputs=[final_conv], name=\"Half-UNet\")\n",
    "    model.compile(\n",
    "\t\toptimizer=optimizers.get(OPTIMIZER),\n",
    "\t\tloss=losses.get(LOSS),\n",
    "\t\tmetrics=[metrics.get(metric) for metric in METRICS],\n",
    "\t\trun_eagerly=True\n",
    "    )\n",
    "    return model"
   ]
  },
  {
   "cell_type": "markdown",
   "metadata": {},
   "source": [
    "sanity check"
   ]
  },
  {
   "cell_type": "code",
   "execution_count": null,
   "metadata": {
    "colab": {
     "base_uri": "https://localhost:8080/"
    },
    "id": "vatHus6RY3Kd",
    "outputId": "94effa69-7d01-4abd-ae36-304ec6f4ce1c"
   },
   "outputs": [],
   "source": [
    "# # Sizes of the training and evaluation datasets.\n",
    "# TRAIN_SIZE = 16000\n",
    "# EVAL_SIZE = 8000\n",
    "# BATCH_SIZE = 64\n",
    "# print(type(training))\n",
    "# print(EPOCHS)\n",
    "# print(TRAIN_SIZE)\n",
    "# print(BATCH_SIZE)\n",
    "# print(int(TRAIN_SIZE / BATCH_SIZE))\n",
    "# # print(len(list(training)))\n",
    "# print(EVAL_SIZE)\n",
    "# # len(training)\n",
    "# # Check if GPU is available\n",
    "# if tf.test.is_gpu_available():\n",
    "#     # Get the list of available GPU devices\n",
    "#     gpu_devices = tf.config.experimental.list_physical_devices('GPU')\n",
    "#     if gpu_devices:\n",
    "#         # Print the name of the first GPU device\n",
    "#         print(\"Using GPU:\", gpu_devices[0].name)\n",
    "#     else:\n",
    "#         print(\"No GPU devices available.\")\n",
    "# print(\"Available GPU devices:\")\n",
    "# print(tf.config.list_physical_devices('GPU'))\n",
    "# print(\"Current device used for computation:\")\n",
    "# print(tf.config.list_logical_devices('GPU'))"
   ]
  },
  {
   "cell_type": "code",
   "execution_count": null,
   "metadata": {
    "colab": {
     "base_uri": "https://localhost:8080/",
     "height": 171
    },
    "id": "gvviJsw9mjow",
    "outputId": "4588db38-9794-4b85-fcdd-b9085fb3c94c"
   },
   "outputs": [],
   "source": [
    "import os\n",
    "os.environ['TF_GPU_ALLOCATOR'] = 'cuda_malloc_async'\n",
    "import tensorflow as tf\n",
    "print(\"Num GPUs Available: \", len(tf.config.list_physical_devices('GPU')))"
   ]
  },
  {
   "cell_type": "markdown",
   "metadata": {
    "id": "F2XpbcmulM4F"
   },
   "source": [
    "modular programming: make sure everything right before training"
   ]
  },
  {
   "cell_type": "code",
   "execution_count": null,
   "metadata": {
    "colab": {
     "base_uri": "https://localhost:8080/",
     "height": 171
    },
    "id": "MrXwxGIZyDZO",
    "outputId": "2a864a47-68e0-44e5-c35c-ec8972de0d55"
   },
   "outputs": [],
   "source": [
    "stop"
   ]
  },
  {
   "cell_type": "markdown",
   "metadata": {
    "id": "eUoZLxKXu4Fi"
   },
   "source": [
    "model training visualization"
   ]
  },
  {
   "cell_type": "code",
   "execution_count": null,
   "metadata": {
    "colab": {
     "base_uri": "https://localhost:8080/"
    },
    "id": "7hJSvWuwbKlN",
    "outputId": "90c99b58-f05a-40b7-d6ff-d1cf86fc7107",
    "tags": []
   },
   "outputs": [],
   "source": [
    "from tqdm import tqdm\n",
    "import matplotlib.pyplot as plt\n",
    "\n",
    "class TQDMCallback(tf.keras.callbacks.Callback):\n",
    "    def __init__(self, total_epochs):\n",
    "        super(TQDMCallback, self).__init__()\n",
    "        self.total_epochs = total_epochs\n",
    "        self.pbar = tqdm(total=self.total_epochs, unit='epoch')\n",
    "\n",
    "    def on_epoch_end(self, epoch, logs=None):\n",
    "        self.pbar.update(1)\n",
    "        self.pbar.set_description(f\"Epoch {epoch + 1}/{self.total_epochs}, Loss: {logs['loss']:.4f}, \"\n",
    "                                  f\"RMSE: {logs['root_mean_squared_error']:.4f}, \")\n",
    "                                  # f\"Val_Loss: {logs['val_loss']:.4f}, \"\n",
    "                                  # f\"Val_RMSE: {logs['val_root_mean_squared_error']:.4f}\")\n",
    "\n",
    "    def on_train_end(self, logs=None):\n",
    "        self.pbar.close()\n",
    "tqdm_callback = TQDMCallback(total_epochs=EPOCHS)"
   ]
  },
  {
   "cell_type": "code",
   "execution_count": null,
   "metadata": {
    "id": "dXTFDpx75zhW",
    "tags": []
   },
   "outputs": [],
   "source": [
    "# m = get_model(filter_2)\n",
    "m = half_unet_model()"
   ]
  },
  {
   "cell_type": "markdown",
   "metadata": {
    "id": "FINWyqHTuzsL"
   },
   "source": [
    "see model parameter"
   ]
  },
  {
   "cell_type": "code",
   "execution_count": null,
   "metadata": {
    "id": "9QFJQxg1Y5ec",
    "tags": []
   },
   "outputs": [],
   "source": [
    "m.summary()"
   ]
  },
  {
   "cell_type": "code",
   "execution_count": null,
   "metadata": {
    "colab": {
     "base_uri": "https://localhost:8080/"
    },
    "id": "v5MLYV7j2i8I",
    "outputId": "0202a46e-41e7-4919-eec2-df4bf9fb547c",
    "tags": []
   },
   "outputs": [],
   "source": [
    "history = m.fit(\n",
    "    x=training,\n",
    "    epochs=10,\n",
    "    # steps_per_epoch=int(16000 / 1),\n",
    "    steps_per_epoch=int(16000 / 64),\n",
    "    validation_data=evaluation,\n",
    "    validation_steps=8000,\n",
    "    callbacks=[tqdm_callback],\n",
    ")"
   ]
  },
  {
   "cell_type": "code",
   "execution_count": null,
   "metadata": {
    "id": "9QFJQxg1Y5ec",
    "tags": []
   },
   "outputs": [],
   "source": [
    "m.summary()"
   ]
  },
  {
   "cell_type": "markdown",
   "metadata": {},
   "source": [
    "Successful fit: \n",
    "    model is simplified into containing only a few layers"
   ]
  },
  {
   "cell_type": "code",
   "execution_count": null,
   "metadata": {
    "colab": {
     "base_uri": "https://localhost:8080/"
    },
    "id": "v5MLYV7j2i8I",
    "outputId": "0202a46e-41e7-4919-eec2-df4bf9fb547c",
    "tags": []
   },
   "outputs": [],
   "source": [
    "history = m.fit(\n",
    "    x=training,\n",
    "    epochs=10,\n",
    "    # steps_per_epoch=int(16000 / 1),\n",
    "    steps_per_epoch=int(16000 / 64),\n",
    "    validation_data=evaluation,\n",
    "    validation_steps=8000,\n",
    "    callbacks=[tqdm_callback],\n",
    ")"
   ]
  },
  {
   "cell_type": "markdown",
   "metadata": {},
   "source": [
    "save model"
   ]
  },
  {
   "cell_type": "code",
   "execution_count": null,
   "metadata": {},
   "outputs": [],
   "source": [
    "m.save('saved_model.h5')"
   ]
  },
  {
   "cell_type": "markdown",
   "metadata": {},
   "source": [
    "load model"
   ]
  },
  {
   "cell_type": "code",
   "execution_count": null,
   "metadata": {},
   "outputs": [],
   "source": [
    "from tensorflow.keras.models import load_model\n",
    "m = load_model('saved_model.h5')"
   ]
  },
  {
   "cell_type": "code",
   "execution_count": null,
   "metadata": {
    "tags": []
   },
   "outputs": [],
   "source": [
    "print(history.params)\n",
    "print(history.history.keys())"
   ]
  },
  {
   "cell_type": "markdown",
   "metadata": {
    "id": "T1m0AoNv2CLc"
   },
   "source": [
    "visualize"
   ]
  },
  {
   "cell_type": "code",
   "execution_count": null,
   "metadata": {
    "colab": {
     "base_uri": "https://localhost:8080/",
     "height": 1000
    },
    "id": "vleZqUp_2Lqg",
    "outputId": "1b232e76-7514-4fba-804b-5e2ae4e54217",
    "tags": []
   },
   "outputs": [],
   "source": [
    "import matplotlib.pyplot as plt\n",
    "\n",
    "plt.figure(figsize=(6, 4))\n",
    "plt.plot(history.history['loss'], label='Training Loss')\n",
    "plt.plot(history.history['val_loss'], label='Validation Loss')\n",
    "plt.xlabel('Epoch')\n",
    "plt.ylabel('Loss')\n",
    "plt.title('Training and Validation Loss')\n",
    "plt.legend()\n",
    "plt.grid(True)\n",
    "plt.show()\n",
    "\n",
    "plt.figure(figsize=(6, 4))\n",
    "plt.plot(history.history['root_mean_squared_error'], label='Training RMSE')\n",
    "plt.plot(history.history['val_root_mean_squared_error'], label='Validation RMSE')\n",
    "plt.xlabel('Epoch')\n",
    "plt.ylabel('RMSE')\n",
    "plt.title('Training and Validation RMSE')\n",
    "plt.legend()\n",
    "plt.grid(True)\n",
    "plt.show()"
   ]
  },
  {
   "cell_type": "code",
   "execution_count": null,
   "metadata": {
    "tags": []
   },
   "outputs": [],
   "source": [
    "import numpy as np\n",
    "batch_size = 64\n",
    "\n",
    "\n",
    "ev = evaluation.take(100)\n",
    "# Predict on the evaluation dataset with the specified number of steps\n",
    "predictions = m.predict(x=ev)\n",
    "\n",
    "print(len(predictions[0]))\n",
    "print(len(predictions[0][0]))"
   ]
  },
  {
   "cell_type": "code",
   "execution_count": null,
   "metadata": {},
   "outputs": [],
   "source": [
    "# threshold = 0.5\n",
    "# predicted_labels = np.where(predictions > threshold, 1, 0)\n",
    "\n",
    "# true_labels = np.array([label for _, label in ev])\n",
    "\n",
    "# accuracy = np.sum(predicted_labels == true_labels) / (len(true_labels) * 256*256)\n",
    "# print(f'Accuracy: {accuracy:.2f}')"
   ]
  },
  {
   "cell_type": "code",
   "execution_count": null,
   "metadata": {
    "id": "_KP5j1iX2kT_"
   },
   "outputs": [],
   "source": [
    "# # Load a trained model. 50 epochs. 25 hours. Final RMSE ~0.08.\n",
    "# MODEL_DIR = 'gs://ee-docs-demos/fcnn-demo/trainer/model'\n",
    "# m = tf.keras.models.load_model(MODEL_DIR)\n",
    "# m.summary()"
   ]
  },
  {
   "cell_type": "markdown",
   "metadata": {
    "id": "kJiTtqbsgjNp"
   },
   "source": [
    "select image to export"
   ]
  },
  {
   "cell_type": "code",
   "execution_count": null,
   "metadata": {
    "colab": {
     "base_uri": "https://localhost:8080/"
    },
    "id": "w_ZvBwNSgAeK",
    "outputId": "a14a2c10-b361-4145-b43b-22bc35006e42"
   },
   "outputs": [],
   "source": [
    "# print(featureStack.bandNames().getInfo())"
   ]
  },
  {
   "cell_type": "code",
   "execution_count": null,
   "metadata": {},
   "outputs": [],
   "source": [
    "feature_img_lists = []\n",
    "date_start_str = '2019-07-01'\n",
    "pred_start = ee.Date(date_start_str)\n",
    "pred_end = pred_start.advance(4, 'week')\n",
    "\n",
    "for feature in feature_list:\n",
    "  img_col = getImageCollection(feature['name'],pred_region_geometry, feature['band'])\n",
    "  pred_img = img_col.filterDate(pred_start, pred_end).median().unitScale(feature['min'], feature['max'])\n",
    "  feature_img_lists += [pred_img]\n",
    "print(feature_img_lists)"
   ]
  },
  {
   "cell_type": "code",
   "execution_count": null,
   "metadata": {},
   "outputs": [],
   "source": [
    "predict_image = feature_img_lists[0]\n",
    "for idx in range(1, len(feature_img_lists)):\n",
    "  # Combine all bands sampled from the same time to featureStack\n",
    "  predict_image = ee.Image.cat([predict_image, feature_img_lists[idx]]).float()\n",
    "# predict_image"
   ]
  },
  {
   "cell_type": "code",
   "execution_count": null,
   "metadata": {
    "id": "e6TV1dBv2qZi"
   },
   "outputs": [],
   "source": [
    "def doExport(predict_image, out_file_name, kernel_buffer, region):\n",
    "    \"\"\"Run the image export task.  Block until complete.\n",
    "    \"\"\"\n",
    "    # Define the export task using the Earth Engine Python API.\n",
    "    task = ee.batch.Export.image.toCloudStorage(\n",
    "        image=predict_image,  # Select specific bands from the 'featureStack' Image.\n",
    "        description=out_file_name,  # Description for the export task.\n",
    "        bucket=OUTPUT_BUCKET,  # The destination Cloud Storage bucket.\n",
    "        fileNamePrefix=FOLDER + '/' + out_file_name,  # File name prefix for the exported images.\n",
    "        region=region.getInfo()['coordinates'],  # The bounding region for the export task.\n",
    "        scale=SAMPLE_RESOLUTION,  # The spatial resolution in meters for the exported images.\n",
    "        fileFormat='TFRecord',  # File format for the exported images (TensorFlow Record).\n",
    "        maxPixels=1e10,  # Maximum number of pixels allowed for the export task.\n",
    "        formatOptions={\n",
    "            'patchDimensions': KERNEL_SHAPE,  # Dimensions of the image patches for segmentation.\n",
    "            'kernelSize': kernel_buffer,  # Size of the kernel buffer for segmentation.\n",
    "            'compressed': True,  # Enable compression for the exported images.\n",
    "            'maxFileSize': 104857600  # Maximum file size for each exported image in bytes.\n",
    "        }\n",
    "    )\n",
    "    print(FOLDER + '/' + out_file_name)\n",
    "    # Start the export task.\n",
    "    task.start()\n",
    "\n",
    "    # Block until the task completes.\n",
    "    print('Running image export to Cloud Storage...')\n",
    "    import time\n",
    "    while task.active():\n",
    "        print('Polling for task (id: {}).'.format(task.id))\n",
    "        time.sleep(30)\n",
    "\n",
    "    # Check if the export task encountered an error.\n",
    "    if task.status()['state'] != 'COMPLETED':\n",
    "        print(f\"Error with image export {task.status()['state']}\")\n",
    "    else:\n",
    "        print('Image export completed.')"
   ]
  },
  {
   "cell_type": "code",
   "execution_count": null,
   "metadata": {},
   "outputs": [],
   "source": [
    "doExport(predict_image, out_file_name, KERNEL_SIZE, pred_region)"
   ]
  },
  {
   "cell_type": "markdown",
   "metadata": {
    "id": "drMLDp2LKt1N"
   },
   "source": [
    "**!remember to change user_folder to your own GEE username**"
   ]
  },
  {
   "cell_type": "code",
   "execution_count": null,
   "metadata": {
    "id": "YijoX3Rb5uaK",
    "tags": []
   },
   "outputs": [],
   "source": [
    "# def doPrediction(out_image_base, in_image_bucket, out_image_bucket, user_folder, kernel_buffer):\n",
    "#   \"\"\"Perform inference on exported imagery, upload to Earth Engine.\n",
    "#   \"\"\"\n",
    "\n",
    "#   print('Looking for TFRecord files...')\n",
    "\n",
    "#   # Get a list of all the files in the output bucket.\n",
    "#   filesList = !gsutil ls 'gs://'{in_image_bucket}'/'{FOLDER}\n",
    "\n",
    "#   # Get only the files generated by the image export.\n",
    "#   exportFilesList = [s for s in filesList if out_image_base in s]\n",
    "\n",
    "#   # Get the list of image files and the JSON mixer file.\n",
    "#   imageFilesList = []\n",
    "#   jsonFile = None\n",
    "#   for f in exportFilesList:\n",
    "#     if f.endswith('.tfrecord.gz'):\n",
    "#       imageFilesList.append(f)\n",
    "#     elif f.endswith('.json'):\n",
    "#       jsonFile = f\n",
    "\n",
    "#   # Make sure the files are in the right order.\n",
    "#   imageFilesList.sort()\n",
    "\n",
    "#   from pprint import pprint\n",
    "#   pprint(imageFilesList)\n",
    "#   print(jsonFile)\n",
    "\n",
    "#   import json\n",
    "#   # Load the contents of the mixer file to a JSON object.\n",
    "#   jsonText = !gsutil cat {jsonFile}\n",
    "#   # Get a single string w/ newlines from the IPython.utils.text.SList\n",
    "#   mixer = json.loads(jsonText.nlstr)\n",
    "#   pprint(mixer)\n",
    "#   patches = mixer['totalPatches']\n",
    "\n",
    "#   # Get set up for prediction.\n",
    "#   x_buffer = int(kernel_buffer[0] / 2)\n",
    "#   y_buffer = int(kernel_buffer[1] / 2)\n",
    "\n",
    "#   buffered_shape = [\n",
    "#       KERNEL_SHAPE[0] + kernel_buffer[0],\n",
    "#       KERNEL_SHAPE[1] + kernel_buffer[1]]\n",
    "\n",
    "#   imageColumns = [\n",
    "#     tf.io.FixedLenFeature(shape=buffered_shape, dtype=tf.float32)\n",
    "#       for k in BANDS\n",
    "#   ]\n",
    "\n",
    "#   imageFeaturesDict = dict(zip(BANDS, imageColumns))\n",
    "\n",
    "#   def parse_image(example_proto):\n",
    "#     return tf.io.parse_single_example(example_proto, imageFeaturesDict)\n",
    "\n",
    "#   def toTupleImage(inputs):\n",
    "#     inputsList = [inputs.get(key) for key in BANDS]\n",
    "#     stacked = tf.stack(inputsList, axis=0)\n",
    "#     stacked = tf.transpose(stacked, [1, 2, 0])\n",
    "#     return stacked\n",
    "\n",
    "#    # Create a dataset from the TFRecord file(s) in Cloud Storage.\n",
    "#   imageDataset = tf.data.TFRecordDataset(imageFilesList, compression_type='GZIP')\n",
    "#   imageDataset = imageDataset.map(parse_image, num_parallel_calls=5)\n",
    "#   imageDataset = imageDataset.map(toTupleImage).batch(1)\n",
    "\n",
    "#   # Perform inference.\n",
    "#   print('Running predictions...')\n",
    "#   predictions = m.predict(imageDataset, steps=patches, verbose=1)\n",
    "#   # print(predictions[0])\n",
    "\n",
    "#   print('Writing predictions...')\n",
    "#   out_image_file = 'gs://' + out_image_bucket + '/' + FOLDER + '/' + out_image_base  + '.TFRecord'\n",
    "#   writer = tf.io.TFRecordWriter(out_image_file)\n",
    "#   patches = 0\n",
    "#   for predictionPatch in predictions:\n",
    "#     print('Writing patch ' + str(patches) + '...')\n",
    "#     predictionPatch = predictionPatch[\n",
    "#         x_buffer:x_buffer+KERNEL_SIZE, y_buffer:y_buffer+KERNEL_SIZE]\n",
    "\n",
    "#     # Create an example.\n",
    "#     example = tf.train.Example(\n",
    "#       features=tf.train.Features(\n",
    "#         feature={\n",
    "#           'impervious': tf.train.Feature(\n",
    "#               float_list=tf.train.FloatList(\n",
    "#                   value=predictionPatch.flatten()))\n",
    "#         }\n",
    "#       )\n",
    "#     )\n",
    "#     # Write the example.\n",
    "#     writer.write(example.SerializeToString())\n",
    "#     patches += 1\n",
    "\n",
    "#   writer.close()\n",
    "\n",
    "#   # Start the upload.\n",
    "#   out_image_asset = user_folder + '/' + out_image_base \n",
    "#   !earthengine upload image --asset_id={out_image_asset} {out_image_file} {jsonFile}"
   ]
  },
  {
   "cell_type": "markdown",
   "metadata": {},
   "source": [
    "for debug(change to your own username)"
   ]
  },
  {
   "cell_type": "code",
   "execution_count": null,
   "metadata": {
    "tags": []
   },
   "outputs": [],
   "source": [
    "user_folder = 'users/jindacz' # INSERT YOUR FOLDER HERE.\n",
    "pred_kernel_buffer = [128, 128]\n",
    "# date_start_str = '2019-07-01'\n",
    "out_file_name = f'pred_Hanceville_{date_start_str}'\n",
    "pred_region = ee.Geometry.Polygon(\n",
    "    [[[-120.09501953125, 53.81667309827828], \n",
    "    [-120.09501953125, 56.69527587549462], \n",
    "    [-125.76396484375, 56.69527587549462],     \n",
    "    [-125.76396484375, 53.81667309827828]]],  None, False)\n",
    "FOLDER = 'fcnn-demo'\n",
    "\n",
    "def doPrediction(out_image_base, user_folder, kernel_buffer, region):\n",
    "  \"\"\"Perform inference on exported imagery, upload to Earth Engine.\n",
    "  \"\"\"\n",
    "\n",
    "  print('Looking for TFRecord files...')\n",
    "\n",
    "  # Get a list of all the files in the output bucket.\n",
    "  filesList = !gsutil ls 'gs://'{OUTPUT_BUCKET}'/'{FOLDER}\n",
    "\n",
    "  # Get only the files generated by the image export.\n",
    "  exportFilesList = [s for s in filesList if out_image_base in s]\n",
    "\n",
    "  # Get the list of image files and the JSON mixer file.\n",
    "  imageFilesList = []\n",
    "  jsonFile = None\n",
    "  for f in exportFilesList:\n",
    "    if f.endswith('.tfrecord.gz'):\n",
    "      imageFilesList.append(f)\n",
    "    elif f.endswith('.json'):\n",
    "      jsonFile = f\n",
    "\n",
    "  # Make sure the files are in the right order.\n",
    "  imageFilesList.sort()\n",
    "\n",
    "  from pprint import pprint\n",
    "  pprint(f'imageFilesList {imageFilesList}')\n",
    "  # print(f'jsonFile {jsonFile}')\n",
    "\n",
    "  import json\n",
    "  # Load the contents of the mixer file to a JSON object.\n",
    "  jsonText = !gsutil cat {jsonFile}\n",
    "  # print(f'jsonText{jsonText}')\n",
    "  # Get a single string w/ newlines from the IPython.utils.text.SList\n",
    "  mixer = json.loads(jsonText.nlstr)\n",
    "  pprint(mixer)\n",
    "  patches = mixer['totalPatches']\n",
    "\n",
    "  # Get set up for prediction.\n",
    "  x_buffer = int(kernel_buffer[0] / 2)\n",
    "  y_buffer = int(kernel_buffer[1] / 2)\n",
    "\n",
    "  buffered_shape = [\n",
    "      KERNEL_SHAPE[0] + kernel_buffer[0],\n",
    "      KERNEL_SHAPE[1] + kernel_buffer[1]]\n",
    "\n",
    "  imageColumns = [\n",
    "    tf.io.FixedLenFeature(shape=buffered_shape, dtype=tf.float32)\n",
    "      for k in BANDS\n",
    "  ]\n",
    "\n",
    "  imageFeaturesDict = dict(zip(BANDS, imageColumns))\n",
    "\n",
    "  def parse_image(example_proto):\n",
    "    return tf.io.parse_single_example(example_proto, imageFeaturesDict)\n",
    "\n",
    "  def toTupleImage(inputs):\n",
    "    inputsList = [inputs.get(key) for key in BANDS]\n",
    "    stacked = tf.stack(inputsList, axis=0)\n",
    "    stacked = tf.transpose(stacked, [1, 2, 0])\n",
    "    return stacked\n",
    "\n",
    "   # Create a dataset from the TFRecord file(s) in Cloud Storage.\n",
    "  imageDataset = tf.data.TFRecordDataset(imageFilesList, compression_type='GZIP')\n",
    "  imageDataset = imageDataset.map(parse_image, num_parallel_calls=5)\n",
    "  imageDataset = imageDataset.map(toTupleImage).batch(1)\n",
    "\n",
    "  # Perform inference.\n",
    "  print('Running predictions...')\n",
    "  predictions = m.predict(imageDataset, steps=patches, verbose=1)\n",
    "  # print(predictions[0])\n",
    "\n",
    "  print('Writing predictions...')\n",
    "  # out_image_base = 'shufeitest123'\n",
    "  out_image_file = 'gs://' + OUTPUT_BUCKET + '/' + FOLDER + '/' + out_image_base + '.TFRecord'\n",
    "  \n",
    "  print(out_image_file)\n",
    "  writer = tf.io.TFRecordWriter(out_image_file)\n",
    "  patches = 0\n",
    "    \n",
    "  for predictionPatch in predictions:\n",
    "    \n",
    "    print('Writing patch ' + str(patches) + '...')\n",
    "    predictionPatch = predictionPatch[\n",
    "        x_buffer:x_buffer+KERNEL_SIZE, y_buffer:y_buffer+KERNEL_SIZE]\n",
    "    \n",
    "    # print(f'prediction patch {predictionPatch}')\n",
    "    # Create an example.\n",
    "    example = tf.train.Example(\n",
    "      features=tf.train.Features(\n",
    "        feature={\n",
    "          'impervious': tf.train.Feature(\n",
    "              float_list=tf.train.FloatList(\n",
    "                  value=predictionPatch.flatten()))\n",
    "        }\n",
    "      )\n",
    "    )\n",
    "    # Write the example.\n",
    "    writer.write(example.SerializeToString())\n",
    "    print('finish writing patch ' + str(patches) + '...')\n",
    "    patches += 1\n",
    "\n",
    "\n",
    "  #writer.close()\n",
    "  print(f'fin writing')\n",
    "\n",
    "  # Start the upload.\n",
    "  out_image_asset = user_folder + '/' + out_image_base\n",
    "  !earthengine upload image --asset_id={out_image_asset} {out_image_file} {jsonFile}\n",
    "\n",
    "# Run the prediction.\n",
    "doPrediction(out_file_name, user_folder, pred_kernel_buffer, pred_region)"
   ]
  },
  {
   "cell_type": "code",
   "execution_count": null,
   "metadata": {
    "tags": []
   },
   "outputs": [],
   "source": [
    "# !python -m pip install tensorflow-io \n",
    "# !python -m pip uninstall -y tensorflow-io"
   ]
  },
  {
   "cell_type": "code",
   "execution_count": null,
   "metadata": {
    "tags": []
   },
   "outputs": [],
   "source": [
    "# doPrediction(out_file_name, OUTPUT_BUCKET, DATA_BUCKET, FOLDER, kernel_size)"
   ]
  },
  {
   "cell_type": "code",
   "execution_count": null,
   "metadata": {
    "colab": {
     "base_uri": "https://localhost:8080/"
    },
    "id": "nTC7eZoc201K",
    "outputId": "92790209-2c43-4547-da18-d776f91ac5fc",
    "tags": []
   },
   "outputs": [],
   "source": [
    "# # Run the prediction.\n",
    "print(user_folder)\n",
    "print(out_file_name)"
   ]
  },
  {
   "cell_type": "code",
   "execution_count": null,
   "metadata": {
    "colab": {
     "base_uri": "https://localhost:8080/",
     "height": 851
    },
    "id": "cehGLdSJ249z",
    "outputId": "bcc4ce4d-3502-43c1-a940-df313e35e9fb",
    "tags": []
   },
   "outputs": [],
   "source": [
    "# out_image = ee.Image(user_folder + '/' + bj_image_base)\n",
    "out_image = ee.Image(user_folder + '/' + out_file_name)\n",
    "mapid = out_image.getMapId({'min': 0, 'max': 1})\n",
    "map = folium.Map(location=[53.81667309827828, -120.09501953125])\n",
    "folium.TileLayer(\n",
    "    tiles=mapid['tile_fetcher'].url_format,\n",
    "    attr='Map Data &copy; <a href=\"https://earthengine.google.com/\">Google Earth Engine</a>',\n",
    "    overlay=True,\n",
    "    name='predicted impervious',\n",
    "  ).add_to(map)\n",
    "map.add_child(folium.LayerControl())\n",
    "map"
   ]
  },
  {
   "cell_type": "markdown",
   "metadata": {},
   "source": [
    "export prediction to CSV"
   ]
  },
  {
   "cell_type": "code",
   "execution_count": null,
   "metadata": {},
   "outputs": [],
   "source": [
    "pred_values = out_image.reduceRegion(\n",
    "    reducer=ee.Reducer.toList(),\n",
    "    geometry=pred_region,\n",
    "    scale=926.625433055833,  # The scale from the image's 'crs_transform'\n",
    ")\n",
    "\n",
    "impervious_list = pred_values.get('impervious').getInfo()\n",
    "\n",
    "# Convert the list of pixel values to a pandas DataFrame\n",
    "df = pd.DataFrame(impervious_list, columns=['prediction'])\n",
    "\n",
    "# Save the DataFrame as a CSV file\n",
    "df.to_csv('prediction_results.csv', index=False)"
   ]
  },
  {
   "cell_type": "code",
   "execution_count": null,
   "metadata": {
    "tags": []
   },
   "outputs": [],
   "source": [
    "print(pred_values.get('impervious'))"
   ]
  }
 ],
 "metadata": {
  "accelerator": "GPU",
  "colab": {
   "gpuType": "T4",
   "provenance": []
  },
  "environment": {
   "kernel": "python3",
   "name": "tf2-gpu.2-12.m110",
   "type": "gcloud",
   "uri": "gcr.io/deeplearning-platform-release/tf2-gpu.2-12:m110"
  },
  "kernelspec": {
   "display_name": "Python 3",
   "language": "python",
   "name": "python3"
  },
  "language_info": {
   "codemirror_mode": {
    "name": "ipython",
    "version": 3
   },
   "file_extension": ".py",
   "mimetype": "text/x-python",
   "name": "python",
   "nbconvert_exporter": "python",
   "pygments_lexer": "ipython3",
   "version": "3.10.12"
  },
  "toc-autonumbering": false,
  "toc-showcode": true,
  "toc-showmarkdowntxt": true,
  "toc-showtags": false,
  "widgets": {
   "application/vnd.jupyter.widget-state+json": {
    "00adc42abb574ba8b1761ec425fa5a72": {
     "model_module": "@jupyter-widgets/controls",
     "model_module_version": "1.5.0",
     "model_name": "ToggleButtonModel",
     "state": {
      "_dom_classes": [],
      "_model_module": "@jupyter-widgets/controls",
      "_model_module_version": "1.5.0",
      "_model_name": "ToggleButtonModel",
      "_view_count": null,
      "_view_module": "@jupyter-widgets/controls",
      "_view_module_version": "1.5.0",
      "_view_name": "ToggleButtonView",
      "button_style": "primary",
      "description": "",
      "description_tooltip": null,
      "disabled": false,
      "icon": "retweet",
      "layout": "IPY_MODEL_24c2d7a760ca4633ae206846ca92971d",
      "style": "IPY_MODEL_f9e5e794f6c84847a411f169e2f14bc5",
      "tooltip": "Convert Earth Engine JavaScript to Python",
      "value": false
     }
    },
    "00fe73be276f404597e60e95f3b1c0ba": {
     "model_module": "@jupyter-widgets/controls",
     "model_module_version": "1.5.0",
     "model_name": "ToggleButtonModel",
     "state": {
      "_dom_classes": [],
      "_model_module": "@jupyter-widgets/controls",
      "_model_module_version": "1.5.0",
      "_model_name": "ToggleButtonModel",
      "_view_count": null,
      "_view_module": "@jupyter-widgets/controls",
      "_view_module_version": "1.5.0",
      "_view_name": "ToggleButtonView",
      "button_style": "",
      "description": "",
      "description_tooltip": null,
      "disabled": false,
      "icon": "wrench",
      "layout": "IPY_MODEL_6280bb9e19b3418ebc9725a3c808b929",
      "style": "IPY_MODEL_230f2231e3a24ac2b40024a8a758df5f",
      "tooltip": "Toolbar",
      "value": false
     }
    },
    "01346855617249568988171ed3cedc0b": {
     "model_module": "@jupyter-widgets/controls",
     "model_module_version": "1.5.0",
     "model_name": "DropdownModel",
     "state": {
      "_dom_classes": [],
      "_model_module": "@jupyter-widgets/controls",
      "_model_module_version": "1.5.0",
      "_model_name": "DropdownModel",
      "_options_labels": [],
      "_view_count": null,
      "_view_module": "@jupyter-widgets/controls",
      "_view_module_version": "1.5.0",
      "_view_name": "DropdownView",
      "description": "",
      "description_tooltip": null,
      "disabled": false,
      "index": null,
      "layout": "IPY_MODEL_3a78f22c12db4148a5306bdaf8b5410d",
      "style": "IPY_MODEL_bc2caccfac96431d896f76d5b80ab628"
     }
    },
    "018b9c80b0714a5fa256bc30c569f76c": {
     "model_module": "jupyter-leaflet",
     "model_module_version": "^0.17",
     "model_name": "LeafletTileLayerModel",
     "state": {
      "_model_module": "jupyter-leaflet",
      "_model_module_version": "^0.17",
      "_model_name": "LeafletTileLayerModel",
      "_view_count": null,
      "_view_module": "jupyter-leaflet",
      "_view_module_version": "^0.17",
      "_view_name": "LeafletTileLayerView",
      "attribution": "Google Earth Engine",
      "base": false,
      "bottom": true,
      "bounds": null,
      "detect_retina": false,
      "loading": true,
      "max_native_zoom": null,
      "max_zoom": 24,
      "min_native_zoom": null,
      "min_zoom": 0,
      "name": "Layer 14",
      "no_wrap": false,
      "opacity": 1,
      "options": [
       "attribution",
       "bounds",
       "detect_retina",
       "max_native_zoom",
       "max_zoom",
       "min_native_zoom",
       "min_zoom",
       "no_wrap",
       "tile_size",
       "tms",
       "zoom_offset"
      ],
      "pane": "",
      "popup": null,
      "popup_max_height": null,
      "popup_max_width": 300,
      "popup_min_width": 50,
      "show_loading": false,
      "subitems": [],
      "tile_size": 256,
      "tms": false,
      "url": "https://earthengine.googleapis.com/v1alpha/projects/earthengine-legacy/maps/57f540225ca303b33a5ff85d188f06dd-d09eb27674b80749cb1fa729c9e1af12/tiles/{z}/{x}/{y}",
      "visible": true,
      "zoom_offset": 0
     }
    },
    "06723edbe8a547678071ca4913f44d44": {
     "model_module": "@jupyter-widgets/base",
     "model_module_version": "1.2.0",
     "model_name": "LayoutModel",
     "state": {
      "_model_module": "@jupyter-widgets/base",
      "_model_module_version": "1.2.0",
      "_model_name": "LayoutModel",
      "_view_count": null,
      "_view_module": "@jupyter-widgets/base",
      "_view_module_version": "1.2.0",
      "_view_name": "LayoutView",
      "align_content": null,
      "align_items": null,
      "align_self": null,
      "border": null,
      "bottom": null,
      "display": null,
      "flex": null,
      "flex_flow": null,
      "grid_area": null,
      "grid_auto_columns": null,
      "grid_auto_flow": null,
      "grid_auto_rows": null,
      "grid_column": null,
      "grid_gap": null,
      "grid_row": null,
      "grid_template_areas": null,
      "grid_template_columns": null,
      "grid_template_rows": null,
      "height": "auto",
      "justify_content": null,
      "justify_items": null,
      "left": null,
      "margin": null,
      "max_height": null,
      "max_width": null,
      "min_height": null,
      "min_width": null,
      "object_fit": null,
      "object_position": null,
      "order": null,
      "overflow": null,
      "overflow_x": null,
      "overflow_y": null,
      "padding": "0px 0px 0px 4px",
      "right": null,
      "top": null,
      "visibility": null,
      "width": "auto"
     }
    },
    "1016ea52141e4e91b89dce5e1e61bf31": {
     "model_module": "jupyter-leaflet",
     "model_module_version": "^0.17",
     "model_name": "LeafletWidgetControlModel",
     "state": {
      "_model_module": "jupyter-leaflet",
      "_model_module_version": "^0.17",
      "_model_name": "LeafletWidgetControlModel",
      "_view_count": null,
      "_view_module": "jupyter-leaflet",
      "_view_module_version": "^0.17",
      "_view_name": "LeafletWidgetControlView",
      "max_height": null,
      "max_width": null,
      "min_height": null,
      "min_width": null,
      "options": [
       "position",
       "transparent_bg"
      ],
      "position": "topright",
      "transparent_bg": false,
      "widget": "IPY_MODEL_cd18944bd8874164bd84b567c7dfe972"
     }
    },
    "13015a68983a4f20ade760b50f48f41b": {
     "model_module": "jupyter-leaflet",
     "model_module_version": "^0.17",
     "model_name": "LeafletWidgetControlModel",
     "state": {
      "_model_module": "jupyter-leaflet",
      "_model_module_version": "^0.17",
      "_model_name": "LeafletWidgetControlModel",
      "_view_count": null,
      "_view_module": "jupyter-leaflet",
      "_view_module_version": "^0.17",
      "_view_name": "LeafletWidgetControlView",
      "max_height": null,
      "max_width": null,
      "min_height": null,
      "min_width": null,
      "options": [
       "position",
       "transparent_bg"
      ],
      "position": "topright",
      "transparent_bg": false,
      "widget": "IPY_MODEL_1c60c4794f564dea8d27a8824b0c6cea"
     }
    },
    "1648f1dc49774659a620d163192a3f81": {
     "model_module": "@jupyter-widgets/base",
     "model_module_version": "1.2.0",
     "model_name": "LayoutModel",
     "state": {
      "_model_module": "@jupyter-widgets/base",
      "_model_module_version": "1.2.0",
      "_model_name": "LayoutModel",
      "_view_count": null,
      "_view_module": "@jupyter-widgets/base",
      "_view_module_version": "1.2.0",
      "_view_name": "LayoutView",
      "align_content": null,
      "align_items": null,
      "align_self": null,
      "border": null,
      "bottom": null,
      "display": null,
      "flex": null,
      "flex_flow": null,
      "grid_area": null,
      "grid_auto_columns": null,
      "grid_auto_flow": null,
      "grid_auto_rows": null,
      "grid_column": null,
      "grid_gap": null,
      "grid_row": null,
      "grid_template_areas": null,
      "grid_template_columns": null,
      "grid_template_rows": null,
      "height": "auto",
      "justify_content": null,
      "justify_items": null,
      "left": null,
      "margin": null,
      "max_height": null,
      "max_width": null,
      "min_height": null,
      "min_width": null,
      "object_fit": null,
      "object_position": null,
      "order": null,
      "overflow": null,
      "overflow_x": null,
      "overflow_y": null,
      "padding": "0px 0px 0px 4px",
      "right": null,
      "top": null,
      "visibility": null,
      "width": "auto"
     }
    },
    "1954c256af474d6b9832687207c14d6c": {
     "model_module": "@jupyter-widgets/base",
     "model_module_version": "1.2.0",
     "model_name": "LayoutModel",
     "state": {
      "_model_module": "@jupyter-widgets/base",
      "_model_module_version": "1.2.0",
      "_model_name": "LayoutModel",
      "_view_count": null,
      "_view_module": "@jupyter-widgets/base",
      "_view_module_version": "1.2.0",
      "_view_name": "LayoutView",
      "align_content": null,
      "align_items": null,
      "align_self": null,
      "border": null,
      "bottom": null,
      "display": null,
      "flex": null,
      "flex_flow": null,
      "grid_area": null,
      "grid_auto_columns": null,
      "grid_auto_flow": null,
      "grid_auto_rows": null,
      "grid_column": null,
      "grid_gap": null,
      "grid_row": null,
      "grid_template_areas": null,
      "grid_template_columns": null,
      "grid_template_rows": null,
      "height": "auto",
      "justify_content": null,
      "justify_items": null,
      "left": null,
      "margin": null,
      "max_height": null,
      "max_width": null,
      "min_height": null,
      "min_width": null,
      "object_fit": null,
      "object_position": null,
      "order": null,
      "overflow": null,
      "overflow_x": null,
      "overflow_y": null,
      "padding": "0px 0px 0px 4px",
      "right": null,
      "top": null,
      "visibility": null,
      "width": "auto"
     }
    },
    "19770844c7a44b3b94503a7c61fc8672": {
     "model_module": "@jupyter-widgets/base",
     "model_module_version": "1.2.0",
     "model_name": "LayoutModel",
     "state": {
      "_model_module": "@jupyter-widgets/base",
      "_model_module_version": "1.2.0",
      "_model_name": "LayoutModel",
      "_view_count": null,
      "_view_module": "@jupyter-widgets/base",
      "_view_module_version": "1.2.0",
      "_view_name": "LayoutView",
      "align_content": null,
      "align_items": null,
      "align_self": null,
      "border": null,
      "bottom": null,
      "display": null,
      "flex": null,
      "flex_flow": null,
      "grid_area": null,
      "grid_auto_columns": null,
      "grid_auto_flow": null,
      "grid_auto_rows": null,
      "grid_column": null,
      "grid_gap": null,
      "grid_row": null,
      "grid_template_areas": null,
      "grid_template_columns": null,
      "grid_template_rows": null,
      "height": null,
      "justify_content": null,
      "justify_items": null,
      "left": null,
      "margin": null,
      "max_height": "350px",
      "max_width": "340px",
      "min_height": null,
      "min_width": null,
      "object_fit": null,
      "object_position": null,
      "order": null,
      "overflow": "scroll",
      "overflow_x": null,
      "overflow_y": null,
      "padding": null,
      "right": null,
      "top": null,
      "visibility": null,
      "width": null
     }
    },
    "1b466dce4a2f4d3c8d3c467d9ee79a82": {
     "model_module": "jupyter-leaflet",
     "model_module_version": "^0.17",
     "model_name": "LeafletMapStyleModel",
     "state": {
      "_model_module": "jupyter-leaflet",
      "_model_module_version": "^0.17",
      "_model_name": "LeafletMapStyleModel",
      "_view_count": null,
      "_view_module": "@jupyter-widgets/base",
      "_view_module_version": "1.2.0",
      "_view_name": "StyleView",
      "cursor": "grab"
     }
    },
    "1c60c4794f564dea8d27a8824b0c6cea": {
     "model_module": "@jupyter-widgets/controls",
     "model_module_version": "1.5.0",
     "model_name": "VBoxModel",
     "state": {
      "_dom_classes": [],
      "_model_module": "@jupyter-widgets/controls",
      "_model_module_version": "1.5.0",
      "_model_name": "VBoxModel",
      "_view_count": null,
      "_view_module": "@jupyter-widgets/controls",
      "_view_module_version": "1.5.0",
      "_view_name": "VBoxView",
      "box_style": "",
      "children": [
       "IPY_MODEL_00fe73be276f404597e60e95f3b1c0ba"
      ],
      "layout": "IPY_MODEL_3f5e3b80f3944fcc9eb5ff6e75c19074"
     }
    },
    "1ccd16b206a64b54bf70f195fa62f49c": {
     "model_module": "jupyter-leaflet",
     "model_module_version": "^0.17",
     "model_name": "LeafletTileLayerModel",
     "state": {
      "_model_module": "jupyter-leaflet",
      "_model_module_version": "^0.17",
      "_model_name": "LeafletTileLayerModel",
      "_view_count": null,
      "_view_module": "jupyter-leaflet",
      "_view_module_version": "^0.17",
      "_view_name": "LeafletTileLayerView",
      "attribution": "Google Earth Engine",
      "base": false,
      "bottom": true,
      "bounds": null,
      "detect_retina": false,
      "loading": true,
      "max_native_zoom": null,
      "max_zoom": 24,
      "min_native_zoom": null,
      "min_zoom": 0,
      "name": "Layer 15",
      "no_wrap": false,
      "opacity": 1,
      "options": [
       "attribution",
       "bounds",
       "detect_retina",
       "max_native_zoom",
       "max_zoom",
       "min_native_zoom",
       "min_zoom",
       "no_wrap",
       "tile_size",
       "tms",
       "zoom_offset"
      ],
      "pane": "",
      "popup": null,
      "popup_max_height": null,
      "popup_max_width": 300,
      "popup_min_width": 50,
      "show_loading": false,
      "subitems": [],
      "tile_size": 256,
      "tms": false,
      "url": "https://earthengine.googleapis.com/v1alpha/projects/earthengine-legacy/maps/2040e982c4d8db879849626086b453d8-dc0e85c5e1f3fd077fa66fb9b84959d1/tiles/{z}/{x}/{y}",
      "visible": true,
      "zoom_offset": 0
     }
    },
    "1e8e3e9e544247f9aa51aa7d8d69118c": {
     "model_module": "@jupyter-widgets/base",
     "model_module_version": "1.2.0",
     "model_name": "LayoutModel",
     "state": {
      "_model_module": "@jupyter-widgets/base",
      "_model_module_version": "1.2.0",
      "_model_name": "LayoutModel",
      "_view_count": null,
      "_view_module": "@jupyter-widgets/base",
      "_view_module_version": "1.2.0",
      "_view_name": "LayoutView",
      "align_content": null,
      "align_items": null,
      "align_self": null,
      "border": null,
      "bottom": null,
      "display": null,
      "flex": null,
      "flex_flow": null,
      "grid_area": null,
      "grid_auto_columns": null,
      "grid_auto_flow": null,
      "grid_auto_rows": null,
      "grid_column": null,
      "grid_gap": null,
      "grid_row": null,
      "grid_template_areas": null,
      "grid_template_columns": null,
      "grid_template_rows": null,
      "height": null,
      "justify_content": null,
      "justify_items": null,
      "left": null,
      "margin": null,
      "max_height": null,
      "max_width": null,
      "min_height": null,
      "min_width": null,
      "object_fit": null,
      "object_position": null,
      "order": null,
      "overflow": null,
      "overflow_x": null,
      "overflow_y": null,
      "padding": null,
      "right": null,
      "top": null,
      "visibility": null,
      "width": null
     }
    },
    "1ed76f120ec14d0096ecacbd4466b91d": {
     "model_module": "jupyter-leaflet",
     "model_module_version": "^0.17",
     "model_name": "LeafletScaleControlModel",
     "state": {
      "_model_module": "jupyter-leaflet",
      "_model_module_version": "^0.17",
      "_model_name": "LeafletScaleControlModel",
      "_view_count": null,
      "_view_module": "jupyter-leaflet",
      "_view_module_version": "^0.17",
      "_view_name": "LeafletScaleControlView",
      "imperial": true,
      "max_width": 100,
      "metric": true,
      "options": [
       "imperial",
       "max_width",
       "metric",
       "position",
       "update_when_idle"
      ],
      "position": "bottomleft",
      "update_when_idle": false
     }
    },
    "1eff5e69d5e74649b8d8bc08e8f554b9": {
     "model_module": "jupyter-leaflet",
     "model_module_version": "^0.17",
     "model_name": "LeafletTileLayerModel",
     "state": {
      "_model_module": "jupyter-leaflet",
      "_model_module_version": "^0.17",
      "_model_name": "LeafletTileLayerModel",
      "_view_count": null,
      "_view_module": "jupyter-leaflet",
      "_view_module_version": "^0.17",
      "_view_name": "LeafletTileLayerView",
      "attribution": "Google",
      "base": false,
      "bottom": true,
      "bounds": null,
      "detect_retina": false,
      "loading": true,
      "max_native_zoom": null,
      "max_zoom": 24,
      "min_native_zoom": null,
      "min_zoom": 0,
      "name": "Google Maps",
      "no_wrap": false,
      "opacity": 1,
      "options": [
       "attribution",
       "bounds",
       "detect_retina",
       "max_native_zoom",
       "max_zoom",
       "min_native_zoom",
       "min_zoom",
       "no_wrap",
       "tile_size",
       "tms",
       "zoom_offset"
      ],
      "pane": "",
      "popup": null,
      "popup_max_height": null,
      "popup_max_width": 300,
      "popup_min_width": 50,
      "show_loading": false,
      "subitems": [],
      "tile_size": 256,
      "tms": false,
      "url": "https://mt1.google.com/vt/lyrs=m&x={x}&y={y}&z={z}",
      "visible": true,
      "zoom_offset": 0
     }
    },
    "219539f1818849d1b9f0e58fdd3756ee": {
     "model_module": "@jupyter-widgets/base",
     "model_module_version": "1.2.0",
     "model_name": "LayoutModel",
     "state": {
      "_model_module": "@jupyter-widgets/base",
      "_model_module_version": "1.2.0",
      "_model_name": "LayoutModel",
      "_view_count": null,
      "_view_module": "@jupyter-widgets/base",
      "_view_module_version": "1.2.0",
      "_view_name": "LayoutView",
      "align_content": null,
      "align_items": null,
      "align_self": null,
      "border": null,
      "bottom": null,
      "display": null,
      "flex": null,
      "flex_flow": null,
      "grid_area": null,
      "grid_auto_columns": null,
      "grid_auto_flow": null,
      "grid_auto_rows": null,
      "grid_column": null,
      "grid_gap": null,
      "grid_row": null,
      "grid_template_areas": null,
      "grid_template_columns": null,
      "grid_template_rows": null,
      "height": null,
      "justify_content": null,
      "justify_items": null,
      "left": null,
      "margin": null,
      "max_height": null,
      "max_width": null,
      "min_height": null,
      "min_width": null,
      "object_fit": null,
      "object_position": null,
      "order": null,
      "overflow": null,
      "overflow_x": null,
      "overflow_y": null,
      "padding": null,
      "right": null,
      "top": null,
      "visibility": null,
      "width": null
     }
    },
    "230f2231e3a24ac2b40024a8a758df5f": {
     "model_module": "@jupyter-widgets/controls",
     "model_module_version": "1.5.0",
     "model_name": "DescriptionStyleModel",
     "state": {
      "_model_module": "@jupyter-widgets/controls",
      "_model_module_version": "1.5.0",
      "_model_name": "DescriptionStyleModel",
      "_view_count": null,
      "_view_module": "@jupyter-widgets/base",
      "_view_module_version": "1.2.0",
      "_view_name": "StyleView",
      "description_width": ""
     }
    },
    "24c2d7a760ca4633ae206846ca92971d": {
     "model_module": "@jupyter-widgets/base",
     "model_module_version": "1.2.0",
     "model_name": "LayoutModel",
     "state": {
      "_model_module": "@jupyter-widgets/base",
      "_model_module_version": "1.2.0",
      "_model_name": "LayoutModel",
      "_view_count": null,
      "_view_module": "@jupyter-widgets/base",
      "_view_module_version": "1.2.0",
      "_view_name": "LayoutView",
      "align_content": null,
      "align_items": null,
      "align_self": null,
      "border": null,
      "bottom": null,
      "display": null,
      "flex": null,
      "flex_flow": null,
      "grid_area": null,
      "grid_auto_columns": null,
      "grid_auto_flow": null,
      "grid_auto_rows": null,
      "grid_column": null,
      "grid_gap": null,
      "grid_row": null,
      "grid_template_areas": null,
      "grid_template_columns": null,
      "grid_template_rows": null,
      "height": "auto",
      "justify_content": null,
      "justify_items": null,
      "left": null,
      "margin": null,
      "max_height": null,
      "max_width": null,
      "min_height": null,
      "min_width": null,
      "object_fit": null,
      "object_position": null,
      "order": null,
      "overflow": null,
      "overflow_x": null,
      "overflow_y": null,
      "padding": "0px 0px 0px 4px",
      "right": null,
      "top": null,
      "visibility": null,
      "width": "auto"
     }
    },
    "25819b5bd611488e8e8ad5916fdc8e76": {
     "model_module": "@jupyter-widgets/base",
     "model_module_version": "1.2.0",
     "model_name": "LayoutModel",
     "state": {
      "_model_module": "@jupyter-widgets/base",
      "_model_module_version": "1.2.0",
      "_model_name": "LayoutModel",
      "_view_count": null,
      "_view_module": "@jupyter-widgets/base",
      "_view_module_version": "1.2.0",
      "_view_name": "LayoutView",
      "align_content": null,
      "align_items": null,
      "align_self": null,
      "border": null,
      "bottom": null,
      "display": null,
      "flex": null,
      "flex_flow": null,
      "grid_area": null,
      "grid_auto_columns": null,
      "grid_auto_flow": null,
      "grid_auto_rows": null,
      "grid_column": null,
      "grid_gap": null,
      "grid_row": null,
      "grid_template_areas": null,
      "grid_template_columns": null,
      "grid_template_rows": null,
      "height": null,
      "justify_content": null,
      "justify_items": null,
      "left": null,
      "margin": null,
      "max_height": null,
      "max_width": null,
      "min_height": null,
      "min_width": null,
      "object_fit": null,
      "object_position": null,
      "order": null,
      "overflow": null,
      "overflow_x": null,
      "overflow_y": null,
      "padding": null,
      "right": null,
      "top": null,
      "visibility": null,
      "width": null
     }
    },
    "272e28c340e94f18abfffa795666bb26": {
     "model_module": "@jupyter-widgets/base",
     "model_module_version": "1.2.0",
     "model_name": "LayoutModel",
     "state": {
      "_model_module": "@jupyter-widgets/base",
      "_model_module_version": "1.2.0",
      "_model_name": "LayoutModel",
      "_view_count": null,
      "_view_module": "@jupyter-widgets/base",
      "_view_module_version": "1.2.0",
      "_view_name": "LayoutView",
      "align_content": null,
      "align_items": null,
      "align_self": null,
      "border": null,
      "bottom": null,
      "display": null,
      "flex": null,
      "flex_flow": null,
      "grid_area": null,
      "grid_auto_columns": null,
      "grid_auto_flow": null,
      "grid_auto_rows": null,
      "grid_column": null,
      "grid_gap": null,
      "grid_row": null,
      "grid_template_areas": null,
      "grid_template_columns": null,
      "grid_template_rows": null,
      "height": "auto",
      "justify_content": null,
      "justify_items": null,
      "left": null,
      "margin": null,
      "max_height": null,
      "max_width": null,
      "min_height": null,
      "min_width": null,
      "object_fit": null,
      "object_position": null,
      "order": null,
      "overflow": null,
      "overflow_x": null,
      "overflow_y": null,
      "padding": "0px 0px 0px 4px",
      "right": null,
      "top": null,
      "visibility": null,
      "width": "auto"
     }
    },
    "286fd1d379e24f3f948842505b02053b": {
     "model_module": "jupyter-leaflet",
     "model_module_version": "^0.17",
     "model_name": "LeafletTileLayerModel",
     "state": {
      "_model_module": "jupyter-leaflet",
      "_model_module_version": "^0.17",
      "_model_name": "LeafletTileLayerModel",
      "_view_count": null,
      "_view_module": "jupyter-leaflet",
      "_view_module_version": "^0.17",
      "_view_name": "LeafletTileLayerView",
      "attribution": "Google Earth Engine",
      "base": false,
      "bottom": true,
      "bounds": null,
      "detect_retina": false,
      "loading": true,
      "max_native_zoom": null,
      "max_zoom": 24,
      "min_native_zoom": null,
      "min_zoom": 0,
      "name": "Layer 5",
      "no_wrap": false,
      "opacity": 1,
      "options": [
       "attribution",
       "bounds",
       "detect_retina",
       "max_native_zoom",
       "max_zoom",
       "min_native_zoom",
       "min_zoom",
       "no_wrap",
       "tile_size",
       "tms",
       "zoom_offset"
      ],
      "pane": "",
      "popup": null,
      "popup_max_height": null,
      "popup_max_width": 300,
      "popup_min_width": 50,
      "show_loading": false,
      "subitems": [],
      "tile_size": 256,
      "tms": false,
      "url": "https://earthengine.googleapis.com/v1alpha/projects/earthengine-legacy/maps/006a6a5c76cf6a75f98f06e54d926298-9b64b27fbb28f7e801ecebf12b9caaa8/tiles/{z}/{x}/{y}",
      "visible": true,
      "zoom_offset": 0
     }
    },
    "2b54e83fd13e40f59c85292b84dde5cb": {
     "model_module": "jupyter-leaflet",
     "model_module_version": "^0.17",
     "model_name": "LeafletMapStyleModel",
     "state": {
      "_model_module": "jupyter-leaflet",
      "_model_module_version": "^0.17",
      "_model_name": "LeafletMapStyleModel",
      "_view_count": null,
      "_view_module": "@jupyter-widgets/base",
      "_view_module_version": "1.2.0",
      "_view_name": "StyleView",
      "cursor": "grab"
     }
    },
    "2cd0cc5fb4a842c88c20a6d4805c3c63": {
     "model_module": "@jupyter-widgets/controls",
     "model_module_version": "1.5.0",
     "model_name": "ButtonStyleModel",
     "state": {
      "_model_module": "@jupyter-widgets/controls",
      "_model_module_version": "1.5.0",
      "_model_name": "ButtonStyleModel",
      "_view_count": null,
      "_view_module": "@jupyter-widgets/base",
      "_view_module_version": "1.2.0",
      "_view_name": "StyleView",
      "button_color": null,
      "font_weight": ""
     }
    },
    "2ce290664922494b967d4f5340c378c2": {
     "model_module": "@jupyter-widgets/controls",
     "model_module_version": "1.5.0",
     "model_name": "ToggleButtonModel",
     "state": {
      "_dom_classes": [],
      "_model_module": "@jupyter-widgets/controls",
      "_model_module_version": "1.5.0",
      "_model_name": "ToggleButtonModel",
      "_view_count": null,
      "_view_module": "@jupyter-widgets/controls",
      "_view_module_version": "1.5.0",
      "_view_name": "ToggleButtonView",
      "button_style": "",
      "description": "",
      "description_tooltip": null,
      "disabled": false,
      "icon": "wrench",
      "layout": "IPY_MODEL_bed583eeddf7467bbf5e7fe2817897ba",
      "style": "IPY_MODEL_35a27ce1eb314d3e92c4a1423f7995f8",
      "tooltip": "Toolbar",
      "value": false
     }
    },
    "2d7570ad4a404f0e9327ea26bea6ccc0": {
     "model_module": "@jupyter-widgets/base",
     "model_module_version": "1.2.0",
     "model_name": "LayoutModel",
     "state": {
      "_model_module": "@jupyter-widgets/base",
      "_model_module_version": "1.2.0",
      "_model_name": "LayoutModel",
      "_view_count": null,
      "_view_module": "@jupyter-widgets/base",
      "_view_module_version": "1.2.0",
      "_view_name": "LayoutView",
      "align_content": null,
      "align_items": null,
      "align_self": null,
      "border": null,
      "bottom": null,
      "display": null,
      "flex": null,
      "flex_flow": null,
      "grid_area": null,
      "grid_auto_columns": null,
      "grid_auto_flow": null,
      "grid_auto_rows": null,
      "grid_column": null,
      "grid_gap": null,
      "grid_row": null,
      "grid_template_areas": null,
      "grid_template_columns": null,
      "grid_template_rows": null,
      "height": null,
      "justify_content": null,
      "justify_items": null,
      "left": null,
      "margin": null,
      "max_height": null,
      "max_width": null,
      "min_height": null,
      "min_width": null,
      "object_fit": null,
      "object_position": null,
      "order": null,
      "overflow": null,
      "overflow_x": null,
      "overflow_y": null,
      "padding": null,
      "right": null,
      "top": null,
      "visibility": null,
      "width": "340px"
     }
    },
    "303007dc19cb4d958c77c0fee7c5cfba": {
     "model_module": "@jupyter-widgets/controls",
     "model_module_version": "1.5.0",
     "model_name": "DescriptionStyleModel",
     "state": {
      "_model_module": "@jupyter-widgets/controls",
      "_model_module_version": "1.5.0",
      "_model_name": "DescriptionStyleModel",
      "_view_count": null,
      "_view_module": "@jupyter-widgets/base",
      "_view_module_version": "1.2.0",
      "_view_name": "StyleView",
      "description_width": ""
     }
    },
    "3061121ad69a4c94864ec7f557ca8ed5": {
     "model_module": "@jupyter-widgets/controls",
     "model_module_version": "1.5.0",
     "model_name": "ButtonModel",
     "state": {
      "_dom_classes": [],
      "_model_module": "@jupyter-widgets/controls",
      "_model_module_version": "1.5.0",
      "_model_name": "ButtonModel",
      "_view_count": null,
      "_view_module": "@jupyter-widgets/controls",
      "_view_module_version": "1.5.0",
      "_view_name": "ButtonView",
      "button_style": "primary",
      "description": "import",
      "disabled": false,
      "icon": "",
      "layout": "IPY_MODEL_6244e2ee797049c09e9baa3be68d1880",
      "style": "IPY_MODEL_2cd0cc5fb4a842c88c20a6d4805c3c63",
      "tooltip": "Click to import the selected asset"
     }
    },
    "331f262e6de14382989970f3dbcfef5d": {
     "model_module": "@jupyter-widgets/base",
     "model_module_version": "1.2.0",
     "model_name": "LayoutModel",
     "state": {
      "_model_module": "@jupyter-widgets/base",
      "_model_module_version": "1.2.0",
      "_model_name": "LayoutModel",
      "_view_count": null,
      "_view_module": "@jupyter-widgets/base",
      "_view_module_version": "1.2.0",
      "_view_name": "LayoutView",
      "align_content": null,
      "align_items": null,
      "align_self": null,
      "border": null,
      "bottom": null,
      "display": null,
      "flex": null,
      "flex_flow": null,
      "grid_area": null,
      "grid_auto_columns": null,
      "grid_auto_flow": null,
      "grid_auto_rows": null,
      "grid_column": null,
      "grid_gap": null,
      "grid_row": null,
      "grid_template_areas": null,
      "grid_template_columns": null,
      "grid_template_rows": null,
      "height": "28px",
      "justify_content": null,
      "justify_items": null,
      "left": null,
      "margin": null,
      "max_height": null,
      "max_width": null,
      "min_height": null,
      "min_width": null,
      "object_fit": null,
      "object_position": null,
      "order": null,
      "overflow": null,
      "overflow_x": null,
      "overflow_y": null,
      "padding": "0px 0px 0px 4px",
      "right": null,
      "top": null,
      "visibility": null,
      "width": "28px"
     }
    },
    "35a27ce1eb314d3e92c4a1423f7995f8": {
     "model_module": "@jupyter-widgets/controls",
     "model_module_version": "1.5.0",
     "model_name": "DescriptionStyleModel",
     "state": {
      "_model_module": "@jupyter-widgets/controls",
      "_model_module_version": "1.5.0",
      "_model_name": "DescriptionStyleModel",
      "_view_count": null,
      "_view_module": "@jupyter-widgets/base",
      "_view_module_version": "1.2.0",
      "_view_name": "StyleView",
      "description_width": ""
     }
    },
    "35c69d635d7047c492721255d425f799": {
     "model_module": "jupyter-leaflet",
     "model_module_version": "^0.17",
     "model_name": "LeafletTileLayerModel",
     "state": {
      "_model_module": "jupyter-leaflet",
      "_model_module_version": "^0.17",
      "_model_name": "LeafletTileLayerModel",
      "_view_count": null,
      "_view_module": "jupyter-leaflet",
      "_view_module_version": "^0.17",
      "_view_name": "LeafletTileLayerView",
      "attribution": "Google Earth Engine",
      "base": false,
      "bottom": true,
      "bounds": null,
      "detect_retina": false,
      "loading": true,
      "max_native_zoom": null,
      "max_zoom": 24,
      "min_native_zoom": null,
      "min_zoom": 0,
      "name": "Layer 10",
      "no_wrap": false,
      "opacity": 1,
      "options": [
       "attribution",
       "bounds",
       "detect_retina",
       "max_native_zoom",
       "max_zoom",
       "min_native_zoom",
       "min_zoom",
       "no_wrap",
       "tile_size",
       "tms",
       "zoom_offset"
      ],
      "pane": "",
      "popup": null,
      "popup_max_height": null,
      "popup_max_width": 300,
      "popup_min_width": 50,
      "show_loading": false,
      "subitems": [],
      "tile_size": 256,
      "tms": false,
      "url": "https://earthengine.googleapis.com/v1alpha/projects/earthengine-legacy/maps/3b0ea9b9e9977ed107e9967444a8930e-e4252d8c69a7a8de5ab13b7d87a7bc79/tiles/{z}/{x}/{y}",
      "visible": true,
      "zoom_offset": 0
     }
    },
    "3919b0b71522456e8aed8584fe7ec843": {
     "model_module": "@jupyter-widgets/controls",
     "model_module_version": "1.5.0",
     "model_name": "HBoxModel",
     "state": {
      "_dom_classes": [],
      "_model_module": "@jupyter-widgets/controls",
      "_model_module_version": "1.5.0",
      "_model_name": "HBoxModel",
      "_view_count": null,
      "_view_module": "@jupyter-widgets/controls",
      "_view_module_version": "1.5.0",
      "_view_name": "HBoxView",
      "box_style": "",
      "children": [
       "IPY_MODEL_614260445cf44d81ac2ec618301e572a"
      ],
      "layout": "IPY_MODEL_4a1e74e6e9234a9b9b7e4e159208a41f"
     }
    },
    "3a78f22c12db4148a5306bdaf8b5410d": {
     "model_module": "@jupyter-widgets/base",
     "model_module_version": "1.2.0",
     "model_name": "LayoutModel",
     "state": {
      "_model_module": "@jupyter-widgets/base",
      "_model_module_version": "1.2.0",
      "_model_name": "LayoutModel",
      "_view_count": null,
      "_view_module": "@jupyter-widgets/base",
      "_view_module_version": "1.2.0",
      "_view_name": "LayoutView",
      "align_content": null,
      "align_items": null,
      "align_self": null,
      "border": null,
      "bottom": null,
      "display": null,
      "flex": null,
      "flex_flow": null,
      "grid_area": null,
      "grid_auto_columns": null,
      "grid_auto_flow": null,
      "grid_auto_rows": null,
      "grid_column": null,
      "grid_gap": null,
      "grid_row": null,
      "grid_template_areas": null,
      "grid_template_columns": null,
      "grid_template_rows": null,
      "height": null,
      "justify_content": null,
      "justify_items": null,
      "left": null,
      "margin": null,
      "max_height": null,
      "max_width": "279px",
      "min_height": null,
      "min_width": "279px",
      "object_fit": null,
      "object_position": null,
      "order": null,
      "overflow": null,
      "overflow_x": null,
      "overflow_y": null,
      "padding": null,
      "right": null,
      "top": null,
      "visibility": null,
      "width": null
     }
    },
    "3da54bc18bea46de95bef027b43ae91f": {
     "model_module": "jupyter-leaflet",
     "model_module_version": "^0.17",
     "model_name": "LeafletWidgetControlModel",
     "state": {
      "_model_module": "jupyter-leaflet",
      "_model_module_version": "^0.17",
      "_model_name": "LeafletWidgetControlModel",
      "_view_count": null,
      "_view_module": "jupyter-leaflet",
      "_view_module_version": "^0.17",
      "_view_name": "LeafletWidgetControlView",
      "max_height": null,
      "max_width": null,
      "min_height": null,
      "min_width": null,
      "options": [
       "position",
       "transparent_bg"
      ],
      "position": "topleft",
      "transparent_bg": false,
      "widget": "IPY_MODEL_3919b0b71522456e8aed8584fe7ec843"
     }
    },
    "3dfa1a0277ef4fdea0d3014e7eebf990": {
     "model_module": "jupyter-leaflet",
     "model_module_version": "^0.17",
     "model_name": "LeafletDrawControlModel",
     "state": {
      "_model_module": "jupyter-leaflet",
      "_model_module_version": "^0.17",
      "_model_name": "LeafletDrawControlModel",
      "_view_count": null,
      "_view_module": "jupyter-leaflet",
      "_view_module_version": "^0.17",
      "_view_name": "LeafletDrawControlView",
      "circle": {},
      "circlemarker": {},
      "data": [],
      "edit": true,
      "marker": {
       "shapeOptions": {
        "color": "#3388ff"
       }
      },
      "options": [
       "position"
      ],
      "polygon": {
       "shapeOptions": {}
      },
      "polyline": {
       "shapeOptions": {}
      },
      "position": "topleft",
      "rectangle": {
       "shapeOptions": {
        "color": "#3388ff"
       }
      },
      "remove": true
     }
    },
    "3f5e3b80f3944fcc9eb5ff6e75c19074": {
     "model_module": "@jupyter-widgets/base",
     "model_module_version": "1.2.0",
     "model_name": "LayoutModel",
     "state": {
      "_model_module": "@jupyter-widgets/base",
      "_model_module_version": "1.2.0",
      "_model_name": "LayoutModel",
      "_view_count": null,
      "_view_module": "@jupyter-widgets/base",
      "_view_module_version": "1.2.0",
      "_view_name": "LayoutView",
      "align_content": null,
      "align_items": null,
      "align_self": null,
      "border": null,
      "bottom": null,
      "display": null,
      "flex": null,
      "flex_flow": null,
      "grid_area": null,
      "grid_auto_columns": null,
      "grid_auto_flow": null,
      "grid_auto_rows": null,
      "grid_column": null,
      "grid_gap": null,
      "grid_row": null,
      "grid_template_areas": null,
      "grid_template_columns": null,
      "grid_template_rows": null,
      "height": null,
      "justify_content": null,
      "justify_items": null,
      "left": null,
      "margin": null,
      "max_height": null,
      "max_width": null,
      "min_height": null,
      "min_width": null,
      "object_fit": null,
      "object_position": null,
      "order": null,
      "overflow": null,
      "overflow_x": null,
      "overflow_y": null,
      "padding": null,
      "right": null,
      "top": null,
      "visibility": null,
      "width": null
     }
    },
    "3f7961471de84b85b0c3b7489d56751d": {
     "model_module": "@jupyter-widgets/base",
     "model_module_version": "1.2.0",
     "model_name": "LayoutModel",
     "state": {
      "_model_module": "@jupyter-widgets/base",
      "_model_module_version": "1.2.0",
      "_model_name": "LayoutModel",
      "_view_count": null,
      "_view_module": "@jupyter-widgets/base",
      "_view_module_version": "1.2.0",
      "_view_name": "LayoutView",
      "align_content": null,
      "align_items": null,
      "align_self": null,
      "border": null,
      "bottom": null,
      "display": null,
      "flex": null,
      "flex_flow": null,
      "grid_area": null,
      "grid_auto_columns": null,
      "grid_auto_flow": null,
      "grid_auto_rows": null,
      "grid_column": null,
      "grid_gap": null,
      "grid_row": null,
      "grid_template_areas": null,
      "grid_template_columns": null,
      "grid_template_rows": null,
      "height": "auto",
      "justify_content": null,
      "justify_items": null,
      "left": null,
      "margin": null,
      "max_height": null,
      "max_width": null,
      "min_height": null,
      "min_width": null,
      "object_fit": null,
      "object_position": null,
      "order": null,
      "overflow": null,
      "overflow_x": null,
      "overflow_y": null,
      "padding": "0px 0px 0px 4px",
      "right": null,
      "top": null,
      "visibility": null,
      "width": "auto"
     }
    },
    "434983e582ce44c1b388421c51a7e4a3": {
     "model_module": "@jupyter-widgets/base",
     "model_module_version": "1.2.0",
     "model_name": "LayoutModel",
     "state": {
      "_model_module": "@jupyter-widgets/base",
      "_model_module_version": "1.2.0",
      "_model_name": "LayoutModel",
      "_view_count": null,
      "_view_module": "@jupyter-widgets/base",
      "_view_module_version": "1.2.0",
      "_view_name": "LayoutView",
      "align_content": null,
      "align_items": null,
      "align_self": null,
      "border": null,
      "bottom": null,
      "display": null,
      "flex": null,
      "flex_flow": null,
      "grid_area": null,
      "grid_auto_columns": null,
      "grid_auto_flow": null,
      "grid_auto_rows": null,
      "grid_column": null,
      "grid_gap": null,
      "grid_row": null,
      "grid_template_areas": null,
      "grid_template_columns": null,
      "grid_template_rows": null,
      "height": "auto",
      "justify_content": null,
      "justify_items": null,
      "left": null,
      "margin": null,
      "max_height": null,
      "max_width": null,
      "min_height": null,
      "min_width": null,
      "object_fit": null,
      "object_position": null,
      "order": null,
      "overflow": null,
      "overflow_x": null,
      "overflow_y": null,
      "padding": "0px 0px 0px 4px",
      "right": null,
      "top": null,
      "visibility": null,
      "width": "auto"
     }
    },
    "43c1de08788143c68cb5da76ad54f33a": {
     "model_module": "jupyter-leaflet",
     "model_module_version": "^0.17",
     "model_name": "LeafletTileLayerModel",
     "state": {
      "_model_module": "jupyter-leaflet",
      "_model_module_version": "^0.17",
      "_model_name": "LeafletTileLayerModel",
      "_view_count": null,
      "_view_module": "jupyter-leaflet",
      "_view_module_version": "^0.17",
      "_view_name": "LeafletTileLayerView",
      "attribution": "Google",
      "base": false,
      "bottom": true,
      "bounds": null,
      "detect_retina": false,
      "loading": true,
      "max_native_zoom": null,
      "max_zoom": 24,
      "min_native_zoom": null,
      "min_zoom": 0,
      "name": "Google Maps",
      "no_wrap": false,
      "opacity": 1,
      "options": [
       "attribution",
       "bounds",
       "detect_retina",
       "max_native_zoom",
       "max_zoom",
       "min_native_zoom",
       "min_zoom",
       "no_wrap",
       "tile_size",
       "tms",
       "zoom_offset"
      ],
      "pane": "",
      "popup": null,
      "popup_max_height": null,
      "popup_max_width": 300,
      "popup_min_width": 50,
      "show_loading": false,
      "subitems": [],
      "tile_size": 256,
      "tms": false,
      "url": "https://mt1.google.com/vt/lyrs=m&x={x}&y={y}&z={z}",
      "visible": true,
      "zoom_offset": 0
     }
    },
    "4874a04d76e44df59bbbe78a7f6affc1": {
     "model_module": "@jupyter-widgets/controls",
     "model_module_version": "1.5.0",
     "model_name": "TextModel",
     "state": {
      "_dom_classes": [],
      "_model_module": "@jupyter-widgets/controls",
      "_model_module_version": "1.5.0",
      "_model_name": "TextModel",
      "_view_count": null,
      "_view_module": "@jupyter-widgets/controls",
      "_view_module_version": "1.5.0",
      "_view_name": "TextView",
      "continuous_update": true,
      "description": "",
      "description_tooltip": null,
      "disabled": false,
      "layout": "IPY_MODEL_2d7570ad4a404f0e9327ea26bea6ccc0",
      "placeholder": "Search by place name or address",
      "style": "IPY_MODEL_e1afba0764044bc2ad869b8f04e32aa6",
      "value": ""
     }
    },
    "4a1e74e6e9234a9b9b7e4e159208a41f": {
     "model_module": "@jupyter-widgets/base",
     "model_module_version": "1.2.0",
     "model_name": "LayoutModel",
     "state": {
      "_model_module": "@jupyter-widgets/base",
      "_model_module_version": "1.2.0",
      "_model_name": "LayoutModel",
      "_view_count": null,
      "_view_module": "@jupyter-widgets/base",
      "_view_module_version": "1.2.0",
      "_view_name": "LayoutView",
      "align_content": null,
      "align_items": null,
      "align_self": null,
      "border": null,
      "bottom": null,
      "display": null,
      "flex": null,
      "flex_flow": null,
      "grid_area": null,
      "grid_auto_columns": null,
      "grid_auto_flow": null,
      "grid_auto_rows": null,
      "grid_column": null,
      "grid_gap": null,
      "grid_row": null,
      "grid_template_areas": null,
      "grid_template_columns": null,
      "grid_template_rows": null,
      "height": null,
      "justify_content": null,
      "justify_items": null,
      "left": null,
      "margin": null,
      "max_height": null,
      "max_width": null,
      "min_height": null,
      "min_width": null,
      "object_fit": null,
      "object_position": null,
      "order": null,
      "overflow": null,
      "overflow_x": null,
      "overflow_y": null,
      "padding": null,
      "right": null,
      "top": null,
      "visibility": null,
      "width": null
     }
    },
    "4a332d46bd1848aa89955a42e7e563be": {
     "model_module": "jupyter-leaflet",
     "model_module_version": "^0.17",
     "model_name": "LeafletWidgetControlModel",
     "state": {
      "_model_module": "jupyter-leaflet",
      "_model_module_version": "^0.17",
      "_model_name": "LeafletWidgetControlModel",
      "_view_count": null,
      "_view_module": "jupyter-leaflet",
      "_view_module_version": "^0.17",
      "_view_name": "LeafletWidgetControlView",
      "max_height": null,
      "max_width": null,
      "min_height": null,
      "min_width": null,
      "options": [
       "position",
       "transparent_bg"
      ],
      "position": "topleft",
      "transparent_bg": false,
      "widget": "IPY_MODEL_583f04b470044f5fbbe1f67e36ede620"
     }
    },
    "4a34c0117bea41af8817897f68b3ae9c": {
     "model_module": "@jupyter-widgets/base",
     "model_module_version": "1.2.0",
     "model_name": "LayoutModel",
     "state": {
      "_model_module": "@jupyter-widgets/base",
      "_model_module_version": "1.2.0",
      "_model_name": "LayoutModel",
      "_view_count": null,
      "_view_module": "@jupyter-widgets/base",
      "_view_module_version": "1.2.0",
      "_view_name": "LayoutView",
      "align_content": null,
      "align_items": null,
      "align_self": null,
      "border": null,
      "bottom": null,
      "display": null,
      "flex": null,
      "flex_flow": null,
      "grid_area": null,
      "grid_auto_columns": null,
      "grid_auto_flow": null,
      "grid_auto_rows": null,
      "grid_column": null,
      "grid_gap": null,
      "grid_row": null,
      "grid_template_areas": null,
      "grid_template_columns": null,
      "grid_template_rows": null,
      "height": null,
      "justify_content": null,
      "justify_items": null,
      "left": null,
      "margin": null,
      "max_height": null,
      "max_width": null,
      "min_height": null,
      "min_width": null,
      "object_fit": null,
      "object_position": null,
      "order": null,
      "overflow": null,
      "overflow_x": null,
      "overflow_y": null,
      "padding": null,
      "right": null,
      "top": null,
      "visibility": null,
      "width": null
     }
    },
    "4aa198e890664ac59a3a6a068a757702": {
     "model_module": "@jupyter-widgets/base",
     "model_module_version": "1.2.0",
     "model_name": "LayoutModel",
     "state": {
      "_model_module": "@jupyter-widgets/base",
      "_model_module_version": "1.2.0",
      "_model_name": "LayoutModel",
      "_view_count": null,
      "_view_module": "@jupyter-widgets/base",
      "_view_module_version": "1.2.0",
      "_view_name": "LayoutView",
      "align_content": null,
      "align_items": null,
      "align_self": null,
      "border": null,
      "bottom": null,
      "display": null,
      "flex": null,
      "flex_flow": null,
      "grid_area": null,
      "grid_auto_columns": null,
      "grid_auto_flow": null,
      "grid_auto_rows": null,
      "grid_column": null,
      "grid_gap": null,
      "grid_row": null,
      "grid_template_areas": null,
      "grid_template_columns": null,
      "grid_template_rows": null,
      "height": "auto",
      "justify_content": null,
      "justify_items": null,
      "left": null,
      "margin": null,
      "max_height": null,
      "max_width": null,
      "min_height": null,
      "min_width": null,
      "object_fit": null,
      "object_position": null,
      "order": null,
      "overflow": null,
      "overflow_x": null,
      "overflow_y": null,
      "padding": "0px 0px 0px 4px",
      "right": null,
      "top": null,
      "visibility": null,
      "width": "auto"
     }
    },
    "4df996bc088d4bf08a357bacff584c5d": {
     "model_module": "jupyter-leaflet",
     "model_module_version": "^0.17",
     "model_name": "LeafletAttributionControlModel",
     "state": {
      "_model_module": "jupyter-leaflet",
      "_model_module_version": "^0.17",
      "_model_name": "LeafletAttributionControlModel",
      "_view_count": null,
      "_view_module": "jupyter-leaflet",
      "_view_module_version": "^0.17",
      "_view_name": "LeafletAttributionControlView",
      "options": [
       "position",
       "prefix"
      ],
      "position": "bottomright",
      "prefix": "ipyleaflet"
     }
    },
    "4f354dcf6f2a4eaaaba38a89df898f14": {
     "model_module": "@jupyter-widgets/base",
     "model_module_version": "1.2.0",
     "model_name": "LayoutModel",
     "state": {
      "_model_module": "@jupyter-widgets/base",
      "_model_module_version": "1.2.0",
      "_model_name": "LayoutModel",
      "_view_count": null,
      "_view_module": "@jupyter-widgets/base",
      "_view_module_version": "1.2.0",
      "_view_name": "LayoutView",
      "align_content": null,
      "align_items": null,
      "align_self": null,
      "border": null,
      "bottom": null,
      "display": null,
      "flex": null,
      "flex_flow": null,
      "grid_area": null,
      "grid_auto_columns": null,
      "grid_auto_flow": null,
      "grid_auto_rows": null,
      "grid_column": null,
      "grid_gap": null,
      "grid_row": null,
      "grid_template_areas": null,
      "grid_template_columns": null,
      "grid_template_rows": null,
      "height": "auto",
      "justify_content": null,
      "justify_items": null,
      "left": null,
      "margin": null,
      "max_height": null,
      "max_width": null,
      "min_height": null,
      "min_width": null,
      "object_fit": null,
      "object_position": null,
      "order": null,
      "overflow": null,
      "overflow_x": null,
      "overflow_y": null,
      "padding": "0px 0px 0px 4px",
      "right": null,
      "top": null,
      "visibility": null,
      "width": "auto"
     }
    },
    "4f3b65405cc54708b7b33a0960cd5b70": {
     "model_module": "@jupyter-widgets/controls",
     "model_module_version": "1.5.0",
     "model_name": "DescriptionStyleModel",
     "state": {
      "_model_module": "@jupyter-widgets/controls",
      "_model_module_version": "1.5.0",
      "_model_name": "DescriptionStyleModel",
      "_view_count": null,
      "_view_module": "@jupyter-widgets/base",
      "_view_module_version": "1.2.0",
      "_view_name": "StyleView",
      "description_width": ""
     }
    },
    "4fda2d8757a84d5eb9aaa119780a7da8": {
     "model_module": "@jupyter-widgets/base",
     "model_module_version": "1.2.0",
     "model_name": "LayoutModel",
     "state": {
      "_model_module": "@jupyter-widgets/base",
      "_model_module_version": "1.2.0",
      "_model_name": "LayoutModel",
      "_view_count": null,
      "_view_module": "@jupyter-widgets/base",
      "_view_module_version": "1.2.0",
      "_view_name": "LayoutView",
      "align_content": null,
      "align_items": null,
      "align_self": null,
      "border": null,
      "bottom": null,
      "display": null,
      "flex": null,
      "flex_flow": null,
      "grid_area": null,
      "grid_auto_columns": null,
      "grid_auto_flow": null,
      "grid_auto_rows": null,
      "grid_column": null,
      "grid_gap": "1px 1px",
      "grid_row": null,
      "grid_template_areas": null,
      "grid_template_columns": "32px 32px 32px ",
      "grid_template_rows": "32px 32px ",
      "height": null,
      "justify_content": null,
      "justify_items": null,
      "left": null,
      "margin": null,
      "max_height": null,
      "max_width": null,
      "min_height": null,
      "min_width": null,
      "object_fit": null,
      "object_position": null,
      "order": null,
      "overflow": null,
      "overflow_x": null,
      "overflow_y": null,
      "padding": "5px",
      "right": null,
      "top": null,
      "visibility": null,
      "width": "109px"
     }
    },
    "572978202fa745088e5510736586675f": {
     "model_module": "@jupyter-widgets/base",
     "model_module_version": "1.2.0",
     "model_name": "LayoutModel",
     "state": {
      "_model_module": "@jupyter-widgets/base",
      "_model_module_version": "1.2.0",
      "_model_name": "LayoutModel",
      "_view_count": null,
      "_view_module": "@jupyter-widgets/base",
      "_view_module_version": "1.2.0",
      "_view_name": "LayoutView",
      "align_content": null,
      "align_items": null,
      "align_self": null,
      "border": null,
      "bottom": null,
      "display": null,
      "flex": null,
      "flex_flow": null,
      "grid_area": null,
      "grid_auto_columns": null,
      "grid_auto_flow": null,
      "grid_auto_rows": null,
      "grid_column": null,
      "grid_gap": null,
      "grid_row": null,
      "grid_template_areas": null,
      "grid_template_columns": null,
      "grid_template_rows": null,
      "height": null,
      "justify_content": null,
      "justify_items": null,
      "left": null,
      "margin": null,
      "max_height": null,
      "max_width": null,
      "min_height": null,
      "min_width": null,
      "object_fit": null,
      "object_position": null,
      "order": null,
      "overflow": null,
      "overflow_x": null,
      "overflow_y": null,
      "padding": null,
      "right": null,
      "top": null,
      "visibility": null,
      "width": null
     }
    },
    "583f04b470044f5fbbe1f67e36ede620": {
     "model_module": "@jupyter-widgets/controls",
     "model_module_version": "1.5.0",
     "model_name": "HBoxModel",
     "state": {
      "_dom_classes": [],
      "_model_module": "@jupyter-widgets/controls",
      "_model_module_version": "1.5.0",
      "_model_name": "HBoxModel",
      "_view_count": null,
      "_view_module": "@jupyter-widgets/controls",
      "_view_module_version": "1.5.0",
      "_view_name": "HBoxView",
      "box_style": "",
      "children": [
       "IPY_MODEL_b6bed1f02c3249398bef595b68d46ad7"
      ],
      "layout": "IPY_MODEL_b4c0f3bb9b00470e9fba113121ea61ed"
     }
    },
    "59ef4cd5ae8d4d5b86e6631441c168c1": {
     "model_module": "jupyter-leaflet",
     "model_module_version": "^0.17",
     "model_name": "LeafletTileLayerModel",
     "state": {
      "_model_module": "jupyter-leaflet",
      "_model_module_version": "^0.17",
      "_model_name": "LeafletTileLayerModel",
      "_view_count": null,
      "_view_module": "jupyter-leaflet",
      "_view_module_version": "^0.17",
      "_view_name": "LeafletTileLayerView",
      "attribution": "Google Earth Engine",
      "base": false,
      "bottom": true,
      "bounds": null,
      "detect_retina": false,
      "loading": true,
      "max_native_zoom": null,
      "max_zoom": 24,
      "min_native_zoom": null,
      "min_zoom": 0,
      "name": "Layer 9",
      "no_wrap": false,
      "opacity": 1,
      "options": [
       "attribution",
       "bounds",
       "detect_retina",
       "max_native_zoom",
       "max_zoom",
       "min_native_zoom",
       "min_zoom",
       "no_wrap",
       "tile_size",
       "tms",
       "zoom_offset"
      ],
      "pane": "",
      "popup": null,
      "popup_max_height": null,
      "popup_max_width": 300,
      "popup_min_width": 50,
      "show_loading": false,
      "subitems": [],
      "tile_size": 256,
      "tms": false,
      "url": "https://earthengine.googleapis.com/v1alpha/projects/earthengine-legacy/maps/954a0ae5dce2477f2ab2544d21b49ab1-fff2d6f0b07af0030dfe76939bc626ac/tiles/{z}/{x}/{y}",
      "visible": true,
      "zoom_offset": 0
     }
    },
    "5b0fb017bee046f893d8a6615f521648": {
     "model_module": "@jupyter-widgets/controls",
     "model_module_version": "1.5.0",
     "model_name": "DescriptionStyleModel",
     "state": {
      "_model_module": "@jupyter-widgets/controls",
      "_model_module_version": "1.5.0",
      "_model_name": "DescriptionStyleModel",
      "_view_count": null,
      "_view_module": "@jupyter-widgets/base",
      "_view_module_version": "1.2.0",
      "_view_name": "StyleView",
      "description_width": ""
     }
    },
    "614260445cf44d81ac2ec618301e572a": {
     "model_module": "@jupyter-widgets/controls",
     "model_module_version": "1.5.0",
     "model_name": "ToggleButtonModel",
     "state": {
      "_dom_classes": [],
      "_model_module": "@jupyter-widgets/controls",
      "_model_module_version": "1.5.0",
      "_model_name": "ToggleButtonModel",
      "_view_count": null,
      "_view_module": "@jupyter-widgets/controls",
      "_view_module_version": "1.5.0",
      "_view_name": "ToggleButtonView",
      "button_style": "",
      "description": "",
      "description_tooltip": null,
      "disabled": false,
      "icon": "globe",
      "layout": "IPY_MODEL_331f262e6de14382989970f3dbcfef5d",
      "style": "IPY_MODEL_ded22f93c2474bc99f62a6b8a983e9b2",
      "tooltip": "Search location/data",
      "value": false
     }
    },
    "6244e2ee797049c09e9baa3be68d1880": {
     "model_module": "@jupyter-widgets/base",
     "model_module_version": "1.2.0",
     "model_name": "LayoutModel",
     "state": {
      "_model_module": "@jupyter-widgets/base",
      "_model_module_version": "1.2.0",
      "_model_name": "LayoutModel",
      "_view_count": null,
      "_view_module": "@jupyter-widgets/base",
      "_view_module_version": "1.2.0",
      "_view_name": "LayoutView",
      "align_content": null,
      "align_items": null,
      "align_self": null,
      "border": null,
      "bottom": null,
      "display": null,
      "flex": null,
      "flex_flow": null,
      "grid_area": null,
      "grid_auto_columns": null,
      "grid_auto_flow": null,
      "grid_auto_rows": null,
      "grid_column": null,
      "grid_gap": null,
      "grid_row": null,
      "grid_template_areas": null,
      "grid_template_columns": null,
      "grid_template_rows": null,
      "height": null,
      "justify_content": null,
      "justify_items": null,
      "left": null,
      "margin": null,
      "max_height": null,
      "max_width": "57px",
      "min_height": null,
      "min_width": "57px",
      "object_fit": null,
      "object_position": null,
      "order": null,
      "overflow": null,
      "overflow_x": null,
      "overflow_y": null,
      "padding": null,
      "right": null,
      "top": null,
      "visibility": null,
      "width": null
     }
    },
    "6280bb9e19b3418ebc9725a3c808b929": {
     "model_module": "@jupyter-widgets/base",
     "model_module_version": "1.2.0",
     "model_name": "LayoutModel",
     "state": {
      "_model_module": "@jupyter-widgets/base",
      "_model_module_version": "1.2.0",
      "_model_name": "LayoutModel",
      "_view_count": null,
      "_view_module": "@jupyter-widgets/base",
      "_view_module_version": "1.2.0",
      "_view_name": "LayoutView",
      "align_content": null,
      "align_items": null,
      "align_self": null,
      "border": null,
      "bottom": null,
      "display": null,
      "flex": null,
      "flex_flow": null,
      "grid_area": null,
      "grid_auto_columns": null,
      "grid_auto_flow": null,
      "grid_auto_rows": null,
      "grid_column": null,
      "grid_gap": null,
      "grid_row": null,
      "grid_template_areas": null,
      "grid_template_columns": null,
      "grid_template_rows": null,
      "height": "28px",
      "justify_content": null,
      "justify_items": null,
      "left": null,
      "margin": null,
      "max_height": null,
      "max_width": null,
      "min_height": null,
      "min_width": null,
      "object_fit": null,
      "object_position": null,
      "order": null,
      "overflow": null,
      "overflow_x": null,
      "overflow_y": null,
      "padding": "0px 0px 0px 4px",
      "right": null,
      "top": null,
      "visibility": null,
      "width": "28px"
     }
    },
    "62e74c7cf52142e5a6c81cd8351f6593": {
     "model_module": "@jupyter-widgets/controls",
     "model_module_version": "1.5.0",
     "model_name": "DescriptionStyleModel",
     "state": {
      "_model_module": "@jupyter-widgets/controls",
      "_model_module_version": "1.5.0",
      "_model_name": "DescriptionStyleModel",
      "_view_count": null,
      "_view_module": "@jupyter-widgets/base",
      "_view_module_version": "1.2.0",
      "_view_name": "StyleView",
      "description_width": ""
     }
    },
    "6bfe6f3bb77b464184847fc4ac05bc09": {
     "model_module": "@jupyter-widgets/base",
     "model_module_version": "1.2.0",
     "model_name": "LayoutModel",
     "state": {
      "_model_module": "@jupyter-widgets/base",
      "_model_module_version": "1.2.0",
      "_model_name": "LayoutModel",
      "_view_count": null,
      "_view_module": "@jupyter-widgets/base",
      "_view_module_version": "1.2.0",
      "_view_name": "LayoutView",
      "align_content": null,
      "align_items": null,
      "align_self": null,
      "border": null,
      "bottom": null,
      "display": null,
      "flex": null,
      "flex_flow": null,
      "grid_area": null,
      "grid_auto_columns": null,
      "grid_auto_flow": null,
      "grid_auto_rows": null,
      "grid_column": null,
      "grid_gap": null,
      "grid_row": null,
      "grid_template_areas": null,
      "grid_template_columns": null,
      "grid_template_rows": null,
      "height": null,
      "justify_content": null,
      "justify_items": null,
      "left": null,
      "margin": null,
      "max_height": null,
      "max_width": null,
      "min_height": null,
      "min_width": null,
      "object_fit": null,
      "object_position": null,
      "order": null,
      "overflow": null,
      "overflow_x": null,
      "overflow_y": null,
      "padding": null,
      "right": null,
      "top": null,
      "visibility": null,
      "width": null
     }
    },
    "6f2d6041fa4346efb6f8fbb857813cf1": {
     "model_module": "@jupyter-widgets/controls",
     "model_module_version": "1.5.0",
     "model_name": "DescriptionStyleModel",
     "state": {
      "_model_module": "@jupyter-widgets/controls",
      "_model_module_version": "1.5.0",
      "_model_name": "DescriptionStyleModel",
      "_view_count": null,
      "_view_module": "@jupyter-widgets/base",
      "_view_module_version": "1.2.0",
      "_view_name": "StyleView",
      "description_width": ""
     }
    },
    "734f463211ea4d7588dd4a81966650e5": {
     "model_module": "@jupyter-widgets/controls",
     "model_module_version": "1.5.0",
     "model_name": "DescriptionStyleModel",
     "state": {
      "_model_module": "@jupyter-widgets/controls",
      "_model_module_version": "1.5.0",
      "_model_name": "DescriptionStyleModel",
      "_view_count": null,
      "_view_module": "@jupyter-widgets/base",
      "_view_module_version": "1.2.0",
      "_view_name": "StyleView",
      "description_width": ""
     }
    },
    "78847ddb68ef4c898845937e17fd5710": {
     "model_module": "jupyter-leaflet",
     "model_module_version": "^0.17",
     "model_name": "LeafletScaleControlModel",
     "state": {
      "_model_module": "jupyter-leaflet",
      "_model_module_version": "^0.17",
      "_model_name": "LeafletScaleControlModel",
      "_view_count": null,
      "_view_module": "jupyter-leaflet",
      "_view_module_version": "^0.17",
      "_view_name": "LeafletScaleControlView",
      "imperial": true,
      "max_width": 100,
      "metric": true,
      "options": [
       "imperial",
       "max_width",
       "metric",
       "position",
       "update_when_idle"
      ],
      "position": "bottomleft",
      "update_when_idle": false
     }
    },
    "7ebffc50a0e34bad8825a3a53977791f": {
     "model_module": "jupyter-leaflet",
     "model_module_version": "^0.17",
     "model_name": "LeafletMeasureControlModel",
     "state": {
      "_custom_units": {},
      "_model_module": "jupyter-leaflet",
      "_model_module_version": "^0.17",
      "_model_name": "LeafletMeasureControlModel",
      "_view_count": null,
      "_view_module": "jupyter-leaflet",
      "_view_module_version": "^0.17",
      "_view_name": "LeafletMeasureControlView",
      "active_color": "orange",
      "capture_z_index": 10000,
      "completed_color": "#C8F2BE",
      "options": [
       "active_color",
       "capture_z_index",
       "completed_color",
       "popup_options",
       "position",
       "primary_area_unit",
       "primary_length_unit",
       "secondary_area_unit",
       "secondary_length_unit"
      ],
      "popup_options": {
       "autoPanPadding": [
        10,
        10
       ],
       "className": "leaflet-measure-resultpopup"
      },
      "position": "bottomleft",
      "primary_area_unit": "acres",
      "primary_length_unit": "kilometers",
      "secondary_area_unit": null,
      "secondary_length_unit": null
     }
    },
    "8090b194cddc48cfb8561fac526623a3": {
     "model_module": "jupyter-leaflet",
     "model_module_version": "^0.17",
     "model_name": "LeafletTileLayerModel",
     "state": {
      "_model_module": "jupyter-leaflet",
      "_model_module_version": "^0.17",
      "_model_name": "LeafletTileLayerModel",
      "_view_count": null,
      "_view_module": "jupyter-leaflet",
      "_view_module_version": "^0.17",
      "_view_name": "LeafletTileLayerView",
      "attribution": "Google Earth Engine",
      "base": false,
      "bottom": true,
      "bounds": null,
      "detect_retina": false,
      "loading": true,
      "max_native_zoom": null,
      "max_zoom": 24,
      "min_native_zoom": null,
      "min_zoom": 0,
      "name": "Layer 4",
      "no_wrap": false,
      "opacity": 1,
      "options": [
       "attribution",
       "bounds",
       "detect_retina",
       "max_native_zoom",
       "max_zoom",
       "min_native_zoom",
       "min_zoom",
       "no_wrap",
       "tile_size",
       "tms",
       "zoom_offset"
      ],
      "pane": "",
      "popup": null,
      "popup_max_height": null,
      "popup_max_width": 300,
      "popup_min_width": 50,
      "show_loading": false,
      "subitems": [],
      "tile_size": 256,
      "tms": false,
      "url": "https://earthengine.googleapis.com/v1alpha/projects/earthengine-legacy/maps/516536d810127d90b751c71cece0f8a7-5d330e35aa63a42fcc6b02c61d65816a/tiles/{z}/{x}/{y}",
      "visible": true,
      "zoom_offset": 0
     }
    },
    "828cade214d04e5cb5ebac901abf3f06": {
     "model_module": "jupyter-leaflet",
     "model_module_version": "^0.17",
     "model_name": "LeafletTileLayerModel",
     "state": {
      "_model_module": "jupyter-leaflet",
      "_model_module_version": "^0.17",
      "_model_name": "LeafletTileLayerModel",
      "_view_count": null,
      "_view_module": "jupyter-leaflet",
      "_view_module_version": "^0.17",
      "_view_name": "LeafletTileLayerView",
      "attribution": "Google Earth Engine",
      "base": false,
      "bottom": true,
      "bounds": null,
      "detect_retina": false,
      "loading": true,
      "max_native_zoom": null,
      "max_zoom": 24,
      "min_native_zoom": null,
      "min_zoom": 0,
      "name": "Layer 13",
      "no_wrap": false,
      "opacity": 1,
      "options": [
       "attribution",
       "bounds",
       "detect_retina",
       "max_native_zoom",
       "max_zoom",
       "min_native_zoom",
       "min_zoom",
       "no_wrap",
       "tile_size",
       "tms",
       "zoom_offset"
      ],
      "pane": "",
      "popup": null,
      "popup_max_height": null,
      "popup_max_width": 300,
      "popup_min_width": 50,
      "show_loading": false,
      "subitems": [],
      "tile_size": 256,
      "tms": false,
      "url": "https://earthengine.googleapis.com/v1alpha/projects/earthengine-legacy/maps/0db348f5dd69035d0f74c401b5bc6eb1-8f14b64ff9ce9798bccd2531eab6f66d/tiles/{z}/{x}/{y}",
      "visible": true,
      "zoom_offset": 0
     }
    },
    "8309f612eed6408e89b1f2ffe90b6adb": {
     "model_module": "jupyter-leaflet",
     "model_module_version": "^0.17",
     "model_name": "LeafletTileLayerModel",
     "state": {
      "_model_module": "jupyter-leaflet",
      "_model_module_version": "^0.17",
      "_model_name": "LeafletTileLayerModel",
      "_view_count": null,
      "_view_module": "jupyter-leaflet",
      "_view_module_version": "^0.17",
      "_view_name": "LeafletTileLayerView",
      "attribution": "Google Earth Engine",
      "base": false,
      "bottom": true,
      "bounds": null,
      "detect_retina": false,
      "loading": true,
      "max_native_zoom": null,
      "max_zoom": 24,
      "min_native_zoom": null,
      "min_zoom": 0,
      "name": "Layer 4",
      "no_wrap": false,
      "opacity": 1,
      "options": [
       "attribution",
       "bounds",
       "detect_retina",
       "max_native_zoom",
       "max_zoom",
       "min_native_zoom",
       "min_zoom",
       "no_wrap",
       "tile_size",
       "tms",
       "zoom_offset"
      ],
      "pane": "",
      "popup": null,
      "popup_max_height": null,
      "popup_max_width": 300,
      "popup_min_width": 50,
      "show_loading": false,
      "subitems": [],
      "tile_size": 256,
      "tms": false,
      "url": "https://earthengine.googleapis.com/v1alpha/projects/earthengine-legacy/maps/df292631fe47ebeb3ea454baf2999331-6f54fa148e40661e6ddd2db6988ded20/tiles/{z}/{x}/{y}",
      "visible": true,
      "zoom_offset": 0
     }
    },
    "837a9bc8146a4a0e958ab361ff4763b2": {
     "model_module": "@jupyter-widgets/base",
     "model_module_version": "1.2.0",
     "model_name": "LayoutModel",
     "state": {
      "_model_module": "@jupyter-widgets/base",
      "_model_module_version": "1.2.0",
      "_model_name": "LayoutModel",
      "_view_count": null,
      "_view_module": "@jupyter-widgets/base",
      "_view_module_version": "1.2.0",
      "_view_name": "LayoutView",
      "align_content": null,
      "align_items": null,
      "align_self": null,
      "border": null,
      "bottom": null,
      "display": null,
      "flex": null,
      "flex_flow": null,
      "grid_area": null,
      "grid_auto_columns": null,
      "grid_auto_flow": null,
      "grid_auto_rows": null,
      "grid_column": null,
      "grid_gap": null,
      "grid_row": null,
      "grid_template_areas": null,
      "grid_template_columns": null,
      "grid_template_rows": null,
      "height": "28px",
      "justify_content": null,
      "justify_items": null,
      "left": null,
      "margin": null,
      "max_height": null,
      "max_width": null,
      "min_height": null,
      "min_width": null,
      "object_fit": null,
      "object_position": null,
      "order": null,
      "overflow": null,
      "overflow_x": null,
      "overflow_y": null,
      "padding": null,
      "right": null,
      "top": null,
      "visibility": null,
      "width": "72px"
     }
    },
    "841ae68ba65d4b1d8f66660ddd2f53d4": {
     "model_module": "@jupyter-widgets/base",
     "model_module_version": "1.2.0",
     "model_name": "LayoutModel",
     "state": {
      "_model_module": "@jupyter-widgets/base",
      "_model_module_version": "1.2.0",
      "_model_name": "LayoutModel",
      "_view_count": null,
      "_view_module": "@jupyter-widgets/base",
      "_view_module_version": "1.2.0",
      "_view_name": "LayoutView",
      "align_content": null,
      "align_items": null,
      "align_self": null,
      "border": null,
      "bottom": null,
      "display": null,
      "flex": null,
      "flex_flow": null,
      "grid_area": null,
      "grid_auto_columns": null,
      "grid_auto_flow": null,
      "grid_auto_rows": null,
      "grid_column": null,
      "grid_gap": null,
      "grid_row": null,
      "grid_template_areas": null,
      "grid_template_columns": null,
      "grid_template_rows": null,
      "height": "600px",
      "justify_content": null,
      "justify_items": null,
      "left": null,
      "margin": null,
      "max_height": null,
      "max_width": null,
      "min_height": null,
      "min_width": null,
      "object_fit": null,
      "object_position": null,
      "order": null,
      "overflow": null,
      "overflow_x": null,
      "overflow_y": null,
      "padding": null,
      "right": null,
      "top": null,
      "visibility": null,
      "width": null
     }
    },
    "863a3ef9187a418abe3ced7fb43b1afc": {
     "model_module": "@jupyter-widgets/base",
     "model_module_version": "1.2.0",
     "model_name": "LayoutModel",
     "state": {
      "_model_module": "@jupyter-widgets/base",
      "_model_module_version": "1.2.0",
      "_model_name": "LayoutModel",
      "_view_count": null,
      "_view_module": "@jupyter-widgets/base",
      "_view_module_version": "1.2.0",
      "_view_name": "LayoutView",
      "align_content": null,
      "align_items": null,
      "align_self": null,
      "border": null,
      "bottom": null,
      "display": null,
      "flex": null,
      "flex_flow": null,
      "grid_area": null,
      "grid_auto_columns": null,
      "grid_auto_flow": null,
      "grid_auto_rows": null,
      "grid_column": null,
      "grid_gap": null,
      "grid_row": null,
      "grid_template_areas": null,
      "grid_template_columns": null,
      "grid_template_rows": null,
      "height": null,
      "justify_content": null,
      "justify_items": null,
      "left": null,
      "margin": null,
      "max_height": null,
      "max_width": null,
      "min_height": null,
      "min_width": null,
      "object_fit": null,
      "object_position": null,
      "order": null,
      "overflow": null,
      "overflow_x": null,
      "overflow_y": null,
      "padding": null,
      "right": null,
      "top": null,
      "visibility": null,
      "width": null
     }
    },
    "8737f530161d42f789fa2d1625e11868": {
     "model_module": "@jupyter-widgets/controls",
     "model_module_version": "1.5.0",
     "model_name": "ToggleButtonModel",
     "state": {
      "_dom_classes": [],
      "_model_module": "@jupyter-widgets/controls",
      "_model_module_version": "1.5.0",
      "_model_name": "ToggleButtonModel",
      "_view_count": null,
      "_view_module": "@jupyter-widgets/controls",
      "_view_module_version": "1.5.0",
      "_view_name": "ToggleButtonView",
      "button_style": "primary",
      "description": "",
      "description_tooltip": null,
      "disabled": false,
      "icon": "map",
      "layout": "IPY_MODEL_272e28c340e94f18abfffa795666bb26",
      "style": "IPY_MODEL_aa7349960d5346e9906921e10bdb3a01",
      "tooltip": "Change basemap",
      "value": false
     }
    },
    "8768f8b0b6554a29a0ff87280d06e597": {
     "model_module": "@jupyter-widgets/controls",
     "model_module_version": "1.5.0",
     "model_name": "GridBoxModel",
     "state": {
      "_dom_classes": [],
      "_model_module": "@jupyter-widgets/controls",
      "_model_module_version": "1.5.0",
      "_model_name": "GridBoxModel",
      "_view_count": null,
      "_view_module": "@jupyter-widgets/controls",
      "_view_module_version": "1.5.0",
      "_view_name": "GridBoxView",
      "box_style": "",
      "children": [
       "IPY_MODEL_d24e43c33e1742908c90886ce4392301",
       "IPY_MODEL_dec979d8fa3f43b887b679e8a57cdb32",
       "IPY_MODEL_c765e395032f48178718995c87309e65",
       "IPY_MODEL_8737f530161d42f789fa2d1625e11868",
       "IPY_MODEL_00adc42abb574ba8b1761ec425fa5a72",
       "IPY_MODEL_a2653bd7609648b3a676bebe77f0d76b"
      ],
      "layout": "IPY_MODEL_4fda2d8757a84d5eb9aaa119780a7da8"
     }
    },
    "8a6c3b25303c483eba99807cd6acc498": {
     "model_module": "@jupyter-widgets/controls",
     "model_module_version": "1.5.0",
     "model_name": "DescriptionStyleModel",
     "state": {
      "_model_module": "@jupyter-widgets/controls",
      "_model_module_version": "1.5.0",
      "_model_name": "DescriptionStyleModel",
      "_view_count": null,
      "_view_module": "@jupyter-widgets/base",
      "_view_module_version": "1.2.0",
      "_view_name": "StyleView",
      "description_width": ""
     }
    },
    "8cdd2a706f7b4b2a8b120d1df9ac7c64": {
     "model_module": "@jupyter-widgets/base",
     "model_module_version": "1.2.0",
     "model_name": "LayoutModel",
     "state": {
      "_model_module": "@jupyter-widgets/base",
      "_model_module_version": "1.2.0",
      "_model_name": "LayoutModel",
      "_view_count": null,
      "_view_module": "@jupyter-widgets/base",
      "_view_module_version": "1.2.0",
      "_view_name": "LayoutView",
      "align_content": null,
      "align_items": null,
      "align_self": null,
      "border": null,
      "bottom": null,
      "display": null,
      "flex": null,
      "flex_flow": null,
      "grid_area": null,
      "grid_auto_columns": null,
      "grid_auto_flow": null,
      "grid_auto_rows": null,
      "grid_column": null,
      "grid_gap": null,
      "grid_row": null,
      "grid_template_areas": null,
      "grid_template_columns": null,
      "grid_template_rows": null,
      "height": "auto",
      "justify_content": null,
      "justify_items": null,
      "left": null,
      "margin": null,
      "max_height": null,
      "max_width": null,
      "min_height": null,
      "min_width": null,
      "object_fit": null,
      "object_position": null,
      "order": null,
      "overflow": null,
      "overflow_x": null,
      "overflow_y": null,
      "padding": "0px 0px 0px 4px",
      "right": null,
      "top": null,
      "visibility": null,
      "width": "auto"
     }
    },
    "8d53711596af4f39bce2c7e9f493ca92": {
     "model_module": "@jupyter-widgets/controls",
     "model_module_version": "1.5.0",
     "model_name": "DescriptionStyleModel",
     "state": {
      "_model_module": "@jupyter-widgets/controls",
      "_model_module_version": "1.5.0",
      "_model_name": "DescriptionStyleModel",
      "_view_count": null,
      "_view_module": "@jupyter-widgets/base",
      "_view_module_version": "1.2.0",
      "_view_name": "StyleView",
      "description_width": ""
     }
    },
    "914c0af3f97f4abca22b4779ed8ba26e": {
     "model_module": "@jupyter-widgets/base",
     "model_module_version": "1.2.0",
     "model_name": "LayoutModel",
     "state": {
      "_model_module": "@jupyter-widgets/base",
      "_model_module_version": "1.2.0",
      "_model_name": "LayoutModel",
      "_view_count": null,
      "_view_module": "@jupyter-widgets/base",
      "_view_module_version": "1.2.0",
      "_view_name": "LayoutView",
      "align_content": null,
      "align_items": null,
      "align_self": null,
      "border": null,
      "bottom": null,
      "display": null,
      "flex": null,
      "flex_flow": null,
      "grid_area": null,
      "grid_auto_columns": null,
      "grid_auto_flow": null,
      "grid_auto_rows": null,
      "grid_column": null,
      "grid_gap": null,
      "grid_row": null,
      "grid_template_areas": null,
      "grid_template_columns": null,
      "grid_template_rows": null,
      "height": "600px",
      "justify_content": null,
      "justify_items": null,
      "left": null,
      "margin": null,
      "max_height": null,
      "max_width": null,
      "min_height": null,
      "min_width": null,
      "object_fit": null,
      "object_position": null,
      "order": null,
      "overflow": null,
      "overflow_x": null,
      "overflow_y": null,
      "padding": null,
      "right": null,
      "top": null,
      "visibility": null,
      "width": null
     }
    },
    "92085bcde28b4e979b020e99993cc73e": {
     "model_module": "@jupyter-widgets/base",
     "model_module_version": "1.2.0",
     "model_name": "LayoutModel",
     "state": {
      "_model_module": "@jupyter-widgets/base",
      "_model_module_version": "1.2.0",
      "_model_name": "LayoutModel",
      "_view_count": null,
      "_view_module": "@jupyter-widgets/base",
      "_view_module_version": "1.2.0",
      "_view_name": "LayoutView",
      "align_content": null,
      "align_items": null,
      "align_self": null,
      "border": null,
      "bottom": null,
      "display": null,
      "flex": null,
      "flex_flow": null,
      "grid_area": null,
      "grid_auto_columns": null,
      "grid_auto_flow": null,
      "grid_auto_rows": null,
      "grid_column": null,
      "grid_gap": null,
      "grid_row": null,
      "grid_template_areas": null,
      "grid_template_columns": null,
      "grid_template_rows": null,
      "height": "auto",
      "justify_content": null,
      "justify_items": null,
      "left": null,
      "margin": null,
      "max_height": null,
      "max_width": null,
      "min_height": null,
      "min_width": null,
      "object_fit": null,
      "object_position": null,
      "order": null,
      "overflow": null,
      "overflow_x": null,
      "overflow_y": null,
      "padding": "0px 0px 0px 4px",
      "right": null,
      "top": null,
      "visibility": null,
      "width": "auto"
     }
    },
    "95a9086522a24d4da2ef8747889b12c0": {
     "model_module": "@jupyter-widgets/controls",
     "model_module_version": "1.5.0",
     "model_name": "DescriptionStyleModel",
     "state": {
      "_model_module": "@jupyter-widgets/controls",
      "_model_module_version": "1.5.0",
      "_model_name": "DescriptionStyleModel",
      "_view_count": null,
      "_view_module": "@jupyter-widgets/base",
      "_view_module_version": "1.2.0",
      "_view_name": "StyleView",
      "description_width": ""
     }
    },
    "96516a5ecd7642ffbfbe9996af3141fe": {
     "model_module": "@jupyter-widgets/controls",
     "model_module_version": "1.5.0",
     "model_name": "DescriptionStyleModel",
     "state": {
      "_model_module": "@jupyter-widgets/controls",
      "_model_module_version": "1.5.0",
      "_model_name": "DescriptionStyleModel",
      "_view_count": null,
      "_view_module": "@jupyter-widgets/base",
      "_view_module_version": "1.2.0",
      "_view_name": "StyleView",
      "description_width": ""
     }
    },
    "97df1b4f28154a1591fa1f39b3129bf6": {
     "model_module": "jupyter-leaflet",
     "model_module_version": "^0.17",
     "model_name": "LeafletZoomControlModel",
     "state": {
      "_model_module": "jupyter-leaflet",
      "_model_module_version": "^0.17",
      "_model_name": "LeafletZoomControlModel",
      "_view_count": null,
      "_view_module": "jupyter-leaflet",
      "_view_module_version": "^0.17",
      "_view_name": "LeafletZoomControlView",
      "options": [
       "position",
       "zoom_in_text",
       "zoom_in_title",
       "zoom_out_text",
       "zoom_out_title"
      ],
      "position": "topleft",
      "zoom_in_text": "+",
      "zoom_in_title": "Zoom in",
      "zoom_out_text": "-",
      "zoom_out_title": "Zoom out"
     }
    },
    "99795efb6eac4ba689ebdb241f9a36d7": {
     "model_module": "@jupyter-widgets/base",
     "model_module_version": "1.2.0",
     "model_name": "LayoutModel",
     "state": {
      "_model_module": "@jupyter-widgets/base",
      "_model_module_version": "1.2.0",
      "_model_name": "LayoutModel",
      "_view_count": null,
      "_view_module": "@jupyter-widgets/base",
      "_view_module_version": "1.2.0",
      "_view_name": "LayoutView",
      "align_content": null,
      "align_items": null,
      "align_self": null,
      "border": null,
      "bottom": null,
      "display": null,
      "flex": null,
      "flex_flow": null,
      "grid_area": null,
      "grid_auto_columns": null,
      "grid_auto_flow": null,
      "grid_auto_rows": null,
      "grid_column": null,
      "grid_gap": null,
      "grid_row": null,
      "grid_template_areas": null,
      "grid_template_columns": null,
      "grid_template_rows": null,
      "height": "auto",
      "justify_content": null,
      "justify_items": null,
      "left": null,
      "margin": null,
      "max_height": null,
      "max_width": null,
      "min_height": null,
      "min_width": null,
      "object_fit": null,
      "object_position": null,
      "order": null,
      "overflow": null,
      "overflow_x": null,
      "overflow_y": null,
      "padding": "0px 0px 0px 4px",
      "right": null,
      "top": null,
      "visibility": null,
      "width": "auto"
     }
    },
    "9a29c69e180d492ab1ca168d3f3642e2": {
     "model_module": "jupyter-leaflet",
     "model_module_version": "^0.17",
     "model_name": "LeafletTileLayerModel",
     "state": {
      "_model_module": "jupyter-leaflet",
      "_model_module_version": "^0.17",
      "_model_name": "LeafletTileLayerModel",
      "_view_count": null,
      "_view_module": "jupyter-leaflet",
      "_view_module_version": "^0.17",
      "_view_name": "LeafletTileLayerView",
      "attribution": "Google Earth Engine",
      "base": false,
      "bottom": true,
      "bounds": null,
      "detect_retina": false,
      "loading": true,
      "max_native_zoom": null,
      "max_zoom": 24,
      "min_native_zoom": null,
      "min_zoom": 0,
      "name": "Layer 3",
      "no_wrap": false,
      "opacity": 1,
      "options": [
       "attribution",
       "bounds",
       "detect_retina",
       "max_native_zoom",
       "max_zoom",
       "min_native_zoom",
       "min_zoom",
       "no_wrap",
       "tile_size",
       "tms",
       "zoom_offset"
      ],
      "pane": "",
      "popup": null,
      "popup_max_height": null,
      "popup_max_width": 300,
      "popup_min_width": 50,
      "show_loading": false,
      "subitems": [],
      "tile_size": 256,
      "tms": false,
      "url": "https://earthengine.googleapis.com/v1alpha/projects/earthengine-legacy/maps/16662633c387a3c906c047e6db962279-1460dae6c9b6912ad942c2a2bf81e969/tiles/{z}/{x}/{y}",
      "visible": true,
      "zoom_offset": 0
     }
    },
    "a2653bd7609648b3a676bebe77f0d76b": {
     "model_module": "@jupyter-widgets/controls",
     "model_module_version": "1.5.0",
     "model_name": "ToggleButtonModel",
     "state": {
      "_dom_classes": [],
      "_model_module": "@jupyter-widgets/controls",
      "_model_module_version": "1.5.0",
      "_model_name": "ToggleButtonModel",
      "_view_count": null,
      "_view_module": "@jupyter-widgets/controls",
      "_view_module_version": "1.5.0",
      "_view_name": "ToggleButtonView",
      "button_style": "primary",
      "description": "",
      "description_tooltip": null,
      "disabled": false,
      "icon": "plus",
      "layout": "IPY_MODEL_434983e582ce44c1b388421c51a7e4a3",
      "style": "IPY_MODEL_6f2d6041fa4346efb6f8fbb857813cf1",
      "tooltip": "Expand toolbar",
      "value": false
     }
    },
    "a39810bd8a924cf9b9a68001235099e0": {
     "model_module": "@jupyter-widgets/controls",
     "model_module_version": "1.5.0",
     "model_name": "DescriptionStyleModel",
     "state": {
      "_model_module": "@jupyter-widgets/controls",
      "_model_module_version": "1.5.0",
      "_model_name": "DescriptionStyleModel",
      "_view_count": null,
      "_view_module": "@jupyter-widgets/base",
      "_view_module_version": "1.2.0",
      "_view_name": "StyleView",
      "description_width": ""
     }
    },
    "a65cfbb3a0a54a3cb3d1cd60b678686d": {
     "model_module": "jupyter-leaflet",
     "model_module_version": "^0.17",
     "model_name": "LeafletDrawControlModel",
     "state": {
      "_model_module": "jupyter-leaflet",
      "_model_module_version": "^0.17",
      "_model_name": "LeafletDrawControlModel",
      "_view_count": null,
      "_view_module": "jupyter-leaflet",
      "_view_module_version": "^0.17",
      "_view_name": "LeafletDrawControlView",
      "circle": {},
      "circlemarker": {},
      "data": [],
      "edit": true,
      "marker": {
       "shapeOptions": {
        "color": "#3388ff"
       }
      },
      "options": [
       "position"
      ],
      "polygon": {
       "shapeOptions": {}
      },
      "polyline": {
       "shapeOptions": {}
      },
      "position": "topleft",
      "rectangle": {
       "shapeOptions": {
        "color": "#3388ff"
       }
      },
      "remove": true
     }
    },
    "a6ce36b0a74c4a51a20994ac668c4652": {
     "model_module": "@jupyter-widgets/controls",
     "model_module_version": "1.5.0",
     "model_name": "ToggleButtonModel",
     "state": {
      "_dom_classes": [],
      "_model_module": "@jupyter-widgets/controls",
      "_model_module_version": "1.5.0",
      "_model_name": "ToggleButtonModel",
      "_view_count": null,
      "_view_module": "@jupyter-widgets/controls",
      "_view_module_version": "1.5.0",
      "_view_name": "ToggleButtonView",
      "button_style": "",
      "description": "",
      "description_tooltip": null,
      "disabled": false,
      "icon": "server",
      "layout": "IPY_MODEL_837a9bc8146a4a0e958ab361ff4763b2",
      "style": "IPY_MODEL_5b0fb017bee046f893d8a6615f521648",
      "tooltip": "Layers",
      "value": false
     }
    },
    "aa7349960d5346e9906921e10bdb3a01": {
     "model_module": "@jupyter-widgets/controls",
     "model_module_version": "1.5.0",
     "model_name": "DescriptionStyleModel",
     "state": {
      "_model_module": "@jupyter-widgets/controls",
      "_model_module_version": "1.5.0",
      "_model_name": "DescriptionStyleModel",
      "_view_count": null,
      "_view_module": "@jupyter-widgets/base",
      "_view_module_version": "1.2.0",
      "_view_name": "StyleView",
      "description_width": ""
     }
    },
    "affaa557f5bf499482cd1efebdbc9827": {
     "model_module": "@jupyter-widgets/controls",
     "model_module_version": "1.5.0",
     "model_name": "DescriptionStyleModel",
     "state": {
      "_model_module": "@jupyter-widgets/controls",
      "_model_module_version": "1.5.0",
      "_model_name": "DescriptionStyleModel",
      "_view_count": null,
      "_view_module": "@jupyter-widgets/base",
      "_view_module_version": "1.2.0",
      "_view_name": "StyleView",
      "description_width": ""
     }
    },
    "b2e4db28dcce49e99515a9053a7017da": {
     "model_module": "jupyter-leaflet",
     "model_module_version": "^0.17",
     "model_name": "LeafletTileLayerModel",
     "state": {
      "_model_module": "jupyter-leaflet",
      "_model_module_version": "^0.17",
      "_model_name": "LeafletTileLayerModel",
      "_view_count": null,
      "_view_module": "jupyter-leaflet",
      "_view_module_version": "^0.17",
      "_view_name": "LeafletTileLayerView",
      "attribution": "Google Earth Engine",
      "base": false,
      "bottom": true,
      "bounds": null,
      "detect_retina": false,
      "loading": true,
      "max_native_zoom": null,
      "max_zoom": 24,
      "min_native_zoom": null,
      "min_zoom": 0,
      "name": "Layer 6",
      "no_wrap": false,
      "opacity": 1,
      "options": [
       "attribution",
       "bounds",
       "detect_retina",
       "max_native_zoom",
       "max_zoom",
       "min_native_zoom",
       "min_zoom",
       "no_wrap",
       "tile_size",
       "tms",
       "zoom_offset"
      ],
      "pane": "",
      "popup": null,
      "popup_max_height": null,
      "popup_max_width": 300,
      "popup_min_width": 50,
      "show_loading": false,
      "subitems": [],
      "tile_size": 256,
      "tms": false,
      "url": "https://earthengine.googleapis.com/v1alpha/projects/earthengine-legacy/maps/1fee9175468bf8bf02a2264496dbe584-660712a0aa59392e488b1e2a7dc3a670/tiles/{z}/{x}/{y}",
      "visible": true,
      "zoom_offset": 0
     }
    },
    "b2e5c20397f6403d80b8873a38ad2a33": {
     "model_module": "jupyter-leaflet",
     "model_module_version": "^0.17",
     "model_name": "LeafletAttributionControlModel",
     "state": {
      "_model_module": "jupyter-leaflet",
      "_model_module_version": "^0.17",
      "_model_name": "LeafletAttributionControlModel",
      "_view_count": null,
      "_view_module": "jupyter-leaflet",
      "_view_module_version": "^0.17",
      "_view_name": "LeafletAttributionControlView",
      "options": [
       "position",
       "prefix"
      ],
      "position": "bottomright",
      "prefix": "ipyleaflet"
     }
    },
    "b332ae37872a4bfcad86a9e78c4d60c1": {
     "model_module": "jupyter-leaflet",
     "model_module_version": "^0.17",
     "model_name": "LeafletMapModel",
     "state": {
      "_dom_classes": [],
      "_model_module": "jupyter-leaflet",
      "_model_module_version": "^0.17",
      "_model_name": "LeafletMapModel",
      "_view_count": null,
      "_view_module": "jupyter-leaflet",
      "_view_module_version": "^0.17",
      "_view_name": "LeafletMapView",
      "bottom": 754,
      "bounce_at_zoom_limits": true,
      "box_zoom": true,
      "center": [
       20,
       0
      ],
      "close_popup_on_click": true,
      "controls": [
       "IPY_MODEL_3da54bc18bea46de95bef027b43ae91f",
       "IPY_MODEL_97df1b4f28154a1591fa1f39b3129bf6",
       "IPY_MODEL_e729cea996d64bb6b54c66228fc424fa",
       "IPY_MODEL_a65cfbb3a0a54a3cb3d1cd60b678686d",
       "IPY_MODEL_78847ddb68ef4c898845937e17fd5710",
       "IPY_MODEL_eb110096e94a4c08919423c53bcf94c8",
       "IPY_MODEL_13015a68983a4f20ade760b50f48f41b",
       "IPY_MODEL_bc63648ca9174e4287e5e04f441dbef7"
      ],
      "crs": {
       "custom": false,
       "name": "EPSG3857"
      },
      "default_style": "IPY_MODEL_1b466dce4a2f4d3c8d3c467d9ee79a82",
      "double_click_zoom": true,
      "dragging": true,
      "dragging_style": "IPY_MODEL_bb6472447add479c874a603008edad00",
      "east": 281.95312500000006,
      "fullscreen": false,
      "inertia": true,
      "inertia_deceleration": 3000,
      "inertia_max_speed": 1500,
      "interpolation": "bilinear",
      "keyboard": true,
      "keyboard_pan_offset": 80,
      "keyboard_zoom_offset": 1,
      "layers": [
       "IPY_MODEL_ec73d1fc59054d34ada04440fd2040dc",
       "IPY_MODEL_43c1de08788143c68cb5da76ad54f33a",
       "IPY_MODEL_9a29c69e180d492ab1ca168d3f3642e2",
       "IPY_MODEL_8090b194cddc48cfb8561fac526623a3"
      ],
      "layout": "IPY_MODEL_841ae68ba65d4b1d8f66660ddd2f53d4",
      "left": -289,
      "max_zoom": 24,
      "min_zoom": null,
      "modisdate": "2023-07-29",
      "north": 77.31251993823143,
      "options": [
       "bounce_at_zoom_limits",
       "box_zoom",
       "center",
       "close_popup_on_click",
       "double_click_zoom",
       "dragging",
       "fullscreen",
       "inertia",
       "inertia_deceleration",
       "inertia_max_speed",
       "interpolation",
       "keyboard",
       "keyboard_pan_offset",
       "keyboard_zoom_offset",
       "max_zoom",
       "min_zoom",
       "prefer_canvas",
       "scroll_wheel_zoom",
       "tap",
       "tap_tolerance",
       "touch_zoom",
       "world_copy_jump",
       "zoom",
       "zoom_animation_threshold",
       "zoom_delta",
       "zoom_snap"
      ],
      "panes": {},
      "prefer_canvas": false,
      "right": 1314,
      "scroll_wheel_zoom": true,
      "south": -64.47279382008165,
      "style": "IPY_MODEL_b903e81a2c5b43a3898f9d97f718d286",
      "tap": true,
      "tap_tolerance": 15,
      "top": 154,
      "touch_zoom": true,
      "west": -281.60156250000006,
      "window_url": "https://d56vf7amwaw-496ff2e9c6d22116-0-colab.googleusercontent.com/outputframe.html?vrz=colab-20230727-060146-RC00_551484978",
      "world_copy_jump": false,
      "zoom": 2,
      "zoom_animation_threshold": 4,
      "zoom_delta": 1,
      "zoom_snap": 1
     }
    },
    "b4c0f3bb9b00470e9fba113121ea61ed": {
     "model_module": "@jupyter-widgets/base",
     "model_module_version": "1.2.0",
     "model_name": "LayoutModel",
     "state": {
      "_model_module": "@jupyter-widgets/base",
      "_model_module_version": "1.2.0",
      "_model_name": "LayoutModel",
      "_view_count": null,
      "_view_module": "@jupyter-widgets/base",
      "_view_module_version": "1.2.0",
      "_view_name": "LayoutView",
      "align_content": null,
      "align_items": null,
      "align_self": null,
      "border": null,
      "bottom": null,
      "display": null,
      "flex": null,
      "flex_flow": null,
      "grid_area": null,
      "grid_auto_columns": null,
      "grid_auto_flow": null,
      "grid_auto_rows": null,
      "grid_column": null,
      "grid_gap": null,
      "grid_row": null,
      "grid_template_areas": null,
      "grid_template_columns": null,
      "grid_template_rows": null,
      "height": null,
      "justify_content": null,
      "justify_items": null,
      "left": null,
      "margin": null,
      "max_height": null,
      "max_width": null,
      "min_height": null,
      "min_width": null,
      "object_fit": null,
      "object_position": null,
      "order": null,
      "overflow": null,
      "overflow_x": null,
      "overflow_y": null,
      "padding": null,
      "right": null,
      "top": null,
      "visibility": null,
      "width": null
     }
    },
    "b5dfc2ea5cc54abb83f63c177d1253f7": {
     "model_module": "@jupyter-widgets/controls",
     "model_module_version": "1.5.0",
     "model_name": "DescriptionStyleModel",
     "state": {
      "_model_module": "@jupyter-widgets/controls",
      "_model_module_version": "1.5.0",
      "_model_name": "DescriptionStyleModel",
      "_view_count": null,
      "_view_module": "@jupyter-widgets/base",
      "_view_module_version": "1.2.0",
      "_view_name": "StyleView",
      "description_width": ""
     }
    },
    "b6bed1f02c3249398bef595b68d46ad7": {
     "model_module": "@jupyter-widgets/controls",
     "model_module_version": "1.5.0",
     "model_name": "ToggleButtonModel",
     "state": {
      "_dom_classes": [],
      "_model_module": "@jupyter-widgets/controls",
      "_model_module_version": "1.5.0",
      "_model_name": "ToggleButtonModel",
      "_view_count": null,
      "_view_module": "@jupyter-widgets/controls",
      "_view_module_version": "1.5.0",
      "_view_name": "ToggleButtonView",
      "button_style": "",
      "description": "",
      "description_tooltip": null,
      "disabled": false,
      "icon": "globe",
      "layout": "IPY_MODEL_e7eef88354ac4cf291f8d192d2747d04",
      "style": "IPY_MODEL_303007dc19cb4d958c77c0fee7c5cfba",
      "tooltip": "Search location/data",
      "value": false
     }
    },
    "b6c523d468ac4f30801e33f1e9de0117": {
     "model_module": "@jupyter-widgets/base",
     "model_module_version": "1.2.0",
     "model_name": "LayoutModel",
     "state": {
      "_model_module": "@jupyter-widgets/base",
      "_model_module_version": "1.2.0",
      "_model_name": "LayoutModel",
      "_view_count": null,
      "_view_module": "@jupyter-widgets/base",
      "_view_module_version": "1.2.0",
      "_view_name": "LayoutView",
      "align_content": null,
      "align_items": null,
      "align_self": null,
      "border": null,
      "bottom": null,
      "display": null,
      "flex": null,
      "flex_flow": null,
      "grid_area": null,
      "grid_auto_columns": null,
      "grid_auto_flow": null,
      "grid_auto_rows": null,
      "grid_column": null,
      "grid_gap": null,
      "grid_row": null,
      "grid_template_areas": null,
      "grid_template_columns": null,
      "grid_template_rows": null,
      "height": "auto",
      "justify_content": null,
      "justify_items": null,
      "left": null,
      "margin": null,
      "max_height": null,
      "max_width": null,
      "min_height": null,
      "min_width": null,
      "object_fit": null,
      "object_position": null,
      "order": null,
      "overflow": null,
      "overflow_x": null,
      "overflow_y": null,
      "padding": "0px 0px 0px 4px",
      "right": null,
      "top": null,
      "visibility": null,
      "width": "auto"
     }
    },
    "b8792a0a6a154a57ae3b7cd3df1ec659": {
     "model_module": "jupyter-leaflet",
     "model_module_version": "^0.17",
     "model_name": "LeafletFullScreenControlModel",
     "state": {
      "_model_module": "jupyter-leaflet",
      "_model_module_version": "^0.17",
      "_model_name": "LeafletFullScreenControlModel",
      "_view_count": null,
      "_view_module": "jupyter-leaflet",
      "_view_module_version": "^0.17",
      "_view_name": "LeafletFullScreenControlView",
      "options": [
       "position"
      ],
      "position": "topleft"
     }
    },
    "b903e81a2c5b43a3898f9d97f718d286": {
     "model_module": "jupyter-leaflet",
     "model_module_version": "^0.17",
     "model_name": "LeafletMapStyleModel",
     "state": {
      "_model_module": "jupyter-leaflet",
      "_model_module_version": "^0.17",
      "_model_name": "LeafletMapStyleModel",
      "_view_count": null,
      "_view_module": "@jupyter-widgets/base",
      "_view_module_version": "1.2.0",
      "_view_name": "StyleView",
      "cursor": "grab"
     }
    },
    "b9065e7bc8f84b2ba0266b6eba9ae7af": {
     "model_module": "jupyter-leaflet",
     "model_module_version": "^0.17",
     "model_name": "LeafletZoomControlModel",
     "state": {
      "_model_module": "jupyter-leaflet",
      "_model_module_version": "^0.17",
      "_model_name": "LeafletZoomControlModel",
      "_view_count": null,
      "_view_module": "jupyter-leaflet",
      "_view_module_version": "^0.17",
      "_view_name": "LeafletZoomControlView",
      "options": [
       "position",
       "zoom_in_text",
       "zoom_in_title",
       "zoom_out_text",
       "zoom_out_title"
      ],
      "position": "topleft",
      "zoom_in_text": "+",
      "zoom_in_title": "Zoom in",
      "zoom_out_text": "-",
      "zoom_out_title": "Zoom out"
     }
    },
    "bb6472447add479c874a603008edad00": {
     "model_module": "jupyter-leaflet",
     "model_module_version": "^0.17",
     "model_name": "LeafletMapStyleModel",
     "state": {
      "_model_module": "jupyter-leaflet",
      "_model_module_version": "^0.17",
      "_model_name": "LeafletMapStyleModel",
      "_view_count": null,
      "_view_module": "@jupyter-widgets/base",
      "_view_module_version": "1.2.0",
      "_view_name": "StyleView",
      "cursor": "move"
     }
    },
    "bc2caccfac96431d896f76d5b80ab628": {
     "model_module": "@jupyter-widgets/controls",
     "model_module_version": "1.5.0",
     "model_name": "DescriptionStyleModel",
     "state": {
      "_model_module": "@jupyter-widgets/controls",
      "_model_module_version": "1.5.0",
      "_model_name": "DescriptionStyleModel",
      "_view_count": null,
      "_view_module": "@jupyter-widgets/base",
      "_view_module_version": "1.2.0",
      "_view_name": "StyleView",
      "description_width": ""
     }
    },
    "bc63648ca9174e4287e5e04f441dbef7": {
     "model_module": "jupyter-leaflet",
     "model_module_version": "^0.17",
     "model_name": "LeafletAttributionControlModel",
     "state": {
      "_model_module": "jupyter-leaflet",
      "_model_module_version": "^0.17",
      "_model_name": "LeafletAttributionControlModel",
      "_view_count": null,
      "_view_module": "jupyter-leaflet",
      "_view_module_version": "^0.17",
      "_view_name": "LeafletAttributionControlView",
      "options": [
       "position",
       "prefix"
      ],
      "position": "bottomright",
      "prefix": "ipyleaflet"
     }
    },
    "bed583eeddf7467bbf5e7fe2817897ba": {
     "model_module": "@jupyter-widgets/base",
     "model_module_version": "1.2.0",
     "model_name": "LayoutModel",
     "state": {
      "_model_module": "@jupyter-widgets/base",
      "_model_module_version": "1.2.0",
      "_model_name": "LayoutModel",
      "_view_count": null,
      "_view_module": "@jupyter-widgets/base",
      "_view_module_version": "1.2.0",
      "_view_name": "LayoutView",
      "align_content": null,
      "align_items": null,
      "align_self": null,
      "border": null,
      "bottom": null,
      "display": null,
      "flex": null,
      "flex_flow": null,
      "grid_area": null,
      "grid_auto_columns": null,
      "grid_auto_flow": null,
      "grid_auto_rows": null,
      "grid_column": null,
      "grid_gap": null,
      "grid_row": null,
      "grid_template_areas": null,
      "grid_template_columns": null,
      "grid_template_rows": null,
      "height": "28px",
      "justify_content": null,
      "justify_items": null,
      "left": null,
      "margin": null,
      "max_height": null,
      "max_width": null,
      "min_height": null,
      "min_width": null,
      "object_fit": null,
      "object_position": null,
      "order": null,
      "overflow": null,
      "overflow_x": null,
      "overflow_y": null,
      "padding": "0px 0px 0px 4px",
      "right": null,
      "top": null,
      "visibility": null,
      "width": "28px"
     }
    },
    "bf7fdbb74099416bb4cbd6dc84d4b857": {
     "model_module": "jupyter-leaflet",
     "model_module_version": "^0.17",
     "model_name": "LeafletTileLayerModel",
     "state": {
      "_model_module": "jupyter-leaflet",
      "_model_module_version": "^0.17",
      "_model_name": "LeafletTileLayerModel",
      "_view_count": null,
      "_view_module": "jupyter-leaflet",
      "_view_module_version": "^0.17",
      "_view_name": "LeafletTileLayerView",
      "attribution": "Google Earth Engine",
      "base": false,
      "bottom": true,
      "bounds": null,
      "detect_retina": false,
      "loading": true,
      "max_native_zoom": null,
      "max_zoom": 24,
      "min_native_zoom": null,
      "min_zoom": 0,
      "name": "Layer 8",
      "no_wrap": false,
      "opacity": 1,
      "options": [
       "attribution",
       "bounds",
       "detect_retina",
       "max_native_zoom",
       "max_zoom",
       "min_native_zoom",
       "min_zoom",
       "no_wrap",
       "tile_size",
       "tms",
       "zoom_offset"
      ],
      "pane": "",
      "popup": null,
      "popup_max_height": null,
      "popup_max_width": 300,
      "popup_min_width": 50,
      "show_loading": false,
      "subitems": [],
      "tile_size": 256,
      "tms": false,
      "url": "https://earthengine.googleapis.com/v1alpha/projects/earthengine-legacy/maps/b8c2cbfbcb5b370fff4079b0bcdeafb8-adef3ac78a2a5ea26a32e2ca892ae6b3/tiles/{z}/{x}/{y}",
      "visible": true,
      "zoom_offset": 0
     }
    },
    "c07dd994989b4e949b8328dc6fea6570": {
     "model_module": "jupyter-leaflet",
     "model_module_version": "^0.17",
     "model_name": "LeafletMapStyleModel",
     "state": {
      "_model_module": "jupyter-leaflet",
      "_model_module_version": "^0.17",
      "_model_name": "LeafletMapStyleModel",
      "_view_count": null,
      "_view_module": "@jupyter-widgets/base",
      "_view_module_version": "1.2.0",
      "_view_name": "StyleView",
      "cursor": "grab"
     }
    },
    "c0c83100e03e4f238502d27ab02c0a22": {
     "model_module": "jupyter-leaflet",
     "model_module_version": "^0.17",
     "model_name": "LeafletMapStyleModel",
     "state": {
      "_model_module": "jupyter-leaflet",
      "_model_module_version": "^0.17",
      "_model_name": "LeafletMapStyleModel",
      "_view_count": null,
      "_view_module": "@jupyter-widgets/base",
      "_view_module_version": "1.2.0",
      "_view_name": "StyleView",
      "cursor": "move"
     }
    },
    "c3c9436d73db4e20a20811e56a751fb6": {
     "model_module": "@jupyter-widgets/base",
     "model_module_version": "1.2.0",
     "model_name": "LayoutModel",
     "state": {
      "_model_module": "@jupyter-widgets/base",
      "_model_module_version": "1.2.0",
      "_model_name": "LayoutModel",
      "_view_count": null,
      "_view_module": "@jupyter-widgets/base",
      "_view_module_version": "1.2.0",
      "_view_name": "LayoutView",
      "align_content": null,
      "align_items": null,
      "align_self": null,
      "border": null,
      "bottom": null,
      "display": null,
      "flex": null,
      "flex_flow": null,
      "grid_area": null,
      "grid_auto_columns": null,
      "grid_auto_flow": null,
      "grid_auto_rows": null,
      "grid_column": null,
      "grid_gap": null,
      "grid_row": null,
      "grid_template_areas": null,
      "grid_template_columns": null,
      "grid_template_rows": null,
      "height": null,
      "justify_content": null,
      "justify_items": null,
      "left": null,
      "margin": null,
      "max_height": null,
      "max_width": null,
      "min_height": null,
      "min_width": null,
      "object_fit": null,
      "object_position": null,
      "order": null,
      "overflow": null,
      "overflow_x": null,
      "overflow_y": null,
      "padding": null,
      "right": null,
      "top": null,
      "visibility": null,
      "width": null
     }
    },
    "c765e395032f48178718995c87309e65": {
     "model_module": "@jupyter-widgets/controls",
     "model_module_version": "1.5.0",
     "model_name": "ToggleButtonModel",
     "state": {
      "_dom_classes": [],
      "_model_module": "@jupyter-widgets/controls",
      "_model_module_version": "1.5.0",
      "_model_name": "ToggleButtonModel",
      "_view_count": null,
      "_view_module": "@jupyter-widgets/controls",
      "_view_module_version": "1.5.0",
      "_view_name": "ToggleButtonView",
      "button_style": "primary",
      "description": "",
      "description_tooltip": null,
      "disabled": false,
      "icon": "globe",
      "layout": "IPY_MODEL_b6c523d468ac4f30801e33f1e9de0117",
      "style": "IPY_MODEL_8a6c3b25303c483eba99807cd6acc498",
      "tooltip": "Create timelapse",
      "value": false
     }
    },
    "c81c9a5cd58e4db28d40d19061416ca6": {
     "model_module": "@jupyter-widgets/controls",
     "model_module_version": "1.5.0",
     "model_name": "DescriptionStyleModel",
     "state": {
      "_model_module": "@jupyter-widgets/controls",
      "_model_module_version": "1.5.0",
      "_model_name": "DescriptionStyleModel",
      "_view_count": null,
      "_view_module": "@jupyter-widgets/base",
      "_view_module_version": "1.2.0",
      "_view_name": "StyleView",
      "description_width": ""
     }
    },
    "c888efdda83748cbb9bedb27de53af71": {
     "model_module": "@jupyter-widgets/controls",
     "model_module_version": "1.5.0",
     "model_name": "DescriptionStyleModel",
     "state": {
      "_model_module": "@jupyter-widgets/controls",
      "_model_module_version": "1.5.0",
      "_model_name": "DescriptionStyleModel",
      "_view_count": null,
      "_view_module": "@jupyter-widgets/base",
      "_view_module_version": "1.2.0",
      "_view_name": "StyleView",
      "description_width": ""
     }
    },
    "cab959edf7f04ce1a0e1a5929363bff4": {
     "model_module": "jupyter-leaflet",
     "model_module_version": "^0.17",
     "model_name": "LeafletTileLayerModel",
     "state": {
      "_model_module": "jupyter-leaflet",
      "_model_module_version": "^0.17",
      "_model_name": "LeafletTileLayerModel",
      "_view_count": null,
      "_view_module": "jupyter-leaflet",
      "_view_module_version": "^0.17",
      "_view_name": "LeafletTileLayerView",
      "attribution": "Google Earth Engine",
      "base": false,
      "bottom": true,
      "bounds": null,
      "detect_retina": false,
      "loading": true,
      "max_native_zoom": null,
      "max_zoom": 24,
      "min_native_zoom": null,
      "min_zoom": 0,
      "name": "Layer 11",
      "no_wrap": false,
      "opacity": 1,
      "options": [
       "attribution",
       "bounds",
       "detect_retina",
       "max_native_zoom",
       "max_zoom",
       "min_native_zoom",
       "min_zoom",
       "no_wrap",
       "tile_size",
       "tms",
       "zoom_offset"
      ],
      "pane": "",
      "popup": null,
      "popup_max_height": null,
      "popup_max_width": 300,
      "popup_min_width": 50,
      "show_loading": false,
      "subitems": [],
      "tile_size": 256,
      "tms": false,
      "url": "https://earthengine.googleapis.com/v1alpha/projects/earthengine-legacy/maps/e9b09cf4c9a5a1e6b50be0346b810f03-c5cf713a1343b73646d22ab2dee94cac/tiles/{z}/{x}/{y}",
      "visible": true,
      "zoom_offset": 0
     }
    },
    "cbf435962fd64ab6bf77885f73e03876": {
     "model_module": "@jupyter-widgets/controls",
     "model_module_version": "1.5.0",
     "model_name": "ToggleButtonsModel",
     "state": {
      "_dom_classes": [],
      "_model_module": "@jupyter-widgets/controls",
      "_model_module_version": "1.5.0",
      "_model_name": "ToggleButtonsModel",
      "_options_labels": [
       "name/address",
       "lat-lon",
       "data"
      ],
      "_view_count": null,
      "_view_module": "@jupyter-widgets/controls",
      "_view_module_version": "1.5.0",
      "_view_name": "ToggleButtonsView",
      "button_style": "",
      "description": "",
      "description_tooltip": null,
      "disabled": false,
      "icons": [],
      "index": 0,
      "layout": "IPY_MODEL_4a34c0117bea41af8817897f68b3ae9c",
      "style": "IPY_MODEL_f2143b28793d4a01a1783c2e9cff1418",
      "tooltips": [
       "Search by place name or address",
       "Search by lat-lon coordinates",
       "Search Earth Engine data catalog"
      ]
     }
    },
    "cd18944bd8874164bd84b567c7dfe972": {
     "model_module": "@jupyter-widgets/controls",
     "model_module_version": "1.5.0",
     "model_name": "VBoxModel",
     "state": {
      "_dom_classes": [],
      "_model_module": "@jupyter-widgets/controls",
      "_model_module_version": "1.5.0",
      "_model_name": "VBoxModel",
      "_view_count": null,
      "_view_module": "@jupyter-widgets/controls",
      "_view_module_version": "1.5.0",
      "_view_name": "VBoxView",
      "box_style": "",
      "children": [
       "IPY_MODEL_2ce290664922494b967d4f5340c378c2"
      ],
      "layout": "IPY_MODEL_6bfe6f3bb77b464184847fc4ac05bc09"
     }
    },
    "d08475866e66444a8f8b26bec531a882": {
     "model_module": "jupyter-leaflet",
     "model_module_version": "^0.17",
     "model_name": "LeafletTileLayerModel",
     "state": {
      "_model_module": "jupyter-leaflet",
      "_model_module_version": "^0.17",
      "_model_name": "LeafletTileLayerModel",
      "_view_count": null,
      "_view_module": "jupyter-leaflet",
      "_view_module_version": "^0.17",
      "_view_name": "LeafletTileLayerView",
      "attribution": "&copy; <a href=\"https://www.openstreetmap.org/copyright\">OpenStreetMap</a> contributors",
      "base": true,
      "bottom": true,
      "bounds": null,
      "detect_retina": false,
      "loading": true,
      "max_native_zoom": null,
      "max_zoom": 19,
      "min_native_zoom": null,
      "min_zoom": 1,
      "name": "OpenStreetMap.Mapnik",
      "no_wrap": false,
      "opacity": 1,
      "options": [
       "attribution",
       "bounds",
       "detect_retina",
       "max_native_zoom",
       "max_zoom",
       "min_native_zoom",
       "min_zoom",
       "no_wrap",
       "tile_size",
       "tms",
       "zoom_offset"
      ],
      "pane": "",
      "popup": null,
      "popup_max_height": null,
      "popup_max_width": 300,
      "popup_min_width": 50,
      "show_loading": false,
      "subitems": [],
      "tile_size": 256,
      "tms": false,
      "url": "https://tile.openstreetmap.org/{z}/{x}/{y}.png",
      "visible": true,
      "zoom_offset": 0
     }
    },
    "d182ea2dc6d247d5ba171e16a4ec3531": {
     "model_module": "@jupyter-widgets/controls",
     "model_module_version": "1.5.0",
     "model_name": "DescriptionStyleModel",
     "state": {
      "_model_module": "@jupyter-widgets/controls",
      "_model_module_version": "1.5.0",
      "_model_name": "DescriptionStyleModel",
      "_view_count": null,
      "_view_module": "@jupyter-widgets/base",
      "_view_module_version": "1.2.0",
      "_view_name": "StyleView",
      "description_width": ""
     }
    },
    "d24e43c33e1742908c90886ce4392301": {
     "model_module": "@jupyter-widgets/controls",
     "model_module_version": "1.5.0",
     "model_name": "ToggleButtonModel",
     "state": {
      "_dom_classes": [],
      "_model_module": "@jupyter-widgets/controls",
      "_model_module_version": "1.5.0",
      "_model_name": "ToggleButtonModel",
      "_view_count": null,
      "_view_module": "@jupyter-widgets/controls",
      "_view_module_version": "1.5.0",
      "_view_name": "ToggleButtonView",
      "button_style": "primary",
      "description": "",
      "description_tooltip": null,
      "disabled": false,
      "icon": "info",
      "layout": "IPY_MODEL_4f354dcf6f2a4eaaaba38a89df898f14",
      "style": "IPY_MODEL_d182ea2dc6d247d5ba171e16a4ec3531",
      "tooltip": "Inspector",
      "value": false
     }
    },
    "d2e90b20d17b4ac3bfeeb68f988bd60c": {
     "model_module": "@jupyter-widgets/base",
     "model_module_version": "1.2.0",
     "model_name": "LayoutModel",
     "state": {
      "_model_module": "@jupyter-widgets/base",
      "_model_module_version": "1.2.0",
      "_model_name": "LayoutModel",
      "_view_count": null,
      "_view_module": "@jupyter-widgets/base",
      "_view_module_version": "1.2.0",
      "_view_name": "LayoutView",
      "align_content": null,
      "align_items": null,
      "align_self": null,
      "border": null,
      "bottom": null,
      "display": null,
      "flex": null,
      "flex_flow": null,
      "grid_area": null,
      "grid_auto_columns": null,
      "grid_auto_flow": null,
      "grid_auto_rows": null,
      "grid_column": null,
      "grid_gap": null,
      "grid_row": null,
      "grid_template_areas": null,
      "grid_template_columns": null,
      "grid_template_rows": null,
      "height": "auto",
      "justify_content": null,
      "justify_items": null,
      "left": null,
      "margin": null,
      "max_height": null,
      "max_width": null,
      "min_height": null,
      "min_width": null,
      "object_fit": null,
      "object_position": null,
      "order": null,
      "overflow": null,
      "overflow_x": null,
      "overflow_y": null,
      "padding": "0px 0px 0px 4px",
      "right": null,
      "top": null,
      "visibility": null,
      "width": "auto"
     }
    },
    "de1a81623ee2454595553053bb1ac44b": {
     "model_module": "@jupyter-widgets/base",
     "model_module_version": "1.2.0",
     "model_name": "LayoutModel",
     "state": {
      "_model_module": "@jupyter-widgets/base",
      "_model_module_version": "1.2.0",
      "_model_name": "LayoutModel",
      "_view_count": null,
      "_view_module": "@jupyter-widgets/base",
      "_view_module_version": "1.2.0",
      "_view_name": "LayoutView",
      "align_content": null,
      "align_items": null,
      "align_self": null,
      "border": null,
      "bottom": null,
      "display": null,
      "flex": null,
      "flex_flow": null,
      "grid_area": null,
      "grid_auto_columns": null,
      "grid_auto_flow": null,
      "grid_auto_rows": null,
      "grid_column": null,
      "grid_gap": null,
      "grid_row": null,
      "grid_template_areas": null,
      "grid_template_columns": null,
      "grid_template_rows": null,
      "height": "auto",
      "justify_content": null,
      "justify_items": null,
      "left": null,
      "margin": null,
      "max_height": null,
      "max_width": null,
      "min_height": null,
      "min_width": null,
      "object_fit": null,
      "object_position": null,
      "order": null,
      "overflow": null,
      "overflow_x": null,
      "overflow_y": null,
      "padding": "0px 0px 0px 4px",
      "right": null,
      "top": null,
      "visibility": null,
      "width": "auto"
     }
    },
    "dec979d8fa3f43b887b679e8a57cdb32": {
     "model_module": "@jupyter-widgets/controls",
     "model_module_version": "1.5.0",
     "model_name": "ToggleButtonModel",
     "state": {
      "_dom_classes": [],
      "_model_module": "@jupyter-widgets/controls",
      "_model_module_version": "1.5.0",
      "_model_name": "ToggleButtonModel",
      "_view_count": null,
      "_view_module": "@jupyter-widgets/controls",
      "_view_module_version": "1.5.0",
      "_view_name": "ToggleButtonView",
      "button_style": "primary",
      "description": "",
      "description_tooltip": null,
      "disabled": false,
      "icon": "bar-chart",
      "layout": "IPY_MODEL_8cdd2a706f7b4b2a8b120d1df9ac7c64",
      "style": "IPY_MODEL_b5dfc2ea5cc54abb83f63c177d1253f7",
      "tooltip": "Plotting",
      "value": false
     }
    },
    "ded22f93c2474bc99f62a6b8a983e9b2": {
     "model_module": "@jupyter-widgets/controls",
     "model_module_version": "1.5.0",
     "model_name": "DescriptionStyleModel",
     "state": {
      "_model_module": "@jupyter-widgets/controls",
      "_model_module_version": "1.5.0",
      "_model_name": "DescriptionStyleModel",
      "_view_count": null,
      "_view_module": "@jupyter-widgets/base",
      "_view_module_version": "1.2.0",
      "_view_name": "StyleView",
      "description_width": ""
     }
    },
    "e0d21299c3ce4f818bac40e1615f3bbc": {
     "model_module": "jupyter-leaflet",
     "model_module_version": "^0.17",
     "model_name": "LeafletTileLayerModel",
     "state": {
      "_model_module": "jupyter-leaflet",
      "_model_module_version": "^0.17",
      "_model_name": "LeafletTileLayerModel",
      "_view_count": null,
      "_view_module": "jupyter-leaflet",
      "_view_module_version": "^0.17",
      "_view_name": "LeafletTileLayerView",
      "attribution": "Google Earth Engine",
      "base": false,
      "bottom": true,
      "bounds": null,
      "detect_retina": false,
      "loading": true,
      "max_native_zoom": null,
      "max_zoom": 24,
      "min_native_zoom": null,
      "min_zoom": 0,
      "name": "Layer 7",
      "no_wrap": false,
      "opacity": 1,
      "options": [
       "attribution",
       "bounds",
       "detect_retina",
       "max_native_zoom",
       "max_zoom",
       "min_native_zoom",
       "min_zoom",
       "no_wrap",
       "tile_size",
       "tms",
       "zoom_offset"
      ],
      "pane": "",
      "popup": null,
      "popup_max_height": null,
      "popup_max_width": 300,
      "popup_min_width": 50,
      "show_loading": false,
      "subitems": [],
      "tile_size": 256,
      "tms": false,
      "url": "https://earthengine.googleapis.com/v1alpha/projects/earthengine-legacy/maps/477f5cb0d2680ef05ced7a5611e7229e-1427defc2e33fdcb5c4dc5f7419e8892/tiles/{z}/{x}/{y}",
      "visible": true,
      "zoom_offset": 0
     }
    },
    "e1afba0764044bc2ad869b8f04e32aa6": {
     "model_module": "@jupyter-widgets/controls",
     "model_module_version": "1.5.0",
     "model_name": "DescriptionStyleModel",
     "state": {
      "_model_module": "@jupyter-widgets/controls",
      "_model_module_version": "1.5.0",
      "_model_name": "DescriptionStyleModel",
      "_view_count": null,
      "_view_module": "@jupyter-widgets/base",
      "_view_module_version": "1.2.0",
      "_view_name": "StyleView",
      "description_width": ""
     }
    },
    "e1f5b76618d84996ae5f724dee363350": {
     "model_module": "@jupyter-widgets/controls",
     "model_module_version": "1.5.0",
     "model_name": "DescriptionStyleModel",
     "state": {
      "_model_module": "@jupyter-widgets/controls",
      "_model_module_version": "1.5.0",
      "_model_name": "DescriptionStyleModel",
      "_view_count": null,
      "_view_module": "@jupyter-widgets/base",
      "_view_module_version": "1.2.0",
      "_view_name": "StyleView",
      "description_width": ""
     }
    },
    "e20b321f5a1a4e479214c40feed4e731": {
     "model_module": "jupyter-leaflet",
     "model_module_version": "^0.17",
     "model_name": "LeafletMapModel",
     "state": {
      "_dom_classes": [],
      "_model_module": "jupyter-leaflet",
      "_model_module_version": "^0.17",
      "_model_name": "LeafletMapModel",
      "_view_count": null,
      "_view_module": "jupyter-leaflet",
      "_view_module_version": "^0.17",
      "_view_name": "LeafletMapView",
      "bottom": 636,
      "bounce_at_zoom_limits": true,
      "box_zoom": true,
      "center": [
       52.58220465111711,
       -121.4719015
      ],
      "close_popup_on_click": true,
      "controls": [
       "IPY_MODEL_4a332d46bd1848aa89955a42e7e563be",
       "IPY_MODEL_f61272ccb7984dd8a4b463d8590a2b96",
       "IPY_MODEL_b8792a0a6a154a57ae3b7cd3df1ec659",
       "IPY_MODEL_3dfa1a0277ef4fdea0d3014e7eebf990",
       "IPY_MODEL_1ed76f120ec14d0096ecacbd4466b91d",
       "IPY_MODEL_7ebffc50a0e34bad8825a3a53977791f",
       "IPY_MODEL_1016ea52141e4e91b89dce5e1e61bf31",
       "IPY_MODEL_4df996bc088d4bf08a357bacff584c5d"
      ],
      "crs": {
       "custom": false,
       "name": "EPSG3857"
      },
      "default_style": "IPY_MODEL_c07dd994989b4e949b8328dc6fea6570",
      "double_click_zoom": true,
      "dragging": true,
      "dragging_style": "IPY_MODEL_c0c83100e03e4f238502d27ab02c0a22",
      "east": 160.31250000000003,
      "fullscreen": false,
      "inertia": true,
      "inertia_deceleration": 3000,
      "inertia_max_speed": 1500,
      "interpolation": "bilinear",
      "keyboard": true,
      "keyboard_pan_offset": 80,
      "keyboard_zoom_offset": 1,
      "layers": [
       "IPY_MODEL_d08475866e66444a8f8b26bec531a882",
       "IPY_MODEL_1eff5e69d5e74649b8d8bc08e8f554b9",
       "IPY_MODEL_eee83c0d90b44df0b7d2867257d9ac1f",
       "IPY_MODEL_8309f612eed6408e89b1f2ffe90b6adb",
       "IPY_MODEL_286fd1d379e24f3f948842505b02053b",
       "IPY_MODEL_b2e4db28dcce49e99515a9053a7017da",
       "IPY_MODEL_e0d21299c3ce4f818bac40e1615f3bbc",
       "IPY_MODEL_bf7fdbb74099416bb4cbd6dc84d4b857",
       "IPY_MODEL_59ef4cd5ae8d4d5b86e6631441c168c1",
       "IPY_MODEL_35c69d635d7047c492721255d425f799",
       "IPY_MODEL_cab959edf7f04ce1a0e1a5929363bff4",
       "IPY_MODEL_ec72d9e069f24d68829c8a5e3da641aa",
       "IPY_MODEL_828cade214d04e5cb5ebac901abf3f06",
       "IPY_MODEL_018b9c80b0714a5fa256bc30c569f76c",
       "IPY_MODEL_1ccd16b206a64b54bf70f195fa62f49c"
      ],
      "layout": "IPY_MODEL_914c0af3f97f4abca22b4779ed8ba26e",
      "left": -636,
      "max_zoom": 24,
      "min_zoom": null,
      "modisdate": "2023-07-29",
      "north": 83.82994542398042,
      "options": [
       "bounce_at_zoom_limits",
       "box_zoom",
       "center",
       "close_popup_on_click",
       "double_click_zoom",
       "dragging",
       "fullscreen",
       "inertia",
       "inertia_deceleration",
       "inertia_max_speed",
       "interpolation",
       "keyboard",
       "keyboard_pan_offset",
       "keyboard_zoom_offset",
       "max_zoom",
       "min_zoom",
       "prefer_canvas",
       "scroll_wheel_zoom",
       "tap",
       "tap_tolerance",
       "touch_zoom",
       "world_copy_jump",
       "zoom",
       "zoom_animation_threshold",
       "zoom_delta",
       "zoom_snap"
      ],
      "panes": {},
      "prefer_canvas": false,
      "right": 968,
      "scroll_wheel_zoom": true,
      "south": -39.90973623453719,
      "style": "IPY_MODEL_2b54e83fd13e40f59c85292b84dde5cb",
      "tap": true,
      "tap_tolerance": 15,
      "top": 36,
      "touch_zoom": true,
      "west": -403.59375000000006,
      "window_url": "https://d56vf7amwaw-496ff2e9c6d22116-0-colab.googleusercontent.com/outputframe.html?vrz=colab-20230727-060146-RC00_551484978",
      "world_copy_jump": false,
      "zoom": 2,
      "zoom_animation_threshold": 4,
      "zoom_delta": 1,
      "zoom_snap": 1
     }
    },
    "e729cea996d64bb6b54c66228fc424fa": {
     "model_module": "jupyter-leaflet",
     "model_module_version": "^0.17",
     "model_name": "LeafletFullScreenControlModel",
     "state": {
      "_model_module": "jupyter-leaflet",
      "_model_module_version": "^0.17",
      "_model_name": "LeafletFullScreenControlModel",
      "_view_count": null,
      "_view_module": "jupyter-leaflet",
      "_view_module_version": "^0.17",
      "_view_name": "LeafletFullScreenControlView",
      "options": [
       "position"
      ],
      "position": "topleft"
     }
    },
    "e7eef88354ac4cf291f8d192d2747d04": {
     "model_module": "@jupyter-widgets/base",
     "model_module_version": "1.2.0",
     "model_name": "LayoutModel",
     "state": {
      "_model_module": "@jupyter-widgets/base",
      "_model_module_version": "1.2.0",
      "_model_name": "LayoutModel",
      "_view_count": null,
      "_view_module": "@jupyter-widgets/base",
      "_view_module_version": "1.2.0",
      "_view_name": "LayoutView",
      "align_content": null,
      "align_items": null,
      "align_self": null,
      "border": null,
      "bottom": null,
      "display": null,
      "flex": null,
      "flex_flow": null,
      "grid_area": null,
      "grid_auto_columns": null,
      "grid_auto_flow": null,
      "grid_auto_rows": null,
      "grid_column": null,
      "grid_gap": null,
      "grid_row": null,
      "grid_template_areas": null,
      "grid_template_columns": null,
      "grid_template_rows": null,
      "height": "28px",
      "justify_content": null,
      "justify_items": null,
      "left": null,
      "margin": null,
      "max_height": null,
      "max_width": null,
      "min_height": null,
      "min_width": null,
      "object_fit": null,
      "object_position": null,
      "order": null,
      "overflow": null,
      "overflow_x": null,
      "overflow_y": null,
      "padding": "0px 0px 0px 4px",
      "right": null,
      "top": null,
      "visibility": null,
      "width": "28px"
     }
    },
    "eb110096e94a4c08919423c53bcf94c8": {
     "model_module": "jupyter-leaflet",
     "model_module_version": "^0.17",
     "model_name": "LeafletMeasureControlModel",
     "state": {
      "_custom_units": {},
      "_model_module": "jupyter-leaflet",
      "_model_module_version": "^0.17",
      "_model_name": "LeafletMeasureControlModel",
      "_view_count": null,
      "_view_module": "jupyter-leaflet",
      "_view_module_version": "^0.17",
      "_view_name": "LeafletMeasureControlView",
      "active_color": "orange",
      "capture_z_index": 10000,
      "completed_color": "#C8F2BE",
      "options": [
       "active_color",
       "capture_z_index",
       "completed_color",
       "popup_options",
       "position",
       "primary_area_unit",
       "primary_length_unit",
       "secondary_area_unit",
       "secondary_length_unit"
      ],
      "popup_options": {
       "autoPanPadding": [
        10,
        10
       ],
       "className": "leaflet-measure-resultpopup"
      },
      "position": "bottomleft",
      "primary_area_unit": "acres",
      "primary_length_unit": "kilometers",
      "secondary_area_unit": null,
      "secondary_length_unit": null
     }
    },
    "ec72d9e069f24d68829c8a5e3da641aa": {
     "model_module": "jupyter-leaflet",
     "model_module_version": "^0.17",
     "model_name": "LeafletTileLayerModel",
     "state": {
      "_model_module": "jupyter-leaflet",
      "_model_module_version": "^0.17",
      "_model_name": "LeafletTileLayerModel",
      "_view_count": null,
      "_view_module": "jupyter-leaflet",
      "_view_module_version": "^0.17",
      "_view_name": "LeafletTileLayerView",
      "attribution": "Google Earth Engine",
      "base": false,
      "bottom": true,
      "bounds": null,
      "detect_retina": false,
      "loading": true,
      "max_native_zoom": null,
      "max_zoom": 24,
      "min_native_zoom": null,
      "min_zoom": 0,
      "name": "Layer 12",
      "no_wrap": false,
      "opacity": 1,
      "options": [
       "attribution",
       "bounds",
       "detect_retina",
       "max_native_zoom",
       "max_zoom",
       "min_native_zoom",
       "min_zoom",
       "no_wrap",
       "tile_size",
       "tms",
       "zoom_offset"
      ],
      "pane": "",
      "popup": null,
      "popup_max_height": null,
      "popup_max_width": 300,
      "popup_min_width": 50,
      "show_loading": false,
      "subitems": [],
      "tile_size": 256,
      "tms": false,
      "url": "https://earthengine.googleapis.com/v1alpha/projects/earthengine-legacy/maps/3f1b39a45124519ee1e78a3597947ba5-d7ecd75cbc09326524ad6602ba7d6d55/tiles/{z}/{x}/{y}",
      "visible": true,
      "zoom_offset": 0
     }
    },
    "ec73d1fc59054d34ada04440fd2040dc": {
     "model_module": "jupyter-leaflet",
     "model_module_version": "^0.17",
     "model_name": "LeafletTileLayerModel",
     "state": {
      "_model_module": "jupyter-leaflet",
      "_model_module_version": "^0.17",
      "_model_name": "LeafletTileLayerModel",
      "_view_count": null,
      "_view_module": "jupyter-leaflet",
      "_view_module_version": "^0.17",
      "_view_name": "LeafletTileLayerView",
      "attribution": "&copy; <a href=\"https://www.openstreetmap.org/copyright\">OpenStreetMap</a> contributors",
      "base": true,
      "bottom": true,
      "bounds": null,
      "detect_retina": false,
      "loading": true,
      "max_native_zoom": null,
      "max_zoom": 19,
      "min_native_zoom": null,
      "min_zoom": 1,
      "name": "OpenStreetMap.Mapnik",
      "no_wrap": false,
      "opacity": 1,
      "options": [
       "attribution",
       "bounds",
       "detect_retina",
       "max_native_zoom",
       "max_zoom",
       "min_native_zoom",
       "min_zoom",
       "no_wrap",
       "tile_size",
       "tms",
       "zoom_offset"
      ],
      "pane": "",
      "popup": null,
      "popup_max_height": null,
      "popup_max_width": 300,
      "popup_min_width": 50,
      "show_loading": false,
      "subitems": [],
      "tile_size": 256,
      "tms": false,
      "url": "https://tile.openstreetmap.org/{z}/{x}/{y}.png",
      "visible": true,
      "zoom_offset": 0
     }
    },
    "eee83c0d90b44df0b7d2867257d9ac1f": {
     "model_module": "jupyter-leaflet",
     "model_module_version": "^0.17",
     "model_name": "LeafletTileLayerModel",
     "state": {
      "_model_module": "jupyter-leaflet",
      "_model_module_version": "^0.17",
      "_model_name": "LeafletTileLayerModel",
      "_view_count": null,
      "_view_module": "jupyter-leaflet",
      "_view_module_version": "^0.17",
      "_view_name": "LeafletTileLayerView",
      "attribution": "Google Earth Engine",
      "base": false,
      "bottom": true,
      "bounds": null,
      "detect_retina": false,
      "loading": true,
      "max_native_zoom": null,
      "max_zoom": 24,
      "min_native_zoom": null,
      "min_zoom": 0,
      "name": "Layer 3",
      "no_wrap": false,
      "opacity": 1,
      "options": [
       "attribution",
       "bounds",
       "detect_retina",
       "max_native_zoom",
       "max_zoom",
       "min_native_zoom",
       "min_zoom",
       "no_wrap",
       "tile_size",
       "tms",
       "zoom_offset"
      ],
      "pane": "",
      "popup": null,
      "popup_max_height": null,
      "popup_max_width": 300,
      "popup_min_width": 50,
      "show_loading": false,
      "subitems": [],
      "tile_size": 256,
      "tms": false,
      "url": "https://earthengine.googleapis.com/v1alpha/projects/earthengine-legacy/maps/299d8f966c4f6e2de6b0455bb7095c35-00b5a7a926986ad3ff68d86196fa4cee/tiles/{z}/{x}/{y}",
      "visible": true,
      "zoom_offset": 0
     }
    },
    "f2143b28793d4a01a1783c2e9cff1418": {
     "model_module": "@jupyter-widgets/controls",
     "model_module_version": "1.5.0",
     "model_name": "ToggleButtonsStyleModel",
     "state": {
      "_model_module": "@jupyter-widgets/controls",
      "_model_module_version": "1.5.0",
      "_model_name": "ToggleButtonsStyleModel",
      "_view_count": null,
      "_view_module": "@jupyter-widgets/base",
      "_view_module_version": "1.2.0",
      "_view_name": "StyleView",
      "button_width": "110px",
      "description_width": "",
      "font_weight": ""
     }
    },
    "f61272ccb7984dd8a4b463d8590a2b96": {
     "model_module": "jupyter-leaflet",
     "model_module_version": "^0.17",
     "model_name": "LeafletZoomControlModel",
     "state": {
      "_model_module": "jupyter-leaflet",
      "_model_module_version": "^0.17",
      "_model_name": "LeafletZoomControlModel",
      "_view_count": null,
      "_view_module": "jupyter-leaflet",
      "_view_module_version": "^0.17",
      "_view_name": "LeafletZoomControlView",
      "options": [
       "position",
       "zoom_in_text",
       "zoom_in_title",
       "zoom_out_text",
       "zoom_out_title"
      ],
      "position": "topleft",
      "zoom_in_text": "+",
      "zoom_in_title": "Zoom in",
      "zoom_out_text": "-",
      "zoom_out_title": "Zoom out"
     }
    },
    "f9e5e794f6c84847a411f169e2f14bc5": {
     "model_module": "@jupyter-widgets/controls",
     "model_module_version": "1.5.0",
     "model_name": "DescriptionStyleModel",
     "state": {
      "_model_module": "@jupyter-widgets/controls",
      "_model_module_version": "1.5.0",
      "_model_name": "DescriptionStyleModel",
      "_view_count": null,
      "_view_module": "@jupyter-widgets/base",
      "_view_module_version": "1.2.0",
      "_view_name": "StyleView",
      "description_width": ""
     }
    }
   }
  }
 },
 "nbformat": 4,
 "nbformat_minor": 4
}

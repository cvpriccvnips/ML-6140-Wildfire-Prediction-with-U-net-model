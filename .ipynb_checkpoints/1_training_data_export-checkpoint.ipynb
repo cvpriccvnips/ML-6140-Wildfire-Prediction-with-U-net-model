{
 "cells": [
  {
   "cell_type": "markdown",
   "id": "6eb8bb6a-a8ea-484e-9dcb-c7e696aa7d30",
   "metadata": {
    "tags": []
   },
   "source": [
    "# This notebook contains code relevant to data processing and output"
   ]
  },
  {
   "cell_type": "code",
   "execution_count": null,
   "id": "1c7df6ab-a8bb-4339-971e-e6a0337f0f09",
   "metadata": {
    "colab": {
     "base_uri": "https://localhost:8080/"
    },
    "id": "X7nO1QQGlfFg",
    "outputId": "4853438c-4290-4bb0-ed5e-33cf5adfded3",
    "tags": []
   },
   "outputs": [
    {
     "data": {
      "text/html": [
       "<p>To authorize access needed by Earth Engine, open the following\n",
       "        URL in a web browser and follow the instructions:</p>\n",
       "        <p><a href=https://code.earthengine.google.com/client-auth?scopes=https%3A//www.googleapis.com/auth/earthengine%20https%3A//www.googleapis.com/auth/devstorage.full_control&request_id=5dSPEnZZHQZ4mPapC4sZ7-gdYeQbjm6jqyrSD2tFgLU&tc=pCR-3QQyFEsfZgCDhskGFt88umwj-A54CAynBWGiNFg&cc=8wHgdkzFsz2FJW_1hoK-GBy3LaBYU8ibZIKel3tU-f8>https://code.earthengine.google.com/client-auth?scopes=https%3A//www.googleapis.com/auth/earthengine%20https%3A//www.googleapis.com/auth/devstorage.full_control&request_id=5dSPEnZZHQZ4mPapC4sZ7-gdYeQbjm6jqyrSD2tFgLU&tc=pCR-3QQyFEsfZgCDhskGFt88umwj-A54CAynBWGiNFg&cc=8wHgdkzFsz2FJW_1hoK-GBy3LaBYU8ibZIKel3tU-f8</a></p>\n",
       "        <p>The authorization workflow will generate a code, which you should paste in the box below.</p>\n",
       "        "
      ],
      "text/plain": [
       "<IPython.core.display.HTML object>"
      ]
     },
     "metadata": {},
     "output_type": "display_data"
    },
    {
     "name": "stdin",
     "output_type": "stream",
     "text": [
      "Enter verification code:  4/1Adeu5BUvnOBbz3AWgt9imzeqpUj5kYBiWhyAEFcabia7Fge4xV_pCjLsx3o\n"
     ]
    },
    {
     "name": "stdout",
     "output_type": "stream",
     "text": [
      "\n",
      "Successfully saved authorization token.\n"
     ]
    }
   ],
   "source": [
    "import ee\n",
    "ee.Authenticate()\n",
    "ee.Initialize()"
   ]
  },
  {
   "cell_type": "markdown",
   "id": "db2951c6-5d8c-4e08-a952-74fcba0c0816",
   "metadata": {},
   "source": [
    "#### run code in common notebook"
   ]
  },
  {
   "cell_type": "code",
   "execution_count": null,
   "id": "4a5f1c9a-11ad-4351-ba37-5749e9ba87db",
   "metadata": {},
   "outputs": [
    {
     "name": "stdout",
     "output_type": "stream",
     "text": [
      "7\n",
      "<class 'list'>\n",
      "['NDVI', 'Lai', 'SoilMoi00_10cm_tavg', 'LST_Day_1km', 'total_precipitation', 'u_component_of_wind_10m', 'v_component_of_wind_10m', 'T21']\n"
     ]
    }
   ],
   "source": [
    "%run 0_common.ipynb"
   ]
  },
  {
   "cell_type": "markdown",
   "id": "3bf445cd-41a4-4026-a2e8-cc6486cc0a41",
   "metadata": {},
   "source": [
    "## Define training regions"
   ]
  },
  {
   "cell_type": "code",
   "execution_count": null,
   "id": "ba9668c3-e155-49f9-a376-384546730b81",
   "metadata": {
    "id": "iMAO_nUGAuBh",
    "tags": []
   },
   "outputs": [],
   "source": [
    "countries = ee.FeatureCollection(\"USDOS/LSIB_SIMPLE/2017\")\n",
    "Canada = countries.filter(ee.Filter.eq('country_na', 'Canada')).geometry() # <class 'ee.geometry.Geometry'>\n",
    "America = countries.filter(ee.Filter.eq('country_na', 'United States')).geometry()"
   ]
  },
  {
   "cell_type": "code",
   "execution_count": null,
   "id": "ed2e1f69-3bc9-472d-9b59-1ccf934789b6",
   "metadata": {},
   "outputs": [],
   "source": [
    "training_states = ['California', 'Oregon', 'Texas', 'Arizona', 'Nevada', 'New Mexico']"
   ]
  },
  {
   "cell_type": "code",
   "execution_count": null,
   "id": "81ae4b37-4806-4b59-8193-640096cf1237",
   "metadata": {},
   "outputs": [],
   "source": [
    "eval_states = ['Wyoming', 'Idaho', 'Alaska', 'Washington', 'New Jersey', 'Pennsylvania']"
   ]
  },
  {
   "cell_type": "code",
   "execution_count": null,
   "id": "cd623cff-2bbc-440c-88ea-f504477b9da5",
   "metadata": {},
   "outputs": [],
   "source": [
    "states = ee.FeatureCollection(\"TIGER/2016/States\")"
   ]
  },
  {
   "cell_type": "code",
   "execution_count": null,
   "id": "91736ba2-26ff-4502-bd2a-2158713465cf",
   "metadata": {},
   "outputs": [],
   "source": [
    "def get_region_feature_collection(all_regions_fc, target_regions):\n",
    "    fc = ee.FeatureCollection([])\n",
    "\n",
    "    # Iterate through each state in 'state_list'\n",
    "    for region in target_regions:\n",
    "        # Merge the geometry of the state from 'states' into 'trainingPolys'\n",
    "        fc = fc.merge(all_regions_fc.filter(ee.Filter.eq('NAME', region)).geometry())\n",
    "\n",
    "    # Convert the 'trainingPolys' FeatureCollection to a List\n",
    "    return fc.toList(fc.size())"
   ]
  },
  {
   "cell_type": "code",
   "execution_count": null,
   "id": "9099e456-3562-49b2-b7bc-da12065cb797",
   "metadata": {
    "colab": {
     "base_uri": "https://localhost:8080/"
    },
    "id": "WODGRoV8Jcd2",
    "outputId": "1a6a3f34-3299-4179-cc03-c6d5cf7f1744",
    "tags": []
   },
   "outputs": [],
   "source": [
    "trainingPolysList = get_region_feature_collection(states, training_states)"
   ]
  },
  {
   "cell_type": "code",
   "execution_count": null,
   "id": "d1a02e03-a9f8-4134-b02d-6b11a6cefe03",
   "metadata": {
    "colab": {
     "base_uri": "https://localhost:8080/"
    },
    "id": "D42W8AVlgvpf",
    "outputId": "38043a46-ccc7-4cd9-bdaf-8ec076d719ae",
    "tags": []
   },
   "outputs": [],
   "source": [
    "valPolysList = get_region_feature_collection(states, eval_states)"
   ]
  },
  {
   "cell_type": "markdown",
   "id": "c0371c27-fdf5-411d-87e6-f16a92d3dc10",
   "metadata": {
    "tags": []
   },
   "source": [
    "## Define training time range"
   ]
  },
  {
   "cell_type": "code",
   "execution_count": null,
   "id": "f5649fb0-fbbb-4424-9cb5-c96ba86bf08b",
   "metadata": {
    "id": "wWlDvYBeKkgY",
    "tags": []
   },
   "outputs": [],
   "source": [
    "train_start_year = 2015\n",
    "train_end_year = 2015\n",
    "train_start_month = 4\n",
    "train_end_month = 9\n",
    "# predict fire 4 weeks in advance\n",
    "fire_pred_range = 2\n",
    "# every 2 weeks get one image\n",
    "sample_gap = 2\n"
   ]
  },
  {
   "cell_type": "code",
   "execution_count": null,
   "id": "903d9543-7d77-4377-a7bd-38c954eb3afe",
   "metadata": {
    "colab": {
     "base_uri": "https://localhost:8080/"
    },
    "id": "B9KiqE3wDcrP",
    "outputId": "9f7d2884-6aad-465e-b210-bf8f9b0344a3"
   },
   "outputs": [
    {
     "name": "stdout",
     "output_type": "stream",
     "text": [
      "['2015-04-01', '2015-04-15', '2015-05-01', '2015-05-15', '2015-06-01', '2015-06-15', '2015-07-01', '2015-07-15', '2015-08-01', '2015-08-15', '2015-09-01', '2015-09-15']\n"
     ]
    }
   ],
   "source": [
    "total_temporal_slices = 0  # Initialize the total number of temporal slices.\n",
    "temporal_list = []  # Initialize the list to store temporal date strings.\n",
    "\n",
    "# Loop through the years and months within the specified training time range.\n",
    "for yr in range(train_start_year, train_end_year + 1):\n",
    "    for mo in range(train_start_month, train_end_month + 1):\n",
    "        total_temporal_slices += sample_gap  # Increment the total time slices by 'sample_gap'.\n",
    "        temporal_list.append(f'{yr}-{mo:02d}-01')  # Add the first day of the month to the list.\n",
    "        temporal_list.append(f'{yr}-{mo:02d}-15')  # Add the fifteenth day of the month to the list.\n",
    "print(temporal_list)"
   ]
  },
  {
   "cell_type": "markdown",
   "id": "f884ab39-0381-4c9c-b766-6d21760974de",
   "metadata": {
    "id": "OTOLz8FQ_KLY"
   },
   "source": []
  },
  {
   "cell_type": "markdown",
   "id": "8c34832f-0a86-4313-85d7-1d271d63629b",
   "metadata": {
    "id": "PsmNbC_7h-u3"
   },
   "source": [
    "Each element in feature_img_lists is a temporal imageCollection of a single band"
   ]
  },
  {
   "cell_type": "markdown",
   "id": "b95c00d9-77ec-45ab-879d-45575e9bb9ce",
   "metadata": {},
   "source": [
    "## Get label collection and feature collection\n",
    "\n",
    "`firms` stores median images in every two weeks. Let's say we set our training time range from April 2015, then the first element in `firms` is the median image of range `2015.4.15-2015.4.30`, the second is median image is in range `2015.5.1-2015.5.15`, and so on so forth.\n",
    "`feature_img_lists` stores each feature's temporal images. For example, say our first feature is `NDVI`, then the first element in `feature_img_lists` stores median images within the training time range for `NDVI`, and the second element is the second feature within the same time range."
   ]
  },
  {
   "cell_type": "code",
   "execution_count": null,
   "id": "74c86897-a644-4172-b663-dc5474e826fc",
   "metadata": {
    "id": "WEN42xw0fUZd",
    "tags": []
   },
   "outputs": [],
   "source": [
    "firms = getTrainImageCollection(fire_map_info, True)"
   ]
  },
  {
   "cell_type": "code",
   "execution_count": null,
   "id": "99351b82-3b03-4bb3-9483-120a95834c38",
   "metadata": {
    "id": "Nx0kwUcKcb2V",
    "tags": []
   },
   "outputs": [
    {
     "ename": "NameError",
     "evalue": "name 'feature_list' is not defined",
     "output_type": "error",
     "traceback": [
      "\u001b[0;31m---------------------------------------------------------------------------\u001b[0m",
      "\u001b[0;31mNameError\u001b[0m                                 Traceback (most recent call last)",
      "Cell \u001b[0;32mIn[1], line 2\u001b[0m\n\u001b[1;32m      1\u001b[0m feature_img_lists \u001b[38;5;241m=\u001b[39m []\n\u001b[0;32m----> 2\u001b[0m \u001b[38;5;28;01mfor\u001b[39;00m feature \u001b[38;5;129;01min\u001b[39;00m \u001b[43mfeature_list\u001b[49m:\n\u001b[1;32m      3\u001b[0m   \u001b[38;5;28mprint\u001b[39m(feature)\n\u001b[1;32m      4\u001b[0m   img_list \u001b[38;5;241m=\u001b[39m getTrainImageCollection(feature)\n",
      "\u001b[0;31mNameError\u001b[0m: name 'feature_list' is not defined"
     ]
    }
   ],
   "source": [
    "feature_img_lists = []\n",
    "for feature in feature_list:\n",
    "  print(feature)\n",
    "  img_list = getTrainImageCollection(feature)\n",
    "  feature_img_lists.append(img_list)"
   ]
  },
  {
   "cell_type": "markdown",
   "id": "135d64e5-b68c-4955-8c93-ffaf834b57fc",
   "metadata": {},
   "source": [
    "`firms_mask_lists` stores firms info in temporal order\n",
    "each element in the list is a list of 2 elements, the first is `has_fire_mask`, the second is `no_fire_mask`"
   ]
  },
  {
   "cell_type": "code",
   "execution_count": null,
   "id": "9de60661-6981-4ad6-94db-3d235ae3aa71",
   "metadata": {},
   "outputs": [],
   "source": [
    "def get_firms_mask(firms):\n",
    "    firms_masks = []\n",
    "    for idx in range(firms.size().getInfo()):\n",
    "        img = ee.Image(firms.get(idx))\n",
    "        has_fire_mask = img.select('T21').eq(1)    \n",
    "        no_fire_mask = img.select('T21').eq(0) \n",
    "        cur_time_slice_mask_set = []\n",
    "        cur_time_slice_mask_set.append(has_fire_mask)\n",
    "        cur_time_slice_mask_set.append(no_fire_mask)\n",
    "        firms_masks.append(cur_time_slice_mask_set)\n",
    "    return firms_masks\n",
    "firms_mask_lists = get_firms_mask(firms)"
   ]
  },
  {
   "cell_type": "markdown",
   "id": "c24542ed-c8f1-4ba5-a667-57575b1b162e",
   "metadata": {
    "jp-MarkdownHeadingCollapsed": true,
    "tags": []
   },
   "source": [
    "### Inspect our data by reducing to a region and exporting it into a csv file"
   ]
  },
  {
   "cell_type": "code",
   "execution_count": null,
   "id": "b4bed132-09f3-4aa4-b0f1-da7e62ee27f7",
   "metadata": {
    "tags": []
   },
   "outputs": [],
   "source": [
    "# # date_start = '2015-04-01'\n",
    "# # date_end = '2015-12-01'\n",
    "# # dataset = ee.ImageCollection('FIRMS').filter(\n",
    "# #     ee.Filter.date(date_start, date_end))\n",
    "# # fires = dataset.select('T21').first().unmask(0)\n",
    "# Map = geemap.Map(center=[47.295, -119.086], zoom=6)\n",
    "# # Map\n",
    "# fires = ee.Image(firms.get(1))\n",
    "# print(type(fires))\n",
    "\n",
    "# fire_values = fires.reduceRegion(\n",
    "#     reducer=ee.Reducer.toList(),\n",
    "#     geometry=Map.getBounds(False),\n",
    "#     scale=1000,  # The scale from the image's 'crs_transform'\n",
    "#     maxPixels=90000000\n",
    "# )\n",
    "# fire_values.getInfo()\n",
    "# df = pd.DataFrame(fire_values.getInfo())\n",
    "# df.to_csv('fires_data.csv', index=False)"
   ]
  },
  {
   "cell_type": "markdown",
   "id": "9f8e7a7b-48d0-4f85-a0dd-e2d6039b6541",
   "metadata": {},
   "source": [
    "test unmask"
   ]
  },
  {
   "cell_type": "code",
   "execution_count": null,
   "id": "b536e5d3-1b66-45e1-9b9b-d90b234d681e",
   "metadata": {
    "tags": []
   },
   "outputs": [],
   "source": [
    "# import pandas as pd\n",
    "\n",
    "# df = pd.read_csv('fires_data.csv')\n",
    "\n",
    "# unique_values_count = df.nunique()\n",
    "\n",
    "# unique_values = {}\n",
    "# for column in df.columns:\n",
    "#     unique_values[column] = df[column].unique()\n",
    "\n",
    "#     print(f\"Unique values in column '{column}':\")\n",
    "#     print(unique_values[column])\n",
    "#     print(f\"Number of unique values: {len(unique_values[column])}\")\n",
    "\n",
    "#     value_counts = df[column].value_counts()\n",
    "#     print(f\"Value counts:\")\n",
    "#     print(value_counts)\n",
    "#     print()"
   ]
  },
  {
   "cell_type": "markdown",
   "id": "97e13ec7-56a6-43bb-8deb-2425556b658c",
   "metadata": {
    "id": "xcZa7T5QlcWr"
   },
   "source": [
    "Debug function: get min & max by iterating through all pixels"
   ]
  },
  {
   "cell_type": "code",
   "execution_count": null,
   "id": "485284f2-5bf1-46f4-ba7d-8a7d5798ce1b",
   "metadata": {
    "id": "c66Sm8lZi726",
    "tags": []
   },
   "outputs": [],
   "source": [
    "# # @title\n",
    "# # For debug, can skip\n",
    "# def get_min(gee_image, key):\n",
    "#   min_dic = gee_image.reduceRegion(\n",
    "#     reducer= ee.Reducer.min(),\n",
    "#     geometry = Canada.geometry(),\n",
    "#     crs =  'EPSG:4326',\n",
    "#     crsTransform = [1, 0, 0, 0, 1, 0]\n",
    "#   )\n",
    "#   return min_dic.getInfo().get(key)\n",
    " \n",
    "# def get_max(gee_image, key):\n",
    "#   max_dic = gee_image.reduceRegion(\n",
    "#     reducer= ee.Reducer.max(),\n",
    "#     geometry = Canada.geometry(),\n",
    "#     crs =  'EPSG:4326',\n",
    "#     crsTransform = [1, 0, 0, 0, 1, 0]\n",
    "#   )\n",
    "#   return max_dic.getInfo().get(key)"
   ]
  },
  {
   "cell_type": "markdown",
   "id": "23b32c45-4203-4139-a7d7-6ee89eabd949",
   "metadata": {},
   "source": [
    "## Stack [features+label] and convert them into 2-d images"
   ]
  },
  {
   "cell_type": "markdown",
   "id": "ea4c0cb7-0a0e-40fb-b289-65cba8b8845f",
   "metadata": {
    "id": "5RAr7wUmiGdW"
   },
   "source": [
    "Stack the 2D images (Landsat composite and NLCD impervious surface) to create a single image from which samples can be taken. Convert the image into an array image in which each pixel stores 256x256 patches of pixels for each band. This is a key step that bears emphasis: to export training patches, convert a multi-band image to an array image using neighborhoodToArray(), then sample the image at points."
   ]
  },
  {
   "cell_type": "code",
   "execution_count": null,
   "id": "1d0ddead-1b98-498a-a9b0-ae65a021f462",
   "metadata": {},
   "outputs": [],
   "source": [
    "list_1d = ee.List.repeat(1, KERNEL_SIZE)\n",
    "list_2d = ee.List.repeat(list_1d, KERNEL_SIZE)\n",
    "kernel = ee.Kernel.fixed(KERNEL_SIZE, KERNEL_SIZE, list_2d)"
   ]
  },
  {
   "cell_type": "code",
   "execution_count": null,
   "id": "8137dd4a-bb92-4b42-acf1-5c5933143739",
   "metadata": {},
   "outputs": [
    {
     "name": "stdout",
     "output_type": "stream",
     "text": [
      "{'type': 'Image', 'bands': [{'id': 'T21', 'data_type': {'type': 'PixelType', 'precision': 'int', 'min': 0, 'max': 1}, 'crs': 'EPSG:4326', 'crs_transform': [1, 0, 0, 0, 1, 0]}]}\n",
      "{'type': 'Image', 'bands': [{'id': 'T21', 'data_type': {'type': 'PixelType', 'precision': 'int', 'min': 0, 'max': 1}, 'crs': 'EPSG:4326', 'crs_transform': [1, 0, 0, 0, 1, 0]}]}\n"
     ]
    }
   ],
   "source": [
    "print(firms_mask_lists[0][0].getInfo())\n",
    "print(firms_mask_lists[0][1].getInfo())"
   ]
  },
  {
   "cell_type": "code",
   "execution_count": null,
   "id": "460048c2-aa55-41d2-8bee-bc2a874a3f05",
   "metadata": {},
   "outputs": [
    {
     "name": "stdout",
     "output_type": "stream",
     "text": [
      "time = 0:\n",
      "has fire:{'type': 'Image', 'bands': [{'id': 'NDVI', 'data_type': {'type': 'PixelType', 'precision': 'float', 'dimensions': 2}, 'crs': 'EPSG:4326', 'crs_transform': [1, 0, 0, 0, 1, 0]}, {'id': 'Lai', 'data_type': {'type': 'PixelType', 'precision': 'float', 'dimensions': 2}, 'crs': 'EPSG:4326', 'crs_transform': [1, 0, 0, 0, 1, 0]}, {'id': 'SoilMoi00_10cm_tavg', 'data_type': {'type': 'PixelType', 'precision': 'float', 'dimensions': 2}, 'crs': 'EPSG:4326', 'crs_transform': [1, 0, 0, 0, 1, 0]}, {'id': 'LST_Day_1km', 'data_type': {'type': 'PixelType', 'precision': 'float', 'dimensions': 2}, 'crs': 'EPSG:4326', 'crs_transform': [1, 0, 0, 0, 1, 0]}, {'id': 'total_precipitation', 'data_type': {'type': 'PixelType', 'precision': 'float', 'dimensions': 2}, 'crs': 'EPSG:4326', 'crs_transform': [1, 0, 0, 0, 1, 0]}, {'id': 'u_component_of_wind_10m', 'data_type': {'type': 'PixelType', 'precision': 'float', 'dimensions': 2}, 'crs': 'EPSG:4326', 'crs_transform': [1, 0, 0, 0, 1, 0]}, {'id': 'v_component_of_wind_10m', 'data_type': {'type': 'PixelType', 'precision': 'float', 'dimensions': 2}, 'crs': 'EPSG:4326', 'crs_transform': [1, 0, 0, 0, 1, 0]}, {'id': 'T21', 'data_type': {'type': 'PixelType', 'precision': 'int', 'min': 0, 'max': 1, 'dimensions': 2}, 'crs': 'EPSG:4326', 'crs_transform': [1, 0, 0, 0, 1, 0]}]}\n",
      "no fire:{'type': 'Image', 'bands': [{'id': 'NDVI', 'data_type': {'type': 'PixelType', 'precision': 'float', 'dimensions': 2}, 'crs': 'EPSG:4326', 'crs_transform': [1, 0, 0, 0, 1, 0]}, {'id': 'Lai', 'data_type': {'type': 'PixelType', 'precision': 'float', 'dimensions': 2}, 'crs': 'EPSG:4326', 'crs_transform': [1, 0, 0, 0, 1, 0]}, {'id': 'SoilMoi00_10cm_tavg', 'data_type': {'type': 'PixelType', 'precision': 'float', 'dimensions': 2}, 'crs': 'EPSG:4326', 'crs_transform': [1, 0, 0, 0, 1, 0]}, {'id': 'LST_Day_1km', 'data_type': {'type': 'PixelType', 'precision': 'float', 'dimensions': 2}, 'crs': 'EPSG:4326', 'crs_transform': [1, 0, 0, 0, 1, 0]}, {'id': 'total_precipitation', 'data_type': {'type': 'PixelType', 'precision': 'float', 'dimensions': 2}, 'crs': 'EPSG:4326', 'crs_transform': [1, 0, 0, 0, 1, 0]}, {'id': 'u_component_of_wind_10m', 'data_type': {'type': 'PixelType', 'precision': 'float', 'dimensions': 2}, 'crs': 'EPSG:4326', 'crs_transform': [1, 0, 0, 0, 1, 0]}, {'id': 'v_component_of_wind_10m', 'data_type': {'type': 'PixelType', 'precision': 'float', 'dimensions': 2}, 'crs': 'EPSG:4326', 'crs_transform': [1, 0, 0, 0, 1, 0]}, {'id': 'T21', 'data_type': {'type': 'PixelType', 'precision': 'int', 'min': 0, 'max': 1, 'dimensions': 2}, 'crs': 'EPSG:4326', 'crs_transform': [1, 0, 0, 0, 1, 0]}]} \n",
      "12, 12\n"
     ]
    }
   ],
   "source": [
    "def mask_stack_kernel(feature_stack, mask, kernel):\n",
    "    # mask\n",
    "    masked_feature_stack = feature_stack.updateMask(mask)\n",
    "    # stack, no need to do because mask step adds the mask band to result\n",
    "    masked_feature_stack = ee.Image.cat([masked_feature_stack, mask])\n",
    "    # kernel\n",
    "    arrays = masked_feature_stack.neighborhoodToArray(kernel)\n",
    "    return arrays\n",
    "\n",
    "def get_feature_stack(kernel, feature_img_lists, firms_mask_list):\n",
    "    is_debug = True # print one log\n",
    "    list_arrays_has_fire = []\n",
    "    list_arrays_no_fire = []\n",
    "    for tm in range(total_temporal_slices): \n",
    "        # Get the image for the current temporal slice from feature_img_lists\n",
    "        featureStack = feature_img_lists[0].get(tm)\n",
    "        # Concatenate all the bands sampled from different images into featureStack\n",
    "        for idx in range(1, len(feature_img_lists)):\n",
    "            # Combine all bands sampled from the same time to featureStack\n",
    "            featureStack = ee.Image.cat([featureStack, feature_img_lists[idx].get(tm)]).float()\n",
    "        \n",
    "        arrays_has_fire = mask_stack_kernel(featureStack, firms_mask_list[tm][0], kernel)\n",
    "        arrays_no_fire = mask_stack_kernel(featureStack, firms_mask_list[tm][1], kernel)\n",
    "        if is_debug:\n",
    "            print(f'time = {tm}:\\nhas fire:{arrays_has_fire.getInfo()}\\nno fire:{arrays_no_fire.getInfo()} ')\n",
    "            is_debug = False\n",
    "        list_arrays_has_fire += [arrays_has_fire]\n",
    "        list_arrays_no_fire += [arrays_no_fire]\n",
    "    \n",
    "    return list_arrays_has_fire, list_arrays_no_fire\n",
    "\n",
    "list_arrays_has_fire, list_arrays_no_fire = get_feature_stack(kernel, feature_img_lists, firms_mask_lists)\n",
    "print(f'{len(list_arrays_has_fire)}, {len(list_arrays_no_fire)}')"
   ]
  },
  {
   "cell_type": "markdown",
   "id": "93f5c873-67a7-44c7-9922-4284246f6f84",
   "metadata": {
    "id": "RHLmlg_Qba2w"
   },
   "source": [
    "Get polygons for training and evaluation"
   ]
  },
  {
   "cell_type": "markdown",
   "id": "ae80f899-2201-472b-9c40-8a86b5df0d5b",
   "metadata": {},
   "source": [
    "Visualize training and evaluation regions on map"
   ]
  },
  {
   "cell_type": "code",
   "execution_count": null,
   "id": "09c2ca89-d121-47f2-88bc-a21c7d1fe78b",
   "metadata": {
    "colab": {
     "base_uri": "https://localhost:8080/",
     "height": 621,
     "referenced_widgets": [
      "b332ae37872a4bfcad86a9e78c4d60c1",
      "3da54bc18bea46de95bef027b43ae91f",
      "97df1b4f28154a1591fa1f39b3129bf6",
      "e729cea996d64bb6b54c66228fc424fa",
      "a65cfbb3a0a54a3cb3d1cd60b678686d",
      "78847ddb68ef4c898845937e17fd5710",
      "eb110096e94a4c08919423c53bcf94c8",
      "13015a68983a4f20ade760b50f48f41b",
      "bc63648ca9174e4287e5e04f441dbef7",
      "1b466dce4a2f4d3c8d3c467d9ee79a82",
      "bb6472447add479c874a603008edad00",
      "ec73d1fc59054d34ada04440fd2040dc",
      "43c1de08788143c68cb5da76ad54f33a",
      "9a29c69e180d492ab1ca168d3f3642e2",
      "8090b194cddc48cfb8561fac526623a3",
      "841ae68ba65d4b1d8f66660ddd2f53d4",
      "b903e81a2c5b43a3898f9d97f718d286",
      "3919b0b71522456e8aed8584fe7ec843",
      "1c60c4794f564dea8d27a8824b0c6cea",
      "614260445cf44d81ac2ec618301e572a",
      "4a1e74e6e9234a9b9b7e4e159208a41f",
      "00fe73be276f404597e60e95f3b1c0ba",
      "3f5e3b80f3944fcc9eb5ff6e75c19074",
      "331f262e6de14382989970f3dbcfef5d",
      "ded22f93c2474bc99f62a6b8a983e9b2",
      "6280bb9e19b3418ebc9725a3c808b929",
      "230f2231e3a24ac2b40024a8a758df5f",
      "b9065e7bc8f84b2ba0266b6eba9ae7af",
      "4a34c0117bea41af8817897f68b3ae9c",
      "f2143b28793d4a01a1783c2e9cff1418",
      "2d7570ad4a404f0e9327ea26bea6ccc0",
      "e1afba0764044bc2ad869b8f04e32aa6",
      "19770844c7a44b3b94503a7c61fc8672",
      "1e8e3e9e544247f9aa51aa7d8d69118c",
      "4f3b65405cc54708b7b33a0960cd5b70",
      "3a78f22c12db4148a5306bdaf8b5410d",
      "bc2caccfac96431d896f76d5b80ab628",
      "6244e2ee797049c09e9baa3be68d1880",
      "2cd0cc5fb4a842c88c20a6d4805c3c63",
      "25819b5bd611488e8e8ad5916fdc8e76",
      "62e74c7cf52142e5a6c81cd8351f6593",
      "219539f1818849d1b9f0e58fdd3756ee",
      "cbf435962fd64ab6bf77885f73e03876",
      "4874a04d76e44df59bbbe78a7f6affc1",
      "863a3ef9187a418abe3ced7fb43b1afc",
      "4f354dcf6f2a4eaaaba38a89df898f14",
      "d182ea2dc6d247d5ba171e16a4ec3531",
      "8cdd2a706f7b4b2a8b120d1df9ac7c64",
      "b5dfc2ea5cc54abb83f63c177d1253f7",
      "b6c523d468ac4f30801e33f1e9de0117",
      "8a6c3b25303c483eba99807cd6acc498",
      "272e28c340e94f18abfffa795666bb26",
      "aa7349960d5346e9906921e10bdb3a01",
      "24c2d7a760ca4633ae206846ca92971d",
      "f9e5e794f6c84847a411f169e2f14bc5",
      "434983e582ce44c1b388421c51a7e4a3",
      "6f2d6041fa4346efb6f8fbb857813cf1",
      "1954c256af474d6b9832687207c14d6c",
      "95a9086522a24d4da2ef8747889b12c0",
      "1648f1dc49774659a620d163192a3f81",
      "c81c9a5cd58e4db28d40d19061416ca6",
      "99795efb6eac4ba689ebdb241f9a36d7",
      "e1f5b76618d84996ae5f724dee363350",
      "d2e90b20d17b4ac3bfeeb68f988bd60c",
      "96516a5ecd7642ffbfbe9996af3141fe",
      "3f7961471de84b85b0c3b7489d56751d",
      "a39810bd8a924cf9b9a68001235099e0",
      "de1a81623ee2454595553053bb1ac44b",
      "c888efdda83748cbb9bedb27de53af71",
      "92085bcde28b4e979b020e99993cc73e",
      "734f463211ea4d7588dd4a81966650e5",
      "4aa198e890664ac59a3a6a068a757702",
      "8d53711596af4f39bce2c7e9f493ca92",
      "06723edbe8a547678071ca4913f44d44",
      "affaa557f5bf499482cd1efebdbc9827",
      "d24e43c33e1742908c90886ce4392301",
      "dec979d8fa3f43b887b679e8a57cdb32",
      "c765e395032f48178718995c87309e65",
      "8737f530161d42f789fa2d1625e11868",
      "00adc42abb574ba8b1761ec425fa5a72",
      "a2653bd7609648b3a676bebe77f0d76b",
      "4fda2d8757a84d5eb9aaa119780a7da8",
      "837a9bc8146a4a0e958ab361ff4763b2",
      "5b0fb017bee046f893d8a6615f521648",
      "c3c9436d73db4e20a20811e56a751fb6",
      "572978202fa745088e5510736586675f",
      "b2e5c20397f6403d80b8873a38ad2a33",
      "3061121ad69a4c94864ec7f557ca8ed5",
      "01346855617249568988171ed3cedc0b",
      "a6ce36b0a74c4a51a20994ac668c4652",
      "8768f8b0b6554a29a0ff87280d06e597"
     ]
    },
    "id": "yyhmXEqvVlfb",
    "outputId": "72f181c9-cba7-491f-eb5b-4d627ae52a3b",
    "tags": []
   },
   "outputs": [
    {
     "ename": "NameError",
     "evalue": "name 'trainingPolys' is not defined",
     "output_type": "error",
     "traceback": [
      "\u001b[0;31m---------------------------------------------------------------------------\u001b[0m",
      "\u001b[0;31mNameError\u001b[0m                                 Traceback (most recent call last)",
      "Cell \u001b[0;32mIn[69], line 2\u001b[0m\n\u001b[1;32m      1\u001b[0m Map \u001b[38;5;241m=\u001b[39m geemap\u001b[38;5;241m.\u001b[39mMap()\n\u001b[0;32m----> 2\u001b[0m Map\u001b[38;5;241m.\u001b[39maddLayer(\u001b[43mtrainingPolys\u001b[49m, {\u001b[38;5;124m'\u001b[39m\u001b[38;5;124mcolor\u001b[39m\u001b[38;5;124m'\u001b[39m: \u001b[38;5;124m'\u001b[39m\u001b[38;5;124mFF0000\u001b[39m\u001b[38;5;124m'\u001b[39m})\n\u001b[1;32m      3\u001b[0m Map\u001b[38;5;241m.\u001b[39maddLayer(valPolys, {\u001b[38;5;124m'\u001b[39m\u001b[38;5;124mcolor\u001b[39m\u001b[38;5;124m'\u001b[39m: \u001b[38;5;124m'\u001b[39m\u001b[38;5;124m00FF00\u001b[39m\u001b[38;5;124m'\u001b[39m})\n\u001b[1;32m      4\u001b[0m Map\n",
      "\u001b[0;31mNameError\u001b[0m: name 'trainingPolys' is not defined"
     ]
    }
   ],
   "source": [
    "# Map = geemap.Map()\n",
    "# Map.addLayer(trainingPolys, {'color': 'FF0000'})\n",
    "# Map.addLayer(valPolys, {'color': '00FF00'})\n",
    "# Map"
   ]
  },
  {
   "cell_type": "markdown",
   "id": "90e5aa12-1499-4c82-979f-78f062544973",
   "metadata": {
    "id": "dEtQaLJ8r96g"
   },
   "source": [
    "- Export training data"
   ]
  },
  {
   "cell_type": "code",
   "execution_count": null,
   "id": "d9e10901-ec89-4fb1-bca0-96517fdbc2fd",
   "metadata": {},
   "outputs": [],
   "source": [
    "SAMPLE_NUM_IN_POLYGON = 200 # Number of shards in each polygon."
   ]
  },
  {
   "cell_type": "code",
   "execution_count": null,
   "id": "28df512d-ce1a-4886-b3b9-d79b5aa33bd9",
   "metadata": {
    "tags": []
   },
   "outputs": [],
   "source": [
    "# Sizes of the training and evaluation datasets.\n",
    "# TRAIN_SIZE = len(temporal_list) * trainingPolysList.size().getInfo() * SAMPLE_NUM_IN_POLYGON\n",
    "# EVAL_SIZE = len(temporal_list) * valPolysList.size().getInfo() * SAMPLE_NUM_IN_POLYGON"
   ]
  },
  {
   "cell_type": "code",
   "execution_count": null,
   "id": "50d35268-a6aa-43dd-b9a1-0d6ab6327889",
   "metadata": {},
   "outputs": [
    {
     "name": "stdout",
     "output_type": "stream",
     "text": [
      "144\n",
      "144\n"
     ]
    }
   ],
   "source": [
    "SAMPLE_RESOLUTION = 1000 # 1km\n",
    "print(len(temporal_list) * trainingPolysList.size().getInfo() * 2)\n",
    "print(len(temporal_list) * valPolysList.size().getInfo() * 2)"
   ]
  },
  {
   "cell_type": "code",
   "execution_count": null,
   "id": "5f0f6684-293d-464c-99d3-d62bec24ffc6",
   "metadata": {},
   "outputs": [],
   "source": [
    "def export_data(file_prefix, sample_poly_list, sample_source_list,file_suffix, num_sample_pixel, early_exit_time_idx = None):\n",
    "    for idx, time_str in enumerate(temporal_list): # 18, Iterate through each time string in 'temporal_list'\n",
    "        if idx == early_exit_time_idx:\n",
    "            break\n",
    "        for g in range(sample_poly_list.size().getInfo()): # 10, Iterate through each geometry in 'sample_poly_list'\n",
    "            geomSample = ee.FeatureCollection([])\n",
    "            for i in range(SAMPLE_NUM_IN_POLYGON): # 200\n",
    "                sample = sample_source_list[idx].sample(\n",
    "                    region = ee.Feature(sample_poly_list.get(g)).geometry(),\n",
    "                    scale = SAMPLE_RESOLUTION, # 1km\n",
    "                    numPixels = num_sample_pixel / SAMPLE_NUM_IN_POLYGON, # 200/200, \n",
    "                    seed = i,\n",
    "                    tileScale = 8 # make your process faster\n",
    "                )\n",
    "                geomSample = geomSample.merge(sample)\n",
    "            desc = f'{file_prefix}_{time_str}_{str(g)}_{file_suffix}'\n",
    "            print(desc)\n",
    "            task = ee.batch.Export.table.toCloudStorage(\n",
    "              collection = geomSample,\n",
    "              description = desc,\n",
    "              bucket = DATA_BUCKET,\n",
    "              fileNamePrefix = FOLDER + '/' + desc,\n",
    "              fileFormat = 'TFRecord',\n",
    "              selectors = FEATURE_NAMES\n",
    "            )\n",
    "            task.start()"
   ]
  },
  {
   "cell_type": "code",
   "execution_count": null,
   "id": "a71b187e-25cc-4b23-aef2-350f83e93b57",
   "metadata": {},
   "outputs": [
    {
     "name": "stdout",
     "output_type": "stream",
     "text": [
      "10000 10\n",
      "200\n"
     ]
    }
   ],
   "source": [
    "# NUM_PIXEL_SAMPLE_NO_FIRE = 200\n",
    "# NUM_PIXEL_SAMPLE_FIRE = NUM_PIXEL_SAMPLE_NO_FIRE * 1000\n",
    "NUM_PIXEL_SAMPLE_NO_FIRE = 200\n",
    "NUM_PIXEL_SAMPLE_FIRE = NUM_PIXEL_SAMPLE_NO_FIRE * 1000\n",
    "print(NUM_PIXEL_SAMPLE_FIRE, NUM_PIXEL_SAMPLE_NO_FIRE)\n",
    "print(SAMPLE_NUM_IN_POLYGON)"
   ]
  },
  {
   "cell_type": "code",
   "execution_count": null,
   "id": "081fdade-0932-4249-b5f2-79459b971105",
   "metadata": {
    "collapsed": true,
    "jupyter": {
     "outputs_hidden": true
    },
    "tags": []
   },
   "outputs": [
    {
     "name": "stdout",
     "output_type": "stream",
     "text": [
      "training_patches_2015-04-01_0_fire\n",
      "training_patches_2015-04-01_1_fire\n",
      "training_patches_2015-04-01_2_fire\n",
      "training_patches_2015-04-01_3_fire\n",
      "training_patches_2015-04-01_4_fire\n",
      "training_patches_2015-04-01_5_fire\n",
      "training_patches_2015-04-15_0_fire\n",
      "training_patches_2015-04-15_1_fire\n",
      "training_patches_2015-04-15_2_fire\n",
      "training_patches_2015-04-15_3_fire\n",
      "training_patches_2015-04-15_4_fire\n",
      "training_patches_2015-04-15_5_fire\n",
      "training_patches_2015-05-01_0_fire\n",
      "training_patches_2015-05-01_1_fire\n",
      "training_patches_2015-05-01_2_fire\n",
      "training_patches_2015-05-01_3_fire\n",
      "training_patches_2015-05-01_4_fire\n",
      "training_patches_2015-05-01_5_fire\n",
      "training_patches_2015-05-15_0_fire\n",
      "training_patches_2015-05-15_1_fire\n",
      "training_patches_2015-05-15_2_fire\n",
      "training_patches_2015-05-15_3_fire\n",
      "training_patches_2015-05-15_4_fire\n",
      "training_patches_2015-05-15_5_fire\n",
      "training_patches_2015-04-01_0_nofire\n",
      "training_patches_2015-04-01_1_nofire\n",
      "training_patches_2015-04-01_2_nofire\n",
      "training_patches_2015-04-01_3_nofire\n",
      "training_patches_2015-04-01_4_nofire\n",
      "training_patches_2015-04-01_5_nofire\n",
      "training_patches_2015-04-15_0_nofire\n",
      "training_patches_2015-04-15_1_nofire\n",
      "training_patches_2015-04-15_2_nofire\n",
      "training_patches_2015-04-15_3_nofire\n",
      "training_patches_2015-04-15_4_nofire\n",
      "training_patches_2015-04-15_5_nofire\n"
     ]
    }
   ],
   "source": [
    "export_data(TRAINING_BASE, trainingPolysList, list_arrays_has_fire, 'fire', NUM_PIXEL_SAMPLE_FIRE, early_exit_time_idx=4)   \n",
    "export_data(TRAINING_BASE, trainingPolysList, list_arrays_no_fire, 'nofire', NUM_PIXEL_SAMPLE_NO_FIRE, early_exit_time_idx=2)           "
   ]
  },
  {
   "cell_type": "code",
   "execution_count": null,
   "id": "9a969c9b-f8d3-4dd3-9fce-d38c323b5e09",
   "metadata": {
    "collapsed": true,
    "jupyter": {
     "outputs_hidden": true
    },
    "tags": []
   },
   "outputs": [
    {
     "name": "stdout",
     "output_type": "stream",
     "text": [
      "eval_patches_2015-04-01_0_fire\n",
      "eval_patches_2015-04-01_1_fire\n",
      "eval_patches_2015-04-01_2_fire\n",
      "eval_patches_2015-04-01_3_fire\n",
      "eval_patches_2015-04-01_4_fire\n",
      "eval_patches_2015-04-01_5_fire\n",
      "eval_patches_2015-04-15_0_fire\n",
      "eval_patches_2015-04-15_1_fire\n",
      "eval_patches_2015-04-15_2_fire\n",
      "eval_patches_2015-04-15_3_fire\n",
      "eval_patches_2015-04-15_4_fire\n",
      "eval_patches_2015-04-15_5_fire\n",
      "eval_patches_2015-05-01_0_fire\n",
      "eval_patches_2015-05-01_1_fire\n",
      "eval_patches_2015-05-01_2_fire\n",
      "eval_patches_2015-05-01_3_fire\n",
      "eval_patches_2015-05-01_4_fire\n",
      "eval_patches_2015-05-01_5_fire\n",
      "eval_patches_2015-05-15_0_fire\n",
      "eval_patches_2015-05-15_1_fire\n",
      "eval_patches_2015-05-15_2_fire\n",
      "eval_patches_2015-05-15_3_fire\n",
      "eval_patches_2015-05-15_4_fire\n",
      "eval_patches_2015-05-15_5_fire\n",
      "eval_patches_2015-04-01_0_nofire\n",
      "eval_patches_2015-04-01_1_nofire\n",
      "eval_patches_2015-04-01_2_nofire\n",
      "eval_patches_2015-04-01_3_nofire\n",
      "eval_patches_2015-04-01_4_nofire\n",
      "eval_patches_2015-04-01_5_nofire\n",
      "eval_patches_2015-04-15_0_nofire\n",
      "eval_patches_2015-04-15_1_nofire\n",
      "eval_patches_2015-04-15_2_nofire\n",
      "eval_patches_2015-04-15_3_nofire\n",
      "eval_patches_2015-04-15_4_nofire\n",
      "eval_patches_2015-04-15_5_nofire\n"
     ]
    }
   ],
   "source": [
    "export_data(EVAL_BASE, valPolysList, list_arrays_has_fire, 'fire', NUM_PIXEL_SAMPLE_FIRE,early_exit_time_idx=4)\n",
    "export_data(EVAL_BASE, valPolysList, list_arrays_no_fire, 'nofire', NUM_PIXEL_SAMPLE_NO_FIRE,early_exit_time_idx=2)           "
   ]
  },
  {
   "cell_type": "markdown",
   "id": "de2251c4-edd5-47f6-8867-f9c18bafc222",
   "metadata": {},
   "source": [
    "#### Use fewer sample pixels for accelerating file export and fast test"
   ]
  },
  {
   "cell_type": "code",
   "execution_count": null,
   "id": "66f6ec79-7800-4ea3-925a-05042d8239e8",
   "metadata": {},
   "outputs": [],
   "source": [
    "SAMPLE_NUM_IN_POLYGON = 10\n",
    "NUM_PIXEL_SAMPLE_NO_FIRE = 10\n",
    "NUM_PIXEL_SAMPLE_FIRE = NUM_PIXEL_SAMPLE_NO_FIRE * 1000\n",
    "FOLDER = 'fcnn-demo/pixel_10_data'"
   ]
  },
  {
   "cell_type": "code",
   "execution_count": null,
   "id": "81908452-3efb-45a5-9e0d-7ef9f1bf5bb3",
   "metadata": {
    "tags": []
   },
   "outputs": [
    {
     "name": "stdout",
     "output_type": "stream",
     "text": [
      "training_patches_2015-04-01_0_fire\n",
      "training_patches_2015-04-01_1_fire\n",
      "training_patches_2015-04-01_2_fire\n",
      "training_patches_2015-04-01_3_fire\n",
      "training_patches_2015-04-01_4_fire\n",
      "training_patches_2015-04-01_5_fire\n",
      "training_patches_2015-04-15_0_fire\n",
      "training_patches_2015-04-15_1_fire\n",
      "training_patches_2015-04-15_2_fire\n",
      "training_patches_2015-04-15_3_fire\n",
      "training_patches_2015-04-15_4_fire\n",
      "training_patches_2015-04-15_5_fire\n",
      "training_patches_2015-05-01_0_fire\n",
      "training_patches_2015-05-01_1_fire\n",
      "training_patches_2015-05-01_2_fire\n",
      "training_patches_2015-05-01_3_fire\n",
      "training_patches_2015-05-01_4_fire\n",
      "training_patches_2015-05-01_5_fire\n",
      "training_patches_2015-05-15_0_fire\n",
      "training_patches_2015-05-15_1_fire\n",
      "training_patches_2015-05-15_2_fire\n",
      "training_patches_2015-05-15_3_fire\n",
      "training_patches_2015-05-15_4_fire\n",
      "training_patches_2015-05-15_5_fire\n"
     ]
    }
   ],
   "source": [
    "export_data(TRAINING_BASE, trainingPolysList, list_arrays_has_fire, 'fire', NUM_PIXEL_SAMPLE_FIRE, early_exit_time_idx=4)   "
   ]
  },
  {
   "cell_type": "code",
   "execution_count": null,
   "id": "988e4b1a-a57d-48c9-98cc-0c491ad8f062",
   "metadata": {},
   "outputs": [
    {
     "name": "stdout",
     "output_type": "stream",
     "text": [
      "training_patches_2015-04-01_0_nofire\n",
      "training_patches_2015-04-01_1_nofire\n",
      "training_patches_2015-04-01_2_nofire\n",
      "training_patches_2015-04-01_3_nofire\n",
      "training_patches_2015-04-01_4_nofire\n",
      "training_patches_2015-04-01_5_nofire\n",
      "training_patches_2015-04-15_0_nofire\n",
      "training_patches_2015-04-15_1_nofire\n",
      "training_patches_2015-04-15_2_nofire\n",
      "training_patches_2015-04-15_3_nofire\n",
      "training_patches_2015-04-15_4_nofire\n",
      "training_patches_2015-04-15_5_nofire\n"
     ]
    }
   ],
   "source": [
    "export_data(TRAINING_BASE, trainingPolysList, list_arrays_no_fire, 'nofire', NUM_PIXEL_SAMPLE_NO_FIRE, early_exit_time_idx=2)           "
   ]
  },
  {
   "cell_type": "code",
   "execution_count": null,
   "id": "47e5292d-41d1-4697-98a2-fa35f81a3e4e",
   "metadata": {
    "tags": []
   },
   "outputs": [
    {
     "name": "stdout",
     "output_type": "stream",
     "text": [
      "eval_patches_2015-04-01_0_fire\n",
      "eval_patches_2015-04-01_1_fire\n",
      "eval_patches_2015-04-01_2_fire\n",
      "eval_patches_2015-04-01_3_fire\n",
      "eval_patches_2015-04-01_4_fire\n",
      "eval_patches_2015-04-01_5_fire\n",
      "eval_patches_2015-04-15_0_fire\n",
      "eval_patches_2015-04-15_1_fire\n",
      "eval_patches_2015-04-15_2_fire\n",
      "eval_patches_2015-04-15_3_fire\n",
      "eval_patches_2015-04-15_4_fire\n",
      "eval_patches_2015-04-15_5_fire\n",
      "eval_patches_2015-05-01_0_fire\n",
      "eval_patches_2015-05-01_1_fire\n",
      "eval_patches_2015-05-01_2_fire\n",
      "eval_patches_2015-05-01_3_fire\n",
      "eval_patches_2015-05-01_4_fire\n",
      "eval_patches_2015-05-01_5_fire\n",
      "eval_patches_2015-05-15_0_fire\n",
      "eval_patches_2015-05-15_1_fire\n",
      "eval_patches_2015-05-15_2_fire\n",
      "eval_patches_2015-05-15_3_fire\n",
      "eval_patches_2015-05-15_4_fire\n",
      "eval_patches_2015-05-15_5_fire\n",
      "eval_patches_2015-04-01_0_nofire\n",
      "eval_patches_2015-04-01_1_nofire\n",
      "eval_patches_2015-04-01_2_nofire\n",
      "eval_patches_2015-04-01_3_nofire\n",
      "eval_patches_2015-04-01_4_nofire\n",
      "eval_patches_2015-04-01_5_nofire\n",
      "eval_patches_2015-04-15_0_nofire\n",
      "eval_patches_2015-04-15_1_nofire\n",
      "eval_patches_2015-04-15_2_nofire\n",
      "eval_patches_2015-04-15_3_nofire\n",
      "eval_patches_2015-04-15_4_nofire\n",
      "eval_patches_2015-04-15_5_nofire\n"
     ]
    }
   ],
   "source": [
    "export_data(EVAL_BASE, valPolysList, list_arrays_has_fire, 'fire', NUM_PIXEL_SAMPLE_FIRE,early_exit_time_idx=4)\n",
    "export_data(EVAL_BASE, valPolysList, list_arrays_no_fire, 'nofire', NUM_PIXEL_SAMPLE_NO_FIRE,early_exit_time_idx=2)           "
   ]
  },
  {
   "cell_type": "markdown",
   "id": "cdd2d67d-df5b-446f-8276-a9d1fbc4a91e",
   "metadata": {
    "tags": []
   },
   "source": [
    "### A failed attempt of using `stratifiedSample` and `sampleRegions`"
   ]
  },
  {
   "cell_type": "code",
   "execution_count": null,
   "id": "311af883-07d8-40af-99cb-a7a13268b668",
   "metadata": {
    "tags": []
   },
   "outputs": [],
   "source": [
    "# firms_stratified_time_result = [] # list of every time slice\n",
    "# for i in range(firms.size().getInfo()): # firms.size() == time slices\n",
    "#     cur_firm = ee.Image(firms.get(i))\n",
    "#     firms_stratified_region_result = [] # list of every region in trainingPolysList\n",
    "    \n",
    "#     for g in range(trainingPolysList.size().getInfo()):\n",
    "#         firms_stratified_feature_collection = ee.FeatureCollection([]) # feature collection at current region and time slice\n",
    "#         for sample_idx in range(SAMPLE_NUM_IN_POLYGON): # Loop through each sample index for the current polygon\n",
    "#             sample = cur_firm.stratifiedSample(\n",
    "#                 numPoints=SAMPLE_PIXEL_IN_POLYGON / SAMPLE_NUM_IN_POLYGON, # 5\n",
    "#                 classBand='T21',\n",
    "#                 region = ee.Feature(trainingPolysList.get(g)).geometry(),\n",
    "#                 scale = SAMPLE_RESOLUTION, # 1km\n",
    "#                 seed = i,\n",
    "#                 tileScale = 8, # make your process faster\n",
    "#                 geometries = True\n",
    "#             )\n",
    "#             firms_stratified_feature_collection = firms_stratified_feature_collection.merge(sample)\n",
    "#         # print(firms_stratified_feature_collection.distinct(\"T21\").getInfo())\n",
    "#         # print(firms_stratified_feature_collection.size().getInfo())\n",
    "#         firms_stratified_region_result.append(firms_stratified_feature_collection)\n",
    "#     firms_stratified_time_result.append(firms_stratified_region_result)\n",
    "    \n",
    "# # print(type(firms_stratified_time_result[0][0])) # <class 'ee.featurecollection.FeatureCollection'>"
   ]
  },
  {
   "cell_type": "code",
   "execution_count": null,
   "id": "3272340a-6acf-4d81-8d80-270748aa4c65",
   "metadata": {
    "tags": []
   },
   "outputs": [],
   "source": [
    "# for time_idx, time_slice_result in enumerate(firms_stratified_time_result): #2\n",
    "#     # print(len(time_slice_result))\n",
    "#     for region_idx, region_result in enumerate(time_slice_result): # 2\n",
    "#         print(region_result.size().getInfo()) # featurecollection\n",
    "#         print(type( list_arrays[time_idx]))\n",
    "#         geomSample = list_arrays[time_idx].sampleRegions(\n",
    "#             collection = region_result,\n",
    "#             properties = ee.List(['T21']),\n",
    "#             scale = SAMPLE_RESOLUTION, # 1km\n",
    "#             tileScale = 8 # make your process faster\n",
    "#           )\n",
    "#         # print(type(geomSample))\n",
    "#         desc = f'sampleRegion_{time_idx}_{region_idx}'\n",
    "#         # print(desc)\n",
    "#         task = ee.batch.Export.table.toCloudStorage(\n",
    "#           collection = geomSample,\n",
    "#           description = desc,\n",
    "#           bucket = DATA_BUCKET,\n",
    "#           fileNamePrefix = FOLDER + '/' + desc,\n",
    "#           fileFormat = 'TFRecord',\n",
    "#           selectors = FEATURE_NAMES\n",
    "#         )\n",
    "#         # task.start()"
   ]
  }
 ],
 "metadata": {
  "environment": {
   "kernel": "python3",
   "name": "tf2-gpu.2-12.m110",
   "type": "gcloud",
   "uri": "gcr.io/deeplearning-platform-release/tf2-gpu.2-12:m110"
  },
  "kernelspec": {
   "display_name": "Python 3",
   "language": "python",
   "name": "python3"
  },
  "language_info": {
   "codemirror_mode": {
    "name": "ipython",
    "version": 3
   },
   "file_extension": ".py",
   "mimetype": "text/x-python",
   "name": "python",
   "nbconvert_exporter": "python",
   "pygments_lexer": "ipython3",
   "version": "3.10.12"
  }
 },
 "nbformat": 4,
 "nbformat_minor": 5
}

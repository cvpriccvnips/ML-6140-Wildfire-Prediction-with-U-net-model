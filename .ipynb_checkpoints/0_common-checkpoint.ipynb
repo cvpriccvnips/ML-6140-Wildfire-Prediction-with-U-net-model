{
 "cells": [
  {
   "cell_type": "markdown",
   "id": "9a7611ae-2cd3-47c0-bb1e-dc8ff7716b84",
   "metadata": {},
   "source": [
    "code citation:\n",
    "\n",
    "google colab unet regression\n",
    "https://colab.research.google.com/github/google/earthengine-api/blob/master/python/examples/ipynb/UNET_regression_demo.ipynb#scrollTo=FyRpvwENxE-A\n",
    "\n",
    "Ryan colab demo\n",
    "https://colab.research.google.com/drive/1opTXxC2NvlVZ3EW1l45dz9wNMztiE2I_?usp=sharing#scrollTo=QaGLx6PtzQhf\n",
    "\n"
   ]
  },
  {
   "cell_type": "markdown",
   "id": "fe837f30-1eb0-49a0-9717-cde57803056c",
   "metadata": {
    "tags": []
   },
   "source": [
    "# This notebook contains variables that may be used by multiple other notebooks"
   ]
  },
  {
   "cell_type": "code",
   "execution_count": 2,
   "id": "db343971-1d5a-4b0f-a15f-dd26c4f341a9",
   "metadata": {},
   "outputs": [
    {
     "name": "stderr",
     "output_type": "stream",
     "text": [
      "2023-08-16 00:33:37.100151: I tensorflow/core/platform/cpu_feature_guard.cc:182] This TensorFlow binary is optimized to use available CPU instructions in performance-critical operations.\n",
      "To enable the following instructions: AVX2 AVX512F FMA, in other operations, rebuild TensorFlow with the appropriate compiler flags.\n",
      "/opt/conda/lib/python3.10/site-packages/tensorflow_io/python/ops/__init__.py:98: UserWarning: unable to load libtensorflow_io_plugins.so: unable to open file: libtensorflow_io_plugins.so, from paths: ['/opt/conda/lib/python3.10/site-packages/tensorflow_io/python/ops/libtensorflow_io_plugins.so']\n",
      "caused by: ['/opt/conda/lib/python3.10/site-packages/tensorflow_io/python/ops/libtensorflow_io_plugins.so: undefined symbol: _ZN3tsl6StatusC1EN10tensorflow5error4CodeESt17basic_string_viewIcSt11char_traitsIcEENS_14SourceLocationE']\n",
      "  warnings.warn(f\"unable to load libtensorflow_io_plugins.so: {e}\")\n",
      "/opt/conda/lib/python3.10/site-packages/tensorflow_io/python/ops/__init__.py:104: UserWarning: file system plugins are not loaded: unable to open file: libtensorflow_io.so, from paths: ['/opt/conda/lib/python3.10/site-packages/tensorflow_io/python/ops/libtensorflow_io.so']\n",
      "caused by: ['/opt/conda/lib/python3.10/site-packages/tensorflow_io/python/ops/libtensorflow_io.so: undefined symbol: _ZTVN10tensorflow13GcsFileSystemE']\n",
      "  warnings.warn(f\"file system plugins are not loaded: {e}\")\n"
     ]
    }
   ],
   "source": [
    "import tensorflow as tf\n",
    "import numpy as np\n",
    "import pandas as pd\n",
    "import geemap\n",
    "import folium"
   ]
  },
  {
   "cell_type": "markdown",
   "id": "4bd705bd-068d-451b-a376-42dfa2be810b",
   "metadata": {},
   "source": [
    "## Define feature list and bands"
   ]
  },
  {
   "cell_type": "code",
   "execution_count": 3,
   "id": "9aaa621a-fe37-4c3f-8175-fb0ee209d277",
   "metadata": {
    "colab": {
     "base_uri": "https://localhost:8080/"
    },
    "id": "96M7w49rG2u6",
    "outputId": "7afe6f03-b7be-4a50-d110-a3f9c6404395",
    "tags": []
   },
   "outputs": [
    {
     "name": "stdout",
     "output_type": "stream",
     "text": [
      "7\n",
      "<class 'list'>\n"
     ]
    }
   ],
   "source": [
    "feature_list = []\n",
    "# Fire label\n",
    "# 2000-2023\n",
    "# https://developers.google.com/earth-engine/datasets/catalog/FIRMS\n",
    "fire_map_info = {'name':'FIRMS', 'band' :'T21', 'min': 300, 'max': 509.29}\n",
    "# MODIS Normalized difference vegetation index NDVI dataset\n",
    "# 2000-2023\n",
    "# https://developers.google.com/earth-engine/datasets/catalog/MODIS_MOD09GA_006_NDVI\n",
    "veg_map_info = {'name':'MODIS/MOD09GA_006_NDVI', 'band' :'NDVI', 'min': -1, 'max': 1}\n",
    "feature_list.append(veg_map_info)\n",
    "# MODIS Leaf Area Index/FPAR 4-Day Global 500m\n",
    "# 2002-2023\n",
    "# https://developers.google.com/earth-engine/datasets/catalog/MODIS_061_MCD15A3H\n",
    "# upper limit is 20+, so set max = 30\n",
    "leaf_map_info = {'name':'MODIS/061/MCD15A3H', 'band' :'Lai', 'min': 0, 'max': 30}\n",
    "feature_list.append(leaf_map_info)\n",
    "# FLDAS: Famine Early Warning Systems Network (FEWS NET) Land Data Assimilation System\n",
    "# 1982-2023\n",
    "# https://developers.google.com/earth-engine/datasets/catalog/NASA_FLDAS_NOAH01_C_GL_M_V001\n",
    "soil_moist_map_info = {'name':'NASA/FLDAS/NOAH01/C/GL/M/V001', 'band' :'SoilMoi00_10cm_tavg', 'min': 0, 'max': 1}\n",
    "feature_list.append(soil_moist_map_info)\n",
    "# Terra Land Surface Temperature and Emissivity Daily Global 1km\n",
    "# 2000-2023\n",
    "# https://developers.google.com/earth-engine/datasets/catalog/MODIS_061_MOD11A1\n",
    "temp_map_info = {'name':'MODIS/061/MOD11A1', 'band' :'LST_Day_1km', 'min': 13658, 'max': 15658}\n",
    "feature_list.append(temp_map_info)\n",
    "# ERA5 Monthly Aggregates dataset\n",
    "# 1979-2020\n",
    "# https://developers.google.com/earth-engine/datasets/catalog/ECMWF_ERA5_MONTHLY\n",
    "precipitation_map_info = {'name':'ECMWF/ERA5/MONTHLY', 'band' :'total_precipitation', 'min': 0, 'max': 0.4}\n",
    "feature_list.append(precipitation_map_info)\n",
    "wind_speed_u_map_info = {'name':'ECMWF/ERA5/MONTHLY', 'band' :'u_component_of_wind_10m', 'min': -8.7, 'max': 8.7}\n",
    "feature_list.append(wind_speed_u_map_info)\n",
    "wind_speed_v_map_info = {'name':'ECMWF/ERA5/MONTHLY', 'band' :'v_component_of_wind_10m', 'min': -6.8, 'max': 6.8}\n",
    "feature_list.append(wind_speed_v_map_info)\n",
    "\n",
    "# Copernicus Global Land Cover Layers: CGLS-LC100 Collection 3\n",
    "# 2015-end2019\n",
    "# https://developers.google.com/earth-engine/datasets/catalog/COPERNICUS_Landcover_100m_Proba-V-C3_Global\n",
    "land_cover_info = {'name':\"COPERNICUS/Landcover/100m/Proba-V-C3/Global\", 'band': 'discrete_classification', 'min': 0, 'max': 200}\n",
    "# feature_list.append(wind_speed_v_map_info)\n",
    "# print(feature_list)\n",
    "print(len(feature_list))\n",
    "print(type(feature_list))"
   ]
  },
  {
   "cell_type": "code",
   "execution_count": 4,
   "id": "0d1a1606-102b-4b57-bdc9-955a2100eab6",
   "metadata": {
    "id": "bTU0Hm8KmB3q",
    "tags": []
   },
   "outputs": [
    {
     "name": "stdout",
     "output_type": "stream",
     "text": [
      "['NDVI', 'Lai', 'SoilMoi00_10cm_tavg', 'LST_Day_1km', 'total_precipitation', 'u_component_of_wind_10m', 'v_component_of_wind_10m', 'T21']\n"
     ]
    }
   ],
   "source": [
    "LABEL = fire_map_info['band']\n",
    "BANDS = []\n",
    "for feature in feature_list:\n",
    "  BANDS += [feature['band']]\n",
    "FEATURE_NAMES = BANDS + [LABEL]\n",
    "print(FEATURE_NAMES)"
   ]
  },
  {
   "cell_type": "markdown",
   "id": "0c63a37e-5560-4bf4-96f2-88466720d0ad",
   "metadata": {
    "id": "oQrvgoYynzBX"
   },
   "source": [
    "## Define Google Cloud Storage relevant data"
   ]
  },
  {
   "cell_type": "code",
   "execution_count": 5,
   "id": "996fe7a1-2022-4726-ba02-910ad06ef569",
   "metadata": {
    "id": "sUNDeE7DDaJ9",
    "tags": []
   },
   "outputs": [],
   "source": [
    "PROJECT = 'ee-my-char'\n",
    "DATA_BUCKET = '6140-data-bucket'\n",
    "OUTPUT_BUCKET = '6140-output-bucket'\n",
    "# Specify names locations for outputs in Cloud Storage.\n",
    "FOLDER = 'fcnn-demo'\n",
    "TRAINING_BASE = 'training_patches'\n",
    "EVAL_BASE = 'eval_patches'"
   ]
  },
  {
   "cell_type": "markdown",
   "id": "e002ba80-45d5-4279-abfe-a2b3397a12e3",
   "metadata": {},
   "source": [
    "## Define kernel and training relevant data"
   ]
  },
  {
   "cell_type": "code",
   "execution_count": 6,
   "id": "e7403dd3-fe7d-4911-b086-9400b9d69f94",
   "metadata": {},
   "outputs": [
    {
     "name": "stderr",
     "output_type": "stream",
     "text": [
      "2023-08-16 00:33:39.572688: I tensorflow/compiler/xla/stream_executor/cuda/cuda_gpu_executor.cc:996] successful NUMA node read from SysFS had negative value (-1), but there must be at least one NUMA node, so returning NUMA node zero. See more at https://github.com/torvalds/linux/blob/v6.0/Documentation/ABI/testing/sysfs-bus-pci#L344-L355\n",
      "2023-08-16 00:33:39.582410: I tensorflow/compiler/xla/stream_executor/cuda/cuda_gpu_executor.cc:996] successful NUMA node read from SysFS had negative value (-1), but there must be at least one NUMA node, so returning NUMA node zero. See more at https://github.com/torvalds/linux/blob/v6.0/Documentation/ABI/testing/sysfs-bus-pci#L344-L355\n",
      "2023-08-16 00:33:39.584295: I tensorflow/compiler/xla/stream_executor/cuda/cuda_gpu_executor.cc:996] successful NUMA node read from SysFS had negative value (-1), but there must be at least one NUMA node, so returning NUMA node zero. See more at https://github.com/torvalds/linux/blob/v6.0/Documentation/ABI/testing/sysfs-bus-pci#L344-L355\n",
      "2023-08-16 00:33:39.587610: I tensorflow/compiler/xla/stream_executor/cuda/cuda_gpu_executor.cc:996] successful NUMA node read from SysFS had negative value (-1), but there must be at least one NUMA node, so returning NUMA node zero. See more at https://github.com/torvalds/linux/blob/v6.0/Documentation/ABI/testing/sysfs-bus-pci#L344-L355\n",
      "2023-08-16 00:33:39.589566: I tensorflow/compiler/xla/stream_executor/cuda/cuda_gpu_executor.cc:996] successful NUMA node read from SysFS had negative value (-1), but there must be at least one NUMA node, so returning NUMA node zero. See more at https://github.com/torvalds/linux/blob/v6.0/Documentation/ABI/testing/sysfs-bus-pci#L344-L355\n",
      "2023-08-16 00:33:39.591423: I tensorflow/compiler/xla/stream_executor/cuda/cuda_gpu_executor.cc:996] successful NUMA node read from SysFS had negative value (-1), but there must be at least one NUMA node, so returning NUMA node zero. See more at https://github.com/torvalds/linux/blob/v6.0/Documentation/ABI/testing/sysfs-bus-pci#L344-L355\n",
      "2023-08-16 00:33:40.584181: I tensorflow/compiler/xla/stream_executor/cuda/cuda_gpu_executor.cc:996] successful NUMA node read from SysFS had negative value (-1), but there must be at least one NUMA node, so returning NUMA node zero. See more at https://github.com/torvalds/linux/blob/v6.0/Documentation/ABI/testing/sysfs-bus-pci#L344-L355\n",
      "2023-08-16 00:33:40.586357: I tensorflow/compiler/xla/stream_executor/cuda/cuda_gpu_executor.cc:996] successful NUMA node read from SysFS had negative value (-1), but there must be at least one NUMA node, so returning NUMA node zero. See more at https://github.com/torvalds/linux/blob/v6.0/Documentation/ABI/testing/sysfs-bus-pci#L344-L355\n",
      "2023-08-16 00:33:40.588218: I tensorflow/compiler/xla/stream_executor/cuda/cuda_gpu_executor.cc:996] successful NUMA node read from SysFS had negative value (-1), but there must be at least one NUMA node, so returning NUMA node zero. See more at https://github.com/torvalds/linux/blob/v6.0/Documentation/ABI/testing/sysfs-bus-pci#L344-L355\n",
      "2023-08-16 00:33:40.590064: I tensorflow/core/common_runtime/gpu/gpu_device.cc:1635] Created device /job:localhost/replica:0/task:0/device:GPU:0 with 512 MB memory:  -> device: 0, name: Tesla T4, pci bus id: 0000:00:04.0, compute capability: 7.5\n"
     ]
    }
   ],
   "source": [
    "# Specify the size and shape of patches expected by the model.\n",
    "KERNEL_SIZE = 256\n",
    "# KERNEL_SIZE = 128\n",
    "KERNEL_SHAPE = [KERNEL_SIZE, KERNEL_SIZE]\n",
    "\n",
    "# List of fixed-length features, all of which are float32.\n",
    "columns = [tf.io.FixedLenFeature(shape=KERNEL_SHAPE, dtype=tf.float32) for k in FEATURE_NAMES]\n",
    "FEATURES_DICT = dict(zip(FEATURE_NAMES, columns))\n",
    "\n",
    "# Specify model training parameters.\n",
    "BATCH_SIZE = 64\n",
    "EPOCHS = 10\n",
    "BUFFER_SIZE = 2000\n",
    "OPTIMIZER = 'adam'\n",
    "LOSS = 'MeanSquaredError'\n",
    "# METRICS = ['RootMeanSquaredError']\n",
    "# METRICS=[tf.keras.metrics.Recall(), tf.keras.metrics.Accuracy()]\n",
    "METRICS = {\n",
    "    'recall': tf.keras.metrics.Recall(),\n",
    "    'accuracy': tf.keras.metrics.Accuracy()\n",
    "}"
   ]
  },
  {
   "cell_type": "markdown",
   "id": "183815d1-dcec-4044-8b04-3dabfbd3a824",
   "metadata": {},
   "source": [
    "cloud masking function"
   ]
  },
  {
   "cell_type": "code",
   "execution_count": 7,
   "id": "83cf7039-0dd9-402a-9d02-3ce01e4732fe",
   "metadata": {},
   "outputs": [],
   "source": [
    "# https://colab.research.google.com/drive/1opTXxC2NvlVZ3EW1l45dz9wNMztiE2I_?usp=sharing#scrollTo=QaGLx6PtzQhf\n",
    "def maskL8sr(image):\n",
    "  cloudShadowBitMask = ee.Number(2).pow(3).int()\n",
    "  cloudsBitMask = ee.Number(2).pow(5).int()\n",
    "  qa = image.select('pixel_qa')\n",
    "  mask1 = qa.bitwiseAnd(cloudShadowBitMask).eq(0).And(\n",
    "    qa.bitwiseAnd(cloudsBitMask).eq(0))\n",
    "  mask2 = image.mask().reduce('min')\n",
    "  mask3 = image.select(opticalBands).gt(0).And(\n",
    "          image.select(opticalBands).lt(10000)).reduce('min')\n",
    "  mask = mask1.And(mask2).And(mask3)\n",
    "  return image.select(opticalBands).divide(10000).addBands(\n",
    "          image.select(thermalBands).divide(10).clamp(273.15, 373.15)\n",
    "            .subtract(273.15).divide(100)).updateMask(mask)"
   ]
  },
  {
   "cell_type": "markdown",
   "id": "17b17710-3a78-40ca-aa02-d5a0dbd810ff",
   "metadata": {},
   "source": [
    "If 'is_label', advance the time range by 'fire_pred_range', e.g. we use first 0-15 as feature and 16-30 as label"
   ]
  },
  {
   "cell_type": "code",
   "execution_count": 10,
   "id": "62f82daf-3a59-45b0-88b1-dc565527303d",
   "metadata": {},
   "outputs": [],
   "source": [
    "# Helper function avoid repeating\n",
    "def getImageCollection(dataset, bounds, band):\n",
    "  return ee.ImageCollection(dataset).filterBounds(bounds).select(band)\n",
    "\n",
    "def getTrainImageCollection(map_info, is_label=False):\n",
    "  img_collection = getImageCollection(map_info['name'],train_region_geometry, map_info['band']) # Get the image collection based on the provided map_info.\n",
    "  img_list = ee.List([])\n",
    "\n",
    "  advance_range = 0 if not is_label else fire_pred_range\n",
    "  for yr in range(train_start_year, train_end_year+1):\n",
    "    for mo in range(train_start_month, train_end_month + 1):\n",
    "      # first half of a month\n",
    "      start = ee.Date(f'{yr}-{mo:02d}-01').advance(advance_range, 'week')\n",
    "      end = start.advance(2, 'week')\n",
    "      date_filtered = img_collection.filterDate(start, end).map(maskL8sr) # Filter the image collection based on the date range.\n",
    "      if not is_label:\n",
    "        med = date_filtered.median().unitScale(map_info['min'], map_info['max']) # Calculate median and rescale.\n",
    "      if is_label:\n",
    "        med = date_filtered.max().unmask(0).divide(325).round().byte() # credit: david\n",
    "      # print(med.getInfo())\n",
    "      img_list = img_list.add(med)\n",
    "\n",
    "      # second half of a month\n",
    "      start = end\n",
    "      end = start.advance(2, 'week')\n",
    "      date_filtered = img_collection.filterDate(start, end).map(maskL8sr) # Filter the image collection based on the date range.\n",
    "      if date_filtered.size().getInfo() > 0:  # Check if there are images in the second half of the month.\n",
    "        # print(\"value exists from 15\")\n",
    "        if not is_label:\n",
    "          med = date_filtered.median().unitScale(map_info['min'], map_info['max']) # Calculate median and rescale.\n",
    "        if is_label:\n",
    "          med = date_filtered.max().unmask(0).divide(325).round().byte() # credit: david\n",
    "        # print(med.getInfo())\n",
    "        \n",
    "      img_list = img_list.add(med)\n",
    "\n",
    "  return img_list"
   ]
  }
 ],
 "metadata": {
  "environment": {
   "kernel": "python3",
   "name": "tf2-gpu.2-12.m110",
   "type": "gcloud",
   "uri": "gcr.io/deeplearning-platform-release/tf2-gpu.2-12:m110"
  },
  "kernelspec": {
   "display_name": "Python 3",
   "language": "python",
   "name": "python3"
  },
  "language_info": {
   "codemirror_mode": {
    "name": "ipython",
    "version": 3
   },
   "file_extension": ".py",
   "mimetype": "text/x-python",
   "name": "python",
   "nbconvert_exporter": "python",
   "pygments_lexer": "ipython3",
   "version": "3.10.12"
  }
 },
 "nbformat": 4,
 "nbformat_minor": 5
}
